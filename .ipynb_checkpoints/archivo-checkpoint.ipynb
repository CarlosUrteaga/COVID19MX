{
 "cells": [
  {
   "cell_type": "markdown",
   "metadata": {},
   "source": [
    "https://rappidev.atlassian.net/browse/MDS-2174"
   ]
  },
  {
   "cell_type": "code",
   "execution_count": 1,
   "metadata": {},
   "outputs": [
    {
     "name": "stdout",
     "output_type": "stream",
     "text": [
      "Requirement already satisfied: xlrd in /Users/jorge.urteaga/opt/anaconda3/envs/rappi/lib/python3.8/site-packages (1.2.0)\n",
      "Requirement already satisfied: colorama in /Users/jorge.urteaga/opt/anaconda3/envs/rappi/lib/python3.8/site-packages (0.4.3)\n"
     ]
    }
   ],
   "source": [
    "! pip install xlrd\n",
    "! pip install colorama"
   ]
  },
  {
   "cell_type": "markdown",
   "metadata": {},
   "source": [
    "El objetivo del notebook es generar la salida apropiada para validar la miagraciÃ³n de Gran Cru.\n",
    "InformaciÃ³n importante. \n",
    "* Las imÃ¡genes utilizadas se encuentran en drive:\n",
    "https://drive.google.com/drive/folders/1AUKIYrmWOhWZW4mb8eOkGqn3KXM5CbcU?usp=sharing\n",
    "\n",
    "La direcciÃ³n destino de las imÃ¡genes es en data de esta carpeta \n",
    "```\n",
    "src/notebooks/analytics/product_catalog/data/\n",
    "```\n",
    "* El archivo de de entrada (csv) para el etl es el siguiente:\n",
    "\n",
    "| Nombre     |      Detalles                    |\n",
    "|:----------:|:--------------------------------:|\n",
    "| ID         |  Grability_id, No puede ser nulo |\n",
    "| NAME       | string, No puede ser nulo        |\n",
    "| EAN        | string, No puede ser nulo        |\n",
    "| DESCRIPTION| string, No puede ser nulo        |\n",
    "| IMAGE      | string, puede ser nulo           |\n",
    "| MAKER      | string, No puede ser nulo        |\n",
    "| TRADEMARK  | string, No puede ser nulo        |\n",
    "| CATEGORY_1 | string, No puede ser nulo        |\n",
    "| CATEGORY_2 | string, No puede ser nulo        |\n",
    "| CATEGORY_3 | string, No puede ser nulo        |\n",
    "\n",
    "Fuente: https://docs.google.com/document/d/13JcX8tF9aY1fWEsf77B6jqmXMGlCKU-KAQNxnQMB0eQ/\n",
    "\n",
    "Los pasos en el notebook son los siguientes\n",
    "1. GeneraciÃ³n del archivo csv.\n",
    "2. Reporte de la calidad del archivo\n",
    "3. ComparaciÃ³n del archivo final respecto a la BD"
   ]
  },
  {
   "cell_type": "code",
   "execution_count": 2,
   "metadata": {},
   "outputs": [
    {
     "name": "stderr",
     "output_type": "stream",
     "text": [
      "/Users/jorge.urteaga/git/rappi/cpgs_ds_queries/src/notebooks/utils/snowflake_utils.py:23: YAMLLoadWarning: calling yaml.load() without Loader=... is deprecated, as the default Loader is unsafe. Please read https://msg.pyyaml.org/load for full details.\n",
      "  env_config = load_yaml(f)\n"
     ]
    }
   ],
   "source": [
    "import sys\n",
    "import os\n",
    "import pandas as pd\n",
    "from notebook import notebookapp\n",
    "servers = list(notebookapp.list_running_servers())\n",
    "\n",
    "if 'http://0.0.0.0:8888/user' in str(servers):\n",
    "    #Para correr en Jupyter Lab\n",
    "    from rappi_ds_utils import SnowFlakeUtils\n",
    "    sf = SnowFlakeUtils()\n",
    "\n",
    "else:\n",
    "    #Para correr local\n",
    "    sys.path.append(os.path.dirname('/Users/jorge.urteaga/git/rappi/cpgs_ds_queries/'))\n",
    "    from src.notebooks.utils.snowflake_utils import SnowFlakeUtils\n",
    "    sf = SnowFlakeUtils(query_path=['src', 'queries'])"
   ]
  },
  {
   "cell_type": "code",
   "execution_count": 3,
   "metadata": {},
   "outputs": [],
   "source": [
    "def checkDigit(digits):\n",
    "    total = sum(digits) + sum(map(lambda d: d*2, digits[-1::-2]))\n",
    "    return (10 - (total % 10)) % 10\n",
    "\n",
    "def valid_ean_v2(ean):\n",
    "    if ean is None or not(str(ean).isnumeric()):\n",
    "        return False\n",
    "    ean = str(ean).strip()\n",
    "    if len(ean) in (8,12,13,14) and ean.isdigit():\n",
    "        digits = [*map(int, ean)]\n",
    "        check_sum_digit = checkDigit( digits[0:-1] )\n",
    "        return check_sum_digit == digits[-1]\n",
    "    return False\n",
    "def rename_file(str_path, str_sku, str_ean):\n",
    "    try:\n",
    "        os.replace( str_path+str_sku+'.png',str_path+'validImages/'+str_ean+'_1.png')\n",
    "        file = str_ean+'_1.png'\n",
    "    except:\n",
    "        file = ''\n",
    "    return file\n",
    "def fiel_exist(str_path, str_ean):\n",
    "    if os.path.exists(str_path+'validImages/'+str_ean+'_1.png'):\n",
    "        return str_ean+'_1.png'\n",
    "    else:\n",
    "        return ''"
   ]
  },
  {
   "cell_type": "markdown",
   "metadata": {},
   "source": [
    "## GeneraciÃ³n del CSV"
   ]
  },
  {
   "cell_type": "code",
   "execution_count": 4,
   "metadata": {},
   "outputs": [],
   "source": [
    "df = pd.read_excel('data/New Catalogue Gran Cru.xlsx',dtype=str)"
   ]
  },
  {
   "cell_type": "code",
   "execution_count": 5,
   "metadata": {
    "scrolled": true
   },
   "outputs": [
    {
     "data": {
      "text/html": [
       "<div>\n",
       "<style scoped>\n",
       "    .dataframe tbody tr th:only-of-type {\n",
       "        vertical-align: middle;\n",
       "    }\n",
       "\n",
       "    .dataframe tbody tr th {\n",
       "        vertical-align: top;\n",
       "    }\n",
       "\n",
       "    .dataframe thead th {\n",
       "        text-align: right;\n",
       "    }\n",
       "</style>\n",
       "<table border=\"1\" class=\"dataframe\">\n",
       "  <thead>\n",
       "    <tr style=\"text-align: right;\">\n",
       "      <th></th>\n",
       "      <th>SKU INTERNO</th>\n",
       "      <th>EAN</th>\n",
       "      <th>type</th>\n",
       "      <th>trademark</th>\n",
       "      <th>variation</th>\n",
       "      <th>packaging</th>\n",
       "      <th>Atributte quantity</th>\n",
       "      <th>unit type</th>\n",
       "      <th>name (por validar)</th>\n",
       "      <th>description (quitar PLU, descripciÃ³n producto 2400 caractares,)</th>\n",
       "      <th>Product ID</th>\n",
       "      <th>maker (Fabricante)</th>\n",
       "      <th>sale_type</th>\n",
       "      <th>age_restriction (*si son licores)</th>\n",
       "      <th>has_antismoking (*si son cigarros)</th>\n",
       "      <th>image_1 (600*600) sin fondo</th>\n",
       "      <th>image_2</th>\n",
       "      <th>image_3</th>\n",
       "      <th>category_1</th>\n",
       "      <th>category_2</th>\n",
       "      <th>category_3</th>\n",
       "      <th>Tipo de UVA</th>\n",
       "      <th>RegiÃ³n</th>\n",
       "      <th>PaÃ­s</th>\n",
       "      <th>Para que tipo de comida</th>\n",
       "      <th>AÃ±dad (AÃ±o cosecha)</th>\n",
       "      <th>Tipo de envejecimiento</th>\n",
       "      <th>Atributte Volumen Alchol</th>\n",
       "      <th>Atributte Precio</th>\n",
       "    </tr>\n",
       "  </thead>\n",
       "  <tbody>\n",
       "    <tr>\n",
       "      <th>0</th>\n",
       "      <td>ITMAR1399A</td>\n",
       "      <td>8023354015317</td>\n",
       "      <td>grandcru</td>\n",
       "      <td>San Marzano</td>\n",
       "      <td>NaN</td>\n",
       "      <td>Garrafa</td>\n",
       "      <td>750</td>\n",
       "      <td>ml</td>\n",
       "      <td>MILUNA PUGLIA BIANCO  VINHO</td>\n",
       "      <td>Foi neste rÃ³tulo de entrada assinado pela renomada San Marzano que a casta internacional Chardonnay encontrou a tradicional Malvasia Bianca, do sul da ItÃ¡lia. O resultado, harmonioso, emprestou aromas florais deliciosos, alÃ©m de notas de pÃªssego e abacaxi em calda Ã  taÃ§a. Delicado e mineral no paladar, Ã© um vinho branco perfeito para servir mais geladinho e bebericar sem acompanhamento Ã  beira da piscina. Se preferir, vai muito bem ao lado de queijos leves.</td>\n",
       "      <td>2092460946</td>\n",
       "      <td>MILUNA PUGLIA BIANCO  VINHO</td>\n",
       "      <td>U</td>\n",
       "      <td>Verdadeiro</td>\n",
       "      <td>Falso</td>\n",
       "      <td>ITMAR1399A</td>\n",
       "      <td>NaN</td>\n",
       "      <td>NaN</td>\n",
       "      <td>Cerveja, vinhos e destilados</td>\n",
       "      <td>Vinhos</td>\n",
       "      <td>Branco</td>\n",
       "      <td>50% Malvasia Bianca, 50% Chardonnay</td>\n",
       "      <td>Puglia</td>\n",
       "      <td>ItÃ¡lia</td>\n",
       "      <td>NaN</td>\n",
       "      <td>NaN</td>\n",
       "      <td>NaN</td>\n",
       "      <td>NaN</td>\n",
       "      <td>59.9</td>\n",
       "    </tr>\n",
       "    <tr>\n",
       "      <th>1</th>\n",
       "      <td>NZSCL0551A</td>\n",
       "      <td>9418076001394</td>\n",
       "      <td>grandcru</td>\n",
       "      <td>Saint Clair</td>\n",
       "      <td>NaN</td>\n",
       "      <td>Garrafa</td>\n",
       "      <td>750</td>\n",
       "      <td>ml</td>\n",
       "      <td>SAINT CLAIR MARLBOROUGH SUN SAUVIGNON BLANC  VINHO</td>\n",
       "      <td>Depois de viajar os quatro cantos do mundo, a popular Sauvignon Blanc encontrou na Nova Zelandia um terroir especial em que expressou os melhores atributos da casta de origem francesa</td>\n",
       "      <td>2092460961</td>\n",
       "      <td>SAINT CLAIR MARLBOROUGH SUN SAUVIGNON BLANC  VINHO</td>\n",
       "      <td>U</td>\n",
       "      <td>Verdadeiro</td>\n",
       "      <td>Falso</td>\n",
       "      <td>NZSCL0551A</td>\n",
       "      <td>NaN</td>\n",
       "      <td>NaN</td>\n",
       "      <td>Cerveja, vinhos e destilados</td>\n",
       "      <td>Vinhos</td>\n",
       "      <td>Branco</td>\n",
       "      <td>Sauvignon Blanc</td>\n",
       "      <td>Marlborough</td>\n",
       "      <td>Outros</td>\n",
       "      <td>NaN</td>\n",
       "      <td>NaN</td>\n",
       "      <td>NaN</td>\n",
       "      <td>13</td>\n",
       "      <td>139.9</td>\n",
       "    </tr>\n",
       "  </tbody>\n",
       "</table>\n",
       "</div>"
      ],
      "text/plain": [
       "  SKU INTERNO            EAN      type    trademark variation packaging  \\\n",
       "0  ITMAR1399A  8023354015317  grandcru  San Marzano  NaN       Garrafa    \n",
       "1  NZSCL0551A  9418076001394  grandcru  Saint Clair  NaN       Garrafa    \n",
       "\n",
       "  Atributte quantity unit type  \\\n",
       "0  750                ml         \n",
       "1  750                ml         \n",
       "\n",
       "                                   name (por validar)  \\\n",
       "0  MILUNA PUGLIA BIANCO  VINHO                          \n",
       "1  SAINT CLAIR MARLBOROUGH SUN SAUVIGNON BLANC  VINHO   \n",
       "\n",
       "                                                                                                                                                                                                                                                                                                                                                                                                                 description (quitar PLU, descripciÃ³n producto 2400 caractares,)  \\\n",
       "0  Foi neste rÃ³tulo de entrada assinado pela renomada San Marzano que a casta internacional Chardonnay encontrou a tradicional Malvasia Bianca, do sul da ItÃ¡lia. O resultado, harmonioso, emprestou aromas florais deliciosos, alÃ©m de notas de pÃªssego e abacaxi em calda Ã  taÃ§a. Delicado e mineral no paladar, Ã© um vinho branco perfeito para servir mais geladinho e bebericar sem acompanhamento Ã  beira da piscina. Se preferir, vai muito bem ao lado de queijos leves.   \n",
       "1  Depois de viajar os quatro cantos do mundo, a popular Sauvignon Blanc encontrou na Nova Zelandia um terroir especial em que expressou os melhores atributos da casta de origem francesa                                                                                                                                                                                                                                                                                         \n",
       "\n",
       "   Product ID                                  maker (Fabricante) sale_type  \\\n",
       "0  2092460946  MILUNA PUGLIA BIANCO  VINHO                         U          \n",
       "1  2092460961  SAINT CLAIR MARLBOROUGH SUN SAUVIGNON BLANC  VINHO  U          \n",
       "\n",
       "  age_restriction (*si son licores) has_antismoking (*si son cigarros)  \\\n",
       "0  Verdadeiro                        Falso                               \n",
       "1  Verdadeiro                        Falso                               \n",
       "\n",
       "  image_1 (600*600) sin fondo image_2 image_3                    category_1  \\\n",
       "0  ITMAR1399A                  NaN     NaN     Cerveja, vinhos e destilados   \n",
       "1  NZSCL0551A                  NaN     NaN     Cerveja, vinhos e destilados   \n",
       "\n",
       "  category_2 category_3                          Tipo de UVA       RegiÃ³n  \\\n",
       "0  Vinhos     Branco     50% Malvasia Bianca, 50% Chardonnay  Puglia        \n",
       "1  Vinhos     Branco     Sauvignon Blanc                      Marlborough   \n",
       "\n",
       "     PaÃ­s Para que tipo de comida AÃ±dad (AÃ±o cosecha) Tipo de envejecimiento  \\\n",
       "0  ItÃ¡lia  NaN                     NaN                 NaN                     \n",
       "1  Outros  NaN                     NaN                 NaN                     \n",
       "\n",
       "  Atributte Volumen Alchol Atributte Precio  \n",
       "0  NaN                      59.9             \n",
       "1  13                       139.9            "
      ]
     },
     "execution_count": 5,
     "metadata": {},
     "output_type": "execute_result"
    }
   ],
   "source": [
    "# ajustamos la vista\n",
    "df.head(2)"
   ]
  },
  {
   "cell_type": "code",
   "execution_count": 6,
   "metadata": {},
   "outputs": [],
   "source": [
    "# utilizando el path actual, buscamos la carpeta Grand cru dentro de data\n",
    "str_path = os.getcwd()+'/data/Grand cru/'\n",
    "# si la Carpeta validImages existe, significa que ya filtramos las imÃ¡genes, sino creamos las carpeta y renombramos \n",
    "if os.path.exists(str_path+'validImages'):\n",
    "    df['IMAGE'] = df.apply(lambda x: fiel_exist(str_path, x['EAN']), axis=1) \n",
    "else:\n",
    "    os.makedirs(str_path+'validImages')\n",
    "    df['IMAGE'] = df.apply(lambda x: rename_file(str_path, x['SKU INTERNO'], x['EAN']), axis=1) \n",
    "\n",
    "# Agregamos la Bandera de EAN Validados\n",
    "df[\"EANV\"] = df['EAN'].apply(valid_ean_v2)"
   ]
  },
  {
   "cell_type": "code",
   "execution_count": 7,
   "metadata": {},
   "outputs": [],
   "source": [
    "# nos quedamos sÃ³lo con registros con imÃ¡gen validas y eans vÃ¡lidos\n",
    "df1 = df.loc[(~(df.IMAGE=='')) & (df.EANV),:]\n",
    "#Â copiamos los registros porque es un slice (SettingWithCopyWarning )\n",
    "df1 = df1.copy()"
   ]
  },
  {
   "cell_type": "code",
   "execution_count": 8,
   "metadata": {},
   "outputs": [],
   "source": [
    "# Convertimos todo a Title Case y los guardamos con el nombre correcto\n",
    "df1['NAME'] = df1['name (por validar)'].str.title()\n",
    "df1['MAKER'] = df1['maker (Fabricante)'].str.title()\n",
    "df1['TRADEMARK'] = df1['trademark'].str.title()\n"
   ]
  },
  {
   "cell_type": "code",
   "execution_count": 9,
   "metadata": {},
   "outputs": [],
   "source": [
    "# rename columns for etl\n",
    "df1 = df1.rename(columns={\n",
    "            'Product ID':'ID',\n",
    "            #'name (por validar)':'NAME',# already changed \n",
    "            'description (quitar PLU, descripciÃ³n producto 2400 caractares,)':'DESCRIPTION',\n",
    "            #'maker (Fabricante)':'MAKER', # already changed \n",
    "            # 'trademark':'TRADEMARK',# already changed \n",
    "            'category_1':'CATEGORY_1',\n",
    "            'category_2':'CATEGORY_2',\n",
    "            'category_3':'CATEGORY_3',\n",
    "    })\n",
    "    \n",
    "    \n",
    "    \n",
    "# keep only etl fields\n",
    "df1= df1[['ID','NAME','EAN','DESCRIPTION','MAKER','IMAGE','TRADEMARK','CATEGORY_1','CATEGORY_2','CATEGORY_3',]]"
   ]
  },
  {
   "cell_type": "code",
   "execution_count": 10,
   "metadata": {},
   "outputs": [],
   "source": [
    "df1[df1.MAKER.str.contains('Miluna Puglia')].to_csv('Miluna Puglia.csv', index=False)"
   ]
  },
  {
   "cell_type": "code",
   "execution_count": null,
   "metadata": {},
   "outputs": [],
   "source": []
  },
  {
   "cell_type": "markdown",
   "metadata": {},
   "source": [
    "# output"
   ]
  },
  {
   "cell_type": "code",
   "execution_count": 11,
   "metadata": {},
   "outputs": [],
   "source": [
    "def getDuplicateColumns(df):\n",
    "    '''\n",
    "    Get a list of duplicate columns.\n",
    "    It will iterate over all the columns in dataframe and find the columns whose contents are duplicate.\n",
    "    :param df: Dataframe object\n",
    "    :return: List of columns whose contents are duplicates.\n",
    "    '''\n",
    "    duplicateColumnNames = set()\n",
    "    # Iterate over all the columns in dataframe\n",
    "    for x in range(df.shape[1]):\n",
    "        # Select column at xth index.\n",
    "        col = df.iloc[:, x]\n",
    "        # Iterate over all the columns in DataFrame from (x+1)th index till end\n",
    "        for y in range(x + 1, df.shape[1]):\n",
    "            # Select column at yth index.\n",
    "            otherCol = df.iloc[:, y]\n",
    "            # Check if two columns at x 7 y index are equal\n",
    "            if col.equals(otherCol):\n",
    "                duplicateColumnNames.add(df.columns.values[y])\n",
    "    return list(duplicateColumnNames)"
   ]
  },
  {
   "cell_type": "code",
   "execution_count": 12,
   "metadata": {},
   "outputs": [
    {
     "name": "stdout",
     "output_type": "stream",
     "text": [
      "\u001b[31mError, colum duplicated\n",
      "['MAKER']\n"
     ]
    }
   ],
   "source": [
    "if len(getDuplicateColumns(df1))==0:\n",
    "    df1.to_csv('GranCru_etl.csv',index=False)\n",
    "else:\n",
    "    from colorama import Fore\n",
    "    print(Fore.RED +'Error, colum duplicated',)\n",
    "    print(getDuplicateColumns(df1))"
   ]
  },
  {
   "cell_type": "markdown",
   "metadata": {},
   "source": [
    "## AnÃ¡lisis"
   ]
  },
  {
   "cell_type": "markdown",
   "metadata": {},
   "source": [
    "### EANs"
   ]
  },
  {
   "cell_type": "code",
   "execution_count": 13,
   "metadata": {
    "scrolled": false
   },
   "outputs": [
    {
     "name": "stdout",
     "output_type": "stream",
     "text": [
      "NÃºmero de invÃ¡lidos 7\n",
      "Porcenaje 5.69\n"
     ]
    },
    {
     "data": {
      "text/plain": [
       "EANV\n",
       "False    7  \n",
       "True     116\n",
       "Name: EANV, dtype: int64"
      ]
     },
     "execution_count": 13,
     "metadata": {},
     "output_type": "execute_result"
    }
   ],
   "source": [
    "print( 'NÃºmero de invÃ¡lidos', len(df[~df.EANV]))\n",
    "print('Porcenaje %.2f' % (len(df[~df.EANV])/len(df)*100))\n",
    "\n",
    "df.groupby('EANV')['EANV'].count()"
   ]
  },
  {
   "cell_type": "code",
   "execution_count": 14,
   "metadata": {},
   "outputs": [
    {
     "name": "stdout",
     "output_type": "stream",
     "text": [
      "\n",
      "Ejemplo de EANS invÃ¡lidos\n",
      "\n"
     ]
    },
    {
     "data": {
      "text/plain": [
       "25     8159920100491  \n",
       "26     8159920101001  \n",
       "40     123456789765432\n",
       "97     8538910021611  \n",
       "110    8159920101171  \n",
       "Name: EAN, dtype: object"
      ]
     },
     "execution_count": 14,
     "metadata": {},
     "output_type": "execute_result"
    }
   ],
   "source": [
    "print('\\nEjemplo de EANS invÃ¡lidos\\n',)\n",
    "df[~df.EANV]['EAN'].head()"
   ]
  },
  {
   "cell_type": "markdown",
   "metadata": {},
   "source": [
    "### ImÃ¡genes"
   ]
  },
  {
   "cell_type": "code",
   "execution_count": 15,
   "metadata": {
    "scrolled": true
   },
   "outputs": [
    {
     "name": "stdout",
     "output_type": "stream",
     "text": [
      "NÃºmero de imÃ¡gaenes invÃ¡lidas 1\n",
      "Porcenaje 0.81\n"
     ]
    }
   ],
   "source": [
    "print( 'NÃºmero de imÃ¡gaenes invÃ¡lidas',len(df[~(df.IMAGE!='')]))\n",
    "print('Porcenaje %.2f' % (len(df[~(df.IMAGE!='')])/len(df)*100))"
   ]
  },
  {
   "cell_type": "code",
   "execution_count": 16,
   "metadata": {},
   "outputs": [
    {
     "data": {
      "text/html": [
       "<div>\n",
       "<style scoped>\n",
       "    .dataframe tbody tr th:only-of-type {\n",
       "        vertical-align: middle;\n",
       "    }\n",
       "\n",
       "    .dataframe tbody tr th {\n",
       "        vertical-align: top;\n",
       "    }\n",
       "\n",
       "    .dataframe thead th {\n",
       "        text-align: right;\n",
       "    }\n",
       "</style>\n",
       "<table border=\"1\" class=\"dataframe\">\n",
       "  <thead>\n",
       "    <tr style=\"text-align: right;\">\n",
       "      <th></th>\n",
       "      <th>SKU INTERNO</th>\n",
       "      <th>EAN</th>\n",
       "      <th>type</th>\n",
       "      <th>trademark</th>\n",
       "      <th>variation</th>\n",
       "      <th>packaging</th>\n",
       "      <th>Atributte quantity</th>\n",
       "      <th>unit type</th>\n",
       "      <th>name (por validar)</th>\n",
       "      <th>description (quitar PLU, descripciÃ³n producto 2400 caractares,)</th>\n",
       "      <th>Product ID</th>\n",
       "      <th>maker (Fabricante)</th>\n",
       "      <th>sale_type</th>\n",
       "      <th>age_restriction (*si son licores)</th>\n",
       "      <th>has_antismoking (*si son cigarros)</th>\n",
       "      <th>image_1 (600*600) sin fondo</th>\n",
       "      <th>image_2</th>\n",
       "      <th>image_3</th>\n",
       "      <th>category_1</th>\n",
       "      <th>category_2</th>\n",
       "      <th>category_3</th>\n",
       "      <th>Tipo de UVA</th>\n",
       "      <th>RegiÃ³n</th>\n",
       "      <th>PaÃ­s</th>\n",
       "      <th>Para que tipo de comida</th>\n",
       "      <th>AÃ±dad (AÃ±o cosecha)</th>\n",
       "      <th>Tipo de envejecimiento</th>\n",
       "      <th>Atributte Volumen Alchol</th>\n",
       "      <th>Atributte Precio</th>\n",
       "      <th>IMAGE</th>\n",
       "      <th>EANV</th>\n",
       "    </tr>\n",
       "  </thead>\n",
       "  <tbody>\n",
       "    <tr>\n",
       "      <th>40</th>\n",
       "      <td>1234</td>\n",
       "      <td>123456789765432</td>\n",
       "      <td>grandcru</td>\n",
       "      <td>xxx</td>\n",
       "      <td>NaN</td>\n",
       "      <td>NaN</td>\n",
       "      <td>Garrafa 750ml</td>\n",
       "      <td>ml</td>\n",
       "      <td>X VINHO</td>\n",
       "      <td>abc \\nxxx</td>\n",
       "      <td>123456789765432</td>\n",
       "      <td>NaN</td>\n",
       "      <td>U</td>\n",
       "      <td>Verdadeiro</td>\n",
       "      <td>Falso</td>\n",
       "      <td>NaN</td>\n",
       "      <td>NaN</td>\n",
       "      <td>NaN</td>\n",
       "      <td>Cerveja, vinhos e destilados</td>\n",
       "      <td>Vinhos</td>\n",
       "      <td>Tinto</td>\n",
       "      <td>Malbec (100%)</td>\n",
       "      <td>Mendoza</td>\n",
       "      <td>Argentina</td>\n",
       "      <td>NaN</td>\n",
       "      <td>NaN</td>\n",
       "      <td>Pronto para consumo</td>\n",
       "      <td>13</td>\n",
       "      <td>100</td>\n",
       "      <td></td>\n",
       "      <td>False</td>\n",
       "    </tr>\n",
       "  </tbody>\n",
       "</table>\n",
       "</div>"
      ],
      "text/plain": [
       "   SKU INTERNO              EAN      type trademark variation packaging  \\\n",
       "40  1234        123456789765432  grandcru  xxx       NaN       NaN        \n",
       "\n",
       "   Atributte quantity unit type name (por validar)  \\\n",
       "40  Garrafa 750ml      ml        X VINHO             \n",
       "\n",
       "   description (quitar PLU, descripciÃ³n producto 2400 caractares,)  \\\n",
       "40  abc \\nxxx                                                        \n",
       "\n",
       "         Product ID maker (Fabricante) sale_type  \\\n",
       "40  123456789765432  NaN                U          \n",
       "\n",
       "   age_restriction (*si son licores) has_antismoking (*si son cigarros)  \\\n",
       "40  Verdadeiro                        Falso                               \n",
       "\n",
       "   image_1 (600*600) sin fondo image_2 image_3                    category_1  \\\n",
       "40  NaN                         NaN     NaN     Cerveja, vinhos e destilados   \n",
       "\n",
       "   category_2 category_3    Tipo de UVA   RegiÃ³n       PaÃ­s  \\\n",
       "40  Vinhos     Tinto      Malbec (100%)  Mendoza  Argentina   \n",
       "\n",
       "   Para que tipo de comida AÃ±dad (AÃ±o cosecha) Tipo de envejecimiento  \\\n",
       "40  NaN                     NaN                 Pronto para consumo     \n",
       "\n",
       "   Atributte Volumen Alchol Atributte Precio IMAGE   EANV  \n",
       "40  13                       100                    False  "
      ]
     },
     "execution_count": 16,
     "metadata": {},
     "output_type": "execute_result"
    }
   ],
   "source": [
    "df[~(df.IMAGE!='')]"
   ]
  },
  {
   "cell_type": "markdown",
   "metadata": {},
   "source": [
    "## AnÃ¡lisis respecto a los catÃ¡logos\n",
    "### Actual"
   ]
  },
  {
   "cell_type": "code",
   "execution_count": 17,
   "metadata": {},
   "outputs": [
    {
     "data": {
      "text/plain": [
       "Index(['ID', 'NAME', 'EAN', 'DESCRIPTION', 'MAKER', 'IMAGE', 'TRADEMARK',\n",
       "       'CATEGORY_1', 'CATEGORY_2', 'CATEGORY_3'],\n",
       "      dtype='object')"
      ]
     },
     "execution_count": 17,
     "metadata": {},
     "output_type": "execute_result"
    }
   ],
   "source": [
    "df1.columns"
   ]
  },
  {
   "cell_type": "code",
   "execution_count": 18,
   "metadata": {},
   "outputs": [],
   "source": [
    "category = df.category_1.unique().tolist() + df.category_2.unique().tolist() + df.category_3.unique().tolist()\n",
    "m_and_t = df1.TRADEMARK.unique().tolist() # +  df1.MAKER.unique().tolist()\n"
   ]
  },
  {
   "cell_type": "code",
   "execution_count": 19,
   "metadata": {},
   "outputs": [],
   "source": [
    "str_cat =''\n",
    "for each in category:\n",
    "    if str_cat=='':\n",
    "        str_cat+= \"'\"+each+\"'\"\n",
    "    else:\n",
    "        str_cat+= ', ' + \"'\"+each+\"'\"\n",
    "str_m_and_t =''\n",
    "for each in m_and_t:\n",
    "    if str_m_and_t=='':\n",
    "        str_m_and_t+= \"'\"+each+\"'\"\n",
    "    else:\n",
    "        str_m_and_t+= ', ' + \"'\"+each+\"'\""
   ]
  },
  {
   "cell_type": "code",
   "execution_count": 20,
   "metadata": {},
   "outputs": [],
   "source": [
    "# generate df for each catalog\n",
    "sql_query_new_catalog = \"\"\"SELECT *\n",
    "FROM  BR_PG_MS_CPGS_CLG_PM_PUBLIC.PRODUCT AS P\n",
    "\"\"\"\n",
    "\n",
    "sql_query_old_catalog = \"\"\"\n",
    "WITH filtered_store_ids AS (\n",
    "  SELECT  \n",
    "  \tCASE \n",
    "  \tWHEN super_store_id <> -1 THEN super_store_id\n",
    "\tELSE store_id\n",
    "\tEND AS store_id\n",
    "  FROM cpgs_datascience.lookup_store\n",
    "  WHERE store_type = 'grandcru'\n",
    "  AND country_code = 'BR'\n",
    ") \n",
    "SELECT DISTINCT  ID, p.*\n",
    "FROM cpgs_datascience.ta_daily_m_grability_product_store ps\n",
    "JOIN cpgs_datascience.ta_daily_m_grability_products p \n",
    "ON ps.product_id = p.id\n",
    "WHERE store_id IN (SELECT DISTINCT(STORE_ID) FROM filtered_store_ids) \n",
    "AND ps.country_code = 'BR'\n",
    "\"\"\"\n",
    "sql_query_cat = \"\"\"\n",
    "SELECT *\n",
    "FROM BR_PG_MS_CPGS_CLG_PM_PUBLIC.TAXONOMY\n",
    "WHERE _FIVETRAN_DELETED is NULL and \n",
    "NAME in ( \"\"\" + str_cat+ \"\"\")\"\"\"\n",
    "\n",
    "sql_query_trd = \"\"\"\n",
    "SELECT *\n",
    "FROM BR_PG_MS_CPGS_CLG_PM_PUBLIC.TRADEMARK\n",
    "WHERE NAME in ( \"\"\" + str_m_and_t+ \"\"\")\"\"\"\n",
    "\n",
    "df_old = sf.read_sql(sql_query_old_catalog)\n",
    "df_new = sf.read_sql(sql_query_new_catalog)\n",
    "df_cat = sf.read_sql(sql_query_cat)\n",
    "df_m_t = sf.read_sql(sql_query_trd)"
   ]
  },
  {
   "cell_type": "markdown",
   "metadata": {},
   "source": [
    "### AnÃ¡lisis"
   ]
  },
  {
   "cell_type": "code",
   "execution_count": 21,
   "metadata": {},
   "outputs": [
    {
     "data": {
      "text/plain": [
       "(553, 52)"
      ]
     },
     "execution_count": 21,
     "metadata": {},
     "output_type": "execute_result"
    }
   ],
   "source": [
    "# has two ID columns\n",
    "df_old = df_old.loc[:,'DT':]\n",
    "# catalogo actual de Gran Cru\n",
    "df_old.shape"
   ]
  },
  {
   "cell_type": "code",
   "execution_count": 22,
   "metadata": {},
   "outputs": [
    {
     "data": {
      "text/html": [
       "<div>\n",
       "<style scoped>\n",
       "    .dataframe tbody tr th:only-of-type {\n",
       "        vertical-align: middle;\n",
       "    }\n",
       "\n",
       "    .dataframe tbody tr th {\n",
       "        vertical-align: top;\n",
       "    }\n",
       "\n",
       "    .dataframe thead th {\n",
       "        text-align: right;\n",
       "    }\n",
       "</style>\n",
       "<table border=\"1\" class=\"dataframe\">\n",
       "  <thead>\n",
       "    <tr style=\"text-align: right;\">\n",
       "      <th></th>\n",
       "      <th>DT</th>\n",
       "      <th>COUNTRY_CODE</th>\n",
       "      <th>ID</th>\n",
       "      <th>NAME</th>\n",
       "      <th>IMAGE</th>\n",
       "      <th>DESCRIPTION</th>\n",
       "      <th>WIDTH</th>\n",
       "      <th>HEIGHT</th>\n",
       "      <th>CM_HEIGHT</th>\n",
       "      <th>CM_WIDTH</th>\n",
       "      <th>HOOK_X</th>\n",
       "      <th>HOOK_Y</th>\n",
       "      <th>AREA_TYPE_ID</th>\n",
       "      <th>NEW_PHOTO</th>\n",
       "      <th>CONTROLLED</th>\n",
       "      <th>TRADEMARK</th>\n",
       "      <th>ACTIVE</th>\n",
       "      <th>UNIT_TYPE</th>\n",
       "      <th>CREATED_AT</th>\n",
       "      <th>UPDATED_AT</th>\n",
       "      <th>DELETED_AT</th>\n",
       "      <th>OPTIONAL_QUANTITY</th>\n",
       "      <th>TYPE</th>\n",
       "      <th>QUANTITY</th>\n",
       "      <th>PRESENTATION</th>\n",
       "      <th>AGE_RESTRICTION</th>\n",
       "      <th>LABEL</th>\n",
       "      <th>CATEGORY_PRODUCT_TYPE</th>\n",
       "      <th>SALE_TYPE</th>\n",
       "      <th>MAX_QUANTITY_IN_GRAMS</th>\n",
       "      <th>MIN_QUANTITY_IN_GRAMS</th>\n",
       "      <th>STEP_QUANTITY_IN_GRAMS</th>\n",
       "      <th>RETAIL_ID</th>\n",
       "      <th>EAN</th>\n",
       "      <th>HAS_TOPPINGS</th>\n",
       "      <th>HAS_ANTISMOKING</th>\n",
       "      <th>NEED_IMAGE</th>\n",
       "      <th>BACKGROUND</th>\n",
       "      <th>MAKER</th>\n",
       "      <th>IDENTIFICATION_REQUIRED</th>\n",
       "      <th>REQUIRES_MEDICAL_PRESCRIPTION</th>\n",
       "      <th>DISCOUNT_TYPE</th>\n",
       "      <th>DISCOUNT_DESCRIPTION</th>\n",
       "      <th>DISCOUNT_TAG_COLOR</th>\n",
       "      <th>_FIVETRAN_SYNCED</th>\n",
       "      <th>_FIVETRAN_DELETED</th>\n",
       "      <th>NON_REFUNDABLE</th>\n",
       "      <th>UPDATED_BY</th>\n",
       "      <th>IS_POPULAR</th>\n",
       "      <th>PARENT_ID</th>\n",
       "      <th>LEAD_PRODUCT_ID</th>\n",
       "      <th>IS_LEAD</th>\n",
       "    </tr>\n",
       "  </thead>\n",
       "  <tbody>\n",
       "    <tr>\n",
       "      <th>0</th>\n",
       "      <td>2020-06-25</td>\n",
       "      <td>BR</td>\n",
       "      <td>2092910096</td>\n",
       "      <td>Vinho San Marzano Passito Filari Manduria Dolce 2014 500 ml</td>\n",
       "      <td>2092910096-1542225620.jpg</td>\n",
       "      <td>Tipo de Vinho: Primitivo\\nPaÃ­s: ItÃ¡lia\\nRegiÃ£o: Puglia\\nUva: Primitivo\\nQuantidade: 500 mL\\n\\nOriginado de vinhedos muito antigos da regiÃ£o de Manduria, este Primitivo foi feito pelo mesmo mÃ©todo dos mais icÃ´nicos Amarones e Reciotos della Valpolicella â€“ o apassimento. Nesse mÃ©todo, as uvas ficam ressecando por meses em caixas de madeira atÃ© que perdem Ã¡gua e se tornam ainda mais concentradas. Com doÃ§ura bem equilibrada pela acidez, Ã© um vinho que apresenta intensas notas de frutas passas e chocolate. Perfeito para encerrar uma refeiÃ§Ã£o com chave de ouro.</td>\n",
       "      <td>475.0</td>\n",
       "      <td>475.0</td>\n",
       "      <td>15.0</td>\n",
       "      <td>15.0</td>\n",
       "      <td>None</td>\n",
       "      <td>None</td>\n",
       "      <td>None</td>\n",
       "      <td>False</td>\n",
       "      <td>False</td>\n",
       "      <td>mazzei</td>\n",
       "      <td>True</td>\n",
       "      <td>ml</td>\n",
       "      <td>2018-11-14 11:42:06+00:00</td>\n",
       "      <td>2018-12-14 07:00:27+00:00</td>\n",
       "      <td>None</td>\n",
       "      <td>None</td>\n",
       "      <td>Vinho</td>\n",
       "      <td>500.0</td>\n",
       "      <td>500 ml</td>\n",
       "      <td>True</td>\n",
       "      <td>None</td>\n",
       "      <td>1</td>\n",
       "      <td>U</td>\n",
       "      <td>NaN</td>\n",
       "      <td>NaN</td>\n",
       "      <td>NaN</td>\n",
       "      <td>ITMAR1199X</td>\n",
       "      <td>38</td>\n",
       "      <td>False</td>\n",
       "      <td>False</td>\n",
       "      <td>True</td>\n",
       "      <td>None</td>\n",
       "      <td>mazzei</td>\n",
       "      <td>None</td>\n",
       "      <td>None</td>\n",
       "      <td>None</td>\n",
       "      <td>None</td>\n",
       "      <td>None</td>\n",
       "      <td>2019-06-18 18:11:24.226000+00:00</td>\n",
       "      <td>False</td>\n",
       "      <td>0</td>\n",
       "      <td>None</td>\n",
       "      <td>False</td>\n",
       "      <td>NaN</td>\n",
       "      <td>None</td>\n",
       "      <td>None</td>\n",
       "    </tr>\n",
       "    <tr>\n",
       "      <th>1</th>\n",
       "      <td>2020-06-25</td>\n",
       "      <td>BR</td>\n",
       "      <td>2098327929</td>\n",
       "      <td>Vinho Campo Flores Tinto</td>\n",
       "      <td>2098327929-1590005823539.jpg</td>\n",
       "      <td>Campo Flores Ã© elaborado de vinhedos orgÃ¢nicos e de baixos rendimentos plantados na regiÃ£o de La Mancha. Solos de giz arenoso, num clima quente e seco ideal para a produÃ§Ã£o de vinhos saborosos e elegantes. Este exemplar composto  por Tempranillo 80%, Syrah 20% , de cor rubi,seus aromas lembram frutas maduras, morango e groselha preta junto com aromas apimentados.Corpo medio,taninos robustos e agradÃ¡veis. acidez media.Um Ã³timo vinho para um churrasco, pato, carne grelhada e Jamon Serrano.\\n\\n\\n</td>\n",
       "      <td>700.0</td>\n",
       "      <td>700.0</td>\n",
       "      <td>20.0</td>\n",
       "      <td>20.0</td>\n",
       "      <td>None</td>\n",
       "      <td>None</td>\n",
       "      <td>None</td>\n",
       "      <td>False</td>\n",
       "      <td>False</td>\n",
       "      <td>Campo Flores</td>\n",
       "      <td>True</td>\n",
       "      <td>Und</td>\n",
       "      <td>2020-05-20 16:44:42.243000+00:00</td>\n",
       "      <td>2020-05-20 17:17:03+00:00</td>\n",
       "      <td>None</td>\n",
       "      <td>None</td>\n",
       "      <td>Vinho</td>\n",
       "      <td>1.0</td>\n",
       "      <td>1 Und</td>\n",
       "      <td>True</td>\n",
       "      <td>None</td>\n",
       "      <td>1</td>\n",
       "      <td>U</td>\n",
       "      <td>NaN</td>\n",
       "      <td>NaN</td>\n",
       "      <td>NaN</td>\n",
       "      <td>grandcru_ESBMZ0149A</td>\n",
       "      <td>0</td>\n",
       "      <td>False</td>\n",
       "      <td>False</td>\n",
       "      <td>False</td>\n",
       "      <td>None</td>\n",
       "      <td>Campo Flores</td>\n",
       "      <td>None</td>\n",
       "      <td>None</td>\n",
       "      <td>None</td>\n",
       "      <td>None</td>\n",
       "      <td>None</td>\n",
       "      <td>2020-05-20 21:03:37.759000+00:00</td>\n",
       "      <td>False</td>\n",
       "      <td>0</td>\n",
       "      <td>None</td>\n",
       "      <td>False</td>\n",
       "      <td>NaN</td>\n",
       "      <td>None</td>\n",
       "      <td>False</td>\n",
       "    </tr>\n",
       "    <tr>\n",
       "      <th>2</th>\n",
       "      <td>2020-06-25</td>\n",
       "      <td>BR</td>\n",
       "      <td>2092910086</td>\n",
       "      <td>Vinho Delas Crozes Hermitage Les Launes 750 mL</td>\n",
       "      <td>2092910086-1542225619.jpg</td>\n",
       "      <td>Tipo de Vinho: Tinto\\nPaÃ­s: FranÃ§a\\nRegiÃ£o: RhÃ´ne\\nUva: Syrah\\nQuantidade: 750 mL\\n\\nÃ‰ na margem esquerda do rio RhÃ´ne que estÃ¡ Crozes-Hermitage, entre os mais prestigiosos Crus do sul da FranÃ§a â€“ e onde estÃ£o os vinhos de melhor relaÃ§Ã£o custo-benefÃ­cio da regiÃ£o. Com perfeito equilÃ­brio entre frutas e taninos, este Ã© um vinho extremamente elegante. Cassis e ameixas chamam atenÃ§Ã£o no nariz, que aos poucos comeÃ§a a evoluir para flores e especiarias â€“ eis a marca registrada da Syrah em Crozes-Hermitage. E o vinho Ã© amplo no paladar, repleto de taninos e boa acidez, que garantem bom envelhecimento em adgea, mas tambÃ©m se fazem Ã³timos para acompanhar um suculento carrÃ© de cordeiro.</td>\n",
       "      <td>475.0</td>\n",
       "      <td>475.0</td>\n",
       "      <td>15.0</td>\n",
       "      <td>15.0</td>\n",
       "      <td>None</td>\n",
       "      <td>None</td>\n",
       "      <td>None</td>\n",
       "      <td>False</td>\n",
       "      <td>False</td>\n",
       "      <td>Delas FrÃ¨res</td>\n",
       "      <td>True</td>\n",
       "      <td>mL</td>\n",
       "      <td>2018-11-14 11:42:06+00:00</td>\n",
       "      <td>2018-12-14 06:59:48+00:00</td>\n",
       "      <td>None</td>\n",
       "      <td>None</td>\n",
       "      <td>Vinho</td>\n",
       "      <td>750.0</td>\n",
       "      <td>750 mL</td>\n",
       "      <td>True</td>\n",
       "      <td>None</td>\n",
       "      <td>1</td>\n",
       "      <td>U</td>\n",
       "      <td>NaN</td>\n",
       "      <td>NaN</td>\n",
       "      <td>NaN</td>\n",
       "      <td>FRDEL2049A</td>\n",
       "      <td>28</td>\n",
       "      <td>False</td>\n",
       "      <td>False</td>\n",
       "      <td>True</td>\n",
       "      <td>None</td>\n",
       "      <td>Delas FrÃ¨res</td>\n",
       "      <td>None</td>\n",
       "      <td>None</td>\n",
       "      <td>None</td>\n",
       "      <td>None</td>\n",
       "      <td>None</td>\n",
       "      <td>2019-06-18 18:11:24.234000+00:00</td>\n",
       "      <td>False</td>\n",
       "      <td>0</td>\n",
       "      <td>None</td>\n",
       "      <td>False</td>\n",
       "      <td>NaN</td>\n",
       "      <td>None</td>\n",
       "      <td>None</td>\n",
       "    </tr>\n",
       "    <tr>\n",
       "      <th>3</th>\n",
       "      <td>2020-06-25</td>\n",
       "      <td>BR</td>\n",
       "      <td>2092910130</td>\n",
       "      <td>Vinho Matetic Corralillo Cabernet Sauvignon 750 mL</td>\n",
       "      <td>2092910130-1542225648.jpg</td>\n",
       "      <td>Tipo de Vinho: Tinto\\n PaÃ­s: Chile\\n RegiÃ£o: Vale do Maipo\\n Uva: Cabernet Sauvignon\\n Quantidade: 750 mL\\n \\n Um Cabernet Sauvignon chileno tÃ­pico e conquistador, cujo aroma exala frutas negras e vermelhas maduras como ameixas, cerejas, figos e amoras, cafÃ© torrado e especiarias tambÃ©m aparecem neste belo tinto chileno. O paladar Ã© redondo, com taninos macios, bom frescor e sabor frutado. A escolha certa para um jantar com os amigos. Um vinho fÃ¡cil de agradar atÃ© os paladares mais exigentes.</td>\n",
       "      <td>1200.0</td>\n",
       "      <td>1200.0</td>\n",
       "      <td>15.0</td>\n",
       "      <td>15.0</td>\n",
       "      <td>None</td>\n",
       "      <td>None</td>\n",
       "      <td>None</td>\n",
       "      <td>False</td>\n",
       "      <td>False</td>\n",
       "      <td>Matetic</td>\n",
       "      <td>True</td>\n",
       "      <td>mL</td>\n",
       "      <td>2018-11-14 11:42:06+00:00</td>\n",
       "      <td>2018-12-14 07:00:09+00:00</td>\n",
       "      <td>None</td>\n",
       "      <td>None</td>\n",
       "      <td>Vinho</td>\n",
       "      <td>750.0</td>\n",
       "      <td>750 mL</td>\n",
       "      <td>True</td>\n",
       "      <td>None</td>\n",
       "      <td>1</td>\n",
       "      <td>U</td>\n",
       "      <td>NaN</td>\n",
       "      <td>NaN</td>\n",
       "      <td>NaN</td>\n",
       "      <td>CHMAT0202A</td>\n",
       "      <td>72</td>\n",
       "      <td>False</td>\n",
       "      <td>False</td>\n",
       "      <td>True</td>\n",
       "      <td>None</td>\n",
       "      <td>Matetic</td>\n",
       "      <td>None</td>\n",
       "      <td>None</td>\n",
       "      <td>None</td>\n",
       "      <td>None</td>\n",
       "      <td>None</td>\n",
       "      <td>2019-06-18 18:11:24.221000+00:00</td>\n",
       "      <td>False</td>\n",
       "      <td>0</td>\n",
       "      <td>None</td>\n",
       "      <td>False</td>\n",
       "      <td>NaN</td>\n",
       "      <td>None</td>\n",
       "      <td>None</td>\n",
       "    </tr>\n",
       "    <tr>\n",
       "      <th>4</th>\n",
       "      <td>2020-06-25</td>\n",
       "      <td>BR</td>\n",
       "      <td>2092461207</td>\n",
       "      <td>Vinho 375mL Barone Montalto Acq Nero D'Avola Tr Siciliane</td>\n",
       "      <td>2092461207-1538574569.png</td>\n",
       "      <td>Tipo de Vinho: Tinto\\nPaÃ­s: ItÃ¡lia\\nRegiÃ£o: SicÃ­lia\\nUva: Nero d'Ãvola\\nQuantidade: 375 mL\\n\\nLogo ao servir este vinho em taÃ§a, Ã© possÃ­vel sentir os aromas frutados de cerejas e ameixa. Bastante fresco, em boca ele se mostra leve, redondo e macio, muito fÃ¡cil de beber! Os sabores de frutas vermelhas maduras - com um toque de alcaÃ§uz - preenchem toda a boca e convidam para um novo gole. Este varietal nÃ£o passa por barrica, com intuito de preservar seu frescor e fazer deste um vinho que expresse por completo seu terroir siciliano. A composiÃ§Ã£o do clima e o solo da SicÃ­lia sÃ£o perfeitos para o cultivo da Nero d'Avola, afinal, a ilha Ã© o lar de origem da uva. NÃ£o Ã  toa, a cepa dÃ¡ origem aos melhores vinhos desta regiÃ£o italiana.</td>\n",
       "      <td>640.0</td>\n",
       "      <td>640.0</td>\n",
       "      <td>20.0</td>\n",
       "      <td>20.0</td>\n",
       "      <td>None</td>\n",
       "      <td>None</td>\n",
       "      <td>None</td>\n",
       "      <td>False</td>\n",
       "      <td>False</td>\n",
       "      <td>None</td>\n",
       "      <td>True</td>\n",
       "      <td>mL</td>\n",
       "      <td>2018-07-19 18:29:37.022401+00:00</td>\n",
       "      <td>2019-12-31 11:44:00+00:00</td>\n",
       "      <td>None</td>\n",
       "      <td>None</td>\n",
       "      <td>Vinho</td>\n",
       "      <td>375.0</td>\n",
       "      <td>None</td>\n",
       "      <td>True</td>\n",
       "      <td>None</td>\n",
       "      <td>1</td>\n",
       "      <td>U</td>\n",
       "      <td>6.0</td>\n",
       "      <td>1.0</td>\n",
       "      <td>1.0</td>\n",
       "      <td>ITBMO0114Y</td>\n",
       "      <td>None</td>\n",
       "      <td>False</td>\n",
       "      <td>False</td>\n",
       "      <td>True</td>\n",
       "      <td>None</td>\n",
       "      <td>Barone</td>\n",
       "      <td>None</td>\n",
       "      <td>False</td>\n",
       "      <td>None</td>\n",
       "      <td>None</td>\n",
       "      <td>None</td>\n",
       "      <td>2019-12-31 14:53:45.227000+00:00</td>\n",
       "      <td>False</td>\n",
       "      <td>0</td>\n",
       "      <td>None</td>\n",
       "      <td>False</td>\n",
       "      <td>NaN</td>\n",
       "      <td>None</td>\n",
       "      <td>False</td>\n",
       "    </tr>\n",
       "  </tbody>\n",
       "</table>\n",
       "</div>"
      ],
      "text/plain": [
       "           DT COUNTRY_CODE          ID  \\\n",
       "0  2020-06-25  BR           2092910096   \n",
       "1  2020-06-25  BR           2098327929   \n",
       "2  2020-06-25  BR           2092910086   \n",
       "3  2020-06-25  BR           2092910130   \n",
       "4  2020-06-25  BR           2092461207   \n",
       "\n",
       "                                                          NAME  \\\n",
       "0  Vinho San Marzano Passito Filari Manduria Dolce 2014 500 ml   \n",
       "1  Vinho Campo Flores Tinto                                      \n",
       "2  Vinho Delas Crozes Hermitage Les Launes 750 mL                \n",
       "3  Vinho Matetic Corralillo Cabernet Sauvignon 750 mL            \n",
       "4  Vinho 375mL Barone Montalto Acq Nero D'Avola Tr Siciliane     \n",
       "\n",
       "                          IMAGE  \\\n",
       "0  2092910096-1542225620.jpg      \n",
       "1  2098327929-1590005823539.jpg   \n",
       "2  2092910086-1542225619.jpg      \n",
       "3  2092910130-1542225648.jpg      \n",
       "4  2092461207-1538574569.png      \n",
       "\n",
       "                                                                                                                                                                                                                                                                                                                                                                                                                                                                                                                                                                                                                                                                                                                                                       DESCRIPTION  \\\n",
       "0  Tipo de Vinho: Primitivo\\nPaÃ­s: ItÃ¡lia\\nRegiÃ£o: Puglia\\nUva: Primitivo\\nQuantidade: 500 mL\\n\\nOriginado de vinhedos muito antigos da regiÃ£o de Manduria, este Primitivo foi feito pelo mesmo mÃ©todo dos mais icÃ´nicos Amarones e Reciotos della Valpolicella â€“ o apassimento. Nesse mÃ©todo, as uvas ficam ressecando por meses em caixas de madeira atÃ© que perdem Ã¡gua e se tornam ainda mais concentradas. Com doÃ§ura bem equilibrada pela acidez, Ã© um vinho que apresenta intensas notas de frutas passas e chocolate. Perfeito para encerrar uma refeiÃ§Ã£o com chave de ouro.                                                                                                                                                                                 \n",
       "1   Campo Flores Ã© elaborado de vinhedos orgÃ¢nicos e de baixos rendimentos plantados na regiÃ£o de La Mancha. Solos de giz arenoso, num clima quente e seco ideal para a produÃ§Ã£o de vinhos saborosos e elegantes. Este exemplar composto  por Tempranillo 80%, Syrah 20% , de cor rubi,seus aromas lembram frutas maduras, morango e groselha preta junto com aromas apimentados.Corpo medio,taninos robustos e agradÃ¡veis. acidez media.Um Ã³timo vinho para um churrasco, pato, carne grelhada e Jamon Serrano.\\n\\n\\n                                                                                                                                                                                                                                               \n",
       "2  Tipo de Vinho: Tinto\\nPaÃ­s: FranÃ§a\\nRegiÃ£o: RhÃ´ne\\nUva: Syrah\\nQuantidade: 750 mL\\n\\nÃ‰ na margem esquerda do rio RhÃ´ne que estÃ¡ Crozes-Hermitage, entre os mais prestigiosos Crus do sul da FranÃ§a â€“ e onde estÃ£o os vinhos de melhor relaÃ§Ã£o custo-benefÃ­cio da regiÃ£o. Com perfeito equilÃ­brio entre frutas e taninos, este Ã© um vinho extremamente elegante. Cassis e ameixas chamam atenÃ§Ã£o no nariz, que aos poucos comeÃ§a a evoluir para flores e especiarias â€“ eis a marca registrada da Syrah em Crozes-Hermitage. E o vinho Ã© amplo no paladar, repleto de taninos e boa acidez, que garantem bom envelhecimento em adgea, mas tambÃ©m se fazem Ã³timos para acompanhar um suculento carrÃ© de cordeiro.                                                    \n",
       "3  Tipo de Vinho: Tinto\\n PaÃ­s: Chile\\n RegiÃ£o: Vale do Maipo\\n Uva: Cabernet Sauvignon\\n Quantidade: 750 mL\\n \\n Um Cabernet Sauvignon chileno tÃ­pico e conquistador, cujo aroma exala frutas negras e vermelhas maduras como ameixas, cerejas, figos e amoras, cafÃ© torrado e especiarias tambÃ©m aparecem neste belo tinto chileno. O paladar Ã© redondo, com taninos macios, bom frescor e sabor frutado. A escolha certa para um jantar com os amigos. Um vinho fÃ¡cil de agradar atÃ© os paladares mais exigentes.                                                                                                                                                                                                                                                 \n",
       "4  Tipo de Vinho: Tinto\\nPaÃ­s: ItÃ¡lia\\nRegiÃ£o: SicÃ­lia\\nUva: Nero d'Ãvola\\nQuantidade: 375 mL\\n\\nLogo ao servir este vinho em taÃ§a, Ã© possÃ­vel sentir os aromas frutados de cerejas e ameixa. Bastante fresco, em boca ele se mostra leve, redondo e macio, muito fÃ¡cil de beber! Os sabores de frutas vermelhas maduras - com um toque de alcaÃ§uz - preenchem toda a boca e convidam para um novo gole. Este varietal nÃ£o passa por barrica, com intuito de preservar seu frescor e fazer deste um vinho que expresse por completo seu terroir siciliano. A composiÃ§Ã£o do clima e o solo da SicÃ­lia sÃ£o perfeitos para o cultivo da Nero d'Avola, afinal, a ilha Ã© o lar de origem da uva. NÃ£o Ã  toa, a cepa dÃ¡ origem aos melhores vinhos desta regiÃ£o italiana.   \n",
       "\n",
       "    WIDTH  HEIGHT  CM_HEIGHT  CM_WIDTH HOOK_X HOOK_Y AREA_TYPE_ID  NEW_PHOTO  \\\n",
       "0  475.0   475.0   15.0       15.0      None   None   None         False       \n",
       "1  700.0   700.0   20.0       20.0      None   None   None         False       \n",
       "2  475.0   475.0   15.0       15.0      None   None   None         False       \n",
       "3  1200.0  1200.0  15.0       15.0      None   None   None         False       \n",
       "4  640.0   640.0   20.0       20.0      None   None   None         False       \n",
       "\n",
       "   CONTROLLED     TRADEMARK  ACTIVE UNIT_TYPE  \\\n",
       "0  False       mazzei        True    ml         \n",
       "1  False       Campo Flores  True    Und        \n",
       "2  False       Delas FrÃ¨res  True    mL         \n",
       "3  False       Matetic       True    mL         \n",
       "4  False       None          True    mL         \n",
       "\n",
       "                        CREATED_AT                UPDATED_AT DELETED_AT  \\\n",
       "0 2018-11-14 11:42:06+00:00        2018-12-14 07:00:27+00:00  None        \n",
       "1 2020-05-20 16:44:42.243000+00:00 2020-05-20 17:17:03+00:00  None        \n",
       "2 2018-11-14 11:42:06+00:00        2018-12-14 06:59:48+00:00  None        \n",
       "3 2018-11-14 11:42:06+00:00        2018-12-14 07:00:09+00:00  None        \n",
       "4 2018-07-19 18:29:37.022401+00:00 2019-12-31 11:44:00+00:00  None        \n",
       "\n",
       "  OPTIONAL_QUANTITY    TYPE  QUANTITY PRESENTATION  AGE_RESTRICTION LABEL  \\\n",
       "0  None              Vinho   500.0     500 ml       True             None   \n",
       "1  None              Vinho   1.0       1 Und        True             None   \n",
       "2  None              Vinho   750.0     750 mL       True             None   \n",
       "3  None              Vinho   750.0     750 mL       True             None   \n",
       "4  None              Vinho   375.0     None         True             None   \n",
       "\n",
       "   CATEGORY_PRODUCT_TYPE SALE_TYPE  MAX_QUANTITY_IN_GRAMS  \\\n",
       "0  1                      U        NaN                      \n",
       "1  1                      U        NaN                      \n",
       "2  1                      U        NaN                      \n",
       "3  1                      U        NaN                      \n",
       "4  1                      U         6.0                     \n",
       "\n",
       "   MIN_QUANTITY_IN_GRAMS  STEP_QUANTITY_IN_GRAMS            RETAIL_ID   EAN  \\\n",
       "0 NaN                    NaN                      ITMAR1199X           38     \n",
       "1 NaN                    NaN                      grandcru_ESBMZ0149A  0      \n",
       "2 NaN                    NaN                      FRDEL2049A           28     \n",
       "3 NaN                    NaN                      CHMAT0202A           72     \n",
       "4  1.0                    1.0                     ITBMO0114Y           None   \n",
       "\n",
       "   HAS_TOPPINGS  HAS_ANTISMOKING  NEED_IMAGE BACKGROUND         MAKER  \\\n",
       "0  False         False            True        None       mazzei         \n",
       "1  False         False            False       None       Campo Flores   \n",
       "2  False         False            True        None       Delas FrÃ¨res   \n",
       "3  False         False            True        None       Matetic        \n",
       "4  False         False            True        None       Barone         \n",
       "\n",
       "  IDENTIFICATION_REQUIRED REQUIRES_MEDICAL_PRESCRIPTION DISCOUNT_TYPE  \\\n",
       "0  None                    None                          None           \n",
       "1  None                    None                          None           \n",
       "2  None                    None                          None           \n",
       "3  None                    None                          None           \n",
       "4  None                    False                         None           \n",
       "\n",
       "  DISCOUNT_DESCRIPTION DISCOUNT_TAG_COLOR                 _FIVETRAN_SYNCED  \\\n",
       "0  None                 None              2019-06-18 18:11:24.226000+00:00   \n",
       "1  None                 None              2020-05-20 21:03:37.759000+00:00   \n",
       "2  None                 None              2019-06-18 18:11:24.234000+00:00   \n",
       "3  None                 None              2019-06-18 18:11:24.221000+00:00   \n",
       "4  None                 None              2019-12-31 14:53:45.227000+00:00   \n",
       "\n",
       "   _FIVETRAN_DELETED  NON_REFUNDABLE UPDATED_BY  IS_POPULAR  PARENT_ID  \\\n",
       "0  False              0               None       False      NaN          \n",
       "1  False              0               None       False      NaN          \n",
       "2  False              0               None       False      NaN          \n",
       "3  False              0               None       False      NaN          \n",
       "4  False              0               None       False      NaN          \n",
       "\n",
       "  LEAD_PRODUCT_ID IS_LEAD  \n",
       "0  None            None    \n",
       "1  None            False   \n",
       "2  None            None    \n",
       "3  None            None    \n",
       "4  None            False   "
      ]
     },
     "execution_count": 22,
     "metadata": {},
     "output_type": "execute_result"
    }
   ],
   "source": [
    "df_old.head()"
   ]
  },
  {
   "cell_type": "markdown",
   "metadata": {},
   "source": [
    "### CatÃ¡logo actual"
   ]
  },
  {
   "cell_type": "code",
   "execution_count": 23,
   "metadata": {},
   "outputs": [
    {
     "name": "stdout",
     "output_type": "stream",
     "text": [
      "Registros del catÃ¡logo actual en grancru: 553\n"
     ]
    }
   ],
   "source": [
    "print(\"Registros del catÃ¡logo actual en grancru:\", len(df_old))\n"
   ]
  },
  {
   "cell_type": "code",
   "execution_count": 24,
   "metadata": {
    "scrolled": true
   },
   "outputs": [
    {
     "data": {
      "text/plain": [
       "116"
      ]
     },
     "execution_count": 24,
     "metadata": {},
     "output_type": "execute_result"
    }
   ],
   "source": [
    "# registros empatados\n",
    "df1.ID = df1.ID.astype(str)\n",
    "df_old.ID = df_old.ID.astype(str)\n",
    "len(df_old[df_old.ID.isin(df1['ID'].unique())])"
   ]
  },
  {
   "cell_type": "markdown",
   "metadata": {},
   "source": [
    "### Categorias"
   ]
  },
  {
   "cell_type": "code",
   "execution_count": 25,
   "metadata": {
    "scrolled": true
   },
   "outputs": [
    {
     "data": {
      "text/plain": [
       "2"
      ]
     },
     "execution_count": 25,
     "metadata": {},
     "output_type": "execute_result"
    }
   ],
   "source": [
    "# Categorias no son Ãºnicas\n",
    "df_cat.NAME =df_cat.NAME.astype(str)\n",
    "len(df_cat) - df_cat.NAME.nunique()"
   ]
  },
  {
   "cell_type": "code",
   "execution_count": 26,
   "metadata": {},
   "outputs": [
    {
     "data": {
      "text/html": [
       "<div>\n",
       "<style scoped>\n",
       "    .dataframe tbody tr th:only-of-type {\n",
       "        vertical-align: middle;\n",
       "    }\n",
       "\n",
       "    .dataframe tbody tr th {\n",
       "        vertical-align: top;\n",
       "    }\n",
       "\n",
       "    .dataframe thead th {\n",
       "        text-align: right;\n",
       "    }\n",
       "</style>\n",
       "<table border=\"1\" class=\"dataframe\">\n",
       "  <thead>\n",
       "    <tr style=\"text-align: right;\">\n",
       "      <th></th>\n",
       "      <th>COUNTRY</th>\n",
       "      <th>ID</th>\n",
       "      <th>NAME</th>\n",
       "      <th>PARENT_ID</th>\n",
       "      <th>CATEGORY_ID</th>\n",
       "      <th>CODE</th>\n",
       "      <th>_FIVETRAN_DELETED</th>\n",
       "      <th>_FIVETRAN_SYNCED</th>\n",
       "    </tr>\n",
       "  </thead>\n",
       "  <tbody>\n",
       "    <tr>\n",
       "      <th>0</th>\n",
       "      <td>BR</td>\n",
       "      <td>3350</td>\n",
       "      <td>Vinhos</td>\n",
       "      <td>2912</td>\n",
       "      <td>3354</td>\n",
       "      <td>vinhos</td>\n",
       "      <td>None</td>\n",
       "      <td>2020-06-02 15:57:51.546000+00:00</td>\n",
       "    </tr>\n",
       "    <tr>\n",
       "      <th>1</th>\n",
       "      <td>BR</td>\n",
       "      <td>2912</td>\n",
       "      <td>Cerveja, vinhos e destilados</td>\n",
       "      <td>2892</td>\n",
       "      <td>2916</td>\n",
       "      <td>cerveja-vinhos-e-destilados</td>\n",
       "      <td>None</td>\n",
       "      <td>2020-06-02 15:57:51.531000+00:00</td>\n",
       "    </tr>\n",
       "    <tr>\n",
       "      <th>2</th>\n",
       "      <td>BR</td>\n",
       "      <td>3362</td>\n",
       "      <td>Champagne e espumantes</td>\n",
       "      <td>3350</td>\n",
       "      <td>3366</td>\n",
       "      <td>champagne-e-espumantes</td>\n",
       "      <td>None</td>\n",
       "      <td>2020-06-02 15:57:51.546000+00:00</td>\n",
       "    </tr>\n",
       "  </tbody>\n",
       "</table>\n",
       "</div>"
      ],
      "text/plain": [
       "  COUNTRY    ID                          NAME  PARENT_ID  CATEGORY_ID  \\\n",
       "0  BR      3350  Vinhos                        2912       3354          \n",
       "1  BR      2912  Cerveja, vinhos e destilados  2892       2916          \n",
       "2  BR      3362  Champagne e espumantes        3350       3366          \n",
       "\n",
       "                          CODE _FIVETRAN_DELETED  \\\n",
       "0  vinhos                       None               \n",
       "1  cerveja-vinhos-e-destilados  None               \n",
       "2  champagne-e-espumantes       None               \n",
       "\n",
       "                  _FIVETRAN_SYNCED  \n",
       "0 2020-06-02 15:57:51.546000+00:00  \n",
       "1 2020-06-02 15:57:51.531000+00:00  \n",
       "2 2020-06-02 15:57:51.546000+00:00  "
      ]
     },
     "execution_count": 26,
     "metadata": {},
     "output_type": "execute_result"
    }
   ],
   "source": [
    "#Â elementos encontrados\n",
    "df_catb = df_cat[df_cat.NAME.isin(category)]\n",
    "df_catb.drop_duplicates('NAME')"
   ]
  },
  {
   "cell_type": "code",
   "execution_count": 27,
   "metadata": {},
   "outputs": [
    {
     "data": {
      "text/plain": [
       "{'Branco', 'RosÃ©', 'Tinto'}"
      ]
     },
     "execution_count": 27,
     "metadata": {},
     "output_type": "execute_result"
    }
   ],
   "source": [
    "# elementos faltantes\n",
    "set(category) - set(df_catb.NAME.unique().tolist())"
   ]
  },
  {
   "cell_type": "markdown",
   "metadata": {
    "scrolled": true
   },
   "source": [
    "### Trademark "
   ]
  },
  {
   "cell_type": "code",
   "execution_count": 28,
   "metadata": {},
   "outputs": [
    {
     "data": {
      "text/html": [
       "<div>\n",
       "<style scoped>\n",
       "    .dataframe tbody tr th:only-of-type {\n",
       "        vertical-align: middle;\n",
       "    }\n",
       "\n",
       "    .dataframe tbody tr th {\n",
       "        vertical-align: top;\n",
       "    }\n",
       "\n",
       "    .dataframe thead th {\n",
       "        text-align: right;\n",
       "    }\n",
       "</style>\n",
       "<table border=\"1\" class=\"dataframe\">\n",
       "  <thead>\n",
       "    <tr style=\"text-align: right;\">\n",
       "      <th></th>\n",
       "      <th>COUNTRY</th>\n",
       "      <th>ID</th>\n",
       "      <th>NAME</th>\n",
       "      <th>PARENT_ID</th>\n",
       "      <th>CODE</th>\n",
       "      <th>_FIVETRAN_DELETED</th>\n",
       "      <th>_FIVETRAN_SYNCED</th>\n",
       "    </tr>\n",
       "  </thead>\n",
       "  <tbody>\n",
       "    <tr>\n",
       "      <th>0</th>\n",
       "      <td>BR</td>\n",
       "      <td>860</td>\n",
       "      <td>Zuccardi</td>\n",
       "      <td>858</td>\n",
       "      <td>zuccardi</td>\n",
       "      <td>None</td>\n",
       "      <td>2020-02-27 19:56:39.105000+00:00</td>\n",
       "    </tr>\n",
       "  </tbody>\n",
       "</table>\n",
       "</div>"
      ],
      "text/plain": [
       "  COUNTRY   ID      NAME  PARENT_ID      CODE _FIVETRAN_DELETED  \\\n",
       "0  BR      860  Zuccardi  858        zuccardi  None               \n",
       "\n",
       "                  _FIVETRAN_SYNCED  \n",
       "0 2020-02-27 19:56:39.105000+00:00  "
      ]
     },
     "execution_count": 28,
     "metadata": {},
     "output_type": "execute_result"
    }
   ],
   "source": [
    "df_m_t"
   ]
  },
  {
   "cell_type": "code",
   "execution_count": 29,
   "metadata": {},
   "outputs": [
    {
     "data": {
      "text/plain": [
       "0"
      ]
     },
     "execution_count": 29,
     "metadata": {},
     "output_type": "execute_result"
    }
   ],
   "source": [
    "# Categorias no son Ãºnicas\n",
    "df_m_t.NAME =df_m_t.NAME.astype(str)\n",
    "len(df_m_t) - df_m_t.NAME.nunique()"
   ]
  },
  {
   "cell_type": "code",
   "execution_count": 30,
   "metadata": {},
   "outputs": [
    {
     "data": {
      "text/plain": [
       "34"
      ]
     },
     "execution_count": 30,
     "metadata": {},
     "output_type": "execute_result"
    }
   ],
   "source": [
    "# elementos faltantes\n",
    "len(set(m_and_t) - set(df_m_t.NAME.unique()))"
   ]
  },
  {
   "cell_type": "code",
   "execution_count": 31,
   "metadata": {},
   "outputs": [
    {
     "data": {
      "text/plain": [
       "{'Barone Montalto',\n",
       " 'Bodegas Escorihuela GascÃ³n',\n",
       " 'Bodegas Pablo',\n",
       " 'Cave Geisse',\n",
       " 'Churchill Graham',\n",
       " 'ChÃ¢teau De Berne',\n",
       " 'Delas FrÃ¨res',\n",
       " 'Errazuriz',\n",
       " 'Escorihuela',\n",
       " 'Grandes Vinos De San Pedro',\n",
       " 'Heartland',\n",
       " 'Humberto Canale',\n",
       " 'Il Palagetto',\n",
       " 'La Brancaia',\n",
       " 'Lurton',\n",
       " 'Mazzei',\n",
       " 'Poderi Dal Nespoli',\n",
       " 'Poggio Al Tesoro',\n",
       " 'Pulenta Estate',\n",
       " 'Quinta Do Mouro',\n",
       " 'Ricossa Antica Casa',\n",
       " 'Rivarose',\n",
       " 'Saint Clair',\n",
       " 'San Marzano',\n",
       " 'San Pedro Regalado',\n",
       " 'Talenti',\n",
       " 'Terra Serena',\n",
       " 'Terrapura',\n",
       " 'Vistamar',\n",
       " 'ViÃ±a Cobos',\n",
       " 'ViÃ±a Leyda',\n",
       " 'William Fevre',\n",
       " 'Zorzal',\n",
       " 'Zuazo Gaston'}"
      ]
     },
     "execution_count": 31,
     "metadata": {},
     "output_type": "execute_result"
    }
   ],
   "source": [
    "set(m_and_t) - set(df_m_t.NAME.unique())"
   ]
  },
  {
   "cell_type": "code",
   "execution_count": 32,
   "metadata": {},
   "outputs": [],
   "source": [
    "df_old_1  = df_old.merge(df1, left_on='ID', right_on='ID', how='inner')\n"
   ]
  },
  {
   "cell_type": "code",
   "execution_count": 33,
   "metadata": {},
   "outputs": [],
   "source": [
    "# validamos el Country_code"
   ]
  },
  {
   "cell_type": "code",
   "execution_count": 34,
   "metadata": {},
   "outputs": [
    {
     "data": {
      "text/plain": [
       "array(['BR'], dtype=object)"
      ]
     },
     "execution_count": 34,
     "metadata": {},
     "output_type": "execute_result"
    }
   ],
   "source": [
    "df_old_1.COUNTRY_CODE.unique()"
   ]
  },
  {
   "cell_type": "code",
   "execution_count": 35,
   "metadata": {},
   "outputs": [
    {
     "data": {
      "text/plain": [
       "0"
      ]
     },
     "execution_count": 35,
     "metadata": {},
     "output_type": "execute_result"
    }
   ],
   "source": [
    "# ComparaciÃ³n de nÃºmero registros Ãºnicos por ID, \n",
    "df1.ID.nunique()-df_old_1.ID.nunique()"
   ]
  },
  {
   "cell_type": "code",
   "execution_count": 36,
   "metadata": {},
   "outputs": [
    {
     "data": {
      "text/plain": [
       "0"
      ]
     },
     "execution_count": 36,
     "metadata": {},
     "output_type": "execute_result"
    }
   ],
   "source": [
    "# ComparaciÃ³n de nÃºmero registros \n",
    "len(df1)-len(df_old_1)"
   ]
  },
  {
   "cell_type": "code",
   "execution_count": 37,
   "metadata": {},
   "outputs": [
    {
     "data": {
      "text/plain": [
       "0"
      ]
     },
     "execution_count": 37,
     "metadata": {},
     "output_type": "execute_result"
    }
   ],
   "source": [
    "# Nombre idÃ©ntico\n",
    "df_old_1['compare_name'] = (df_old_1['NAME_x'] == df_old_1['NAME_y'])\n",
    "len(df_old_1[df_old_1.compare_name])"
   ]
  },
  {
   "cell_type": "code",
   "execution_count": 38,
   "metadata": {},
   "outputs": [
    {
     "data": {
      "text/plain": [
       "0"
      ]
     },
     "execution_count": 38,
     "metadata": {},
     "output_type": "execute_result"
    }
   ],
   "source": [
    "# comparaciÃ³n identica DESCRIPTION\n",
    "df_old_1['compare_DESCRIPTION'] = (df_old_1['DESCRIPTION_x'] == df_old_1['DESCRIPTION_y'])\n",
    "len(df_old_1[df_old_1.compare_name])"
   ]
  },
  {
   "cell_type": "code",
   "execution_count": 39,
   "metadata": {},
   "outputs": [],
   "source": [
    "# la nueva descripciÃ³n no contiene tabs ni cambios de linea"
   ]
  },
  {
   "cell_type": "markdown",
   "metadata": {},
   "source": [
    "### CatÃ¡logo nuevo"
   ]
  },
  {
   "cell_type": "code",
   "execution_count": 40,
   "metadata": {},
   "outputs": [
    {
     "data": {
      "text/plain": [
       "0"
      ]
     },
     "execution_count": 40,
     "metadata": {},
     "output_type": "execute_result"
    }
   ],
   "source": [
    "#Â Registros ya migrados\n",
    "len(df_new[df_new.EAN.isin(df1.EAN.unique())])"
   ]
  },
  {
   "cell_type": "markdown",
   "metadata": {},
   "source": [
    "# WARNING"
   ]
  },
  {
   "cell_type": "markdown",
   "metadata": {},
   "source": [
    "https://rappidev.atlassian.net/browse/MDS-2215"
   ]
  },
  {
   "cell_type": "code",
   "execution_count": 41,
   "metadata": {},
   "outputs": [
    {
     "data": {
      "text/html": [
       "<div>\n",
       "<style scoped>\n",
       "    .dataframe tbody tr th:only-of-type {\n",
       "        vertical-align: middle;\n",
       "    }\n",
       "\n",
       "    .dataframe tbody tr th {\n",
       "        vertical-align: top;\n",
       "    }\n",
       "\n",
       "    .dataframe thead th {\n",
       "        text-align: right;\n",
       "    }\n",
       "</style>\n",
       "<table border=\"1\" class=\"dataframe\">\n",
       "  <thead>\n",
       "    <tr style=\"text-align: right;\">\n",
       "      <th></th>\n",
       "      <th>ID</th>\n",
       "      <th>NAME</th>\n",
       "      <th>EAN</th>\n",
       "      <th>DESCRIPTION</th>\n",
       "      <th>MAKER</th>\n",
       "      <th>IMAGE</th>\n",
       "      <th>TRADEMARK</th>\n",
       "      <th>CATEGORY_1</th>\n",
       "      <th>CATEGORY_2</th>\n",
       "      <th>CATEGORY_3</th>\n",
       "    </tr>\n",
       "  </thead>\n",
       "  <tbody>\n",
       "    <tr>\n",
       "      <th>0</th>\n",
       "      <td>2092460946</td>\n",
       "      <td>Miluna Puglia Bianco  Vinho</td>\n",
       "      <td>8023354015317</td>\n",
       "      <td>Foi neste rÃ³tulo de entrada assinado pela renomada San Marzano que a casta internacional Chardonnay encontrou a tradicional Malvasia Bianca, do sul da ItÃ¡lia. O resultado, harmonioso, emprestou aromas florais deliciosos, alÃ©m de notas de pÃªssego e abacaxi em calda Ã  taÃ§a. Delicado e mineral no paladar, Ã© um vinho branco perfeito para servir mais geladinho e bebericar sem acompanhamento Ã  beira da piscina. Se preferir, vai muito bem ao lado de queijos leves.</td>\n",
       "      <td>Miluna Puglia Bianco  Vinho</td>\n",
       "      <td>8023354015317_1.png</td>\n",
       "      <td>San Marzano</td>\n",
       "      <td>Cerveja, vinhos e destilados</td>\n",
       "      <td>Vinhos</td>\n",
       "      <td>Branco</td>\n",
       "    </tr>\n",
       "    <tr>\n",
       "      <th>1</th>\n",
       "      <td>2092460961</td>\n",
       "      <td>Saint Clair Marlborough Sun Sauvignon Blanc  Vinho</td>\n",
       "      <td>9418076001394</td>\n",
       "      <td>Depois de viajar os quatro cantos do mundo, a popular Sauvignon Blanc encontrou na Nova Zelandia um terroir especial em que expressou os melhores atributos da casta de origem francesa</td>\n",
       "      <td>Saint Clair Marlborough Sun Sauvignon Blanc  Vinho</td>\n",
       "      <td>9418076001394_1.png</td>\n",
       "      <td>Saint Clair</td>\n",
       "      <td>Cerveja, vinhos e destilados</td>\n",
       "      <td>Vinhos</td>\n",
       "      <td>Branco</td>\n",
       "    </tr>\n",
       "    <tr>\n",
       "      <th>2</th>\n",
       "      <td>2092460916</td>\n",
       "      <td>Leyda Reserva Chardonnay  Vinho</td>\n",
       "      <td>7808734200177</td>\n",
       "      <td>Esse vinho foi elaborado com a finalidade de priorizar o fruto natural do clima frio de Leyda. Nariz mostrando frutas como kiwi e graviola. Textura agradÃ¡vel, equilibrado e suculento.</td>\n",
       "      <td>Leyda Reserva Chardonnay  Vinho</td>\n",
       "      <td>7808734200177_1.png</td>\n",
       "      <td>ViÃ±a Leyda</td>\n",
       "      <td>Cerveja, vinhos e destilados</td>\n",
       "      <td>Vinhos</td>\n",
       "      <td>Branco</td>\n",
       "    </tr>\n",
       "    <tr>\n",
       "      <th>3</th>\n",
       "      <td>2092460890</td>\n",
       "      <td>Cobos Felino Chardonnay  Vinho</td>\n",
       "      <td>7798145140233</td>\n",
       "      <td>Muita mineralidade e frescor neste aromÃ¡tico branco argentino, Ã© floral com notas cÃ­tricas, lembra tambÃ©m flores brancas, lichia e pÃªssego. Quando em boca, chega delicado e quase oleoso, com boa persistÃªncia, acidez equilibrada e excelente combinaÃ§Ã£o de frutas tropicais, amanteigado e mel. Tantas caracterÃ­sticas vÃ£o fazer vocÃª suspirar!</td>\n",
       "      <td>Cobos Felino Chardonnay  Vinho</td>\n",
       "      <td>7798145140233_1.png</td>\n",
       "      <td>ViÃ±a Cobos</td>\n",
       "      <td>Cerveja, vinhos e destilados</td>\n",
       "      <td>Vinhos</td>\n",
       "      <td>Branco</td>\n",
       "    </tr>\n",
       "    <tr>\n",
       "      <th>4</th>\n",
       "      <td>2092460948</td>\n",
       "      <td>Barone Montalto Acquerello Pinot Grigio Terre Sic Igt  Vinho</td>\n",
       "      <td>8030423000730</td>\n",
       "      <td>Assim que aberto, os aromas deste vinho dominam o ambiente. AromÃ¡tico, traz notas limpas e frescas de pera, maÃ§Ã£ verde, casca de limÃ£o e maracujÃ¡. Chega no paladar cremoso, como um mousse de maÃ§Ã£ verde, e logo traz acidez e notas de limÃ£o.</td>\n",
       "      <td>Barone Montalto Acquerello Pinot Grigio Terre Sic Igt  Vinho</td>\n",
       "      <td>8030423000730_1.png</td>\n",
       "      <td>Barone Montalto</td>\n",
       "      <td>Cerveja, vinhos e destilados</td>\n",
       "      <td>Vinhos</td>\n",
       "      <td>Branco</td>\n",
       "    </tr>\n",
       "  </tbody>\n",
       "</table>\n",
       "</div>"
      ],
      "text/plain": [
       "           ID                                                          NAME  \\\n",
       "0  2092460946  Miluna Puglia Bianco  Vinho                                    \n",
       "1  2092460961  Saint Clair Marlborough Sun Sauvignon Blanc  Vinho             \n",
       "2  2092460916  Leyda Reserva Chardonnay  Vinho                                \n",
       "3  2092460890  Cobos Felino Chardonnay  Vinho                                 \n",
       "4  2092460948  Barone Montalto Acquerello Pinot Grigio Terre Sic Igt  Vinho   \n",
       "\n",
       "             EAN  \\\n",
       "0  8023354015317   \n",
       "1  9418076001394   \n",
       "2  7808734200177   \n",
       "3  7798145140233   \n",
       "4  8030423000730   \n",
       "\n",
       "                                                                                                                                                                                                                                                                                                                                                                                                                                                                     DESCRIPTION  \\\n",
       "0  Foi neste rÃ³tulo de entrada assinado pela renomada San Marzano que a casta internacional Chardonnay encontrou a tradicional Malvasia Bianca, do sul da ItÃ¡lia. O resultado, harmonioso, emprestou aromas florais deliciosos, alÃ©m de notas de pÃªssego e abacaxi em calda Ã  taÃ§a. Delicado e mineral no paladar, Ã© um vinho branco perfeito para servir mais geladinho e bebericar sem acompanhamento Ã  beira da piscina. Se preferir, vai muito bem ao lado de queijos leves.   \n",
       "1  Depois de viajar os quatro cantos do mundo, a popular Sauvignon Blanc encontrou na Nova Zelandia um terroir especial em que expressou os melhores atributos da casta de origem francesa                                                                                                                                                                                                                                                                                         \n",
       "2  Esse vinho foi elaborado com a finalidade de priorizar o fruto natural do clima frio de Leyda. Nariz mostrando frutas como kiwi e graviola. Textura agradÃ¡vel, equilibrado e suculento.                                                                                                                                                                                                                                                                                         \n",
       "3  Muita mineralidade e frescor neste aromÃ¡tico branco argentino, Ã© floral com notas cÃ­tricas, lembra tambÃ©m flores brancas, lichia e pÃªssego. Quando em boca, chega delicado e quase oleoso, com boa persistÃªncia, acidez equilibrada e excelente combinaÃ§Ã£o de frutas tropicais, amanteigado e mel. Tantas caracterÃ­sticas vÃ£o fazer vocÃª suspirar!                                                                                                                              \n",
       "4  Assim que aberto, os aromas deste vinho dominam o ambiente. AromÃ¡tico, traz notas limpas e frescas de pera, maÃ§Ã£ verde, casca de limÃ£o e maracujÃ¡. Chega no paladar cremoso, como um mousse de maÃ§Ã£ verde, e logo traz acidez e notas de limÃ£o.                                                                                                                                                                                                                                 \n",
       "\n",
       "                                                          MAKER  \\\n",
       "0  Miluna Puglia Bianco  Vinho                                    \n",
       "1  Saint Clair Marlborough Sun Sauvignon Blanc  Vinho             \n",
       "2  Leyda Reserva Chardonnay  Vinho                                \n",
       "3  Cobos Felino Chardonnay  Vinho                                 \n",
       "4  Barone Montalto Acquerello Pinot Grigio Terre Sic Igt  Vinho   \n",
       "\n",
       "                 IMAGE        TRADEMARK                    CATEGORY_1  \\\n",
       "0  8023354015317_1.png  San Marzano      Cerveja, vinhos e destilados   \n",
       "1  9418076001394_1.png  Saint Clair      Cerveja, vinhos e destilados   \n",
       "2  7808734200177_1.png  ViÃ±a Leyda       Cerveja, vinhos e destilados   \n",
       "3  7798145140233_1.png  ViÃ±a Cobos       Cerveja, vinhos e destilados   \n",
       "4  8030423000730_1.png  Barone Montalto  Cerveja, vinhos e destilados   \n",
       "\n",
       "  CATEGORY_2 CATEGORY_3  \n",
       "0  Vinhos     Branco     \n",
       "1  Vinhos     Branco     \n",
       "2  Vinhos     Branco     \n",
       "3  Vinhos     Branco     \n",
       "4  Vinhos     Branco     "
      ]
     },
     "execution_count": 41,
     "metadata": {},
     "output_type": "execute_result"
    }
   ],
   "source": [
    "# df1 is the ouput\n",
    "df1.head()\n"
   ]
  },
  {
   "cell_type": "code",
   "execution_count": null,
   "metadata": {},
   "outputs": [],
   "source": []
  }
 ],
 "metadata": {
  "kernelspec": {
   "display_name": "Python 3",
   "language": "python",
   "name": "python3"
  },
  "language_info": {
   "codemirror_mode": {
    "name": "ipython",
    "version": 3
   },
   "file_extension": ".py",
   "mimetype": "text/x-python",
   "name": "python",
   "nbconvert_exporter": "python",
   "pygments_lexer": "ipython3",
   "version": "3.7.4"
  }
 },
 "nbformat": 4,
 "nbformat_minor": 4
}
