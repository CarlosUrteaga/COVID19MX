{
 "cells": [
  {
   "cell_type": "markdown",
   "metadata": {
    "colab_type": "text",
    "id": "gjExqusXX66z"
   },
   "source": [
    "\n",
    "# Exploracion de Datos CPGs Colombia\n",
    "\n",
    "- Base de datos utilizada: co_grability_public, co_grability_calculated_information (Snowflake)\n",
    "- Tablas: co_grability_public.order_product (as **op**), co_grability_calculated_information.orders (as **ci**), co_grability_public.products\n",
    "- Tiendas que pertenecen a CPGs: **ci**.store_type not in ('', 'restaurant', 'courier', 'whim', 'ultraservicio', 'rappi_prime', 'activations', 'prepaid_cards')"
   ]
  },
  {
   "cell_type": "markdown",
   "metadata": {
    "colab_type": "text",
    "id": "NiJvcvdqX660"
   },
   "source": [
    "### Store types usados:\n",
    "    \n",
    "market  \n",
    "express_tablet  \n",
    "subway  \n",
    "predetermined_advanced_payment  \n",
    "super  \n",
    "donation  \n",
    "express  \n",
    "infinite_usa"
   ]
  },
  {
   "cell_type": "markdown",
   "metadata": {
    "colab_type": "text",
    "id": "hJTcDyWWX660"
   },
   "source": [
    "## Explorando tablas"
   ]
  },
  {
   "cell_type": "markdown",
   "metadata": {
    "colab_type": "text",
    "id": "mpQxNEC3X662"
   },
   "source": [
    "### co_grability_public.order_product Table\n",
    "\n",
    "\n",
    "- order_id\n",
    "- product_id\n",
    "- units\n",
    "- unit_price\n",
    "- total_price\n",
    "- comments\n",
    "- store_id\n",
    "- sale_type\n",
    "- toppings\n",
    "- id\n",
    "- _fivetran_synced\n",
    "- _fivetran_deleted"
   ]
  },
  {
   "cell_type": "markdown",
   "metadata": {
    "colab_type": "text",
    "id": "veb-3WDwX663"
   },
   "source": [
    "### co_grability_calculated_information.orders Table\n",
    "\n",
    "- order_id\n",
    "- store_to_user_distance\n",
    "- reference_point_class\n",
    "- is_placed_now\n",
    "- _fivetran_deleted\n",
    "- storekeeper_type\n",
    "- delayed\n",
    "- hide_by_shopper_inactivity\n",
    "- manual_dynamic_rate\n",
    "- dispatch_attend\n",
    "- partner_order_state\n",
    "- zone_id\n",
    "- storekeeper_scheduled_for\n",
    "- _fivetran_synced\n",
    "- need_delivery_kit\n",
    "- delayed_at\n",
    "- reference_point_id\n",
    "- shipping\n",
    "- can_be_canceled\n",
    "- reference_point_name\n",
    "- reference_point_lng\n",
    "- need_be_analyzed\n",
    "- store_id\n",
    "- zone_earning_id\n",
    "- is_active\n",
    "- reference_point_lat\n",
    "- last_update_state\n",
    "- promised_shipping_price\n",
    "- reference_point_address\n",
    "- total_chat_messages\n",
    "- store_type\n",
    "- user_fraud_id\n",
    "- city_address_id\n",
    "- store_type_store\n",
    "- expediter_type\n",
    "- preferred_transport_type\n",
    "- date_last_chat_message\n",
    "- fraud_state\n",
    "- is_free\n",
    "- delivery_kit_size\n",
    "- visible_at\n",
    "- sender_last_chat_message\n",
    "- init_store_type\n",
    "- hash\n",
    "- need_check_timeout_payment"
   ]
  },
  {
   "cell_type": "markdown",
   "metadata": {
    "colab_type": "text",
    "id": "nihaAVaxX663"
   },
   "source": [
    "### co_grability_public.products Table\n",
    "\n",
    "- id\n",
    "- identification_required\n",
    "- discount_tag_color\n",
    "- cm_width\n",
    "- min_quantity_in_grams\n",
    "- _fivetran_deleted\n",
    "- description\n",
    "- created_at\n",
    "- sale_type\n",
    "- area_type_id\n",
    "- unit_type\n",
    "- type\n",
    "- presentation\n",
    "- _fivetran_synced\n",
    "- ean\n",
    "- hook_x\n",
    "- updated_at\n",
    "- hook_y\n",
    "- need_image\n",
    "- discount_description\n",
    "- trademark\n",
    "- non_refundable\n",
    "- has_toppings\n",
    "- category_product_type\n",
    "- step_quantity_in_grams\n",
    "- height\n",
    "- image\n",
    "- has_antismoking\n",
    "- cm_height\n",
    "- quantity\n",
    "- new_photo\n",
    "- active\n",
    "- maker\n",
    "- label\n",
    "- discount_type\n",
    "- deleted_at\n",
    "- controlled\n",
    "- retail_id\n",
    "- background\n",
    "- name\n",
    "- width\n",
    "- optional_quantity\n",
    "- max_quantity_in_grams\n",
    "- requires_medical_prescription\n",
    "- age_restriction\n",
    "- updated_by"
   ]
  },
  {
   "cell_type": "markdown",
   "metadata": {
    "colab_type": "text",
    "id": "Pal7TEK4X664"
   },
   "source": [
    "## Catalogo de Productos\n",
    "\n",
    "\n",
    "\n",
    "### Productos total\n",
    "\n",
    "- Productos con al menos una venta: 101277 6m:77k, 3m:63k\n",
    "- Productos con al menos 5 ventas: 55699 6m:42k, 3m:35k\n",
    "- Productos con al menos 10 ventas: 43238 6m:33k, 3m:27k\n",
    "- Productos con al menos 100 ventas: 16348 6m:12k, 3m:8600\n",
    "- Productos con al menos 1000 ventas: 3047\n",
    "- Productos con al menos 10000 ventas: 214\n",
    "\n",
    "\n",
    "\n",
    "- Total productos: 722115  \n",
    "- Total producton descripcion: 717686  \n",
    "- Total productos sin descripcion: 717686  \n",
    "\n",
    "\n",
    "- Total productos mercados: 113218  \n",
    "- productos mercados con descripcion: 113063\n",
    "\n",
    "\n",
    "```sql\n",
    "    select count(1) from (\n",
    "select op.product_id, count(op.order_id) as ord from co_grability_public.order_product as op inner join co_grability_calculated_information.orders as ci on op.order_id = ci.order_id\n",
    "     where ci.store_type not in ('', 'restaurant', 'courier', 'whim', 'ultraservicio', 'rappi_prime', 'activations', 'prepaid_cards')\n",
    "     group by op.product_id\n",
    "     having count(op.order_id) >= 1\n",
    ");\n",
    "\n",
    "select o.ord, count(o.ord) freq from (\n",
    "select op.product_id, count(op.order_id) as ord from co_grability_public.order_product as op inner join co_grability_calculated_information.orders as ci on op.order_id = ci.order_id\n",
    "     where ci.store_type not in ('', 'restaurant', 'courier', 'whim', 'ultraservicio', 'rappi_prime', 'activations', 'prepaid_cards')\n",
    "     group by op.product_id\n",
    "     having count(op.order_id) >= 1\n",
    ") as o\n",
    "group by o.ord;\n",
    "``` "
   ]
  },
  {
   "cell_type": "code",
   "execution_count": 0,
   "metadata": {
    "colab": {},
    "colab_type": "code",
    "id": "gBtO8VFSX665"
   },
   "outputs": [],
   "source": [
    "import csv\n",
    "import matplotlib.pyplot as plt\n",
    "import pandas as pd\n",
    "\n",
    "#prod_freq_df = pd.read_csv('orders_prod_q_freq.csv')\n",
    "#https://kanoki.org/2018/12/25/read-google-spreadsheet-data-into-pandas-dataframe/\n",
    "link = \"https://docs.google.com/spreadsheets/d/1qsb05Z9F75CpvGgYJgz33OiYehnXSSMFKss9w_nOPo8/export?format=csv&gid=1431159006\"\n",
    "\n",
    "\n",
    "prod_freq_df = pd.read_csv(link)\n"
   ]
  },
  {
   "cell_type": "code",
   "execution_count": 2,
   "metadata": {
    "colab": {
     "base_uri": "https://localhost:8080/",
     "height": 204
    },
    "colab_type": "code",
    "executionInfo": {
     "elapsed": 1097,
     "status": "ok",
     "timestamp": 1566928210637,
     "user": {
      "displayName": "Maximiliano Cristian Illbele",
      "photoUrl": "https://lh3.googleusercontent.com/a-/AAuE7mC7hnG6MeGyNZRJdsILX7vsHV1IXOMU3tUJnjHp=s64",
      "userId": "17219685055141640332"
     },
     "user_tz": 180
    },
    "id": "J1ifnac1tz0J",
    "outputId": "988de239-7f4e-42c2-d288-491176fee770"
   },
   "outputs": [
    {
     "data": {
      "text/html": [
       "<div>\n",
       "<style scoped>\n",
       "    .dataframe tbody tr th:only-of-type {\n",
       "        vertical-align: middle;\n",
       "    }\n",
       "\n",
       "    .dataframe tbody tr th {\n",
       "        vertical-align: top;\n",
       "    }\n",
       "\n",
       "    .dataframe thead th {\n",
       "        text-align: right;\n",
       "    }\n",
       "</style>\n",
       "<table border=\"1\" class=\"dataframe\">\n",
       "  <thead>\n",
       "    <tr style=\"text-align: right;\">\n",
       "      <th></th>\n",
       "      <th>ORD</th>\n",
       "      <th>FREQ</th>\n",
       "    </tr>\n",
       "  </thead>\n",
       "  <tbody>\n",
       "    <tr>\n",
       "      <th>0</th>\n",
       "      <td>208</td>\n",
       "      <td>59</td>\n",
       "    </tr>\n",
       "    <tr>\n",
       "      <th>1</th>\n",
       "      <td>57</td>\n",
       "      <td>273</td>\n",
       "    </tr>\n",
       "    <tr>\n",
       "      <th>2</th>\n",
       "      <td>1409</td>\n",
       "      <td>3</td>\n",
       "    </tr>\n",
       "    <tr>\n",
       "      <th>3</th>\n",
       "      <td>347</td>\n",
       "      <td>11</td>\n",
       "    </tr>\n",
       "    <tr>\n",
       "      <th>4</th>\n",
       "      <td>171</td>\n",
       "      <td>49</td>\n",
       "    </tr>\n",
       "  </tbody>\n",
       "</table>\n",
       "</div>"
      ],
      "text/plain": [
       "    ORD  FREQ\n",
       "0   208    59\n",
       "1    57   273\n",
       "2  1409     3\n",
       "3   347    11\n",
       "4   171    49"
      ]
     },
     "execution_count": 2,
     "metadata": {
      "tags": []
     },
     "output_type": "execute_result"
    }
   ],
   "source": [
    "prod_freq_df.head()"
   ]
  },
  {
   "cell_type": "code",
   "execution_count": 0,
   "metadata": {
    "colab": {},
    "colab_type": "code",
    "id": "sBcnSsvMX667"
   },
   "outputs": [],
   "source": [
    "bins = [0, 1, 5, 10, 50, 100, 1000, 10000, 175000]\n",
    "prod_freq_df['bin'] = pd.cut(prod_freq_df['ORD'], bins=bins)"
   ]
  },
  {
   "cell_type": "code",
   "execution_count": 4,
   "metadata": {
    "colab": {
     "base_uri": "https://localhost:8080/",
     "height": 187
    },
    "colab_type": "code",
    "executionInfo": {
     "elapsed": 1364,
     "status": "ok",
     "timestamp": 1566928210911,
     "user": {
      "displayName": "Maximiliano Cristian Illbele",
      "photoUrl": "https://lh3.googleusercontent.com/a-/AAuE7mC7hnG6MeGyNZRJdsILX7vsHV1IXOMU3tUJnjHp=s64",
      "userId": "17219685055141640332"
     },
     "user_tz": 180
    },
    "id": "QiJZ3lB1X66-",
    "outputId": "b1ea3650-2cb5-4d4a-c7a7-8fcc299ab9b7"
   },
   "outputs": [
    {
     "data": {
      "text/plain": [
       "bin\n",
       "(0, 1]             40641\n",
       "(1, 5]             47356\n",
       "(5, 10]            19210\n",
       "(10, 50]           31077\n",
       "(50, 100]           8844\n",
       "(100, 1000]        19556\n",
       "(1000, 10000]       5778\n",
       "(10000, 175000]      650\n",
       "Name: FREQ, dtype: int64"
      ]
     },
     "execution_count": 4,
     "metadata": {
      "tags": []
     },
     "output_type": "execute_result"
    }
   ],
   "source": [
    "freqs = prod_freq_df.groupby('bin')['FREQ'].agg('sum')\n",
    "freqs"
   ]
  },
  {
   "cell_type": "code",
   "execution_count": 5,
   "metadata": {
    "colab": {
     "base_uri": "https://localhost:8080/",
     "height": 373
    },
    "colab_type": "code",
    "executionInfo": {
     "elapsed": 1358,
     "status": "ok",
     "timestamp": 1566928210911,
     "user": {
      "displayName": "Maximiliano Cristian Illbele",
      "photoUrl": "https://lh3.googleusercontent.com/a-/AAuE7mC7hnG6MeGyNZRJdsILX7vsHV1IXOMU3tUJnjHp=s64",
      "userId": "17219685055141640332"
     },
     "user_tz": 180
    },
    "id": "SYebMjODX67C",
    "outputId": "4e6f728d-4b6d-47e5-ee6e-449df078964a"
   },
   "outputs": [
    {
     "data": {
      "text/plain": [
       "<matplotlib.axes._subplots.AxesSubplot at 0x7f3ceaf508d0>"
      ]
     },
     "execution_count": 5,
     "metadata": {
      "tags": []
     },
     "output_type": "execute_result"
    },
    {
     "data": {
      "image/png": "[encoded data removed]",
      "text/plain": [
       "<Figure size 432x288 with 1 Axes>"
      ]
     },
     "metadata": {
      "tags": []
     },
     "output_type": "display_data"
    }
   ],
   "source": [
    "freqs.plot(kind='bar')"
   ]
  },
  {
   "cell_type": "markdown",
   "metadata": {
    "colab_type": "text",
    "id": "TolUYdDNX67E"
   },
   "source": [
    "```sql    \n",
    "    select prod.id, prod.name, top_prods.ord from co_grability_public.products prod\n",
    "    inner join \n",
    "    (select op.product_id as p_id, count(op.order_id) as ord from co_grability_public.order_product as op inner join co_grability_calculated_information.orders as ci on op.order_id = ci.order_id\n",
    "     where ci.store_type not in ('', 'restaurant', 'courier', 'whim', 'ultraservicio', 'rappi_prime', 'activations', 'prepaid_cards')\n",
    "     group by op.product_id\n",
    "     order by count(op.order_id) desc\n",
    "     limit 100) as top_prods\n",
    "     on prod.id = top_prods.p_id\n",
    "     order by top_prods.ord desc\n",
    "```"
   ]
  },
  {
   "cell_type": "code",
   "execution_count": 6,
   "metadata": {
    "colab": {
     "base_uri": "https://localhost:8080/",
     "height": 204
    },
    "colab_type": "code",
    "executionInfo": {
     "elapsed": 2391,
     "status": "ok",
     "timestamp": 1566928211948,
     "user": {
      "displayName": "Maximiliano Cristian Illbele",
      "photoUrl": "https://lh3.googleusercontent.com/a-/AAuE7mC7hnG6MeGyNZRJdsILX7vsHV1IXOMU3tUJnjHp=s64",
      "userId": "17219685055141640332"
     },
     "user_tz": 180
    },
    "id": "htoUBU0PX67F",
    "outputId": "fc587918-8e2f-495d-a685-423eb94b4f4c"
   },
   "outputs": [
    {
     "data": {
      "text/html": [
       "<div>\n",
       "<style scoped>\n",
       "    .dataframe tbody tr th:only-of-type {\n",
       "        vertical-align: middle;\n",
       "    }\n",
       "\n",
       "    .dataframe tbody tr th {\n",
       "        vertical-align: top;\n",
       "    }\n",
       "\n",
       "    .dataframe thead th {\n",
       "        text-align: right;\n",
       "    }\n",
       "</style>\n",
       "<table border=\"1\" class=\"dataframe\">\n",
       "  <thead>\n",
       "    <tr style=\"text-align: right;\">\n",
       "      <th></th>\n",
       "      <th>MAKER</th>\n",
       "      <th>TOTAL</th>\n",
       "    </tr>\n",
       "  </thead>\n",
       "  <tbody>\n",
       "    <tr>\n",
       "      <th>0</th>\n",
       "      <td>NaN</td>\n",
       "      <td>3352360</td>\n",
       "    </tr>\n",
       "    <tr>\n",
       "      <th>1</th>\n",
       "      <td>Sin Marca</td>\n",
       "      <td>1872979</td>\n",
       "    </tr>\n",
       "    <tr>\n",
       "      <th>2</th>\n",
       "      <td>Grupo Nutresa</td>\n",
       "      <td>1550596</td>\n",
       "    </tr>\n",
       "    <tr>\n",
       "      <th>3</th>\n",
       "      <td>Productos Alimenticios Alpina</td>\n",
       "      <td>1387229</td>\n",
       "    </tr>\n",
       "    <tr>\n",
       "      <th>4</th>\n",
       "      <td>The Coca-Cola Company</td>\n",
       "      <td>1143159</td>\n",
       "    </tr>\n",
       "  </tbody>\n",
       "</table>\n",
       "</div>"
      ],
      "text/plain": [
       "                           MAKER    TOTAL\n",
       "0                            NaN  3352360\n",
       "1                      Sin Marca  1872979\n",
       "2                  Grupo Nutresa  1550596\n",
       "3  Productos Alimenticios Alpina  1387229\n",
       "4          The Coca-Cola Company  1143159"
      ]
     },
     "execution_count": 6,
     "metadata": {
      "tags": []
     },
     "output_type": "execute_result"
    }
   ],
   "source": [
    "#makers =  pd.read_csv('makers.csv')\n",
    "link_makers = \"https://docs.google.com/spreadsheets/d/1lE1QujX3cKTmOwkUIjZN7EAqTjsYoQSkD_GnlqeAwpw/export?format=csv&gid=1629867139\"\n",
    "  \n",
    "makers =  pd.read_csv(link_makers)\n",
    "  \n",
    "makers.head()"
   ]
  },
  {
   "cell_type": "code",
   "execution_count": 0,
   "metadata": {
    "colab": {},
    "colab_type": "code",
    "id": "aOJzfv6sxzm2"
   },
   "outputs": [],
   "source": [
    "link_trademarks = 'https://docs.google.com/spreadsheets/d/1_9LhIXyaoXLkh1HgmxGIJEiYPGDE9LSlYuNfQGJNhEc/export?format=csv&gid=453551303'\n",
    "  \n",
    "  \n",
    "#trademark = pd.read_csv('trademark.csv')\n",
    "\n",
    "trademark = pd.read_csv(link_trademarks)\n"
   ]
  },
  {
   "cell_type": "markdown",
   "metadata": {
    "colab_type": "text",
    "id": "hbIj9U7rX67H"
   },
   "source": [
    "### Top ventas por trademark"
   ]
  },
  {
   "cell_type": "code",
   "execution_count": 8,
   "metadata": {
    "colab": {
     "base_uri": "https://localhost:8080/",
     "height": 204
    },
    "colab_type": "code",
    "executionInfo": {
     "elapsed": 2707,
     "status": "ok",
     "timestamp": 1566928212271,
     "user": {
      "displayName": "Maximiliano Cristian Illbele",
      "photoUrl": "https://lh3.googleusercontent.com/a-/AAuE7mC7hnG6MeGyNZRJdsILX7vsHV1IXOMU3tUJnjHp=s64",
      "userId": "17219685055141640332"
     },
     "user_tz": 180
    },
    "id": "urbMT1a8X67H",
    "outputId": "b8e4a59a-2d74-4b03-cfe8-45c9d83e7bb1"
   },
   "outputs": [
    {
     "data": {
      "text/html": [
       "<div>\n",
       "<style scoped>\n",
       "    .dataframe tbody tr th:only-of-type {\n",
       "        vertical-align: middle;\n",
       "    }\n",
       "\n",
       "    .dataframe tbody tr th {\n",
       "        vertical-align: top;\n",
       "    }\n",
       "\n",
       "    .dataframe thead th {\n",
       "        text-align: right;\n",
       "    }\n",
       "</style>\n",
       "<table border=\"1\" class=\"dataframe\">\n",
       "  <thead>\n",
       "    <tr style=\"text-align: right;\">\n",
       "      <th></th>\n",
       "      <th>TRADEMARK</th>\n",
       "      <th>TOTAL</th>\n",
       "    </tr>\n",
       "  </thead>\n",
       "  <tbody>\n",
       "    <tr>\n",
       "      <th>0</th>\n",
       "      <td>Sin Marca</td>\n",
       "      <td>1772027</td>\n",
       "    </tr>\n",
       "    <tr>\n",
       "      <th>1</th>\n",
       "      <td>Grin</td>\n",
       "      <td>858983</td>\n",
       "    </tr>\n",
       "    <tr>\n",
       "      <th>2</th>\n",
       "      <td>Carulla</td>\n",
       "      <td>774665</td>\n",
       "    </tr>\n",
       "    <tr>\n",
       "      <th>3</th>\n",
       "      <td>Bimbo</td>\n",
       "      <td>700434</td>\n",
       "    </tr>\n",
       "    <tr>\n",
       "      <th>4</th>\n",
       "      <td>Alpina</td>\n",
       "      <td>683904</td>\n",
       "    </tr>\n",
       "  </tbody>\n",
       "</table>\n",
       "</div>"
      ],
      "text/plain": [
       "   TRADEMARK    TOTAL\n",
       "0  Sin Marca  1772027\n",
       "1       Grin   858983\n",
       "2    Carulla   774665\n",
       "3      Bimbo   700434\n",
       "4     Alpina   683904"
      ]
     },
     "execution_count": 8,
     "metadata": {
      "tags": []
     },
     "output_type": "execute_result"
    }
   ],
   "source": [
    "trademark.head()"
   ]
  },
  {
   "cell_type": "markdown",
   "metadata": {
    "colab_type": "text",
    "id": "BlpoiQs9X67K"
   },
   "source": [
    "Extracted from:  \n",
    "```sql\n",
    "select prod.trademark, count(DISTINCT op.order_id) as total\n",
    "from co_grability_public.order_product as op inner join co_grability_calculated_information.orders as ci on op.order_id = ci.order_id\n",
    "     inner join co_grability_public.products as prod on prod.id = op.product_id\n",
    "where ci.store_type not in ('', 'restaurant', 'courier', 'whim', 'ultraservicio', 'rappi_prime', 'activations', 'prepaid_cards')\n",
    "GROUP by prod.trademark\n",
    "order by total desc\n",
    "```"
   ]
  },
  {
   "cell_type": "markdown",
   "metadata": {
    "colab_type": "text",
    "id": "kY6OeOM4X67L"
   },
   "source": [
    "### Top ventas por Maker"
   ]
  },
  {
   "cell_type": "code",
   "execution_count": 9,
   "metadata": {
    "colab": {
     "base_uri": "https://localhost:8080/",
     "height": 204
    },
    "colab_type": "code",
    "executionInfo": {
     "elapsed": 2703,
     "status": "ok",
     "timestamp": 1566928212272,
     "user": {
      "displayName": "Maximiliano Cristian Illbele",
      "photoUrl": "https://lh3.googleusercontent.com/a-/AAuE7mC7hnG6MeGyNZRJdsILX7vsHV1IXOMU3tUJnjHp=s64",
      "userId": "17219685055141640332"
     },
     "user_tz": 180
    },
    "id": "ddTRkJ46X67M",
    "outputId": "0136be29-cc78-40e0-e675-7f96cc54d518"
   },
   "outputs": [
    {
     "data": {
      "text/html": [
       "<div>\n",
       "<style scoped>\n",
       "    .dataframe tbody tr th:only-of-type {\n",
       "        vertical-align: middle;\n",
       "    }\n",
       "\n",
       "    .dataframe tbody tr th {\n",
       "        vertical-align: top;\n",
       "    }\n",
       "\n",
       "    .dataframe thead th {\n",
       "        text-align: right;\n",
       "    }\n",
       "</style>\n",
       "<table border=\"1\" class=\"dataframe\">\n",
       "  <thead>\n",
       "    <tr style=\"text-align: right;\">\n",
       "      <th></th>\n",
       "      <th>MAKER</th>\n",
       "      <th>TOTAL</th>\n",
       "    </tr>\n",
       "  </thead>\n",
       "  <tbody>\n",
       "    <tr>\n",
       "      <th>0</th>\n",
       "      <td>NaN</td>\n",
       "      <td>3352360</td>\n",
       "    </tr>\n",
       "    <tr>\n",
       "      <th>1</th>\n",
       "      <td>Sin Marca</td>\n",
       "      <td>1872979</td>\n",
       "    </tr>\n",
       "    <tr>\n",
       "      <th>2</th>\n",
       "      <td>Grupo Nutresa</td>\n",
       "      <td>1550596</td>\n",
       "    </tr>\n",
       "    <tr>\n",
       "      <th>3</th>\n",
       "      <td>Productos Alimenticios Alpina</td>\n",
       "      <td>1387229</td>\n",
       "    </tr>\n",
       "    <tr>\n",
       "      <th>4</th>\n",
       "      <td>The Coca-Cola Company</td>\n",
       "      <td>1143159</td>\n",
       "    </tr>\n",
       "  </tbody>\n",
       "</table>\n",
       "</div>"
      ],
      "text/plain": [
       "                           MAKER    TOTAL\n",
       "0                            NaN  3352360\n",
       "1                      Sin Marca  1872979\n",
       "2                  Grupo Nutresa  1550596\n",
       "3  Productos Alimenticios Alpina  1387229\n",
       "4          The Coca-Cola Company  1143159"
      ]
     },
     "execution_count": 9,
     "metadata": {
      "tags": []
     },
     "output_type": "execute_result"
    }
   ],
   "source": [
    "makers.head()"
   ]
  },
  {
   "cell_type": "markdown",
   "metadata": {
    "colab_type": "text",
    "id": "n94cWvQIX67O"
   },
   "source": [
    "Extracted from:  \n",
    "```sql\n",
    "select prod.maker, count(DISTINCT op.order_id) as total\n",
    "from co_grability_public.order_product as op inner join co_grability_calculated_information.orders as ci on op.order_id = ci.order_id\n",
    "     inner join co_grability_public.products as prod on prod.id = op.product_id\n",
    "where ci.store_type not in ('', 'restaurant', 'courier', 'whim', 'ultraservicio', 'rappi_prime', 'activations', 'prepaid_cards')\n",
    "GROUP by prod.maker\n",
    "order by total desc\n",
    "```"
   ]
  },
  {
   "cell_type": "markdown",
   "metadata": {
    "colab_type": "text",
    "id": "MlQNj6HqX67P"
   },
   "source": [
    "### Top ordenes por ciudad"
   ]
  },
  {
   "cell_type": "code",
   "execution_count": 10,
   "metadata": {
    "colab": {
     "base_uri": "https://localhost:8080/",
     "height": 204
    },
    "colab_type": "code",
    "executionInfo": {
     "elapsed": 3361,
     "status": "ok",
     "timestamp": 1566928212935,
     "user": {
      "displayName": "Maximiliano Cristian Illbele",
      "photoUrl": "https://lh3.googleusercontent.com/a-/AAuE7mC7hnG6MeGyNZRJdsILX7vsHV1IXOMU3tUJnjHp=s64",
      "userId": "17219685055141640332"
     },
     "user_tz": 180
    },
    "id": "-eN6VzR8X67Q",
    "outputId": "d1d4c0c3-7534-4ed5-ec08-55ed7ceb9826"
   },
   "outputs": [
    {
     "data": {
      "text/html": [
       "<div>\n",
       "<style scoped>\n",
       "    .dataframe tbody tr th:only-of-type {\n",
       "        vertical-align: middle;\n",
       "    }\n",
       "\n",
       "    .dataframe tbody tr th {\n",
       "        vertical-align: top;\n",
       "    }\n",
       "\n",
       "    .dataframe thead th {\n",
       "        text-align: right;\n",
       "    }\n",
       "</style>\n",
       "<table border=\"1\" class=\"dataframe\">\n",
       "  <thead>\n",
       "    <tr style=\"text-align: right;\">\n",
       "      <th></th>\n",
       "      <th>TOTAL</th>\n",
       "      <th>CITY_ADDRESS_ID</th>\n",
       "    </tr>\n",
       "  </thead>\n",
       "  <tbody>\n",
       "    <tr>\n",
       "      <th>0</th>\n",
       "      <td>21317176</td>\n",
       "      <td>1.0</td>\n",
       "    </tr>\n",
       "    <tr>\n",
       "      <th>1</th>\n",
       "      <td>9514492</td>\n",
       "      <td>NaN</td>\n",
       "    </tr>\n",
       "    <tr>\n",
       "      <th>2</th>\n",
       "      <td>6192534</td>\n",
       "      <td>5.0</td>\n",
       "    </tr>\n",
       "    <tr>\n",
       "      <th>3</th>\n",
       "      <td>3588915</td>\n",
       "      <td>2.0</td>\n",
       "    </tr>\n",
       "    <tr>\n",
       "      <th>4</th>\n",
       "      <td>2796197</td>\n",
       "      <td>6.0</td>\n",
       "    </tr>\n",
       "  </tbody>\n",
       "</table>\n",
       "</div>"
      ],
      "text/plain": [
       "      TOTAL  CITY_ADDRESS_ID\n",
       "0  21317176              1.0\n",
       "1   9514492              NaN\n",
       "2   6192534              5.0\n",
       "3   3588915              2.0\n",
       "4   2796197              6.0"
      ]
     },
     "execution_count": 10,
     "metadata": {
      "tags": []
     },
     "output_type": "execute_result"
    }
   ],
   "source": [
    "#cities = pd.read_csv('cities.csv')\n",
    "\n",
    "link_cities = \"https://docs.google.com/spreadsheets/d/1F9OEs_cbCG0WUhTb-uMo7eg8deuSX2zsHao5euZk6Ps/export?format=csv&gid=678754798\"\n",
    "cities = pd.read_csv(link_cities)\n",
    "\n",
    "\n",
    "cities.head()"
   ]
  },
  {
   "cell_type": "markdown",
   "metadata": {
    "colab_type": "text",
    "id": "72JAV_89X67S"
   },
   "source": [
    "Extracted from:  \n",
    "```sql\n",
    "select count(*) as total, city_address_id from co_grability_calculated_information.orders GROUP by city_address_id order by total desc;\n",
    "```"
   ]
  },
  {
   "cell_type": "markdown",
   "metadata": {
    "colab_type": "text",
    "id": "xuhh4Hq6X67T"
   },
   "source": [
    "### Top 100 productos mas vendidos:\n",
    "    General\n",
    "    Product Group\n",
    "    Corredor\n",
    "    Store Type\n",
    "\n",
    "\n",
    "\n",
    "### Productos con Marca: Trademark 100898, Maker 60396, \"sin marca\": 2922\n",
    "```sql \n",
    "select count(1) from (select prod.id, prod.name, prod.trademark, prod.maker, top_prods.ord from co_grability_public.products prod\n",
    "    inner join \n",
    "    (select op.product_id as p_id, count(op.order_id) as ord from co_grability_public.order_product as op inner join co_grability_calculated_information.orders as ci on op.order_id = ci.order_id\n",
    "     where ci.store_type not in ('', 'restaurant', 'courier', 'whim', 'ultraservicio', 'rappi_prime', 'activations', 'prepaid_cards')\n",
    "     group by op.product_id) as top_prods\n",
    "     on prod.id = top_prods.p_id\n",
    "     where prod.trademark is not null and prod.trademark != '')\n",
    "```\n",
    "### Productos con EAN no vacio: 93830, \n",
    "### Productos con Unidad de Medida: \n",
    "### Productos con descripcion informativa\n",
    "\n",
    "### Ventas por trademark\n",
    "\n",
    "### Distribucion de precios en productos"
   ]
  },
  {
   "cell_type": "markdown",
   "metadata": {
    "colab_type": "text",
    "id": "HKho1nmFX67T"
   },
   "source": [
    "## Ordenes\n",
    "### Ordenes totales: 4959192 6m: 2718707, 3m:1617732\n",
    "```sql \n",
    "select count(1) from (select count(op.product_id) as prods from co_grability_public.order_product as op inner join co_grability_calculated_information.orders as ci on op.order_id = ci.order_id\n",
    "     where ci.store_type not in ('', 'restaurant', 'courier', 'whim', 'ultraservicio', 'rappi_prime', 'activations', 'prepaid_cards')\n",
    "     group by op.order_id)\n",
    "```\n",
    "### Promedio de cantidad de productos por orden\n",
    "### Distribucion de cantidad de productos por orden\n",
    "- 1 prod: 2094834 (42.25%) 6m:1026304 (37.74% expected:1148653), 3m:632152 (39.07% expected:683491 )\n",
    "- 2 prod: 932260 (18.79%) 6m:529612 (19.48% expected:510845), 3m:312798 (19.33% expected: 303971)\n",
    "- 3 prod: 560767\n",
    "- al menos 5: 1018073 (20.53%) 6m:638217 (23.47% expected:558150), 3m:362206 (22.39% expected:332120 )\n",
    "- al menos 10: 341230\n",
    "- al menos 15: 159121\n",
    "- al menos 20: 84871\n",
    "```sql \n",
    "select count(1) from (select count(op.product_id) as prods from co_grability_public.order_product as op inner join co_grability_calculated_information.orders as ci on op.order_id = ci.order_id\n",
    "     where ci.store_type not in ('', 'restaurant', 'courier', 'whim', 'ultraservicio', 'rappi_prime', 'activations', 'prepaid_cards')\n",
    "     group by op.order_id\n",
    "     having count(op.product_id) >= 20)\n",
    "     \n",
    "select prods, count(prods) freq from (\n",
    "    select count(op.product_id) as prods from co_grability_public.order_product as op inner join co_grability_calculated_information.orders as ci on op.order_id = ci.order_id\n",
    "     where ci.store_type not in ('', 'restaurant', 'courier', 'whim', 'ultraservicio', 'rappi_prime', 'activations', 'prepaid_cards')\n",
    "     group by op.order_id\n",
    "     having count(op.product_id) >= 1) as o\n",
    "    group by o.prods;\n",
    "```\n",
    "### Ticket promedio por store type\n"
   ]
  },
  {
   "cell_type": "code",
   "execution_count": 11,
   "metadata": {
    "colab": {
     "base_uri": "https://localhost:8080/",
     "height": 204
    },
    "colab_type": "code",
    "executionInfo": {
     "elapsed": 3812,
     "status": "ok",
     "timestamp": 1566928213391,
     "user": {
      "displayName": "Maximiliano Cristian Illbele",
      "photoUrl": "https://lh3.googleusercontent.com/a-/AAuE7mC7hnG6MeGyNZRJdsILX7vsHV1IXOMU3tUJnjHp=s64",
      "userId": "17219685055141640332"
     },
     "user_tz": 180
    },
    "id": "1C4TvLuPX67U",
    "outputId": "61de0857-fe98-4d25-da2d-63d47a799234"
   },
   "outputs": [
    {
     "data": {
      "text/plain": [
       "bin\n",
       "(0, 1]         5415956\n",
       "(1, 2]         2174300\n",
       "(2, 3]         1313798\n",
       "(3, 4]          822997\n",
       "(4, 5]          565782\n",
       "(5, 10]        1124677\n",
       "(10, 20]        538057\n",
       "(20, 50]        202764\n",
       "(50, 10000]      10725\n",
       "Name: FREQ, dtype: int64"
      ]
     },
     "execution_count": 11,
     "metadata": {
      "tags": []
     },
     "output_type": "execute_result"
    }
   ],
   "source": [
    "#orders_size_freq = pd.read_csv('orders_size_freq.csv') \n",
    "\n",
    "link_orders_size_freq = \"https://docs.google.com/spreadsheets/d/18Ewz4kFO1AA-jHf0cAJrUu11hA1Rnm3quibkZ04sR5k/export?format=csv&gid=1223647114\"\n",
    "\n",
    "orders_size_freq = pd.read_csv(link_orders_size_freq) \n",
    "\n",
    "\n",
    "bins = [0, 1, 2, 3, 4, 5, 10, 20, 50, 10000]\n",
    "orders_size_freq['bin'] = pd.cut(orders_size_freq['PRODS'], bins=bins)\n",
    "o_freqs = orders_size_freq.groupby('bin')['FREQ'].agg('sum')\n",
    "o_freqs"
   ]
  },
  {
   "cell_type": "code",
   "execution_count": 12,
   "metadata": {
    "colab": {
     "base_uri": "https://localhost:8080/",
     "height": 348
    },
    "colab_type": "code",
    "executionInfo": {
     "elapsed": 4098,
     "status": "ok",
     "timestamp": 1566928213682,
     "user": {
      "displayName": "Maximiliano Cristian Illbele",
      "photoUrl": "https://lh3.googleusercontent.com/a-/AAuE7mC7hnG6MeGyNZRJdsILX7vsHV1IXOMU3tUJnjHp=s64",
      "userId": "17219685055141640332"
     },
     "user_tz": 180
    },
    "id": "WwI5ed6lX67X",
    "outputId": "a3ea9784-79a7-4a83-9692-446ee2505868"
   },
   "outputs": [
    {
     "data": {
      "text/plain": [
       "<matplotlib.axes._subplots.AxesSubplot at 0x7f3ce8541048>"
      ]
     },
     "execution_count": 12,
     "metadata": {
      "tags": []
     },
     "output_type": "execute_result"
    },
    {
     "data": {
      "image/png": "[encoded data removed]",
      "text/plain": [
       "<Figure size 432x288 with 1 Axes>"
      ]
     },
     "metadata": {
      "tags": []
     },
     "output_type": "display_data"
    }
   ],
   "source": [
    "o_freqs.plot(kind='bar')"
   ]
  },
  {
   "cell_type": "markdown",
   "metadata": {
    "colab_type": "text",
    "id": "MkZnHyfjX67b"
   },
   "source": [
    "### Top prods order size = 1\n",
    "- Heets Amber Label Cartón,2089905461,39196\n",
    "- Obsequio,2089906192,31702\n",
    "- Heets Turquoise Label Carton,2089905462,25647\n",
    "- Heets Blue Label Carton,2089905463,23043\n",
    "- Cerveza Dorada Club Colombia 6UN,2089941662,18748\n",
    "- Regalo New User,2090135897,15541\n",
    "- Rappi Favor,1000000772,14525\n",
    "- Cerveza Botella Corona 6UN,535557,13919\n",
    "- Aguardiente Verde sin Azúcar Nectar,2089942703,12594\n",
    "- Whisky BuchananS Master 750 Mililitros,2089942307,12254\n",
    "- Whisky BuchananS 12 Años Deluxe 750 Mililitros,2089941564,11981\n",
    "- Cerveza Lata Poker 6UN,2089942820,11959\n",
    "- Heets Turquoise Label,2089904397,11827\n",
    "- Heets Amber Label Tabaco,2089904396,11773\n",
    "- Aguardiente Antioqueño Sin Azucar Azul 750,2089942020,11768\n",
    "- Banano Criollo ,1253,9609\n",
    "- Cigarrillos Rojo Marlboro,140072,9539\n",
    "- Cerveza Lata Poker 2 Sixpacks 12UN,2089945538,9333\n",
    "- Cerveza Dorada SixPack Club Colombia,102016,9225\n",
    "- Sampling,990000925,8356"
   ]
  },
  {
   "cell_type": "markdown",
   "metadata": {
    "colab_type": "text",
    "id": "aAdWdOBIX67c"
   },
   "source": [
    "### Top prods order size = 2\n",
    "- Coca - Cola Original x 1.5 Litros,183876,11763\n",
    "- Cigarrillos Rojo Marlboro,140072,11214\n",
    "- Cerveza Lata Poker 6UN,2089942820,10460\n",
    "- Coca - Cola Sin Azucar x 1.5 Litros,185260,10447\n",
    "- Coca - Cola Original 2.5L,477299,9768\n",
    "- Cerveza Dorada Club Colombia 6UN,2089941662,8438\n",
    "- Cigarrillos Rojo Marlboro 20UN,2089942807,8239\n",
    "- Doritos Mega Queso Familiar ,612313,7527\n",
    "- Cerveza Botella Corona 6UN,535557,7392\n",
    "- Cigarrillos Gold Marlboro,249479,7196\n",
    "- Pedialyte 60 Uva,333036529,6843\n",
    "- Aguardiente Verde sin Azúcar Nectar,2089942703,6540\n",
    "- Banano Criollo ,1253,6519\n",
    "- Cigarrillos Marlboro Ice Fusion,506940,6309\n",
    "- Cerveza Lata Poker 2 Sixpacks 12UN,2089945538,6036\n",
    "- Cerveza Dorada SixPack Club Colombia,102016,5622\n",
    "- Pan Tajado Artesano Bimbo Pan Artesano,127330,5087\n",
    "- Gatorade De Frutas Tropicales,525890,4899\n",
    "- Heets Amber Label Cartón,2089905461,4697\n",
    "- Aguardiente Antioqueño Sin Azucar Azul 750,2089942020,4497"
   ]
  },
  {
   "cell_type": "markdown",
   "metadata": {
    "colab_type": "text",
    "id": "egAmEl4TX67d"
   },
   "source": [
    "### Top prods order size >=5\n",
    "- Banano Criollo ,1253,134734\n",
    "- Tomate Chonto a Granel ,1098,65504\n",
    "- Cebolla Cabezona,1297,60314\n",
    "- Pan Tajado Artesano Bimbo Pan Artesano,127330,57728\n",
    "- Queso Finesse Alpina,813514,51107\n",
    "- Piña Gold,1072,44303\n",
    "- Tomate Carulla,1417,42475\n",
    "- Pepino Cohombro ,1186,38984\n",
    "- Manzana Verde ,1231,38872\n",
    "- Cilantro Fresco,894373,36561\n",
    "- Jamón de Cerdo Pietran,342208,36145\n",
    "- Jamón de Pavo  Pietran,46797,35684\n",
    "- Aguacate Hass ,1532,33684\n",
    "- Coca - Cola Sin Azucar x 1.5 Litros,185260,31858\n",
    "- Limón Tahiti,594130,30546\n",
    "- Zanahoria ,1141,29043\n",
    "- Salchicha Ranchera,1047206,28941\n",
    "- Queso Campesino Alpina,599875,27341\n",
    "- Fresas Xilema,1720,27324\n",
    "- Pimentón ,1189,25848"
   ]
  },
  {
   "cell_type": "markdown",
   "metadata": {
    "colab_type": "text",
    "id": "1Mx4latvX67f"
   },
   "source": [
    "```sql \n",
    "select p.name, p.id, alone_prods.ords from co_grability_public.products p join (\n",
    "select op1.product_id, count(op1.order_id) as ords from co_grability_public.order_product as op1 join (\n",
    "select op.order_id from co_grability_public.order_product as op inner join co_grability_calculated_information.orders as ci on op.order_id = ci.order_id\n",
    "    where ci.store_type not in ('', 'restaurant', 'courier', 'whim', 'ultraservicio', 'rappi_prime', 'activations', 'prepaid_cards')\n",
    "    group by op.order_id\n",
    "    having count(op.product_id) >= 5) op_s\n",
    "    on op1.order_id = op_s.order_id\n",
    "    group by op1.product_id\n",
    "    order by count(op1.order_id) desc\n",
    "    limit 20) alone_prods\n",
    "    on p.id = alone_prods.product_id\n",
    "    order by alone_prods.ords desc;\n",
    "```"
   ]
  },
  {
   "cell_type": "markdown",
   "metadata": {
    "colab_type": "text",
    "id": "IxaUZlDeX67g"
   },
   "source": [
    "### Ordenes por momento del dia\n",
    "```sql\n",
    "select cast(ci.visible_at as date),\n",
    "       sum(case when date_part(hour, ci.visible_at) < 13 then 1 else 0 end) as Morning,\n",
    "       sum(case when date_part(hour, ci.visible_at) >= 13 and date_part(hour, ci.visible_at) < 19 then 1 else 0 end) as Afternoon,\n",
    "       sum(case when date_part(hour, ci.visible_at) >= 19 then 1 else 0 end) as Evening\n",
    "from co_grability_public.order_product as op inner join co_grability_calculated_information.orders as ci on op.order_id = ci.order_id\n",
    "    where ci.store_type not in ('', 'restaurant', 'courier', 'whim', 'ultraservicio', 'rappi_prime', 'activations', 'prepaid_cards')\n",
    "group by cast(ci.visible_at as date)\n",
    "order by cast(ci.visible_at as date)\n",
    "```"
   ]
  },
  {
   "cell_type": "code",
   "execution_count": 13,
   "metadata": {
    "colab": {
     "base_uri": "https://localhost:8080/",
     "height": 204
    },
    "colab_type": "code",
    "executionInfo": {
     "elapsed": 4740,
     "status": "ok",
     "timestamp": 1566928214329,
     "user": {
      "displayName": "Maximiliano Cristian Illbele",
      "photoUrl": "https://lh3.googleusercontent.com/a-/AAuE7mC7hnG6MeGyNZRJdsILX7vsHV1IXOMU3tUJnjHp=s64",
      "userId": "17219685055141640332"
     },
     "user_tz": 180
    },
    "id": "qcKDB7EdX67g",
    "outputId": "a23737a5-baf3-4a65-a424-afef97fe8021"
   },
   "outputs": [
    {
     "data": {
      "text/html": [
       "<div>\n",
       "<style scoped>\n",
       "    .dataframe tbody tr th:only-of-type {\n",
       "        vertical-align: middle;\n",
       "    }\n",
       "\n",
       "    .dataframe tbody tr th {\n",
       "        vertical-align: top;\n",
       "    }\n",
       "\n",
       "    .dataframe thead th {\n",
       "        text-align: right;\n",
       "    }\n",
       "</style>\n",
       "<table border=\"1\" class=\"dataframe\">\n",
       "  <thead>\n",
       "    <tr style=\"text-align: right;\">\n",
       "      <th></th>\n",
       "      <th>CAST(CI.VISIBLE_AT AS DATE)</th>\n",
       "      <th>MORNING</th>\n",
       "      <th>AFTERNOON</th>\n",
       "      <th>EVENING</th>\n",
       "    </tr>\n",
       "  </thead>\n",
       "  <tbody>\n",
       "    <tr>\n",
       "      <th>0</th>\n",
       "      <td>2017-06-30</td>\n",
       "      <td>2427</td>\n",
       "      <td>2116</td>\n",
       "      <td>2060</td>\n",
       "    </tr>\n",
       "    <tr>\n",
       "      <th>1</th>\n",
       "      <td>2017-07-01</td>\n",
       "      <td>3981</td>\n",
       "      <td>4027</td>\n",
       "      <td>2705</td>\n",
       "    </tr>\n",
       "    <tr>\n",
       "      <th>2</th>\n",
       "      <td>2017-07-02</td>\n",
       "      <td>2597</td>\n",
       "      <td>3034</td>\n",
       "      <td>2763</td>\n",
       "    </tr>\n",
       "    <tr>\n",
       "      <th>3</th>\n",
       "      <td>2017-07-03</td>\n",
       "      <td>1844</td>\n",
       "      <td>3001</td>\n",
       "      <td>1810</td>\n",
       "    </tr>\n",
       "    <tr>\n",
       "      <th>4</th>\n",
       "      <td>2017-07-04</td>\n",
       "      <td>1792</td>\n",
       "      <td>2002</td>\n",
       "      <td>1601</td>\n",
       "    </tr>\n",
       "  </tbody>\n",
       "</table>\n",
       "</div>"
      ],
      "text/plain": [
       "  CAST(CI.VISIBLE_AT AS DATE)  MORNING  AFTERNOON  EVENING\n",
       "0                  2017-06-30     2427       2116     2060\n",
       "1                  2017-07-01     3981       4027     2705\n",
       "2                  2017-07-02     2597       3034     2763\n",
       "3                  2017-07-03     1844       3001     1810\n",
       "4                  2017-07-04     1792       2002     1601"
      ]
     },
     "execution_count": 13,
     "metadata": {
      "tags": []
     },
     "output_type": "execute_result"
    }
   ],
   "source": [
    "#orders_time_df = pd.read_csv('orders_by_time_per_date.csv')\n",
    "\n",
    "link_orders_time_df = \"https://docs.google.com/spreadsheets/d/1_IZs4q9PMQB8pXWm600uRyTwUiSP2x7x9zBG28jeEhM/export?format=csv&gid=2135970671\"\n",
    "orders_time_df = pd.read_csv(link_orders_time_df)\n",
    "\n",
    "\n",
    "orders_time_df.head()"
   ]
  },
  {
   "cell_type": "code",
   "execution_count": 0,
   "metadata": {
    "colab": {},
    "colab_type": "code",
    "id": "TIkYa6fwX67m"
   },
   "outputs": [],
   "source": [
    "plt.rcParams['figure.figsize'] = [15, 10]"
   ]
  },
  {
   "cell_type": "code",
   "execution_count": 15,
   "metadata": {
    "colab": {
     "base_uri": "https://localhost:8080/",
     "height": 612
    },
    "colab_type": "code",
    "executionInfo": {
     "elapsed": 5590,
     "status": "ok",
     "timestamp": 1566928215185,
     "user": {
      "displayName": "Maximiliano Cristian Illbele",
      "photoUrl": "https://lh3.googleusercontent.com/a-/AAuE7mC7hnG6MeGyNZRJdsILX7vsHV1IXOMU3tUJnjHp=s64",
      "userId": "17219685055141640332"
     },
     "user_tz": 180
    },
    "id": "QdBbl-hXX67o",
    "outputId": "93bbfaaf-ceae-41c5-dc34-291a29de532e"
   },
   "outputs": [
    {
     "data": {
      "text/plain": [
       "<matplotlib.axes._subplots.AxesSubplot at 0x7f3ce84a0320>"
      ]
     },
     "execution_count": 15,
     "metadata": {
      "tags": []
     },
     "output_type": "execute_result"
    },
    {
     "data": {
      "image/png": "[encoded data removed]",
      "text/plain": [
       "<Figure size 1080x720 with 1 Axes>"
      ]
     },
     "metadata": {
      "tags": []
     },
     "output_type": "display_data"
    }
   ],
   "source": [
    "orders_time_df.plot()"
   ]
  },
  {
   "cell_type": "code",
   "execution_count": 16,
   "metadata": {
    "colab": {
     "base_uri": "https://localhost:8080/",
     "height": 68
    },
    "colab_type": "code",
    "executionInfo": {
     "elapsed": 5586,
     "status": "ok",
     "timestamp": 1566928215186,
     "user": {
      "displayName": "Maximiliano Cristian Illbele",
      "photoUrl": "https://lh3.googleusercontent.com/a-/AAuE7mC7hnG6MeGyNZRJdsILX7vsHV1IXOMU3tUJnjHp=s64",
      "userId": "17219685055141640332"
     },
     "user_tz": 180
    },
    "id": "Nz8k1gMgX67r",
    "outputId": "1fffc253-a04a-41b9-a866-67f69195880f"
   },
   "outputs": [
    {
     "name": "stdout",
     "output_type": "stream",
     "text": [
      "Total Morning orders 11793915 34.26633501821833\n",
      "Total Afternoon orders 13596400 39.50331992741202\n",
      "Total Evening orders 9028058 26.230345054369653\n"
     ]
    }
   ],
   "source": [
    "total_m = orders_time_df.MORNING.sum()\n",
    "total_a = orders_time_df.AFTERNOON.sum()\n",
    "total_e = orders_time_df.EVENING.sum()\n",
    "total = total_m + total_a + total_e\n",
    "print('Total Morning orders', total_m, total_m/total*100)\n",
    "print('Total Afternoon orders', total_a, total_a/total*100)\n",
    "print('Total Evening orders', total_e, total_e/total*100)"
   ]
  },
  {
   "cell_type": "markdown",
   "metadata": {
    "colab_type": "text",
    "id": "wTe7Ze_dX67t"
   },
   "source": [
    "### Storetypes\n",
    "- Mayoristas: pricesmart\n",
    "- Grandes: hiper, super, \n",
    "- Express: express, express_exito\n",
    "- Licores: liquor, liquor_store, liquor_premium, liquor_wine, special_liquor\n",
    "- Farmacia: super_farma, Farmatodo, Farmatodo_big, offers_farmacia, farmacia\n",
    "- Otros: el resto"
   ]
  },
  {
   "cell_type": "markdown",
   "metadata": {
    "colab_type": "text",
    "id": "Gta0xnHHX67u"
   },
   "source": [
    "#### Ordenes por Storetype\n",
    "‘‘‘sql\n",
    "select cast(ci.visible_at as date),\n",
    "       sum(case when ci.store_type_store in ('pricesmart') then 1 else 0 end) as mayoristas,\n",
    "       sum(case when ci.store_type_store in ('hiper', 'super') then 1 else 0 end) as grandes,\n",
    "       sum(case when ci.store_type_store in ('express', 'express_exito') then 1 else 0 end) as express,\n",
    "       sum(case when ci.store_type_store in ('liquor', 'liquor_store', ' liquor_premium', 'liquor_wine', 'special_liquor') then 1 else 0 end) as licores,\n",
    "       sum(case when ci.store_type_store in ('super_farma', 'Farmatodo', ' Farmatodo_big', 'offers_farmacia', 'farmacia') then 1 else 0 end) as farmacia\n",
    "from co_grability_public.order_product as op inner join co_grability_calculated_information.orders as ci on op.order_id = ci.order_id\n",
    "    where ci.store_type_store not in ('', 'restaurant', 'courier', 'whim', 'ultraservicio', 'rappi_prime', 'activations', 'prepaid_cards')\n",
    "group by cast(ci.visible_at as date)\n",
    "order by cast(ci.visible_at as date)\n",
    "‘‘‘"
   ]
  },
  {
   "cell_type": "code",
   "execution_count": 17,
   "metadata": {
    "colab": {
     "base_uri": "https://localhost:8080/",
     "height": 119
    },
    "colab_type": "code",
    "executionInfo": {
     "elapsed": 5861,
     "status": "ok",
     "timestamp": 1566928215467,
     "user": {
      "displayName": "Maximiliano Cristian Illbele",
      "photoUrl": "https://lh3.googleusercontent.com/a-/AAuE7mC7hnG6MeGyNZRJdsILX7vsHV1IXOMU3tUJnjHp=s64",
      "userId": "17219685055141640332"
     },
     "user_tz": 180
    },
    "id": "IAIy7c7wX67v",
    "outputId": "8e701a6b-682f-4e47-a6dd-f963da5bebbb"
   },
   "outputs": [
    {
     "data": {
      "text/plain": [
       "MAYORISTAS     1316180\n",
       "GRANDES       15522785\n",
       "EXPRESS       14836152\n",
       "LICORES        1694886\n",
       "FARMACIA       1841647\n",
       "dtype: int64"
      ]
     },
     "execution_count": 17,
     "metadata": {
      "tags": []
     },
     "output_type": "execute_result"
    }
   ],
   "source": [
    "#orders_by_storetype_df = pd.read_csv('order_by_store_type_by_date.csv')\n",
    "\n",
    "link_orders_by_storetype = \"https://docs.google.com/spreadsheets/d/1msSjMhYtBwxtU01xliYOMRSxD9xBcwiuf8UQIlc7g_E/export?format=csv&gid=1831325371\"\n",
    "\n",
    "\n",
    "\n",
    "orders_by_storetype_df = pd.read_csv(link_orders_by_storetype)\n",
    "  \n",
    "orders_by_storetype_df.sum()"
   ]
  },
  {
   "cell_type": "markdown",
   "metadata": {
    "colab_type": "text",
    "id": "avfWPcPbX67x"
   },
   "source": [
    "## Stockouts\n",
    "### Ordenes con stockout\n",
    "### Top 100 productos con stockout\n",
    "\n",
    "Acceso a product sustitutes y product sustitutions\n",
    "\n",
    "```sql \n",
    "select sp.product_id \"product_missed\",\n",
    "    count(sp.order_id) \"replacements\",\n",
    "    listagg(sp2.product_id, ',') \"product_added\"\n",
    "    --, sp.timestamp, sp.store_id, sp.event_type\n",
    "    from co_pg_ms_shopper_events_public.shopper_products_events sp left join co_pg_ms_shopper_events_public.shopper_products_events sp2 on sp.order_id = sp2.order_id and sp.timestamp >= sp2.timestamp\n",
    "    where sp.event_type = 'product_substituted' and sp2.event_type = 'product_added' \n",
    "    group by sp.product_id \n",
    "    order by count(sp.order_id) desc\n",
    "```\n",
    "\n",
    "- Productos con candidatos sustitutos: 4000\n",
    "\n"
   ]
  },
  {
   "cell_type": "markdown",
   "metadata": {
    "colab_type": "text",
    "id": "0cytPkENX67y"
   },
   "source": [
    "## Shoppers\n",
    "### Shoppers por tienda\n",
    "### Ordenes por shopper\n",
    "\n",
    "acceso a shopper events"
   ]
  },
  {
   "cell_type": "markdown",
   "metadata": {
    "colab_type": "text",
    "id": "gqFnF81vX67y"
   },
   "source": [
    "## Tiendas\n",
    "Tiendas por store type\n",
    "tiendas por marca\n"
   ]
  },
  {
   "cell_type": "markdown",
   "metadata": {
    "colab_type": "text",
    "id": "fEo_Px7VX67z"
   },
   "source": [
    "## Busquedas\n",
    "Top 100 strings mas buscados\n",
    "Resultados coherentes para el top 100\n",
    "\n",
    "query modification rate: cuantas queries antes de agregar al carrito\n",
    "scroll rate: cuantas veces scrollea hasta agregar al carrito\n",
    "distribucion de clicks en c/posicion"
   ]
  },
  {
   "cell_type": "markdown",
   "metadata": {
    "colab_type": "text",
    "id": "0k6Opu9xX67z"
   },
   "source": [
    "## Usuarios\n",
    "- Registrados\n",
    "- Con al menos una compra\n",
    "- con al menos una compra en los ultimos 3 meses\n",
    "- Con al menos 2 compras\n",
    "- Cantidad de tiendas en las que compra\n",
    "- marcas que consume\n",
    "- Usuarios con compras en restaurantes pero no en CPGs"
   ]
  },
  {
   "cell_type": "markdown",
   "metadata": {
    "colab_type": "text",
    "id": "1iLF-yEAX670"
   },
   "source": [
    "## Recomendaciones\n",
    "Resultados coherentes para el top 100"
   ]
  },
  {
   "cell_type": "markdown",
   "metadata": {
    "colab_type": "text",
    "id": "mzEuMOqYX670"
   },
   "source": [
    "Recom \n",
    "similares:\n",
    "    filtrar por mismo product group\n",
    "    enriquecer con sustitutos\n",
    "sharks:\n",
    "    enriquecer con favoritos\n",
    "    filtrar los ya agregados"
   ]
  },
  {
   "cell_type": "markdown",
   "metadata": {
    "colab_type": "text",
    "id": "1XozjxyeX671"
   },
   "source": [
    "Atributos\n",
    "Brand \n",
    "Price\n",
    "Flavor\n",
    "Size\n",
    "Packing\n",
    "Diet Info\n",
    "Unidad de medida\n",
    "Ciclo de recompra"
   ]
  },
  {
   "cell_type": "code",
   "execution_count": 0,
   "metadata": {
    "colab": {},
    "colab_type": "code",
    "id": "S9giCdOdMI3C"
   },
   "outputs": [],
   "source": []
  }
 ],
 "metadata": {
  "colab": {
   "collapsed_sections": [],
   "name": "Data Exploration and Insights.ipynb",
   "provenance": [],
   "version": "0.3.2"
  },
  "kernelspec": {
   "display_name": "Python 3",
   "language": "python",
   "name": "python3"
  },
  "language_info": {
   "codemirror_mode": {
    "name": "ipython",
    "version": 3
   },
   "file_extension": ".py",
   "mimetype": "text/x-python",
   "name": "python",
   "nbconvert_exporter": "python",
   "pygments_lexer": "ipython3",
   "version": "3.8.3"
  }
 },
 "nbformat": 4,
 "nbformat_minor": 1
}
