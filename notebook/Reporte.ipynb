{
 "cells": [
  {
   "cell_type": "markdown",
   "metadata": {},
   "source": [
    "# Daily Report"
   ]
  },
  {
   "cell_type": "markdown",
   "metadata": {},
   "source": [
    "We replicate the numbers of cases published in the daily meeting"
   ]
  },
  {
   "cell_type": "code",
   "execution_count": 1,
   "metadata": {},
   "outputs": [
    {
     "name": "stdout",
     "output_type": "stream",
     "text": [
      "Using matplotlib backend: MacOSX\n"
     ]
    }
   ],
   "source": [
    "import glob\n",
    "import os\n",
    "import pandas as pd\n",
    "import numpy as np\n",
    "import random\n",
    "import matplotlib.pyplot as plt\n",
    "import datetime\n",
    "%matplotlib \n"
   ]
  },
  {
   "cell_type": "code",
   "execution_count": null,
   "metadata": {
    "scrolled": true
   },
   "outputs": [],
   "source": [
    "\n",
    "strpath = '../src/'\n",
    "m = []\n",
    "if not os.path.isfile('report_data1.csv'):\n",
    "    for filename in glob.glob(strpath+\"*\"):\n",
    "        if filename.find('.csv')>0:\n",
    "            date = filename[7:9] +'-' + filename[11:13] +'-' +filename[13:15]\n",
    "            df = pd.read_csv(filename, encoding = \"ISO-8859-1\",dtype =str)\n",
    "            df['FECHA_ACTUALIZACION1'] = pd.to_datetime(df['FECHA_ACTUALIZACION'],)\n",
    "            df.FECHA_INGRESO = pd.to_datetime(df['FECHA_INGRESO'],)\n",
    "            df.FECHA_SINTOMAS = pd.to_datetime(df['FECHA_SINTOMAS'],)\n",
    "            df['deltaSintomas']=df.FECHA_ACTUALIZACION1-df.FECHA_SINTOMAS \n",
    "            df['deltaSintomas'] = df.deltaSintomas.dt.days\n",
    "            df.loc[df.FECHA_DEF=='9999-99-99', 'FECHA_DEF'] = '2050-12-31'\n",
    "            df.FECHA_DEF = pd.to_datetime(df['FECHA_DEF'],)\n",
    "            m.append([df.FECHA_ACTUALIZACION.unique()[0]\n",
    "                      ,df[(df.deltaSintomas<14)& (df.RESULTADO=='1')]['ID_REGISTRO'].count()\n",
    "                  ,df[df.RESULTADO=='1']['ID_REGISTRO'].count()\n",
    "                  ,df[(df.FECHA_DEF!='2050-12-31')&(df.RESULTADO=='1')]['ID_REGISTRO'].count()\n",
    "                  ,df[df.RESULTADO=='3']['ID_REGISTRO'].count()\n",
    "                  ,df.ID_REGISTRO.nunique()\n",
    "                  ,len(df[(df.deltaSintomas<14)& (df.RESULTADO=='3')])\n",
    "                  ,len(df[(df.FECHA_DEF<'2020-12-31')&(df.RESULTADO=='3')])\n",
    "                  ,len(df[(df.FECHA_DEF<'2020-12-31')&(df.RESULTADO=='2')])\n",
    "                     ]\n",
    "            )\n",
    "    df = pd.DataFrame(m)\n",
    "    df.columns = ['date', 'activos', 'positivos', 'muertes', 'sospechosos', 'muestra', 'activos sospechosos', 'defunciones sospechosos', 'muertos negativos']\n",
    "    df = df.sort_values(by='date', ascending=False)\n",
    "    df = df.reset_index(drop=True)\n",
    "    df.to_csv('report_data.csv', index=False)\n",
    "else:\n",
    "    df0 = pd.read_csv('report_data.csv')\n",
    "    df0.date = pd.to_datetime(df0['date'], format='%Y-%m-%d')\n",
    "    lastdateRecord = df0.date.max()\n",
    "    deltaT = datetime.datetime.now() - lastdateRecord\n",
    "    for i in range(1,deltaT.days+1) :\n",
    "        filename = (lastdateRecord + datetime.timedelta(days=1)).strftime(\"%Y%m%d\")+'.csv'\n",
    "        df = pd.read_csv(strpath+filename, encoding = \"ISO-8859-1\",dtype =str)\n",
    "        df['FECHA_ACTUALIZACION1'] = pd.to_datetime(df['FECHA_ACTUALIZACION'],)\n",
    "        df.FECHA_INGRESO = pd.to_datetime(df['FECHA_INGRESO'],)\n",
    "        df.FECHA_SINTOMAS = pd.to_datetime(df['FECHA_SINTOMAS'],)\n",
    "        df['deltaSintomas']=df.FECHA_ACTUALIZACION1-df.FECHA_SINTOMAS \n",
    "        df['deltaSintomas'] = df.deltaSintomas.dt.days\n",
    "        df.loc[df.FECHA_DEF=='9999-99-99', 'FECHA_DEF'] = '2050-12-31'\n",
    "        df.FECHA_DEF = pd.to_datetime(df['FECHA_DEF'],)\n",
    "        m.append([df.FECHA_ACTUALIZACION.unique()[0]\n",
    "                  ,df[(df.deltaSintomas<14)& (df.RESULTADO=='1')]['ID_REGISTRO'].count()\n",
    "              ,df[df.RESULTADO=='1']['ID_REGISTRO'].count()\n",
    "              ,df[(df.FECHA_DEF!='2050-12-31')&(df.RESULTADO=='1')]['ID_REGISTRO'].count()\n",
    "              ,df[df.RESULTADO=='3']['ID_REGISTRO'].count()\n",
    "              ,df.ID_REGISTRO.nunique()\n",
    "              ,len(df[(df.deltaSintomas<14)& (df.RESULTADO=='3')])\n",
    "              ,len(df[(df.FECHA_DEF<'2020-12-31')&(df.RESULTADO=='3')])\n",
    "              ,len(df[(df.FECHA_DEF<'2020-12-31')&(df.RESULTADO=='2')])\n",
    "                 ]\n",
    "        )\n",
    "    df1 = pd.DataFrame(m)\n",
    "    df1.columns = ['date', 'activos', 'positivos', 'muertes', 'sospechosos', 'muestra', 'activos sospechosos', 'defunciones sospechosos', 'muertos negativos']\n",
    "    df1 = df1.sort_values(by='date', ascending=False)\n",
    "    frames = [df1,df0]\n",
    "    df = pd.concat(frames)\n",
    "    df = df.reset_index(drop=True)\n",
    "    df.to_csv('report_data.csv', index=False)"
   ]
  },
  {
   "cell_type": "code",
   "execution_count": null,
   "metadata": {},
   "outputs": [],
   "source": [
    "column = df.columns[1:]\n",
    "for each in column:\n",
    "    column_name = '∆ '+ each\n",
    "    df[column_name] = df[each] - df[each].shift(-1)\n",
    "    column_name1 = '% '+ each\n",
    "    df[column_name1] = (df[column_name]/ df[column_name].shift(-1))*100"
   ]
  },
  {
   "cell_type": "code",
   "execution_count": null,
   "metadata": {},
   "outputs": [],
   "source": [
    "df.date = pd.to_datetime(df['date'], format='%Y-%m-%d')\n",
    "df[['date', 'activos', 'positivos', 'muertes', 'sospechosos',\n",
    "       'activos sospechosos', 'defunciones sospechosos', 'muertos negativos',]].set_index('date').plot(figsize=(20,10))"
   ]
  },
  {
   "cell_type": "code",
   "execution_count": null,
   "metadata": {},
   "outputs": [],
   "source": [
    "df.date = pd.to_datetime(df['date'], format='%Y-%m-%d')\n",
    "df[['date', 'activos', 'positivos', 'muertes', 'sospechosos',\n",
    "       'activos sospechosos', 'defunciones sospechosos', 'muertos negativos',]].set_index('date').plot(figsize=(20,10))"
   ]
  },
  {
   "cell_type": "code",
   "execution_count": null,
   "metadata": {},
   "outputs": [],
   "source": [
    "df.date = pd.to_datetime(df['date'], format='%Y-%m-%d')\n",
    "df[['date', 'activos', 'positivos', 'muertes', 'sospechosos',\n",
    "       'activos sospechosos', 'defunciones sospechosos', 'muertos negativos',]].set_index('date').plot()"
   ]
  },
  {
   "cell_type": "code",
   "execution_count": null,
   "metadata": {},
   "outputs": [],
   "source": [
    "df.date = pd.to_datetime(df['date'], format='%Y-%m-%d')\n",
    "df[['date', 'activos', 'positivos', 'muertes', 'sospechosos',\n",
    "       'activos sospechosos', 'defunciones sospechosos', 'muertos negativos',]].set_index('date').plot()"
   ]
  },
  {
   "cell_type": "code",
   "execution_count": null,
   "metadata": {},
   "outputs": [],
   "source": [
    "df[['date', 'activos', 'positivos', 'muertes', 'sospechosos', 'muestra',\n",
    "       'activos sospechosos', 'defunciones sospechosos', 'muertos negativos',]].head(7)"
   ]
  },
  {
   "cell_type": "code",
   "execution_count": null,
   "metadata": {},
   "outputs": [],
   "source": [
    "df[['date', 'activos', 'positivos', 'muertes', 'sospechosos', 'muestra',\n",
    "       'activos sospechosos', 'defunciones sospechosos', 'muertos negativos',]].head(7)"
   ]
  },
  {
   "cell_type": "code",
   "execution_count": null,
   "metadata": {},
   "outputs": [],
   "source": [
    "print(\"Activos %i. ∆ %i. %% %.2f\"%(df.loc[0]['activos'], df.loc[0]['∆ activos'],df.loc[0]['% activos'],) )\n",
    "print(\"Positivos %i. ∆ %i. %% %.2f\"%(df.loc[0]['positivos'], df.loc[0]['∆ positivos'],df.loc[0]['% positivos'],) )\n",
    "print(\"Muertes %i. ∆ %i. %% %.2f\"%(df.loc[0]['muertes'], df.loc[0]['∆ muertes'],df.loc[0]['% muertes'],) )\n",
    "print(\"Sospechosos %i. ∆ %i. %% %.2f\"%(df.loc[0]['sospechosos'], df.loc[0]['∆ sospechosos'],df.loc[0]['% sospechosos'],) )\n",
    "print(\"---Sospechosos---\")\n",
    "print(\"Activos %i. ∆ %i. %% %.2f\"%(df.loc[0]['activos sospechosos'], df.loc[0]['∆ activos sospechosos'],df.loc[0]['% activos sospechosos'],) )\n",
    "print(\"Defunciones %i. ∆ %i. %% %.2f\"%(df.loc[0]['defunciones sospechosos'], df.loc[0]['∆ defunciones sospechosos'],df.loc[0]['% defunciones sospechosos'],) )\n",
    "print(\"\\nDefunciones de personas que dieron negativo a la prueba de laboratorio\\nTotal %i. ∆ %i. %% %.2f\"%(df.loc[0]['muertos negativos'], df.loc[0]['∆ muertos negativos'],df.loc[0]['% muertos negativos'],) )\n"
   ]
  },
  {
   "cell_type": "code",
   "execution_count": null,
   "metadata": {},
   "outputs": [],
   "source": [
    "print(\"Activos %i. ∆ %i. %% %.2f\"%(df.loc[1]['activos'], df.loc[1]['∆ activos'],df.loc[1]['% activos'],) )\n",
    "print(\"Positivos %i. ∆ %i. %% %.2f\"%(df.loc[1]['positivos'], df.loc[1]['∆ positivos'],df.loc[1]['% positivos'],) )\n",
    "print(\"Muertes %i. ∆ %i. %% %.2f\"%(df.loc[1]['muertes'], df.loc[1]['∆ muertes'],df.loc[1]['% muertes'],) )\n",
    "print(\"Sospechosos %i. ∆ %i. %% %.2f\"%(df.loc[1]['sospechosos'], df.loc[1]['∆ sospechosos'],df.loc[1]['% sospechosos'],) )\n",
    "print(\"---Sospechosos---\")\n",
    "print(\"Activos %i. ∆ %i. %% %.2f\"%(df.loc[1]['activos sospechosos'], df.loc[1]['∆ activos sospechosos'],df.loc[1]['% activos sospechosos'],) )\n",
    "print(\"Defunciones %i. ∆ %i. %% %.2f\"%(df.loc[1]['defunciones sospechosos'], df.loc[1]['∆ defunciones sospechosos'],df.loc[1]['% defunciones sospechosos'],) )\n",
    "print(\"\\nDefunciones de personas que dieron negativo a la prueba de laboratorio\\nTotal %i. ∆ %i. %% %.2f\"%(df.loc[1]['muertos negativos'], df.loc[1]['∆ muertos negativos'],df.loc[1]['% muertos negativos'],) )\n"
   ]
  },
  {
   "cell_type": "code",
   "execution_count": null,
   "metadata": {},
   "outputs": [],
   "source": [
    "print(\"Activos %i. ∆ %i. %% %.2f\"%(df.loc[2]['activos'], df.loc[2]['∆ activos'],df.loc[2]['% activos'],) )\n",
    "print(\"Positivos %i. ∆ %i. %% %.2f\"%(df.loc[2]['positivos'], df.loc[2]['∆ positivos'],df.loc[2]['% positivos'],) )\n",
    "print(\"Muertes %i. ∆ %i. %% %.2f\"%(df.loc[2]['muertes'], df.loc[2]['∆ muertes'],df.loc[2]['% muertes'],) )\n",
    "print(\"Sospechosos %i. ∆ %i. %% %.2f\"%(df.loc[2]['sospechosos'], df.loc[2]['∆ sospechosos'],df.loc[2]['% sospechosos'],) )\n",
    "print(\"---Sospechosos---\")\n",
    "print(\"Activos %i. ∆ %i. %% %.2f\"%(df.loc[2]['activos sospechosos'], df.loc[2]['∆ activos sospechosos'],df.loc[2]['% activos sospechosos'],) )\n",
    "print(\"Defunciones %i. ∆ %i. %% %.2f\"%(df.loc[2]['defunciones sospechosos'], df.loc[2]['∆ defunciones sospechosos'],df.loc[2]['% defunciones sospechosos'],) )\n",
    "print(\"\\nDefunciones de personas que dieron negativo a la prueba de laboratorio\\nTotal %i. ∆ %i. %% %.2f\"%(df.loc[2]['muertos negativos'], df.loc[2]['∆ muertos negativos'],df.loc[2]['% muertos negativos'],) )\n"
   ]
  },
  {
   "cell_type": "markdown",
   "metadata": {},
   "source": [
    "## "
   ]
  }
 ],
 "metadata": {
  "kernelspec": {
   "display_name": "Python 3",
   "language": "python",
   "name": "python3"
  },
  "language_info": {
   "codemirror_mode": {
    "name": "ipython",
    "version": 3
   },
   "file_extension": ".py",
   "mimetype": "text/x-python",
   "name": "python",
   "nbconvert_exporter": "python",
   "pygments_lexer": "ipython3",
   "version": "3.7.4"
  }
 },
 "nbformat": 4,
 "nbformat_minor": 2
}
