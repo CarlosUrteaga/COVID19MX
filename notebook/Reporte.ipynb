{
 "cells": [
  {
   "cell_type": "markdown",
   "metadata": {},
   "source": [
    "# Daily Report"
   ]
  },
  {
   "cell_type": "markdown",
   "metadata": {},
   "source": [
    "We replicate the numbers of cases published in the daily meeting"
   ]
  },
  {
   "cell_type": "code",
   "execution_count": 1,
   "metadata": {},
   "outputs": [
    {
     "name": "stdout",
     "output_type": "stream",
     "text": [
      "Using matplotlib backend: MacOSX\n"
     ]
    }
   ],
   "source": [
    "import glob\n",
    "import os\n",
    "import pandas as pd\n",
    "import numpy as np\n",
    "import random\n",
    "import matplotlib.pyplot as plt\n",
    "import datetime\n",
    "import json\n",
    "%matplotlib "
   ]
  },
  {
   "cell_type": "code",
   "execution_count": 2,
   "metadata": {},
   "outputs": [],
   "source": [
    "dic_ENTIDADES = d2 = json.load(open(\"../src/diccionario_datos_covid19/ENTIDADES.jsn\"))\n",
    "dic_MUNICIPIOS = d2 = json.load(open(\"../src/diccionario_datos_covid19/MUNICIPIOS.jsn\"))\n",
    "dic_NACIONALIDAD = d2 = json.load(open(\"../src/diccionario_datos_covid19/NACIONALIDAD.jsn\"))\n",
    "dic_ORIGEN = d2 = json.load(open(\"../src/diccionario_datos_covid19/ORIGEN.jsn\"))\n",
    "dic_RESULTADO = d2 = json.load(open(\"../src/diccionario_datos_covid19/RESULTADO.jsn\"))\n",
    "dic_SECTOR = d2 = json.load(open(\"../src/diccionario_datos_covid19/SECTOR.jsn\"))\n",
    "dic_SEXO = d2 = json.load(open(\"../src/diccionario_datos_covid19/SEXO.jsn\"))\n",
    "dic_SI_NO = d2 = json.load(open(\"../src/diccionario_datos_covid19/SI_NO.jsn\"))\n",
    "dic_TIPO_PACIENTE = d2 = json.load(open(\"../src/diccionario_datos_covid19/TIPO_PACIENTE.jsn\"))"
   ]
  },
  {
   "cell_type": "code",
   "execution_count": 3,
   "metadata": {},
   "outputs": [],
   "source": [
    "# df['MUNICIPIO_RES'] = df['MUNICIPIO'].str.normalize('NFKD').str.encode('ascii', errors='ignore').str.decode('utf-8')\n"
   ]
  },
  {
   "cell_type": "code",
   "execution_count": 4,
   "metadata": {},
   "outputs": [],
   "source": [
    "# df[(df.MUNICIPIO_RES=='TLALPAN') &(df.ENTIDAD_RES=='CIUDAD DE MÉXICO')]\n",
    "\n",
    "# df[(df.MUNICIPIO_RES=='LEON') &(df.ENTIDAD_RES=='GUANAJUATO')]\n",
    "# df[df.ENTIDAD_RES=='MÉXICO'].MUNICIPIO_RES.unique()\n",
    "# df[(df.MUNICIPIO_RES=='HUIXQUILUCAN') &(df.ENTIDAD_RES=='MÉXICO')]"
   ]
  },
  {
   "cell_type": "code",
   "execution_count": null,
   "metadata": {
    "scrolled": true
   },
   "outputs": [],
   "source": [
    "\n",
    "strpath = '../src/'\n",
    "m = []\n",
    "tlalpan = []\n",
    "gam = []\n",
    "leon = []\n",
    "qro = []\n",
    "huix = []\n",
    "if not os.path.isfile('report_data1.csv'):\n",
    "    for filename in glob.glob(strpath+\"*\"):\n",
    "        if filename.find('.csv')>0:\n",
    "            date = filename[7:9] +'-' + filename[11:13] +'-' +filename[13:15]\n",
    "            df = pd.read_csv(filename, encoding = \"ISO-8859-1\",dtype =str)\n",
    "            df['FECHA_ACTUALIZACION1'] = pd.to_datetime(df['FECHA_ACTUALIZACION'],)\n",
    "            df.FECHA_INGRESO = pd.to_datetime(df['FECHA_INGRESO'],)\n",
    "            df.FECHA_SINTOMAS = pd.to_datetime(df['FECHA_SINTOMAS'],)\n",
    "            df.FECHA_INGRESO = pd.to_datetime(df['FECHA_INGRESO'],)\n",
    "            df['MUNICIPIO']= df['ENTIDAD_RES'] + df['MUNICIPIO_RES']\n",
    "            df.replace({'ORIGEN':dic_ORIGEN},inplace=True)\n",
    "            df.replace({\"SECTOR\": dic_SECTOR},inplace=True)\n",
    "            df.replace({\"ENTIDAD_UM\": dic_ENTIDADES},inplace=True)\n",
    "            df.replace({\"SEXO\": dic_SEXO},inplace=True)\n",
    "            df.replace({\"ENTIDAD_NAC\": dic_ENTIDADES},inplace=True)\n",
    "            df.replace({\"ENTIDAD_RES\": dic_ENTIDADES},inplace=True)\n",
    "            df.replace({\"MUNICIPIO\": dic_MUNICIPIOS},inplace=True)\n",
    "            df['MUNICIPIO_RES'] = df['MUNICIPIO'].str.normalize('NFKD').str.encode('ascii', errors='ignore').str.decode('utf-8')\n",
    "            df.replace({\"TIPO_PACIENTE\": dic_TIPO_PACIENTE},inplace=True)\n",
    "            df.replace({'INTUBADO': dic_SI_NO},inplace=True)\n",
    "            df.replace({'NEUMONIA': dic_SI_NO},inplace=True)\n",
    "            df.replace({'NACIONALIDAD': dic_NACIONALIDAD},inplace=True)\n",
    "            df.replace({'EMBARAZO': dic_SI_NO},inplace=True)\n",
    "            df.replace({'HABLA_LENGUA_INDIG': dic_SI_NO},inplace=True)\n",
    "            df.replace({'DIABETES': dic_SI_NO},inplace=True)\n",
    "            df.replace({'EPOC': dic_SI_NO},inplace=True)\n",
    "            df.replace({'ASMA': dic_SI_NO},inplace=True)\n",
    "            df.replace({'INMUSUPR': dic_SI_NO},inplace=True)\n",
    "            df.replace({'HIPERTENSION': dic_SI_NO},inplace=True)\n",
    "            df.replace({'OTRA_COM': dic_SI_NO},inplace=True)\n",
    "            df.replace({'CARDIOVASCULAR': dic_SI_NO},inplace=True)\n",
    "            df.replace({'OBESIDAD': dic_SI_NO},inplace=True)\n",
    "            df.replace({'RENAL_CRONICA': dic_SI_NO},inplace=True)\n",
    "            df.replace({'TABAQUISMO': dic_SI_NO},inplace=True)\n",
    "            df.replace({'OTRO_CASO': dic_SI_NO},inplace=True)\n",
    "            df.replace({'RESULTADO': dic_RESULTADO},inplace=True)\n",
    "            df.replace({'MIGRANTE': dic_SI_NO},inplace=True)\n",
    "            df.replace({'UCI': dic_SI_NO},inplace=True)\n",
    "            df['deltaSintomas']=df.FECHA_ACTUALIZACION1-df.FECHA_SINTOMAS \n",
    "            df['deltaSintomas'] = df.deltaSintomas.dt.days\n",
    "            df.loc[df.FECHA_DEF=='9999-99-99', 'FECHA_DEF'] = '2050-12-31'\n",
    "            df.FECHA_DEF = pd.to_datetime(df['FECHA_DEF'],)\n",
    "            m.append([df.FECHA_ACTUALIZACION.unique()[0]\n",
    "                    ,df[(df.deltaSintomas<14)& (df.RESULTADO=='1')]['ID_REGISTRO'].count()\n",
    "                    ,df[df.RESULTADO=='1']['ID_REGISTRO'].count()\n",
    "                    ,df[(df.FECHA_DEF!='2050-12-31')&(df.RESULTADO=='1')]['ID_REGISTRO'].count()\n",
    "                    ,df[df.RESULTADO=='3']['ID_REGISTRO'].count()\n",
    "                    ,df.ID_REGISTRO.nunique()\n",
    "                ,len(df[(df.deltaSintomas<14)& (df.RESULTADO=='3')])\n",
    "                ,len(df[(df.FECHA_DEF<'2020-12-31')&(df.RESULTADO=='3')])\n",
    "                ,len(df[(df.FECHA_DEF<'2020-12-31')&(df.RESULTADO=='2')])\n",
    "                     ]\n",
    "            )\n",
    "            \"\"\"\n",
    "            tlalpan.append([df.FECHA_ACTUALIZACION.unique()[0]\n",
    "                    ,df[(df.MUNICIPIO_RES=='TLALPAN') & (df.ENTIDAD_RES=='CIUDAD DE MÉXICO') & (df.deltaSintomas<14) & (df.RESULTADO=='1')]['ID_REGISTRO'].count()\n",
    "                    ,df[(df.MUNICIPIO_RES=='TLALPAN') & (df.ENTIDAD_RES=='CIUDAD DE MÉXICO') & (df.RESULTADO=='1')]['ID_REGISTRO'].count()\n",
    "                    ,df[(df.MUNICIPIO_RES=='TLALPAN') & (df.ENTIDAD_RES=='CIUDAD DE MÉXICO') & (df.FECHA_DEF!='2050-12-31') & (df.RESULTADO=='1')]['ID_REGISTRO'].count()\n",
    "                    ,df[(df.MUNICIPIO_RES=='TLALPAN') & (df.ENTIDAD_RES=='CIUDAD DE MÉXICO') & (df.RESULTADO=='3')]['ID_REGISTRO'].count()\n",
    "                    ,df[(df.MUNICIPIO_RES=='TLALPAN') & (df.ENTIDAD_RES=='CIUDAD DE MÉXICO')].ID_REGISTRO.nunique()\n",
    "                ,len(df[(df.MUNICIPIO_RES=='TLALPAN') & (df.ENTIDAD_RES=='CIUDAD DE MÉXICO') & (df.deltaSintomas<14)& (df.RESULTADO=='3')])\n",
    "                ,len(df[(df.MUNICIPIO_RES=='TLALPAN') & (df.ENTIDAD_RES=='CIUDAD DE MÉXICO') & (df.FECHA_DEF<'2020-12-31')&(df.RESULTADO=='3')])\n",
    "                ,len(df[(df.MUNICIPIO_RES=='TLALPAN') & (df.ENTIDAD_RES=='CIUDAD DE MÉXICO') & (df.FECHA_DEF<'2020-12-31')&(df.RESULTADO=='2')])\n",
    "                     ]\n",
    "            )\n",
    "            \n",
    "            gam.append([df.FECHA_ACTUALIZACION.unique()[0]\n",
    "                    ,df[(df.MUNICIPIO_RES=='GUSTAVO A. MADERO') & (df.ENTIDAD_RES=='CIUDAD DE MÉXICO') & (df.deltaSintomas<14) & (df.RESULTADO=='1')]['ID_REGISTRO'].count()\n",
    "                    ,df[(df.MUNICIPIO_RES=='GUSTAVO A. MADERO') & (df.ENTIDAD_RES=='CIUDAD DE MÉXICO') & (df.RESULTADO=='1')]['ID_REGISTRO'].count()\n",
    "                    ,df[(df.MUNICIPIO_RES=='GUSTAVO A. MADERO') & (df.ENTIDAD_RES=='CIUDAD DE MÉXICO') & (df.FECHA_DEF!='2050-12-31') & (df.RESULTADO=='1')]['ID_REGISTRO'].count()\n",
    "                    ,df[(df.MUNICIPIO_RES=='GUSTAVO A. MADERO') & (df.ENTIDAD_RES=='CIUDAD DE MÉXICO') & (df.RESULTADO=='3')]['ID_REGISTRO'].count()\n",
    "                    ,df[(df.MUNICIPIO_RES=='GUSTAVO A. MADERO') & (df.ENTIDAD_RES=='CIUDAD DE MÉXICO')].ID_REGISTRO.nunique()\n",
    "                ,len(df[(df.MUNICIPIO_RES=='GUSTAVO A. MADERO') & (df.ENTIDAD_RES=='CIUDAD DE MÉXICO') & (df.deltaSintomas<14)& (df.RESULTADO=='3')])\n",
    "                ,len(df[(df.MUNICIPIO_RES=='GUSTAVO A. MADERO') & (df.ENTIDAD_RES=='CIUDAD DE MÉXICO') & (df.FECHA_DEF<'2020-12-31')&(df.RESULTADO=='3')])\n",
    "                ,len(df[(df.MUNICIPIO_RES=='GUSTAVO A. MADERO') & (df.ENTIDAD_RES=='CIUDAD DE MÉXICO') & (df.FECHA_DEF<'2020-12-31')&(df.RESULTADO=='2')])\n",
    "                     ]\n",
    "            )\n",
    "            leon.append([df.FECHA_ACTUALIZACION.unique()[0]\n",
    "                    ,df[(df.MUNICIPIO_RES=='LEON') & (df.ENTIDAD_RES=='GUANAJUATO') & (df.deltaSintomas<14) & (df.RESULTADO=='1')]['ID_REGISTRO'].count()\n",
    "                    ,df[(df.MUNICIPIO_RES=='LEON') & (df.ENTIDAD_RES=='GUANAJUATO') & (df.RESULTADO=='1')]['ID_REGISTRO'].count()\n",
    "                    ,df[(df.MUNICIPIO_RES=='LEON') & (df.ENTIDAD_RES=='GUANAJUATO') & (df.FECHA_DEF!='2050-12-31') & (df.RESULTADO=='1')]['ID_REGISTRO'].count()\n",
    "                    ,df[(df.MUNICIPIO_RES=='LEON') & (df.ENTIDAD_RES=='GUANAJUATO') & (df.RESULTADO=='3')]['ID_REGISTRO'].count()\n",
    "                    ,df[(df.MUNICIPIO_RES=='LEON') & (df.ENTIDAD_RES=='GUANAJUATO')].ID_REGISTRO.nunique()\n",
    "                ,len(df[(df.MUNICIPIO_RES=='LEON') & (df.ENTIDAD_RES=='GUANAJUATO') & (df.deltaSintomas<14)& (df.RESULTADO=='3')])\n",
    "                ,len(df[(df.MUNICIPIO_RES=='LEON') & (df.ENTIDAD_RES=='GUANAJUATO') & (df.FECHA_DEF<'2020-12-31')&(df.RESULTADO=='3')])\n",
    "                ,len(df[(df.MUNICIPIO_RES=='LEON') & (df.ENTIDAD_RES=='GUANAJUATO') & (df.FECHA_DEF<'2020-12-31')&(df.RESULTADO=='2')])\n",
    "                     ]\n",
    "            )\n",
    "\n",
    "            qro.append([df.FECHA_ACTUALIZACION.unique()[0]\n",
    "                    ,df[(df.MUNICIPIO_RES=='QUERETARO') & (df.ENTIDAD_RES=='QUERÉTARO') & (df.deltaSintomas<14) & (df.RESULTADO=='1')]['ID_REGISTRO'].count()\n",
    "                    ,df[(df.MUNICIPIO_RES=='QUERETARO') & (df.ENTIDAD_RES=='QUERÉTARO') & (df.RESULTADO=='1')]['ID_REGISTRO'].count()\n",
    "                    ,df[(df.MUNICIPIO_RES=='QUERETARO') & (df.ENTIDAD_RES=='QUERÉTARO') & (df.FECHA_DEF!='2050-12-31') & (df.RESULTADO=='1')]['ID_REGISTRO'].count()\n",
    "                    ,df[(df.MUNICIPIO_RES=='QUERETARO') & (df.ENTIDAD_RES=='QUERÉTARO') & (df.RESULTADO=='3')]['ID_REGISTRO'].count()\n",
    "                    ,df[(df.MUNICIPIO_RES=='QUERETARO') & (df.ENTIDAD_RES=='QUERÉTARO')].ID_REGISTRO.nunique()\n",
    "                ,len(df[(df.MUNICIPIO_RES=='QUERETARO') & (df.ENTIDAD_RES=='QUERÉTARO') & (df.deltaSintomas<14)& (df.RESULTADO=='3')])\n",
    "                ,len(df[(df.MUNICIPIO_RES=='QUERETARO') & (df.ENTIDAD_RES=='QUERÉTARO') & (df.FECHA_DEF<'2020-12-31')&(df.RESULTADO=='3')])\n",
    "                ,len(df[(df.MUNICIPIO_RES=='QUERETARO') & (df.ENTIDAD_RES=='QUERÉTARO') & (df.FECHA_DEF<'2020-12-31')&(df.RESULTADO=='2')])\n",
    "                     ]\n",
    "            )\n",
    "            huix.append([df.FECHA_ACTUALIZACION.unique()[0]\n",
    "                    ,df[(df.MUNICIPIO_RES=='HUIXQUILUCAN') & (df.ENTIDAD_RES=='MÉXICO') & (df.deltaSintomas<14) & (df.RESULTADO=='1')]['ID_REGISTRO'].count()\n",
    "                    ,df[(df.MUNICIPIO_RES=='HUIXQUILUCAN') & (df.ENTIDAD_RES=='MÉXICO') & (df.RESULTADO=='1')]['ID_REGISTRO'].count()\n",
    "                    ,df[(df.MUNICIPIO_RES=='HUIXQUILUCAN') & (df.ENTIDAD_RES=='MÉXICO') & (df.FECHA_DEF!='2050-12-31') & (df.RESULTADO=='1')]['ID_REGISTRO'].count()\n",
    "                    ,df[(df.MUNICIPIO_RES=='HUIXQUILUCAN') & (df.ENTIDAD_RES=='MÉXICO') & (df.RESULTADO=='3')]['ID_REGISTRO'].count()\n",
    "                    ,df[(df.MUNICIPIO_RES=='HUIXQUILUCAN') & (df.ENTIDAD_RES=='MÉXICO')].ID_REGISTRO.nunique()\n",
    "                ,len(df[(df.MUNICIPIO_RES=='HUIXQUILUCAN') & (df.ENTIDAD_RES=='MÉXICO') & (df.deltaSintomas<14)& (df.RESULTADO=='3')])\n",
    "                ,len(df[(df.MUNICIPIO_RES=='HUIXQUILUCAN') & (df.ENTIDAD_RES=='MÉXICO') & (df.FECHA_DEF<'2020-12-31')&(df.RESULTADO=='3')])\n",
    "                ,len(df[(df.MUNICIPIO_RES=='HUIXQUILUCAN') & (df.ENTIDAD_RES=='MÉXICO') & (df.FECHA_DEF<'2020-12-31')&(df.RESULTADO=='2')])\n",
    "                     ]\n",
    "            )\n",
    "            \"\"\"\n",
    "    df = pd.DataFrame(m)\n",
    "    \"\"\"\n",
    "    dftlalpan = pd.DataFrame(tlalpan)\n",
    "    dfgam = pd.DataFrame(gam)\n",
    "    dfleon = pd.DataFrame(leon)\n",
    "    dfqro = pd.DataFrame(qro)\n",
    "    dfhuix = pd.DataFrame(huix)\n",
    "    dftlalpan.columns = ['date', 'activos', 'positivos', 'muertes', 'sospechosos', 'muestra', 'activos sospechosos', 'defunciones sospechosos', 'muertos negativos']\n",
    "    dftlalpan = dftlalpan.sort_values(by='date', ascending=False)\n",
    "    dftlalpan = dftlalpan.reset_index(drop=True)\n",
    "    dfgam.columns = ['date', 'activos', 'positivos', 'muertes', 'sospechosos', 'muestra', 'activos sospechosos', 'defunciones sospechosos', 'muertos negativos']\n",
    "    dfgam = dfgam.sort_values(by='date', ascending=False)\n",
    "    dfgam = dfgam.reset_index(drop=True)\n",
    "    dfleon.columns = ['date', 'activos', 'positivos', 'muertes', 'sospechosos', 'muestra', 'activos sospechosos', 'defunciones sospechosos', 'muertos negativos']\n",
    "    dfleon = dfleon.sort_values(by='date', ascending=False)\n",
    "    dfleon = dfleon.reset_index(drop=True)\n",
    "    dfqro.columns = ['date', 'activos', 'positivos', 'muertes', 'sospechosos', 'muestra', 'activos sospechosos', 'defunciones sospechosos', 'muertos negativos']\n",
    "    dfqro = dfqro.sort_values(by='date', ascending=False)\n",
    "    dfqro = dfqro.reset_index(drop=True)\n",
    "    dfhuix.columns = ['date', 'activos', 'positivos', 'muertes', 'sospechosos', 'muestra', 'activos sospechosos', 'defunciones sospechosos', 'muertos negativos']\n",
    "    dfhuix = dfhuix.sort_values(by='date', ascending=False)\n",
    "    dfhuix = dfhuix.reset_index(drop=True)\n",
    "    \"\"\"\n",
    "    df.columns = ['date', 'activos', 'positivos', 'muertes', 'sospechosos', 'muestra', 'activos sospechosos', 'defunciones sospechosos', 'muertos negativos']\n",
    "    df = df.sort_values(by='date', ascending=False)\n",
    "    df = df.reset_index(drop=True)\n",
    "    df.to_csv('report_data.csv', index=False)\n",
    "else:\n",
    "    df0 = pd.read_csv('report_data.csv')\n",
    "    df0.date = pd.to_datetime(df0['date'], format='%Y-%m-%d')\n",
    "    lastdateRecord = df0.date.max()\n",
    "    deltaT = datetime.datetime.now() - lastdateRecord\n",
    "    for i in range(1,deltaT.days+1) :\n",
    "        filename = (lastdateRecord + datetime.timedelta(days=1)).strftime(\"%Y%m%d\")+'.csv'\n",
    "        df = pd.read_csv(strpath+filename, encoding = \"ISO-8859-1\",dtype =str)\n",
    "        df['FECHA_ACTUALIZACION1'] = pd.to_datetime(df['FECHA_ACTUALIZACION'],)\n",
    "        df.FECHA_INGRESO = pd.to_datetime(df['FECHA_INGRESO'],)\n",
    "        df.FECHA_SINTOMAS = pd.to_datetime(df['FECHA_SINTOMAS'],)\n",
    "        df['deltaSintomas']=df.FECHA_ACTUALIZACION1-df.FECHA_SINTOMAS \n",
    "        df['deltaSintomas'] = df.deltaSintomas.dt.days\n",
    "        df.loc[df.FECHA_DEF=='9999-99-99', 'FECHA_DEF'] = '2050-12-31'\n",
    "        df.FECHA_DEF = pd.to_datetime(df['FECHA_DEF'],)\n",
    "        m.append([df.FECHA_ACTUALIZACION.unique()[0]\n",
    "                  ,df[(df.deltaSintomas<14)& (df.RESULTADO=='1')]['ID_REGISTRO'].count()\n",
    "              ,df[df.RESULTADO=='1']['ID_REGISTRO'].count()\n",
    "              ,df[(df.FECHA_DEF!='2050-12-31')&(df.RESULTADO=='1')]['ID_REGISTRO'].count()\n",
    "              ,df[df.RESULTADO=='3']['ID_REGISTRO'].count()\n",
    "              ,df.ID_REGISTRO.nunique()\n",
    "              ,len(df[(df.deltaSintomas<14)& (df.RESULTADO=='3')])\n",
    "              ,len(df[(df.FECHA_DEF<'2020-12-31')&(df.RESULTADO=='3')])\n",
    "              ,len(df[(df.FECHA_DEF<'2020-12-31')&(df.RESULTADO=='2')])\n",
    "                 ]\n",
    "        )##\n",
    "        \n",
    "        \n",
    "        \n",
    "    ##   \n",
    "    df1 = pd.DataFrame(m)\n",
    "    df1.columns = ['date', 'activos', 'positivos', 'muertes', 'sospechosos', 'muestra', 'activos sospechosos', 'defunciones sospechosos', 'muertos negativos']\n",
    "    df1 = df1.sort_values(by='date', ascending=False)\n",
    "    frames = [df1,df0]\n",
    "    df = pd.concat(frames)\n",
    "    df = df.reset_index(drop=True)\n",
    "    df.to_csv('report_data.csv', index=False)"
   ]
  },
  {
   "cell_type": "code",
   "execution_count": null,
   "metadata": {},
   "outputs": [],
   "source": [
    "column = df.columns[1:]\n",
    "for each in column:\n",
    "    column_name = '∆ '+ each\n",
    "    df[column_name] = df[each] - df[each].shift(-1)\n",
    "    column_name1 = '% '+ each\n",
    "    df[column_name1] = (df[column_name]/ df[column_name].shift(-1))*100\n"
   ]
  },
  {
   "cell_type": "code",
   "execution_count": null,
   "metadata": {},
   "outputs": [],
   "source": [
    "df.date = pd.to_datetime(df['date'], format='%Y-%m-%d')\n",
    "df[['date', 'activos', 'positivos', 'muertes', 'sospechosos',\n",
    "       'activos sospechosos', 'defunciones sospechosos', 'muertos negativos',]].set_index('date').plot(figsize=(20,10))"
   ]
  },
  {
   "cell_type": "code",
   "execution_count": null,
   "metadata": {},
   "outputs": [],
   "source": [
    "dftlalpan.date = pd.to_datetime(dftlalpan['date'], format='%Y-%m-%d')\n",
    "dftlalpan[['date', 'activos', 'positivos', 'muertes', 'sospechosos',\n",
    "       'activos sospechosos', 'defunciones sospechosos', 'muertos negativos',]].set_index('date').plot(figsize=(20,10))"
   ]
  },
  {
   "cell_type": "code",
   "execution_count": null,
   "metadata": {},
   "outputs": [],
   "source": [
    "dfgam.date = pd.to_datetime(dfgam['date'], format='%Y-%m-%d')\n",
    "dfgam[['date', 'activos', 'positivos', 'muertes', 'sospechosos',\n",
    "       'activos sospechosos', 'defunciones sospechosos', 'muertos negativos',]].set_index('date').plot(figsize=(20,10))"
   ]
  },
  {
   "cell_type": "code",
   "execution_count": null,
   "metadata": {},
   "outputs": [],
   "source": [
    "dfleon.date = pd.to_datetime(dfleon['date'], format='%Y-%m-%d')\n",
    "dfleon[['date', 'activos', 'positivos', 'muertes', 'sospechosos',\n",
    "       'activos sospechosos', 'defunciones sospechosos', 'muertos negativos',]].set_index('date').plot(figsize=(20,10))"
   ]
  },
  {
   "cell_type": "code",
   "execution_count": null,
   "metadata": {},
   "outputs": [],
   "source": [
    "dfqro.date = pd.to_datetime(dfqro['date'], format='%Y-%m-%d')\n",
    "dfqro[['date', 'activos', 'positivos', 'muertes', 'sospechosos',\n",
    "       'activos sospechosos', 'defunciones sospechosos', 'muertos negativos',]].set_index('date').plot(figsize=(20,10))"
   ]
  },
  {
   "cell_type": "code",
   "execution_count": null,
   "metadata": {},
   "outputs": [],
   "source": [
    "dfhuix.date = pd.to_datetime(dfhuix['date'], format='%Y-%m-%d')\n",
    "dfhuix[['date', 'activos', 'positivos', 'muertes', 'sospechosos',\n",
    "       'activos sospechosos', 'defunciones sospechosos', 'muertos negativos',]].set_index('date').plot(figsize=(20,10))"
   ]
  },
  {
   "cell_type": "code",
   "execution_count": null,
   "metadata": {},
   "outputs": [],
   "source": [
    "dfqro[['date', 'activos', 'positivos', 'muertes', 'sospechosos', 'muestra',\n",
    "       'activos sospechosos', 'defunciones sospechosos', 'muertos negativos',]].head(7)"
   ]
  },
  {
   "cell_type": "code",
   "execution_count": null,
   "metadata": {},
   "outputs": [],
   "source": [
    "dfleon[['date', 'activos', 'positivos', 'muertes', 'sospechosos', 'muestra',\n",
    "       'activos sospechosos', 'defunciones sospechosos', 'muertos negativos',]].head(7)"
   ]
  },
  {
   "cell_type": "code",
   "execution_count": null,
   "metadata": {},
   "outputs": [],
   "source": [
    "dfhuix[['date', 'activos', 'positivos', 'muertes', 'sospechosos', 'muestra',\n",
    "       'activos sospechosos', 'defunciones sospechosos', 'muertos negativos',]].head(7)"
   ]
  },
  {
   "cell_type": "code",
   "execution_count": null,
   "metadata": {},
   "outputs": [],
   "source": [
    "dftlalpan[['date', 'activos', 'positivos', 'muertes', 'sospechosos', 'muestra',\n",
    "       'activos sospechosos', 'defunciones sospechosos', 'muertos negativos',]].head(7)"
   ]
  },
  {
   "cell_type": "code",
   "execution_count": null,
   "metadata": {},
   "outputs": [],
   "source": [
    "dfgam[['date', 'activos', 'positivos', 'muertes', 'sospechosos', 'muestra',\n",
    "       'activos sospechosos', 'defunciones sospechosos', 'muertos negativos',]].head(7)"
   ]
  },
  {
   "cell_type": "code",
   "execution_count": null,
   "metadata": {
    "scrolled": true
   },
   "outputs": [],
   "source": [
    "df[['date', 'activos', 'positivos', 'muertes', 'sospechosos', 'muestra',\n",
    "       'activos sospechosos', 'defunciones sospechosos', 'muertos negativos',]].head(7)"
   ]
  },
  {
   "cell_type": "code",
   "execution_count": null,
   "metadata": {},
   "outputs": [],
   "source": [
    "print(\"Activos %i. ∆ %i. \"%(df.loc[0]['activos'], df.loc[0]['∆ activos'],))\n",
    "print(\"Positivos %i. ∆ %i. \"%(df.loc[0]['positivos'], df.loc[0]['∆ positivos']))\n",
    "print(\"Muertes %i. ∆ %i. \"%(df.loc[0]['muertes'], df.loc[0]['∆ muertes']))\n",
    "print(\"Sospechosos %i. ∆ %i. \"%(df.loc[0]['sospechosos'], df.loc[0]['∆ sospechosos'],))\n",
    "print(\"---Sospechosos---\")\n",
    "print(\"Activos %i. ∆ %i. \"%(df.loc[0]['activos sospechosos'], df.loc[0]['∆ activos sospechosos'],))\n",
    "print(\"Defunciones %i. ∆ %i. \"%(df.loc[0]['defunciones sospechosos'], df.loc[0]['∆ defunciones sospechosos'],))\n",
    "# print(\"\\nDefunciones de personas que dieron negativo a la prueba de laboratorio\\nTotal %i. ∆ %i. %% %.2f\"%(df.loc[0]['muertos negativos'], df.loc[0]['∆ muertos negativos'],df.loc[0]['% muertos negativos'],) )\n",
    "\n"
   ]
  },
  {
   "cell_type": "code",
   "execution_count": null,
   "metadata": {},
   "outputs": [],
   "source": [
    "print(\"Activos %i. ∆ %i. \"%(df.loc[1]['activos'], df.loc[1]['∆ activos'],))\n",
    "print(\"Positivos %i. ∆ %i. \"%(df.loc[1]['positivos'], df.loc[1]['∆ positivos']))\n",
    "print(\"Muertes %i. ∆ %i. \"%(df.loc[1]['muertes'], df.loc[1]['∆ muertes']))\n",
    "print(\"Sospechosos %i. ∆ %i. \"%(df.loc[1]['sospechosos'], df.loc[1]['∆ sospechosos'],))\n",
    "print(\"---Sospechosos---\")\n",
    "print(\"Activos %i. ∆ %i. \"%(df.loc[1]['activos sospechosos'], df.loc[1]['∆ activos sospechosos'],))\n",
    "print(\"Defunciones %i. ∆ %i. \"%(df.loc[1]['defunciones sospechosos'], df.loc[1]['∆ defunciones sospechosos'],))\n",
    "# print(\"\\nDefunciones de personas que dieron negativo a la prueba de laboratorio\\nTotal %i. ∆ %i. %% %.2f\"%(df.loc[1]['muertos negativos'], df.loc[1]['∆ muertos negativos'],df.loc[1]['% muertos negativos'],) )\n",
    "\n"
   ]
  },
  {
   "cell_type": "code",
   "execution_count": null,
   "metadata": {},
   "outputs": [],
   "source": [
    "print(\"Activos %i. ∆ %i. \"%(df.loc[2]['activos'], df.loc[2]['∆ activos'],))\n",
    "print(\"Positivos %i. ∆ %i. \"%(df.loc[2]['positivos'], df.loc[2]['∆ positivos']))\n",
    "print(\"Muertes %i. ∆ %i. \"%(df.loc[2]['muertes'], df.loc[2]['∆ muertes']))\n",
    "print(\"Sospechosos %i. ∆ %i. \"%(df.loc[2]['sospechosos'], df.loc[2]['∆ sospechosos'],))\n",
    "print(\"---Sospechosos---\")\n",
    "print(\"Activos %i. ∆ %i. \"%(df.loc[2]['activos sospechosos'], df.loc[2]['∆ activos sospechosos'],))\n",
    "print(\"Defunciones %i. ∆ %i. \"%(df.loc[2]['defunciones sospechosos'], df.loc[2]['∆ defunciones sospechosos'],))\n",
    "# print(\"\\nDefunciones de personas que dieron negativo a la prueba de laboratorio\\nTotal %i. ∆ %i. %% %.2f\"%(df.loc[2]['muertos negativos'], df.loc[2]['∆ muertos negativos'],df.loc[2]['% muertos negativos'],) )\n",
    "\n"
   ]
  },
  {
   "cell_type": "code",
   "execution_count": null,
   "metadata": {},
   "outputs": [],
   "source": [
    "# for specific city such as GAM, tlalpan and Juriquilla, huixquilucan Leon"
   ]
  }
 ],
 "metadata": {
  "kernelspec": {
   "display_name": "Python 3",
   "language": "python",
   "name": "python3"
  },
  "language_info": {
   "codemirror_mode": {
    "name": "ipython",
    "version": 3
   },
   "file_extension": ".py",
   "mimetype": "text/x-python",
   "name": "python",
   "nbconvert_exporter": "python",
   "pygments_lexer": "ipython3",
   "version": "3.7.4"
  }
 },
 "nbformat": 4,
 "nbformat_minor": 2
}
