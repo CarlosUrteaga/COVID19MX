{
 "cells": [
  {
   "cell_type": "markdown",
   "metadata": {},
   "source": [
    "At the end of 2019, the world saw the born of the Sars-cov-2 virus which genereate a disease called COVID19 (COrona VIrus disease). The high risk that we face with this virus is that the sympthons are related to a typical flu but generate a high damage un the lungs decreasing the oxygen level. The disminution of oxygen generate a high demand of intensive beds.\n",
    "\n",
    "From WHO files\n",
    "\n",
    "According to the WHO the incubation period for COVID-19, is on average 5-6 days, but can be extended to 14 days. However there some evidence that shows that exist different types of transmition, such as symptomatic, pre-symptomatic and a symptomatic.\n",
    "\n",
    "The typical transmition is the symptomatic, this ocurrs when a person shown COVID symptomatic and can spread the virus conciently or inconciently respiratory droplest over thier enviroment. However, some cases has shown that a person can transmit COVID-19 without symptoms, (3 or 2 days) before present the typical symptoms. Finally there are some concern about the asyptomatic transmission according to the WHO: Asymptomatic transmission refers to transmission of the virus from a person, who does not develop symptoms. There are few reports of laboratory-confirmed cases who are truly asymptomatic, and to date, there has been no documente asymptomatic transmission. This does not exclude the possibility that it may occur. Asymptomatic cases have been reported as part of contact tracing efforts in some countries. Source https://www.who.int/docs/default-source/coronaviruse/situation-reports/20200402-sitrep-73-covid-19.pdf?sfvrsn=5ae25bc7_2#:~:text=An%20asymptomatic%20laboratory%2Dconfirmed,more%20information%20becomes%20available.\n",
    "\n",
    "\n",
    "The goal of this notebook is listed below:\n",
    "* Understand the evolution of the covi19 in Mexico, there are a rate of 10% of deads though a visualization analysis\n",
    "\n",
    "\n",
    "Key elements\n",
    "\n",
    "* Incubation period can be expresed a GAMMA.\n",
    "* Is most common the transmision after show symptoms.\n",
    "* How we can modeled (explain pre-symtomatic transmition)\n",
    "* how we can modeled asyntomatic transmition\n"
   ]
  },
  {
   "cell_type": "code",
   "execution_count": 1,
   "metadata": {},
   "outputs": [
    {
     "name": "stdout",
     "output_type": "stream",
     "text": [
      "Using matplotlib backend: MacOSX\n"
     ]
    }
   ],
   "source": [
    "import glob\n",
    "import os\n",
    "import pandas as pd\n",
    "import numpy as np\n",
    "import random\n",
    "import matplotlib.pyplot as plt\n",
    "%matplotlib \n",
    "import datetime\n"
   ]
  },
  {
   "cell_type": "code",
   "execution_count": 23,
   "metadata": {},
   "outputs": [
    {
     "name": "stdout",
     "output_type": "stream",
     "text": [
      "2020-06-04\n",
      "2020-06-10\n",
      "2020-04-12\n",
      "2020-04-13\n",
      "2020-06-11\n",
      "2020-06-05\n",
      "2020-06-13\n",
      "2020-06-07\n",
      "2020-06-06\n",
      "2020-06-12\n",
      "2020-06-16\n",
      "2020-06-02\n",
      "2020-04-14\n",
      "2020-04-28\n",
      "2020-04-29\n",
      "2020-04-15\n",
      "2020-06-03\n",
      "2020-06-17\n",
      "2020-06-01\n",
      "2020-06-15\n",
      "2020-06-29\n",
      "2020-04-17\n",
      "2020-04-16\n",
      "2020-06-28\n",
      "2020-06-14\n",
      "2020-05-11\n",
      "2020-05-05\n",
      "2020-05-04\n",
      "2020-05-10\n",
      "2020-05-06\n",
      "2020-05-12\n",
      "2020-05-13\n",
      "2020-05-07\n",
      "2020-05-03\n",
      "2020-05-17\n",
      "2020-07-01\n",
      "2020-05-16\n",
      "2020-05-02\n",
      "2020-05-14\n",
      "2020-05-28\n",
      "2020-07-02\n",
      "2020-05-29\n",
      "2020-05-01\n",
      "2020-05-15\n",
      "2020-05-18\n",
      "2020-05-30\n",
      "2020-05-24\n",
      "2020-05-25\n",
      "2020-05-31\n",
      "2020-05-19\n",
      "2020-05-27\n",
      "2020-05-26\n",
      "2020-05-22\n",
      "2020-05-23\n",
      "2020-05-21\n",
      "2020-05-09\n",
      "2020-05-08\n",
      "2020-06-19\n",
      "2020-06-25\n",
      "2020-04-27\n",
      "2020-04-26\n",
      "2020-06-30\n",
      "2020-06-24\n",
      "2020-06-18\n",
      "2020-06-26\n",
      "2020-04-18\n",
      "2020-04-30\n",
      "2020-04-24\n",
      "2020-04-25\n",
      "2020-04-19\n",
      "2020-06-27\n",
      "2020-06-23\n",
      "2020-04-21\n",
      "2020-04-20\n",
      "2020-06-22\n",
      "2020-06-20\n",
      "2020-06-08\n",
      "2020-04-22\n",
      "2020-04-23\n",
      "2020-06-09\n",
      "2020-06-21\n"
     ]
    },
    {
     "data": {
      "text/plain": [
       "20286920"
      ]
     },
     "execution_count": 23,
     "metadata": {},
     "output_type": "execute_result"
    }
   ],
   "source": [
    "\n",
    "strpath = '../src/'\n",
    "m = []\n",
    "i =0\n",
    "if not os.path.isfile('report_data1.csv'):\n",
    "    for filename in glob.glob(strpath+\"*\"):\n",
    "        if filename.find('.csv')>0:\n",
    "            date = '20'+filename[7:9] +'-' + filename[11:13] +'-' +filename[13:15]\n",
    "            print(date)\n",
    "            df = pd.read_csv(filename, encoding = \"ISO-8859-1\",dtype =str)\n",
    "            df['FechaRegistro'] = date\n",
    "            df.FECHA_INGRESO = pd.to_datetime(df['FECHA_INGRESO'],)\n",
    "            if i== 0:\n",
    "                df0=df.copy()\n",
    "                i=1\n",
    "            else:\n",
    "                frame = [df0,df]\n",
    "                df0 = pd.concat(frame)\n",
    "            del df\n",
    "else:\n",
    "    df0 = pd.read_csv('report_data.csv')\n",
    "    df = pd.read_csv('../src/20200630.csv', encoding = \"ISO-8859-1\",dtype =str)\n",
    "    df['FechaRegistro'] = '2020-06-30'\n",
    "    df.FECHA_INGRESO = pd.to_datetime(df['FECHA_INGRESO'],)\n",
    "    frame = [df0,df]\n",
    "    df0 = pd.concat(frame)\n",
    "len(df0)"
   ]
  },
  {
   "cell_type": "code",
   "execution_count": 45,
   "metadata": {},
   "outputs": [
    {
     "name": "stdout",
     "output_type": "stream",
     "text": [
      "2020\n"
     ]
    }
   ],
   "source": [
    "\n",
    "dt = datetime.datetime.today()\n",
    "print (dt.year)"
   ]
  },
  {
   "cell_type": "code",
   "execution_count": 48,
   "metadata": {},
   "outputs": [
    {
     "name": "stdout",
     "output_type": "stream",
     "text": [
      "20200703\n"
     ]
    }
   ],
   "source": [
    "import datetime\n",
    "print(datetime.datetime.now().strftime(\"%Y%m%d\"))"
   ]
  },
  {
   "cell_type": "code",
   "execution_count": 61,
   "metadata": {},
   "outputs": [],
   "source": [
    "today = (datetime.datetime.now()).strftime(\"%Y%m%d\")\n",
    "yesterday = (datetime.datetime.now() - datetime.timedelta(days=1)).strftime(\"%Y%m%d\")\n",
    "ereyesterday = (datetime.datetime.now() - datetime.timedelta(days=2)).strftime(\"%Y%m%d\")"
   ]
  },
  {
   "cell_type": "code",
   "execution_count": 57,
   "metadata": {},
   "outputs": [
    {
     "data": {
      "text/plain": [
       "str"
      ]
     },
     "execution_count": 57,
     "metadata": {},
     "output_type": "execute_result"
    }
   ],
   "source": [
    "ereyesterday.strftime(\"%Y%m%d\")"
   ]
  },
  {
   "cell_type": "code",
   "execution_count": 25,
   "metadata": {},
   "outputs": [],
   "source": [
    "df= pd.read_csv( '../src/'+today       +'.csv', encoding = \"ISO-8859-1\",dtype =str)\n",
    "dfA= pd.read_csv('../src/'+yesterday   +'.csv', encoding = \"ISO-8859-1\",dtype =str)\n",
    "dfB= pd.read_csv('../src/'+ereyesterday+'.csv', encoding = \"ISO-8859-1\",dtype =str)"
   ]
  },
  {
   "cell_type": "code",
   "execution_count": 27,
   "metadata": {},
   "outputs": [],
   "source": [
    "a = set(df0.ID_REGISTRO.unique().tolist())- set(df.ID_REGISTRO.unique().tolist())"
   ]
  },
  {
   "cell_type": "code",
   "execution_count": 28,
   "metadata": {},
   "outputs": [],
   "source": [
    "df1 = df0[df0.ID_REGISTRO.isin(list(a))]\n",
    "df1 = df1.copy()"
   ]
  },
  {
   "cell_type": "code",
   "execution_count": 29,
   "metadata": {},
   "outputs": [],
   "source": [
    "df1.FechaRegistro = pd.to_datetime(df1['FechaRegistro'], format='%Y-%m-%d')\n",
    "df1 = df1.sort_values(by='FechaRegistro', ascending=False)"
   ]
  },
  {
   "cell_type": "code",
   "execution_count": 30,
   "metadata": {},
   "outputs": [
    {
     "data": {
      "text/plain": [
       "24972"
      ]
     },
     "execution_count": 30,
     "metadata": {},
     "output_type": "execute_result"
    }
   ],
   "source": [
    "df1.ID_REGISTRO.nunique()"
   ]
  },
  {
   "cell_type": "code",
   "execution_count": 31,
   "metadata": {},
   "outputs": [
    {
     "data": {
      "text/plain": [
       "24972"
      ]
     },
     "execution_count": 31,
     "metadata": {},
     "output_type": "execute_result"
    }
   ],
   "source": [
    "df1.ID_REGISTRO.nunique()"
   ]
  },
  {
   "cell_type": "code",
   "execution_count": 36,
   "metadata": {},
   "outputs": [
    {
     "data": {
      "text/plain": [
       "610495"
      ]
     },
     "execution_count": 36,
     "metadata": {},
     "output_type": "execute_result"
    }
   ],
   "source": [
    "len(df)"
   ]
  },
  {
   "cell_type": "code",
   "execution_count": 37,
   "metadata": {},
   "outputs": [
    {
     "data": {
      "text/html": [
       "<div>\n",
       "<style scoped>\n",
       "    .dataframe tbody tr th:only-of-type {\n",
       "        vertical-align: middle;\n",
       "    }\n",
       "\n",
       "    .dataframe tbody tr th {\n",
       "        vertical-align: top;\n",
       "    }\n",
       "\n",
       "    .dataframe thead th {\n",
       "        text-align: right;\n",
       "    }\n",
       "</style>\n",
       "<table border=\"1\" class=\"dataframe\">\n",
       "  <thead>\n",
       "    <tr style=\"text-align: right;\">\n",
       "      <th></th>\n",
       "      <th>FECHA_ACTUALIZACION</th>\n",
       "      <th>ID_REGISTRO</th>\n",
       "      <th>ORIGEN</th>\n",
       "      <th>SECTOR</th>\n",
       "      <th>ENTIDAD_UM</th>\n",
       "      <th>SEXO</th>\n",
       "      <th>ENTIDAD_NAC</th>\n",
       "      <th>ENTIDAD_RES</th>\n",
       "      <th>MUNICIPIO_RES</th>\n",
       "      <th>TIPO_PACIENTE</th>\n",
       "      <th>...</th>\n",
       "      <th>CARDIOVASCULAR</th>\n",
       "      <th>OBESIDAD</th>\n",
       "      <th>RENAL_CRONICA</th>\n",
       "      <th>TABAQUISMO</th>\n",
       "      <th>OTRO_CASO</th>\n",
       "      <th>RESULTADO</th>\n",
       "      <th>MIGRANTE</th>\n",
       "      <th>PAIS_NACIONALIDAD</th>\n",
       "      <th>PAIS_ORIGEN</th>\n",
       "      <th>UCI</th>\n",
       "    </tr>\n",
       "  </thead>\n",
       "  <tbody>\n",
       "  </tbody>\n",
       "</table>\n",
       "<p>0 rows × 35 columns</p>\n",
       "</div>"
      ],
      "text/plain": [
       "Empty DataFrame\n",
       "Columns: [FECHA_ACTUALIZACION, ID_REGISTRO, ORIGEN, SECTOR, ENTIDAD_UM, SEXO, ENTIDAD_NAC, ENTIDAD_RES, MUNICIPIO_RES, TIPO_PACIENTE, FECHA_INGRESO, FECHA_SINTOMAS, FECHA_DEF, INTUBADO, NEUMONIA, EDAD, NACIONALIDAD, EMBARAZO, HABLA_LENGUA_INDIG, DIABETES, EPOC, ASMA, INMUSUPR, HIPERTENSION, OTRA_COM, CARDIOVASCULAR, OBESIDAD, RENAL_CRONICA, TABAQUISMO, OTRO_CASO, RESULTADO, MIGRANTE, PAIS_NACIONALIDAD, PAIS_ORIGEN, UCI]\n",
       "Index: []\n",
       "\n",
       "[0 rows x 35 columns]"
      ]
     },
     "execution_count": 37,
     "metadata": {},
     "output_type": "execute_result"
    }
   ],
   "source": [
    "df[df.ID_REGISTRO=='1a7aea']"
   ]
  },
  {
   "cell_type": "code",
   "execution_count": 43,
   "metadata": {},
   "outputs": [
    {
     "data": {
      "text/plain": [
       "array(['1'], dtype=object)"
      ]
     },
     "execution_count": 43,
     "metadata": {},
     "output_type": "execute_result"
    }
   ],
   "source": [
    "df0[df0.ID_REGISTRO=='1a7aea'].sort_values('FechaRegistro',ascending=False).RESULTADO.unique()"
   ]
  },
  {
   "cell_type": "code",
   "execution_count": 17,
   "metadata": {},
   "outputs": [],
   "source": [
    "df2 = df1.drop_duplicates(keep='last')\n",
    "df2 = df2.drop_duplicates('ID_REGISTRO',keep='last')"
   ]
  },
  {
   "cell_type": "code",
   "execution_count": 18,
   "metadata": {},
   "outputs": [
    {
     "name": "stdout",
     "output_type": "stream",
     "text": [
      "268424\n"
     ]
    }
   ],
   "source": [
    "print(len(df1))\n",
    "df3 = df1.drop_duplicates(keep='first')\n",
    "# print(len(df3))\n",
    "df3 = df3.drop_duplicates('ID_REGISTRO',keep='first')\n",
    "# print(len(df3))"
   ]
  },
  {
   "cell_type": "code",
   "execution_count": 19,
   "metadata": {},
   "outputs": [
    {
     "data": {
      "text/plain": [
       "39550"
      ]
     },
     "execution_count": 19,
     "metadata": {},
     "output_type": "execute_result"
    }
   ],
   "source": [
    "len(df3)"
   ]
  },
  {
   "cell_type": "code",
   "execution_count": 20,
   "metadata": {
    "scrolled": true
   },
   "outputs": [
    {
     "data": {
      "text/plain": [
       "<matplotlib.axes._subplots.AxesSubplot at 0x7f8af39341d0>"
      ]
     },
     "execution_count": 20,
     "metadata": {},
     "output_type": "execute_result"
    },
    {
     "data": {
      "image/png": "[encoded data removed]",
      "text/plain": [
       "<Figure size 432x288 with 1 Axes>"
      ]
     },
     "metadata": {
      "needs_background": "light"
     },
     "output_type": "display_data"
    }
   ],
   "source": [
    "df3.groupby(['FechaRegistro'])['FechaRegistro'].count().plot()"
   ]
  },
  {
   "cell_type": "code",
   "execution_count": 21,
   "metadata": {
    "scrolled": true
   },
   "outputs": [
    {
     "data": {
      "text/plain": [
       "FechaRegistro\n",
       "2020-07-02    14871\n",
       "2020-04-16     2370\n",
       "2020-04-20     1403\n",
       "2020-05-19      775\n",
       "2020-05-21      599\n",
       "              ...  \n",
       "2020-04-13       75\n",
       "2020-04-15       61\n",
       "2020-06-13       49\n",
       "2020-04-14       40\n",
       "2020-04-12       31\n",
       "Name: FechaRegistro, Length: 80, dtype: int64"
      ]
     },
     "execution_count": 21,
     "metadata": {},
     "output_type": "execute_result"
    }
   ],
   "source": [
    "df3.groupby(['FechaRegistro'])['FechaRegistro'].count().sort_values(ascending=False)"
   ]
  },
  {
   "cell_type": "code",
   "execution_count": 22,
   "metadata": {},
   "outputs": [
    {
     "data": {
      "text/plain": [
       "RESULTADO\n",
       "1     2558\n",
       "2     4378\n",
       "3    32614\n",
       "Name: RESULTADO, dtype: int64"
      ]
     },
     "execution_count": 22,
     "metadata": {},
     "output_type": "execute_result"
    }
   ],
   "source": [
    "df3.groupby('RESULTADO')['RESULTADO'].count()"
   ]
  },
  {
   "cell_type": "code",
   "execution_count": 24,
   "metadata": {},
   "outputs": [
    {
     "data": {
      "text/plain": [
       "array(['2020-06-04', '2020-06-10', '2020-04-12', '2020-04-13',\n",
       "       '2020-06-11', '2020-06-05', '2020-06-13', '2020-06-07',\n",
       "       '2020-06-06', '2020-06-12', '2020-06-16', '2020-06-02',\n",
       "       '2020-04-14', '2020-04-28', '2020-04-29', '2020-04-15',\n",
       "       '2020-06-03', '2020-06-17', '2020-06-01', '2020-06-15',\n",
       "       '2020-06-29', '2020-04-17', '2020-04-16', '2020-06-28',\n",
       "       '2020-06-14', '2020-05-11', '2020-05-05', '2020-05-04',\n",
       "       '2020-05-10', '2020-05-06', '2020-05-12', '2020-05-13',\n",
       "       '2020-05-07', '2020-05-03', '2020-05-17', '2020-07-01',\n",
       "       '2020-05-16', '2020-05-02', '2020-05-14', '2020-05-28',\n",
       "       '2020-07-02', '2020-05-29', '2020-05-01', '2020-05-15',\n",
       "       '2020-05-18', '2020-05-30', '2020-05-24', '2020-05-25',\n",
       "       '2020-05-31', '2020-05-19', '2020-05-27', '2020-05-26',\n",
       "       '2020-05-22', '2020-05-23', '2020-05-21', '2020-05-09',\n",
       "       '2020-05-08', '2020-06-19', '2020-06-25', '2020-04-27',\n",
       "       '2020-04-26', '2020-06-30', '2020-06-24', '2020-06-18',\n",
       "       '2020-06-26', '2020-04-18', '2020-04-30', '2020-04-24',\n",
       "       '2020-04-25', '2020-04-19', '2020-06-27', '2020-06-23',\n",
       "       '2020-04-21', '2020-04-20', '2020-06-22', '2020-06-20',\n",
       "       '2020-06-08', '2020-04-22', '2020-04-23', '2020-06-09',\n",
       "       '2020-06-21'], dtype=object)"
      ]
     },
     "execution_count": 24,
     "metadata": {},
     "output_type": "execute_result"
    }
   ],
   "source": [
    "df0.FechaRegistro.unique()"
   ]
  },
  {
   "cell_type": "code",
   "execution_count": null,
   "metadata": {},
   "outputs": [],
   "source": []
  }
 ],
 "metadata": {
  "kernelspec": {
   "display_name": "Python 3",
   "language": "python",
   "name": "python3"
  },
  "language_info": {
   "codemirror_mode": {
    "name": "ipython",
    "version": 3
   },
   "file_extension": ".py",
   "mimetype": "text/x-python",
   "name": "python",
   "nbconvert_exporter": "python",
   "pygments_lexer": "ipython3",
   "version": "3.7.4"
  }
 },
 "nbformat": 4,
 "nbformat_minor": 2
}
