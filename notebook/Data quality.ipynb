{
 "cells": [
  {
   "cell_type": "markdown",
   "metadata": {},
   "source": [
    "# Data quality\n",
    "In this notebook we analyze the data quality refered to COVID19 in Mexico. This information in obtained thought the Secretariat of Health and published by *Dirección General de Epidemiología* the mexican CDC. https://www.gob.mx/salud/documentos/datos-abiertos-152127. "
   ]
  },
  {
   "cell_type": "code",
   "execution_count": 1,
   "metadata": {},
   "outputs": [
    {
     "name": "stdout",
     "output_type": "stream",
     "text": [
      "Using matplotlib backend: MacOSX\n"
     ]
    }
   ],
   "source": [
    "\n",
    "import glob\n",
    "import os\n",
    "import pandas as pd\n",
    "import numpy as np\n",
    "import random\n",
    "import matplotlib.pyplot as plt\n",
    "\n",
    "import datetime\n",
    "from IPython.display import Markdown as md\n",
    "\n",
    "import seaborn as sns\n",
    "import matplotlib.pyplot as plt\n",
    "from scipy import stats\n",
    "import json\n",
    "\n",
    "%matplotlib "
   ]
  },
  {
   "cell_type": "code",
   "execution_count": 2,
   "metadata": {},
   "outputs": [],
   "source": [
    "dic_ENTIDADES = d2 = json.load(open(\"../src/diccionario_datos_covid19/ENTIDADES.jsn\"))\n",
    "dic_MUNICIPIOS = d2 = json.load(open(\"../src/diccionario_datos_covid19/MUNICIPIOS.jsn\"))\n",
    "dic_NACIONALIDAD = d2 = json.load(open(\"../src/diccionario_datos_covid19/NACIONALIDAD.jsn\"))\n",
    "dic_ORIGEN = d2 = json.load(open(\"../src/diccionario_datos_covid19/ORIGEN.jsn\"))\n",
    "dic_RESULTADO = d2 = json.load(open(\"../src/diccionario_datos_covid19/RESULTADO.jsn\"))\n",
    "dic_SECTOR = d2 = json.load(open(\"../src/diccionario_datos_covid19/SECTOR.jsn\"))\n",
    "dic_SEXO = d2 = json.load(open(\"../src/diccionario_datos_covid19/SEXO.jsn\"))\n",
    "dic_SI_NO = d2 = json.load(open(\"../src/diccionario_datos_covid19/SI_NO.jsn\"))\n",
    "dic_TIPO_PACIENTE = d2 = json.load(open(\"../src/diccionario_datos_covid19/TIPO_PACIENTE.jsn\"))"
   ]
  },
  {
   "cell_type": "markdown",
   "metadata": {},
   "source": [
    "## Load data"
   ]
  },
  {
   "cell_type": "code",
   "execution_count": null,
   "metadata": {},
   "outputs": [],
   "source": [
    "\n",
    "# load the csv from the src folder\n",
    "strpath = '../src/'\n",
    "m = []\n",
    "i =0\n",
    "if not os.path.isfile('fulldb1.csv'):\n",
    "    for filename in glob.glob(strpath+\"*\"):\n",
    "        if filename.find('.csv')>0:\n",
    "            date = '20'+filename[7:9] +'-' + filename[11:13] +'-' +filename[13:15]\n",
    "            #print(date)\n",
    "            df = pd.read_csv(filename, encoding = \"ISO-8859-1\",dtype =str)\n",
    "            df['FechaRegistro'] = date\n",
    "            df['MUNICIPIO']= df['ENTIDAD_RES'] + df['MUNICIPIO_RES']\n",
    "            df.FECHA_INGRESO = pd.to_datetime(df['FECHA_INGRESO'],)\n",
    "            df.replace({'ORIGEN':dic_ORIGEN},inplace=True)\n",
    "            df.replace({\"SECTOR\": dic_SECTOR},inplace=True)\n",
    "            df.replace({\"ENTIDAD_UM\": dic_ENTIDADES},inplace=True)\n",
    "            df.replace({\"SEXO\": dic_SEXO},inplace=True)\n",
    "            df.replace({\"ENTIDAD_NAC\": dic_ENTIDADES},inplace=True)\n",
    "            df.replace({\"ENTIDAD_RES\": dic_ENTIDADES},inplace=True)\n",
    "            df.replace({\"MUNICIPIO\": dic_MUNICIPIOS},inplace=True)\n",
    "            df['MUNICIPIO_RES']= df['MUNICIPIO']\n",
    "            df.replace({\"TIPO_PACIENTE\": dic_TIPO_PACIENTE},inplace=True)\n",
    "            df.replace({'INTUBADO': dic_SI_NO},inplace=True)\n",
    "            df.replace({'NEUMONIA': dic_SI_NO},inplace=True)\n",
    "            df.replace({'NACIONALIDAD': dic_NACIONALIDAD},inplace=True)\n",
    "            df.replace({'EMBARAZO': dic_SI_NO},inplace=True)\n",
    "            df.replace({'HABLA_LENGUA_INDIG': dic_SI_NO},inplace=True)\n",
    "            df.replace({'DIABETES': dic_SI_NO},inplace=True)\n",
    "            df.replace({'EPOC': dic_SI_NO},inplace=True)\n",
    "            df.replace({'ASMA': dic_SI_NO},inplace=True)\n",
    "            df.replace({'INMUSUPR': dic_SI_NO},inplace=True)\n",
    "            df.replace({'HIPERTENSION': dic_SI_NO},inplace=True)\n",
    "            df.replace({'OTRA_COM': dic_SI_NO},inplace=True)\n",
    "            df.replace({'CARDIOVASCULAR': dic_SI_NO},inplace=True)\n",
    "            df.replace({'OBESIDAD': dic_SI_NO},inplace=True)\n",
    "            df.replace({'RENAL_CRONICA': dic_SI_NO},inplace=True)\n",
    "            df.replace({'TABAQUISMO': dic_SI_NO},inplace=True)\n",
    "            df.replace({'OTRO_CASO': dic_SI_NO},inplace=True)\n",
    "            df.replace({'RESULTADO': dic_RESULTADO},inplace=True)\n",
    "            df.replace({'MIGRANTE': dic_SI_NO},inplace=True)\n",
    "            df.replace({'UCI': dic_SI_NO},inplace=True)\n",
    "            if i== 0:\n",
    "                df0=df.copy()\n",
    "                i=1\n",
    "            else:\n",
    "                frame = [df0,df]\n",
    "                df0 = pd.concat(frame)\n",
    "            del df\n",
    "else:\n",
    "    df0 = pd.read_csv('fulldb.csv')\n",
    "    df0.FechaRegistro = pd.to_datetime(df0['FechaRegistro'], format='%Y-%m-%d')\n",
    "    lastdateRecord = df0.FechaRegistro.max()\n",
    "    deltaT = datetime.datetime.now() - lastdateRecord\n",
    "    for i in range(1,deltaT.days+1) :\n",
    "        filename = (lastdateRecord + datetime.timedelta(days=1)).strftime(\"%Y%m%d\")+'.csv'\n",
    "        df = pd.read_csv(strpath+filename, encoding = \"ISO-8859-1\",dtype =str)\n",
    "        df['FechaRegistro'] = (lastdateRecord + datetime.timedelta(days=1)).strftime(\"%Y-%m-%d\")\n",
    "        df.FECHA_INGRESO = pd.to_datetime(df['FECHA_INGRESO'],)\n",
    "\n",
    "len(df0)"
   ]
  },
  {
   "cell_type": "code",
   "execution_count": null,
   "metadata": {},
   "outputs": [],
   "source": [
    "df0.head()"
   ]
  },
  {
   "cell_type": "code",
   "execution_count": 8,
   "metadata": {},
   "outputs": [
    {
     "data": {
      "text/html": [
       "<div>\n",
       "<style scoped>\n",
       "    .dataframe tbody tr th:only-of-type {\n",
       "        vertical-align: middle;\n",
       "    }\n",
       "\n",
       "    .dataframe tbody tr th {\n",
       "        vertical-align: top;\n",
       "    }\n",
       "\n",
       "    .dataframe thead th {\n",
       "        text-align: right;\n",
       "    }\n",
       "</style>\n",
       "<table border=\"1\" class=\"dataframe\">\n",
       "  <thead>\n",
       "    <tr style=\"text-align: right;\">\n",
       "      <th></th>\n",
       "      <th>FECHA_ACTUALIZACION</th>\n",
       "      <th>ID_REGISTRO</th>\n",
       "      <th>ORIGEN</th>\n",
       "      <th>SECTOR</th>\n",
       "      <th>ENTIDAD_UM</th>\n",
       "      <th>SEXO</th>\n",
       "      <th>ENTIDAD_NAC</th>\n",
       "      <th>ENTIDAD_RES</th>\n",
       "      <th>MUNICIPIO_RES</th>\n",
       "      <th>TIPO_PACIENTE</th>\n",
       "      <th>...</th>\n",
       "      <th>RENAL_CRONICA</th>\n",
       "      <th>TABAQUISMO</th>\n",
       "      <th>OTRO_CASO</th>\n",
       "      <th>RESULTADO</th>\n",
       "      <th>MIGRANTE</th>\n",
       "      <th>PAIS_NACIONALIDAD</th>\n",
       "      <th>PAIS_ORIGEN</th>\n",
       "      <th>UCI</th>\n",
       "      <th>FechaRegistro</th>\n",
       "      <th>MUNICIPIO</th>\n",
       "    </tr>\n",
       "  </thead>\n",
       "  <tbody>\n",
       "    <tr>\n",
       "      <th>274389</th>\n",
       "      <td>2020-07-07</td>\n",
       "      <td>03c6b2</td>\n",
       "      <td>FUERA DE USMER</td>\n",
       "      <td>IMSS</td>\n",
       "      <td>MÉXICO</td>\n",
       "      <td>MUJER</td>\n",
       "      <td>MÉXICO</td>\n",
       "      <td>MÉXICO</td>\n",
       "      <td>METEPEC</td>\n",
       "      <td>AMBULATORIO</td>\n",
       "      <td>...</td>\n",
       "      <td>NO</td>\n",
       "      <td>NO</td>\n",
       "      <td>NO ESPECIFICADO</td>\n",
       "      <td>No positivo SARS-CoV-2</td>\n",
       "      <td>NO ESPECIFICADO</td>\n",
       "      <td>MÃ©xico</td>\n",
       "      <td>99</td>\n",
       "      <td>NO APLICA</td>\n",
       "      <td>2020-07-07</td>\n",
       "      <td>METEPEC</td>\n",
       "    </tr>\n",
       "    <tr>\n",
       "      <th>445705</th>\n",
       "      <td>2020-07-07</td>\n",
       "      <td>022b24</td>\n",
       "      <td>FUERA DE USMER</td>\n",
       "      <td>SSA</td>\n",
       "      <td>SAN LUIS POTOSÍ</td>\n",
       "      <td>HOMBRE</td>\n",
       "      <td>SAN LUIS POTOSÍ</td>\n",
       "      <td>SAN LUIS POTOSÍ</td>\n",
       "      <td>SANTA MARÍA DEL RÍO</td>\n",
       "      <td>AMBULATORIO</td>\n",
       "      <td>...</td>\n",
       "      <td>NO</td>\n",
       "      <td>NO</td>\n",
       "      <td>SI</td>\n",
       "      <td>No positivo SARS-CoV-2</td>\n",
       "      <td>NO ESPECIFICADO</td>\n",
       "      <td>MÃ©xico</td>\n",
       "      <td>99</td>\n",
       "      <td>NO APLICA</td>\n",
       "      <td>2020-07-07</td>\n",
       "      <td>SANTA MARÍA DEL RÍO</td>\n",
       "    </tr>\n",
       "    <tr>\n",
       "      <th>445687</th>\n",
       "      <td>2020-07-07</td>\n",
       "      <td>152143</td>\n",
       "      <td>USMER</td>\n",
       "      <td>PRIVADA</td>\n",
       "      <td>CIUDAD DE MÉXICO</td>\n",
       "      <td>MUJER</td>\n",
       "      <td>CIUDAD DE MÉXICO</td>\n",
       "      <td>CIUDAD DE MÉXICO</td>\n",
       "      <td>ÁLVARO OBREGÓN</td>\n",
       "      <td>AMBULATORIO</td>\n",
       "      <td>...</td>\n",
       "      <td>NO</td>\n",
       "      <td>NO</td>\n",
       "      <td>NO</td>\n",
       "      <td>No positivo SARS-CoV-2</td>\n",
       "      <td>NO ESPECIFICADO</td>\n",
       "      <td>MÃ©xico</td>\n",
       "      <td>99</td>\n",
       "      <td>NO APLICA</td>\n",
       "      <td>2020-07-07</td>\n",
       "      <td>ÁLVARO OBREGÓN</td>\n",
       "    </tr>\n",
       "    <tr>\n",
       "      <th>445688</th>\n",
       "      <td>2020-07-07</td>\n",
       "      <td>0da56d</td>\n",
       "      <td>USMER</td>\n",
       "      <td>IMSS</td>\n",
       "      <td>COAHUILA DE ZARAGOZA</td>\n",
       "      <td>MUJER</td>\n",
       "      <td>COAHUILA DE ZARAGOZA</td>\n",
       "      <td>COAHUILA DE ZARAGOZA</td>\n",
       "      <td>SALTILLO</td>\n",
       "      <td>AMBULATORIO</td>\n",
       "      <td>...</td>\n",
       "      <td>NO</td>\n",
       "      <td>NO</td>\n",
       "      <td>NO ESPECIFICADO</td>\n",
       "      <td>No positivo SARS-CoV-2</td>\n",
       "      <td>NO ESPECIFICADO</td>\n",
       "      <td>MÃ©xico</td>\n",
       "      <td>99</td>\n",
       "      <td>NO APLICA</td>\n",
       "      <td>2020-07-07</td>\n",
       "      <td>SALTILLO</td>\n",
       "    </tr>\n",
       "    <tr>\n",
       "      <th>445689</th>\n",
       "      <td>2020-07-07</td>\n",
       "      <td>07b6d1</td>\n",
       "      <td>USMER</td>\n",
       "      <td>IMSS</td>\n",
       "      <td>COAHUILA DE ZARAGOZA</td>\n",
       "      <td>MUJER</td>\n",
       "      <td>COAHUILA DE ZARAGOZA</td>\n",
       "      <td>COAHUILA DE ZARAGOZA</td>\n",
       "      <td>MONCLOVA</td>\n",
       "      <td>HOSPITALIZADO</td>\n",
       "      <td>...</td>\n",
       "      <td>NO</td>\n",
       "      <td>NO</td>\n",
       "      <td>NO ESPECIFICADO</td>\n",
       "      <td>No positivo SARS-CoV-2</td>\n",
       "      <td>NO ESPECIFICADO</td>\n",
       "      <td>MÃ©xico</td>\n",
       "      <td>99</td>\n",
       "      <td>NO</td>\n",
       "      <td>2020-07-07</td>\n",
       "      <td>MONCLOVA</td>\n",
       "    </tr>\n",
       "  </tbody>\n",
       "</table>\n",
       "<p>5 rows × 37 columns</p>\n",
       "</div>"
      ],
      "text/plain": [
       "       FECHA_ACTUALIZACION ID_REGISTRO          ORIGEN   SECTOR  \\\n",
       "274389          2020-07-07      03c6b2  FUERA DE USMER     IMSS   \n",
       "445705          2020-07-07      022b24  FUERA DE USMER      SSA   \n",
       "445687          2020-07-07      152143           USMER  PRIVADA   \n",
       "445688          2020-07-07      0da56d           USMER     IMSS   \n",
       "445689          2020-07-07      07b6d1           USMER     IMSS   \n",
       "\n",
       "                  ENTIDAD_UM    SEXO           ENTIDAD_NAC  \\\n",
       "274389                MÉXICO   MUJER                MÉXICO   \n",
       "445705       SAN LUIS POTOSÍ  HOMBRE       SAN LUIS POTOSÍ   \n",
       "445687      CIUDAD DE MÉXICO   MUJER      CIUDAD DE MÉXICO   \n",
       "445688  COAHUILA DE ZARAGOZA   MUJER  COAHUILA DE ZARAGOZA   \n",
       "445689  COAHUILA DE ZARAGOZA   MUJER  COAHUILA DE ZARAGOZA   \n",
       "\n",
       "                 ENTIDAD_RES        MUNICIPIO_RES  TIPO_PACIENTE  ...  \\\n",
       "274389                MÉXICO              METEPEC    AMBULATORIO  ...   \n",
       "445705       SAN LUIS POTOSÍ  SANTA MARÍA DEL RÍO    AMBULATORIO  ...   \n",
       "445687      CIUDAD DE MÉXICO       ÁLVARO OBREGÓN    AMBULATORIO  ...   \n",
       "445688  COAHUILA DE ZARAGOZA             SALTILLO    AMBULATORIO  ...   \n",
       "445689  COAHUILA DE ZARAGOZA             MONCLOVA  HOSPITALIZADO  ...   \n",
       "\n",
       "       RENAL_CRONICA TABAQUISMO        OTRO_CASO               RESULTADO  \\\n",
       "274389           NO         NO   NO ESPECIFICADO  No positivo SARS-CoV-2   \n",
       "445705           NO         NO               SI   No positivo SARS-CoV-2   \n",
       "445687           NO         NO               NO   No positivo SARS-CoV-2   \n",
       "445688           NO         NO   NO ESPECIFICADO  No positivo SARS-CoV-2   \n",
       "445689           NO         NO   NO ESPECIFICADO  No positivo SARS-CoV-2   \n",
       "\n",
       "               MIGRANTE PAIS_NACIONALIDAD PAIS_ORIGEN        UCI  \\\n",
       "274389  NO ESPECIFICADO           MÃ©xico          99  NO APLICA   \n",
       "445705  NO ESPECIFICADO           MÃ©xico          99  NO APLICA   \n",
       "445687  NO ESPECIFICADO           MÃ©xico          99  NO APLICA   \n",
       "445688  NO ESPECIFICADO           MÃ©xico          99  NO APLICA   \n",
       "445689  NO ESPECIFICADO           MÃ©xico          99        NO    \n",
       "\n",
       "       FechaRegistro            MUNICIPIO  \n",
       "274389    2020-07-07              METEPEC  \n",
       "445705    2020-07-07  SANTA MARÍA DEL RÍO  \n",
       "445687    2020-07-07       ÁLVARO OBREGÓN  \n",
       "445688    2020-07-07             SALTILLO  \n",
       "445689    2020-07-07             MONCLOVA  \n",
       "\n",
       "[5 rows x 37 columns]"
      ]
     },
     "execution_count": 8,
     "metadata": {},
     "output_type": "execute_result"
    }
   ],
   "source": [
    "df0.head()"
   ]
  },
  {
   "cell_type": "code",
   "execution_count": 9,
   "metadata": {
    "scrolled": true
   },
   "outputs": [
    {
     "data": {
      "text/html": [
       "<div>\n",
       "<style scoped>\n",
       "    .dataframe tbody tr th:only-of-type {\n",
       "        vertical-align: middle;\n",
       "    }\n",
       "\n",
       "    .dataframe tbody tr th {\n",
       "        vertical-align: top;\n",
       "    }\n",
       "\n",
       "    .dataframe thead th {\n",
       "        text-align: right;\n",
       "    }\n",
       "</style>\n",
       "<table border=\"1\" class=\"dataframe\">\n",
       "  <thead>\n",
       "    <tr style=\"text-align: right;\">\n",
       "      <th></th>\n",
       "      <th>FECHA_ACTUALIZACION</th>\n",
       "      <th>ID_REGISTRO</th>\n",
       "      <th>ORIGEN</th>\n",
       "      <th>SECTOR</th>\n",
       "      <th>ENTIDAD_UM</th>\n",
       "      <th>SEXO</th>\n",
       "      <th>ENTIDAD_NAC</th>\n",
       "      <th>ENTIDAD_RES</th>\n",
       "      <th>MUNICIPIO_RES</th>\n",
       "      <th>TIPO_PACIENTE</th>\n",
       "      <th>...</th>\n",
       "      <th>RENAL_CRONICA</th>\n",
       "      <th>TABAQUISMO</th>\n",
       "      <th>OTRO_CASO</th>\n",
       "      <th>RESULTADO</th>\n",
       "      <th>MIGRANTE</th>\n",
       "      <th>PAIS_NACIONALIDAD</th>\n",
       "      <th>PAIS_ORIGEN</th>\n",
       "      <th>UCI</th>\n",
       "      <th>FechaRegistro</th>\n",
       "      <th>MUNICIPIO</th>\n",
       "    </tr>\n",
       "  </thead>\n",
       "  <tbody>\n",
       "    <tr>\n",
       "      <th>274389</th>\n",
       "      <td>2020-07-07</td>\n",
       "      <td>03c6b2</td>\n",
       "      <td>FUERA DE USMER</td>\n",
       "      <td>IMSS</td>\n",
       "      <td>MÉXICO</td>\n",
       "      <td>MUJER</td>\n",
       "      <td>MÉXICO</td>\n",
       "      <td>MÉXICO</td>\n",
       "      <td>METEPEC</td>\n",
       "      <td>AMBULATORIO</td>\n",
       "      <td>...</td>\n",
       "      <td>NO</td>\n",
       "      <td>NO</td>\n",
       "      <td>NO ESPECIFICADO</td>\n",
       "      <td>No positivo SARS-CoV-2</td>\n",
       "      <td>NO ESPECIFICADO</td>\n",
       "      <td>MÃ©xico</td>\n",
       "      <td>99</td>\n",
       "      <td>NO APLICA</td>\n",
       "      <td>2020-07-07</td>\n",
       "      <td>METEPEC</td>\n",
       "    </tr>\n",
       "    <tr>\n",
       "      <th>14</th>\n",
       "      <td>2020-07-07</td>\n",
       "      <td>02a6eb</td>\n",
       "      <td>FUERA DE USMER</td>\n",
       "      <td>IMSS</td>\n",
       "      <td>CIUDAD DE MÉXICO</td>\n",
       "      <td>HOMBRE</td>\n",
       "      <td>CIUDAD DE MÉXICO</td>\n",
       "      <td>CIUDAD DE MÉXICO</td>\n",
       "      <td>TLÁHUAC</td>\n",
       "      <td>HOSPITALIZADO</td>\n",
       "      <td>...</td>\n",
       "      <td>NO</td>\n",
       "      <td>NO</td>\n",
       "      <td>NO ESPECIFICADO</td>\n",
       "      <td>Positivo SARS-CoV-2</td>\n",
       "      <td>NO ESPECIFICADO</td>\n",
       "      <td>MÃ©xico</td>\n",
       "      <td>99</td>\n",
       "      <td>NO</td>\n",
       "      <td>2020-07-07</td>\n",
       "      <td>TLÁHUAC</td>\n",
       "    </tr>\n",
       "    <tr>\n",
       "      <th>19</th>\n",
       "      <td>2020-07-07</td>\n",
       "      <td>12e203</td>\n",
       "      <td>FUERA DE USMER</td>\n",
       "      <td>IMSS</td>\n",
       "      <td>CIUDAD DE MÉXICO</td>\n",
       "      <td>MUJER</td>\n",
       "      <td>MÉXICO</td>\n",
       "      <td>MÉXICO</td>\n",
       "      <td>NAUCALPAN DE JUÁREZ</td>\n",
       "      <td>HOSPITALIZADO</td>\n",
       "      <td>...</td>\n",
       "      <td>NO</td>\n",
       "      <td>NO</td>\n",
       "      <td>NO ESPECIFICADO</td>\n",
       "      <td>Positivo SARS-CoV-2</td>\n",
       "      <td>NO ESPECIFICADO</td>\n",
       "      <td>MÃ©xico</td>\n",
       "      <td>99</td>\n",
       "      <td>NO</td>\n",
       "      <td>2020-07-07</td>\n",
       "      <td>NAUCALPAN DE JUÁREZ</td>\n",
       "    </tr>\n",
       "    <tr>\n",
       "      <th>18</th>\n",
       "      <td>2020-07-07</td>\n",
       "      <td>13d0bd</td>\n",
       "      <td>FUERA DE USMER</td>\n",
       "      <td>IMSS</td>\n",
       "      <td>QUINTANA ROO</td>\n",
       "      <td>MUJER</td>\n",
       "      <td>YUCATÁN</td>\n",
       "      <td>QUINTANA ROO</td>\n",
       "      <td>BENITO JUÁREZ</td>\n",
       "      <td>AMBULATORIO</td>\n",
       "      <td>...</td>\n",
       "      <td>NO</td>\n",
       "      <td>NO</td>\n",
       "      <td>NO ESPECIFICADO</td>\n",
       "      <td>Positivo SARS-CoV-2</td>\n",
       "      <td>NO ESPECIFICADO</td>\n",
       "      <td>MÃ©xico</td>\n",
       "      <td>99</td>\n",
       "      <td>NO APLICA</td>\n",
       "      <td>2020-07-07</td>\n",
       "      <td>BENITO JUÁREZ</td>\n",
       "    </tr>\n",
       "    <tr>\n",
       "      <th>17</th>\n",
       "      <td>2020-07-07</td>\n",
       "      <td>0552db</td>\n",
       "      <td>FUERA DE USMER</td>\n",
       "      <td>IMSS</td>\n",
       "      <td>GUANAJUATO</td>\n",
       "      <td>HOMBRE</td>\n",
       "      <td>GUANAJUATO</td>\n",
       "      <td>GUANAJUATO</td>\n",
       "      <td>GUANAJUATO</td>\n",
       "      <td>HOSPITALIZADO</td>\n",
       "      <td>...</td>\n",
       "      <td>NO</td>\n",
       "      <td>NO</td>\n",
       "      <td>NO ESPECIFICADO</td>\n",
       "      <td>Positivo SARS-CoV-2</td>\n",
       "      <td>NO ESPECIFICADO</td>\n",
       "      <td>MÃ©xico</td>\n",
       "      <td>99</td>\n",
       "      <td>NO</td>\n",
       "      <td>2020-07-07</td>\n",
       "      <td>GUANAJUATO</td>\n",
       "    </tr>\n",
       "  </tbody>\n",
       "</table>\n",
       "<p>5 rows × 37 columns</p>\n",
       "</div>"
      ],
      "text/plain": [
       "       FECHA_ACTUALIZACION ID_REGISTRO          ORIGEN SECTOR  \\\n",
       "274389          2020-07-07      03c6b2  FUERA DE USMER   IMSS   \n",
       "14              2020-07-07      02a6eb  FUERA DE USMER   IMSS   \n",
       "19              2020-07-07      12e203  FUERA DE USMER   IMSS   \n",
       "18              2020-07-07      13d0bd  FUERA DE USMER   IMSS   \n",
       "17              2020-07-07      0552db  FUERA DE USMER   IMSS   \n",
       "\n",
       "              ENTIDAD_UM    SEXO       ENTIDAD_NAC       ENTIDAD_RES  \\\n",
       "274389            MÉXICO   MUJER            MÉXICO            MÉXICO   \n",
       "14      CIUDAD DE MÉXICO  HOMBRE  CIUDAD DE MÉXICO  CIUDAD DE MÉXICO   \n",
       "19      CIUDAD DE MÉXICO   MUJER            MÉXICO            MÉXICO   \n",
       "18          QUINTANA ROO   MUJER           YUCATÁN      QUINTANA ROO   \n",
       "17            GUANAJUATO  HOMBRE        GUANAJUATO        GUANAJUATO   \n",
       "\n",
       "              MUNICIPIO_RES  TIPO_PACIENTE  ... RENAL_CRONICA TABAQUISMO  \\\n",
       "274389              METEPEC    AMBULATORIO  ...           NO         NO    \n",
       "14                  TLÁHUAC  HOSPITALIZADO  ...           NO         NO    \n",
       "19      NAUCALPAN DE JUÁREZ  HOSPITALIZADO  ...           NO         NO    \n",
       "18            BENITO JUÁREZ    AMBULATORIO  ...           NO         NO    \n",
       "17               GUANAJUATO  HOSPITALIZADO  ...           NO         NO    \n",
       "\n",
       "              OTRO_CASO               RESULTADO         MIGRANTE  \\\n",
       "274389  NO ESPECIFICADO  No positivo SARS-CoV-2  NO ESPECIFICADO   \n",
       "14      NO ESPECIFICADO     Positivo SARS-CoV-2  NO ESPECIFICADO   \n",
       "19      NO ESPECIFICADO     Positivo SARS-CoV-2  NO ESPECIFICADO   \n",
       "18      NO ESPECIFICADO     Positivo SARS-CoV-2  NO ESPECIFICADO   \n",
       "17      NO ESPECIFICADO     Positivo SARS-CoV-2  NO ESPECIFICADO   \n",
       "\n",
       "       PAIS_NACIONALIDAD PAIS_ORIGEN        UCI FechaRegistro  \\\n",
       "274389           MÃ©xico          99  NO APLICA    2020-07-07   \n",
       "14               MÃ©xico          99        NO     2020-07-07   \n",
       "19               MÃ©xico          99        NO     2020-07-07   \n",
       "18               MÃ©xico          99  NO APLICA    2020-07-07   \n",
       "17               MÃ©xico          99        NO     2020-07-07   \n",
       "\n",
       "                  MUNICIPIO  \n",
       "274389              METEPEC  \n",
       "14                  TLÁHUAC  \n",
       "19      NAUCALPAN DE JUÁREZ  \n",
       "18            BENITO JUÁREZ  \n",
       "17               GUANAJUATO  \n",
       "\n",
       "[5 rows x 37 columns]"
      ]
     },
     "execution_count": 9,
     "metadata": {},
     "output_type": "execute_result"
    }
   ],
   "source": [
    "# we sorted the value by \n",
    "df0 = df0.sort_values(by='FechaRegistro', ascending=False)\n",
    "df0.head()"
   ]
  },
  {
   "cell_type": "code",
   "execution_count": 10,
   "metadata": {},
   "outputs": [
    {
     "data": {
      "text/markdown": [
       "We have 23508808 records of covid evolution cases in Mexico until today 2020-07-08 17:45:25.064576"
      ],
      "text/plain": [
       "<IPython.core.display.Markdown object>"
      ]
     },
     "execution_count": 10,
     "metadata": {},
     "output_type": "execute_result"
    }
   ],
   "source": [
    "md(\"We have {0} records of covid evolution cases in Mexico until today {1}\".format(df0.shape[0], datetime.datetime.now()) )\n"
   ]
  },
  {
   "cell_type": "code",
   "execution_count": 11,
   "metadata": {},
   "outputs": [],
   "source": [
    "df0.FechaRegistro = pd.to_datetime(df0['FechaRegistro'], format='%Y-%m-%d')"
   ]
  },
  {
   "cell_type": "code",
   "execution_count": 12,
   "metadata": {},
   "outputs": [],
   "source": [
    "#today = (datetime.datetime.now()).strftime(\"%Y%m%d\")\n",
    "today = (datetime.datetime.now() - datetime.timedelta(days=1)).strftime(\"%Y%m%d\")\n",
    "yesterday = (datetime.datetime.now() - datetime.timedelta(days=2)).strftime(\"%Y%m%d\")\n",
    "ereyesterday = (datetime.datetime.now() - datetime.timedelta(days=3)).strftime(\"%Y%m%d\")\n",
    "df= pd.read_csv( '../src/'+today       +'.csv', encoding = \"ISO-8859-1\",dtype =str)\n",
    "dfA= pd.read_csv('../src/'+yesterday   +'.csv', encoding = \"ISO-8859-1\",dtype =str)\n",
    "dfB= pd.read_csv('../src/'+ereyesterday+'.csv', encoding = \"ISO-8859-1\",dtype =str)"
   ]
  },
  {
   "cell_type": "markdown",
   "metadata": {},
   "source": [
    "## 1 How many cases we have in the last report vs db?"
   ]
  },
  {
   "cell_type": "code",
   "execution_count": 13,
   "metadata": {},
   "outputs": [],
   "source": [
    "# we get unique cases globaly and from the last csv \n",
    "global_ids = df0.ID_REGISTRO.unique().tolist()\n",
    "last_ids  = df.ID_REGISTRO.unique().tolist()\n",
    "# we get the cases that are present in previous reports but they doesn't show in the last report\n",
    "untracket_cases = set(global_ids)- set(last_ids)\n",
    "tracket_cases = set(last_ids)"
   ]
  },
  {
   "cell_type": "code",
   "execution_count": 14,
   "metadata": {},
   "outputs": [],
   "source": [
    "df0.FECHA_SINTOMAS = pd.to_datetime(df0['FECHA_SINTOMAS'], format ='%Y-%m-%d')"
   ]
  },
  {
   "cell_type": "code",
   "execution_count": 130,
   "metadata": {},
   "outputs": [
    {
     "data": {
      "text/markdown": [
       "we have 26225 register that are not tracket"
      ],
      "text/plain": [
       "<IPython.core.display.Markdown object>"
      ]
     },
     "execution_count": 130,
     "metadata": {},
     "output_type": "execute_result"
    }
   ],
   "source": [
    "# we extract the records that does not exist in the last report\n",
    "df1 = df0[df0.ID_REGISTRO.isin(untracket_cases)]\n",
    "df1 = df1.copy()\n",
    "\n",
    "md(\"we have {0} register that are not tracket\".format(df1.ID_REGISTRO.nunique()) )"
   ]
  },
  {
   "cell_type": "markdown",
   "metadata": {},
   "source": [
    "1. How many days the records exist\n",
    "2. Is there some kind or relation between the records?"
   ]
  },
  {
   "cell_type": "code",
   "execution_count": 131,
   "metadata": {},
   "outputs": [],
   "source": [
    "df1.FECHA_SINTOMAS = pd.to_datetime(df1['FECHA_SINTOMAS'], format ='%Y-%m-%d')\n",
    "df1.FECHA_ACTUALIZACION = pd.to_datetime(df1['FECHA_ACTUALIZACION'], format ='%Y-%m-%d')\n",
    "df1.FechaRegistro = pd.to_datetime(df1['FechaRegistro'], format ='%Y-%m-%d')\n"
   ]
  },
  {
   "cell_type": "code",
   "execution_count": 132,
   "metadata": {},
   "outputs": [],
   "source": [
    "# we get the duration of cases between records\n",
    "df1['LastDay']  = df1.groupby('ID_REGISTRO')['FechaRegistro'].transform('max')\n",
    "df1['FirstDay'] = df1.groupby('ID_REGISTRO')['FechaRegistro'].transform('min')\n",
    "df1['Duration'] = (df1.LastDay - df1.FirstDay).dt.days"
   ]
  },
  {
   "cell_type": "code",
   "execution_count": 133,
   "metadata": {},
   "outputs": [],
   "source": [
    "# We keep only one case to get plot correctly the cases\n",
    "df3 = df1.drop_duplicates(keep='first')\n",
    "df3 = df3.drop_duplicates('ID_REGISTRO',keep='first')\n",
    "df_3 = df3.groupby(['RESULTADO','Duration'])['Duration'].count().to_frame(name = 'count').reset_index()\n",
    "# sns.lineplot(x='Duration', y='count', data=df_3, hue='RESULTADO');"
   ]
  },
  {
   "cell_type": "code",
   "execution_count": 134,
   "metadata": {},
   "outputs": [
    {
     "data": {
      "text/plain": [
       "33606"
      ]
     },
     "execution_count": 134,
     "metadata": {},
     "output_type": "execute_result"
    }
   ],
   "source": [
    "len(df1[df1.Duration!=0].drop_duplicates(['ID_REGISTRO', 'ORIGEN', 'SECTOR', 'ENTIDAD_UM',\n",
    "       'SEXO', 'ENTIDAD_NAC', 'ENTIDAD_RES', 'MUNICIPIO_RES', 'TIPO_PACIENTE',\n",
    "       'FECHA_INGRESO', 'FECHA_SINTOMAS', 'FECHA_DEF', 'INTUBADO', 'NEUMONIA',\n",
    "       'EDAD', 'NACIONALIDAD', 'EMBARAZO', 'HABLA_LENGUA_INDIG', 'DIABETES',\n",
    "       'EPOC', 'ASMA', 'INMUSUPR', 'HIPERTENSION', 'OTRA_COM',\n",
    "       'CARDIOVASCULAR', 'OBESIDAD', 'RENAL_CRONICA', 'TABAQUISMO',\n",
    "       'OTRO_CASO', 'RESULTADO', 'MIGRANTE', 'PAIS_NACIONALIDAD',\n",
    "       'PAIS_ORIGEN', 'UCI']))"
   ]
  },
  {
   "cell_type": "code",
   "execution_count": 135,
   "metadata": {},
   "outputs": [
    {
     "data": {
      "text/plain": [
       "278427"
      ]
     },
     "execution_count": 135,
     "metadata": {},
     "output_type": "execute_result"
    }
   ],
   "source": [
    "len(df1)"
   ]
  },
  {
   "cell_type": "code",
   "execution_count": 136,
   "metadata": {},
   "outputs": [
    {
     "data": {
      "text/plain": [
       "276791"
      ]
     },
     "execution_count": 136,
     "metadata": {},
     "output_type": "execute_result"
    }
   ],
   "source": [
    "len(df1[df1.Duration!=0])"
   ]
  },
  {
   "cell_type": "code",
   "execution_count": 137,
   "metadata": {},
   "outputs": [
    {
     "data": {
      "text/plain": [
       "26225"
      ]
     },
     "execution_count": 137,
     "metadata": {},
     "output_type": "execute_result"
    }
   ],
   "source": [
    "df1.ID_REGISTRO.nunique()"
   ]
  },
  {
   "cell_type": "code",
   "execution_count": 128,
   "metadata": {},
   "outputs": [],
   "source": [
    "df1R = df1[df1.Duration!=0].drop_duplicates(['ID_REGISTRO', 'ORIGEN', 'SECTOR', 'ENTIDAD_UM',\n",
    "       'SEXO', 'ENTIDAD_NAC', 'ENTIDAD_RES', 'MUNICIPIO_RES', 'TIPO_PACIENTE',\n",
    "       'FECHA_INGRESO', 'FECHA_SINTOMAS', 'FECHA_DEF', 'INTUBADO', 'NEUMONIA',\n",
    "       'EDAD', 'NACIONALIDAD', 'EMBARAZO', 'HABLA_LENGUA_INDIG', 'DIABETES',\n",
    "       'EPOC', 'ASMA', 'INMUSUPR', 'HIPERTENSION', 'OTRA_COM',\n",
    "       'CARDIOVASCULAR', 'OBESIDAD', 'RENAL_CRONICA', 'TABAQUISMO',\n",
    "       'OTRO_CASO', 'RESULTADO', 'MIGRANTE', 'PAIS_NACIONALIDAD',\n",
    "       'PAIS_ORIGEN', 'UCI'])"
   ]
  },
  {
   "cell_type": "code",
   "execution_count": 129,
   "metadata": {},
   "outputs": [
    {
     "data": {
      "text/html": [
       "<div>\n",
       "<style scoped>\n",
       "    .dataframe tbody tr th:only-of-type {\n",
       "        vertical-align: middle;\n",
       "    }\n",
       "\n",
       "    .dataframe tbody tr th {\n",
       "        vertical-align: top;\n",
       "    }\n",
       "\n",
       "    .dataframe thead th {\n",
       "        text-align: right;\n",
       "    }\n",
       "</style>\n",
       "<table border=\"1\" class=\"dataframe\">\n",
       "  <thead>\n",
       "    <tr style=\"text-align: right;\">\n",
       "      <th></th>\n",
       "      <th>FECHA_ACTUALIZACION</th>\n",
       "      <th>ID_REGISTRO</th>\n",
       "      <th>ORIGEN</th>\n",
       "      <th>SECTOR</th>\n",
       "      <th>ENTIDAD_UM</th>\n",
       "      <th>SEXO</th>\n",
       "      <th>ENTIDAD_NAC</th>\n",
       "      <th>ENTIDAD_RES</th>\n",
       "      <th>MUNICIPIO_RES</th>\n",
       "      <th>TIPO_PACIENTE</th>\n",
       "      <th>...</th>\n",
       "      <th>RESULTADO</th>\n",
       "      <th>MIGRANTE</th>\n",
       "      <th>PAIS_NACIONALIDAD</th>\n",
       "      <th>PAIS_ORIGEN</th>\n",
       "      <th>UCI</th>\n",
       "      <th>FechaRegistro</th>\n",
       "      <th>MUNICIPIO</th>\n",
       "      <th>LastDay</th>\n",
       "      <th>FirstDay</th>\n",
       "      <th>Duration</th>\n",
       "    </tr>\n",
       "  </thead>\n",
       "  <tbody>\n",
       "    <tr>\n",
       "      <th>246916</th>\n",
       "      <td>2020-07-06</td>\n",
       "      <td>10175b</td>\n",
       "      <td>USMER</td>\n",
       "      <td>IMSS</td>\n",
       "      <td>VERACRUZ DE IGNACIO DE LA LLAVE</td>\n",
       "      <td>HOMBRE</td>\n",
       "      <td>VERACRUZ DE IGNACIO DE LA LLAVE</td>\n",
       "      <td>VERACRUZ DE IGNACIO DE LA LLAVE</td>\n",
       "      <td>COATZACOALCOS</td>\n",
       "      <td>AMBULATORIO</td>\n",
       "      <td>...</td>\n",
       "      <td>Positivo SARS-CoV-2</td>\n",
       "      <td>NO ESPECIFICADO</td>\n",
       "      <td>MÃ©xico</td>\n",
       "      <td>99</td>\n",
       "      <td>NO APLICA</td>\n",
       "      <td>2020-07-06</td>\n",
       "      <td>COATZACOALCOS</td>\n",
       "      <td>2020-07-06</td>\n",
       "      <td>2020-07-01</td>\n",
       "      <td>5</td>\n",
       "    </tr>\n",
       "    <tr>\n",
       "      <th>629528</th>\n",
       "      <td>2020-07-06</td>\n",
       "      <td>078f2e</td>\n",
       "      <td>USMER</td>\n",
       "      <td>IMSS</td>\n",
       "      <td>NUEVO LEÓN</td>\n",
       "      <td>HOMBRE</td>\n",
       "      <td>NUEVO LEÓN</td>\n",
       "      <td>NUEVO LEÓN</td>\n",
       "      <td>SAN NICOLÁS DE LOS GARZA</td>\n",
       "      <td>HOSPITALIZADO</td>\n",
       "      <td>...</td>\n",
       "      <td>Resultado pendiente</td>\n",
       "      <td>NO ESPECIFICADO</td>\n",
       "      <td>MÃ©xico</td>\n",
       "      <td>99</td>\n",
       "      <td>NO</td>\n",
       "      <td>2020-07-06</td>\n",
       "      <td>SAN NICOLÁS DE LOS GARZA</td>\n",
       "      <td>2020-07-06</td>\n",
       "      <td>2020-06-27</td>\n",
       "      <td>9</td>\n",
       "    </tr>\n",
       "    <tr>\n",
       "      <th>622259</th>\n",
       "      <td>2020-07-06</td>\n",
       "      <td>19a5f7</td>\n",
       "      <td>FUERA DE USMER</td>\n",
       "      <td>ISSSTE</td>\n",
       "      <td>CIUDAD DE MÉXICO</td>\n",
       "      <td>HOMBRE</td>\n",
       "      <td>QUERÉTARO</td>\n",
       "      <td>MÉXICO</td>\n",
       "      <td>NAUCALPAN DE JUÁREZ</td>\n",
       "      <td>HOSPITALIZADO</td>\n",
       "      <td>...</td>\n",
       "      <td>Resultado pendiente</td>\n",
       "      <td>NO ESPECIFICADO</td>\n",
       "      <td>MÃ©xico</td>\n",
       "      <td>99</td>\n",
       "      <td>NO</td>\n",
       "      <td>2020-07-06</td>\n",
       "      <td>NAUCALPAN DE JUÁREZ</td>\n",
       "      <td>2020-07-06</td>\n",
       "      <td>2020-06-18</td>\n",
       "      <td>18</td>\n",
       "    </tr>\n",
       "    <tr>\n",
       "      <th>622318</th>\n",
       "      <td>2020-07-06</td>\n",
       "      <td>14f085</td>\n",
       "      <td>USMER</td>\n",
       "      <td>SSA</td>\n",
       "      <td>MÉXICO</td>\n",
       "      <td>MUJER</td>\n",
       "      <td>MÉXICO</td>\n",
       "      <td>MÉXICO</td>\n",
       "      <td>CUAUTITLÁN IZCALLI</td>\n",
       "      <td>HOSPITALIZADO</td>\n",
       "      <td>...</td>\n",
       "      <td>Resultado pendiente</td>\n",
       "      <td>NO ESPECIFICADO</td>\n",
       "      <td>MÃ©xico</td>\n",
       "      <td>99</td>\n",
       "      <td>NO</td>\n",
       "      <td>2020-07-06</td>\n",
       "      <td>CUAUTITLÁN IZCALLI</td>\n",
       "      <td>2020-07-06</td>\n",
       "      <td>2020-06-30</td>\n",
       "      <td>6</td>\n",
       "    </tr>\n",
       "    <tr>\n",
       "      <th>619937</th>\n",
       "      <td>2020-07-06</td>\n",
       "      <td>02d8ee</td>\n",
       "      <td>USMER</td>\n",
       "      <td>SSA</td>\n",
       "      <td>MÉXICO</td>\n",
       "      <td>MUJER</td>\n",
       "      <td>MÉXICO</td>\n",
       "      <td>MÉXICO</td>\n",
       "      <td>TOLUCA</td>\n",
       "      <td>HOSPITALIZADO</td>\n",
       "      <td>...</td>\n",
       "      <td>Resultado pendiente</td>\n",
       "      <td>NO ESPECIFICADO</td>\n",
       "      <td>MÃ©xico</td>\n",
       "      <td>99</td>\n",
       "      <td>NO</td>\n",
       "      <td>2020-07-06</td>\n",
       "      <td>TOLUCA</td>\n",
       "      <td>2020-07-06</td>\n",
       "      <td>2020-07-01</td>\n",
       "      <td>5</td>\n",
       "    </tr>\n",
       "  </tbody>\n",
       "</table>\n",
       "<p>5 rows × 40 columns</p>\n",
       "</div>"
      ],
      "text/plain": [
       "       FECHA_ACTUALIZACION ID_REGISTRO          ORIGEN  SECTOR  \\\n",
       "246916          2020-07-06      10175b           USMER    IMSS   \n",
       "629528          2020-07-06      078f2e           USMER    IMSS   \n",
       "622259          2020-07-06      19a5f7  FUERA DE USMER  ISSSTE   \n",
       "622318          2020-07-06      14f085           USMER     SSA   \n",
       "619937          2020-07-06      02d8ee           USMER     SSA   \n",
       "\n",
       "                             ENTIDAD_UM    SEXO  \\\n",
       "246916  VERACRUZ DE IGNACIO DE LA LLAVE  HOMBRE   \n",
       "629528                       NUEVO LEÓN  HOMBRE   \n",
       "622259                 CIUDAD DE MÉXICO  HOMBRE   \n",
       "622318                           MÉXICO   MUJER   \n",
       "619937                           MÉXICO   MUJER   \n",
       "\n",
       "                            ENTIDAD_NAC                      ENTIDAD_RES  \\\n",
       "246916  VERACRUZ DE IGNACIO DE LA LLAVE  VERACRUZ DE IGNACIO DE LA LLAVE   \n",
       "629528                       NUEVO LEÓN                       NUEVO LEÓN   \n",
       "622259                        QUERÉTARO                           MÉXICO   \n",
       "622318                           MÉXICO                           MÉXICO   \n",
       "619937                           MÉXICO                           MÉXICO   \n",
       "\n",
       "                   MUNICIPIO_RES  TIPO_PACIENTE  ...            RESULTADO  \\\n",
       "246916             COATZACOALCOS    AMBULATORIO  ...  Positivo SARS-CoV-2   \n",
       "629528  SAN NICOLÁS DE LOS GARZA  HOSPITALIZADO  ...  Resultado pendiente   \n",
       "622259       NAUCALPAN DE JUÁREZ  HOSPITALIZADO  ...  Resultado pendiente   \n",
       "622318        CUAUTITLÁN IZCALLI  HOSPITALIZADO  ...  Resultado pendiente   \n",
       "619937                    TOLUCA  HOSPITALIZADO  ...  Resultado pendiente   \n",
       "\n",
       "               MIGRANTE PAIS_NACIONALIDAD PAIS_ORIGEN        UCI  \\\n",
       "246916  NO ESPECIFICADO           MÃ©xico          99  NO APLICA   \n",
       "629528  NO ESPECIFICADO           MÃ©xico          99        NO    \n",
       "622259  NO ESPECIFICADO           MÃ©xico          99        NO    \n",
       "622318  NO ESPECIFICADO           MÃ©xico          99        NO    \n",
       "619937  NO ESPECIFICADO           MÃ©xico          99        NO    \n",
       "\n",
       "       FechaRegistro                 MUNICIPIO    LastDay   FirstDay Duration  \n",
       "246916    2020-07-06             COATZACOALCOS 2020-07-06 2020-07-01        5  \n",
       "629528    2020-07-06  SAN NICOLÁS DE LOS GARZA 2020-07-06 2020-06-27        9  \n",
       "622259    2020-07-06       NAUCALPAN DE JUÁREZ 2020-07-06 2020-06-18       18  \n",
       "622318    2020-07-06        CUAUTITLÁN IZCALLI 2020-07-06 2020-06-30        6  \n",
       "619937    2020-07-06                    TOLUCA 2020-07-06 2020-07-01        5  \n",
       "\n",
       "[5 rows x 40 columns]"
      ]
     },
     "execution_count": 129,
     "metadata": {},
     "output_type": "execute_result"
    }
   ],
   "source": [
    "df1R.head()"
   ]
  },
  {
   "cell_type": "code",
   "execution_count": null,
   "metadata": {},
   "outputs": [],
   "source": []
  },
  {
   "cell_type": "code",
   "execution_count": 109,
   "metadata": {},
   "outputs": [
    {
     "data": {
      "text/html": [
       "<div>\n",
       "<style scoped>\n",
       "    .dataframe tbody tr th:only-of-type {\n",
       "        vertical-align: middle;\n",
       "    }\n",
       "\n",
       "    .dataframe tbody tr th {\n",
       "        vertical-align: top;\n",
       "    }\n",
       "\n",
       "    .dataframe thead th {\n",
       "        text-align: right;\n",
       "    }\n",
       "</style>\n",
       "<table border=\"1\" class=\"dataframe\">\n",
       "  <thead>\n",
       "    <tr style=\"text-align: right;\">\n",
       "      <th></th>\n",
       "      <th>FECHA_ACTUALIZACION</th>\n",
       "      <th>ID_REGISTRO</th>\n",
       "      <th>ORIGEN</th>\n",
       "      <th>SECTOR</th>\n",
       "      <th>ENTIDAD_UM</th>\n",
       "      <th>SEXO</th>\n",
       "      <th>ENTIDAD_NAC</th>\n",
       "      <th>ENTIDAD_RES</th>\n",
       "      <th>MUNICIPIO_RES</th>\n",
       "      <th>TIPO_PACIENTE</th>\n",
       "      <th>...</th>\n",
       "      <th>RESULTADO</th>\n",
       "      <th>MIGRANTE</th>\n",
       "      <th>PAIS_NACIONALIDAD</th>\n",
       "      <th>PAIS_ORIGEN</th>\n",
       "      <th>UCI</th>\n",
       "      <th>FechaRegistro</th>\n",
       "      <th>MUNICIPIO</th>\n",
       "      <th>LastDay</th>\n",
       "      <th>FirstDay</th>\n",
       "      <th>Duration</th>\n",
       "    </tr>\n",
       "  </thead>\n",
       "  <tbody>\n",
       "    <tr>\n",
       "      <th>649786</th>\n",
       "      <td>2020-07-06</td>\n",
       "      <td>19a5ec</td>\n",
       "      <td>FUERA DE USMER</td>\n",
       "      <td>IMSS</td>\n",
       "      <td>JALISCO</td>\n",
       "      <td>MUJER</td>\n",
       "      <td>JALISCO</td>\n",
       "      <td>JALISCO</td>\n",
       "      <td>ZAPOTLÁN EL GRANDE</td>\n",
       "      <td>AMBULATORIO</td>\n",
       "      <td>...</td>\n",
       "      <td>Resultado pendiente</td>\n",
       "      <td>NO ESPECIFICADO</td>\n",
       "      <td>MÃ©xico</td>\n",
       "      <td>99</td>\n",
       "      <td>NO APLICA</td>\n",
       "      <td>2020-07-06</td>\n",
       "      <td>ZAPOTLÁN EL GRANDE</td>\n",
       "      <td>2020-07-06</td>\n",
       "      <td>2020-07-06</td>\n",
       "      <td>0</td>\n",
       "    </tr>\n",
       "    <tr>\n",
       "      <th>602689</th>\n",
       "      <td>2020-07-06</td>\n",
       "      <td>1c22a0</td>\n",
       "      <td>USMER</td>\n",
       "      <td>IMSS</td>\n",
       "      <td>MICHOACÁN DE OCAMPO</td>\n",
       "      <td>MUJER</td>\n",
       "      <td>CHIAPAS</td>\n",
       "      <td>MICHOACÁN DE OCAMPO</td>\n",
       "      <td>LÁZARO CÁRDENAS</td>\n",
       "      <td>HOSPITALIZADO</td>\n",
       "      <td>...</td>\n",
       "      <td>Resultado pendiente</td>\n",
       "      <td>NO ESPECIFICADO</td>\n",
       "      <td>MÃ©xico</td>\n",
       "      <td>99</td>\n",
       "      <td>NO</td>\n",
       "      <td>2020-07-06</td>\n",
       "      <td>LÁZARO CÁRDENAS</td>\n",
       "      <td>2020-07-06</td>\n",
       "      <td>2020-07-06</td>\n",
       "      <td>0</td>\n",
       "    </tr>\n",
       "    <tr>\n",
       "      <th>644832</th>\n",
       "      <td>2020-07-06</td>\n",
       "      <td>191189</td>\n",
       "      <td>USMER</td>\n",
       "      <td>SSA</td>\n",
       "      <td>BAJA CALIFORNIA</td>\n",
       "      <td>HOMBRE</td>\n",
       "      <td>BAJA CALIFORNIA</td>\n",
       "      <td>BAJA CALIFORNIA</td>\n",
       "      <td>MEXICALI</td>\n",
       "      <td>HOSPITALIZADO</td>\n",
       "      <td>...</td>\n",
       "      <td>Resultado pendiente</td>\n",
       "      <td>NO ESPECIFICADO</td>\n",
       "      <td>MÃ©xico</td>\n",
       "      <td>99</td>\n",
       "      <td>NO</td>\n",
       "      <td>2020-07-06</td>\n",
       "      <td>MEXICALI</td>\n",
       "      <td>2020-07-06</td>\n",
       "      <td>2020-07-06</td>\n",
       "      <td>0</td>\n",
       "    </tr>\n",
       "    <tr>\n",
       "      <th>642418</th>\n",
       "      <td>2020-07-06</td>\n",
       "      <td>17ec15</td>\n",
       "      <td>USMER</td>\n",
       "      <td>SSA</td>\n",
       "      <td>PUEBLA</td>\n",
       "      <td>HOMBRE</td>\n",
       "      <td>PUEBLA</td>\n",
       "      <td>PUEBLA</td>\n",
       "      <td>ATLIXCO</td>\n",
       "      <td>AMBULATORIO</td>\n",
       "      <td>...</td>\n",
       "      <td>Resultado pendiente</td>\n",
       "      <td>NO ESPECIFICADO</td>\n",
       "      <td>MÃ©xico</td>\n",
       "      <td>99</td>\n",
       "      <td>NO APLICA</td>\n",
       "      <td>2020-07-06</td>\n",
       "      <td>ATLIXCO</td>\n",
       "      <td>2020-07-06</td>\n",
       "      <td>2020-07-06</td>\n",
       "      <td>0</td>\n",
       "    </tr>\n",
       "    <tr>\n",
       "      <th>112937</th>\n",
       "      <td>2020-07-06</td>\n",
       "      <td>1288df</td>\n",
       "      <td>FUERA DE USMER</td>\n",
       "      <td>IMSS</td>\n",
       "      <td>VERACRUZ DE IGNACIO DE LA LLAVE</td>\n",
       "      <td>HOMBRE</td>\n",
       "      <td>VERACRUZ DE IGNACIO DE LA LLAVE</td>\n",
       "      <td>VERACRUZ DE IGNACIO DE LA LLAVE</td>\n",
       "      <td>VERACRUZ</td>\n",
       "      <td>AMBULATORIO</td>\n",
       "      <td>...</td>\n",
       "      <td>Positivo SARS-CoV-2</td>\n",
       "      <td>NO ESPECIFICADO</td>\n",
       "      <td>MÃ©xico</td>\n",
       "      <td>99</td>\n",
       "      <td>NO APLICA</td>\n",
       "      <td>2020-07-06</td>\n",
       "      <td>VERACRUZ</td>\n",
       "      <td>2020-07-06</td>\n",
       "      <td>2020-07-06</td>\n",
       "      <td>0</td>\n",
       "    </tr>\n",
       "  </tbody>\n",
       "</table>\n",
       "<p>5 rows × 40 columns</p>\n",
       "</div>"
      ],
      "text/plain": [
       "       FECHA_ACTUALIZACION ID_REGISTRO          ORIGEN SECTOR  \\\n",
       "649786          2020-07-06      19a5ec  FUERA DE USMER   IMSS   \n",
       "602689          2020-07-06      1c22a0           USMER   IMSS   \n",
       "644832          2020-07-06      191189           USMER    SSA   \n",
       "642418          2020-07-06      17ec15           USMER    SSA   \n",
       "112937          2020-07-06      1288df  FUERA DE USMER   IMSS   \n",
       "\n",
       "                             ENTIDAD_UM    SEXO  \\\n",
       "649786                          JALISCO   MUJER   \n",
       "602689              MICHOACÁN DE OCAMPO   MUJER   \n",
       "644832                  BAJA CALIFORNIA  HOMBRE   \n",
       "642418                           PUEBLA  HOMBRE   \n",
       "112937  VERACRUZ DE IGNACIO DE LA LLAVE  HOMBRE   \n",
       "\n",
       "                            ENTIDAD_NAC                      ENTIDAD_RES  \\\n",
       "649786                          JALISCO                          JALISCO   \n",
       "602689                          CHIAPAS              MICHOACÁN DE OCAMPO   \n",
       "644832                  BAJA CALIFORNIA                  BAJA CALIFORNIA   \n",
       "642418                           PUEBLA                           PUEBLA   \n",
       "112937  VERACRUZ DE IGNACIO DE LA LLAVE  VERACRUZ DE IGNACIO DE LA LLAVE   \n",
       "\n",
       "             MUNICIPIO_RES  TIPO_PACIENTE  ...            RESULTADO  \\\n",
       "649786  ZAPOTLÁN EL GRANDE    AMBULATORIO  ...  Resultado pendiente   \n",
       "602689     LÁZARO CÁRDENAS  HOSPITALIZADO  ...  Resultado pendiente   \n",
       "644832            MEXICALI  HOSPITALIZADO  ...  Resultado pendiente   \n",
       "642418             ATLIXCO    AMBULATORIO  ...  Resultado pendiente   \n",
       "112937            VERACRUZ    AMBULATORIO  ...  Positivo SARS-CoV-2   \n",
       "\n",
       "               MIGRANTE PAIS_NACIONALIDAD PAIS_ORIGEN        UCI  \\\n",
       "649786  NO ESPECIFICADO           MÃ©xico          99  NO APLICA   \n",
       "602689  NO ESPECIFICADO           MÃ©xico          99        NO    \n",
       "644832  NO ESPECIFICADO           MÃ©xico          99        NO    \n",
       "642418  NO ESPECIFICADO           MÃ©xico          99  NO APLICA   \n",
       "112937  NO ESPECIFICADO           MÃ©xico          99  NO APLICA   \n",
       "\n",
       "       FechaRegistro           MUNICIPIO    LastDay   FirstDay Duration  \n",
       "649786    2020-07-06  ZAPOTLÁN EL GRANDE 2020-07-06 2020-07-06        0  \n",
       "602689    2020-07-06     LÁZARO CÁRDENAS 2020-07-06 2020-07-06        0  \n",
       "644832    2020-07-06            MEXICALI 2020-07-06 2020-07-06        0  \n",
       "642418    2020-07-06             ATLIXCO 2020-07-06 2020-07-06        0  \n",
       "112937    2020-07-06            VERACRUZ 2020-07-06 2020-07-06        0  \n",
       "\n",
       "[5 rows x 40 columns]"
      ]
     },
     "execution_count": 109,
     "metadata": {},
     "output_type": "execute_result"
    }
   ],
   "source": [
    "df1[df1.Duration==0].drop_duplicates(['ID_REGISTRO', 'ORIGEN', 'SECTOR', 'ENTIDAD_UM',\n",
    "       'SEXO', 'ENTIDAD_NAC', 'ENTIDAD_RES', 'MUNICIPIO_RES', 'TIPO_PACIENTE',\n",
    "       'FECHA_INGRESO', 'FECHA_SINTOMAS', 'FECHA_DEF', 'INTUBADO', 'NEUMONIA',\n",
    "       'EDAD', 'NACIONALIDAD', 'EMBARAZO', 'HABLA_LENGUA_INDIG', 'DIABETES',\n",
    "       'EPOC', 'ASMA', 'INMUSUPR', 'HIPERTENSION', 'OTRA_COM',\n",
    "       'CARDIOVASCULAR', 'OBESIDAD', 'RENAL_CRONICA', 'TABAQUISMO',\n",
    "       'OTRO_CASO', 'RESULTADO', 'MIGRANTE', 'PAIS_NACIONALIDAD',\n",
    "       'PAIS_ORIGEN', 'UCI']).head()"
   ]
  },
  {
   "cell_type": "code",
   "execution_count": 115,
   "metadata": {},
   "outputs": [
    {
     "data": {
      "text/html": [
       "<div>\n",
       "<style scoped>\n",
       "    .dataframe tbody tr th:only-of-type {\n",
       "        vertical-align: middle;\n",
       "    }\n",
       "\n",
       "    .dataframe tbody tr th {\n",
       "        vertical-align: top;\n",
       "    }\n",
       "\n",
       "    .dataframe thead th {\n",
       "        text-align: right;\n",
       "    }\n",
       "</style>\n",
       "<table border=\"1\" class=\"dataframe\">\n",
       "  <thead>\n",
       "    <tr style=\"text-align: right;\">\n",
       "      <th></th>\n",
       "      <th>FECHA_ACTUALIZACION</th>\n",
       "      <th>ID_REGISTRO</th>\n",
       "      <th>ORIGEN</th>\n",
       "      <th>SECTOR</th>\n",
       "      <th>ENTIDAD_UM</th>\n",
       "      <th>SEXO</th>\n",
       "      <th>ENTIDAD_NAC</th>\n",
       "      <th>ENTIDAD_RES</th>\n",
       "      <th>MUNICIPIO_RES</th>\n",
       "      <th>TIPO_PACIENTE</th>\n",
       "      <th>...</th>\n",
       "      <th>RESULTADO</th>\n",
       "      <th>MIGRANTE</th>\n",
       "      <th>PAIS_NACIONALIDAD</th>\n",
       "      <th>PAIS_ORIGEN</th>\n",
       "      <th>UCI</th>\n",
       "      <th>FechaRegistro</th>\n",
       "      <th>MUNICIPIO</th>\n",
       "      <th>LastDay</th>\n",
       "      <th>FirstDay</th>\n",
       "      <th>Duration</th>\n",
       "    </tr>\n",
       "  </thead>\n",
       "  <tbody>\n",
       "    <tr>\n",
       "      <th>112937</th>\n",
       "      <td>2020-07-06</td>\n",
       "      <td>1288df</td>\n",
       "      <td>FUERA DE USMER</td>\n",
       "      <td>IMSS</td>\n",
       "      <td>VERACRUZ DE IGNACIO DE LA LLAVE</td>\n",
       "      <td>HOMBRE</td>\n",
       "      <td>VERACRUZ DE IGNACIO DE LA LLAVE</td>\n",
       "      <td>VERACRUZ DE IGNACIO DE LA LLAVE</td>\n",
       "      <td>VERACRUZ</td>\n",
       "      <td>AMBULATORIO</td>\n",
       "      <td>...</td>\n",
       "      <td>Positivo SARS-CoV-2</td>\n",
       "      <td>NO ESPECIFICADO</td>\n",
       "      <td>MÃ©xico</td>\n",
       "      <td>99</td>\n",
       "      <td>NO APLICA</td>\n",
       "      <td>2020-07-06</td>\n",
       "      <td>VERACRUZ</td>\n",
       "      <td>2020-07-06</td>\n",
       "      <td>2020-07-06</td>\n",
       "      <td>0</td>\n",
       "    </tr>\n",
       "  </tbody>\n",
       "</table>\n",
       "<p>1 rows × 40 columns</p>\n",
       "</div>"
      ],
      "text/plain": [
       "       FECHA_ACTUALIZACION ID_REGISTRO          ORIGEN SECTOR  \\\n",
       "112937          2020-07-06      1288df  FUERA DE USMER   IMSS   \n",
       "\n",
       "                             ENTIDAD_UM    SEXO  \\\n",
       "112937  VERACRUZ DE IGNACIO DE LA LLAVE  HOMBRE   \n",
       "\n",
       "                            ENTIDAD_NAC                      ENTIDAD_RES  \\\n",
       "112937  VERACRUZ DE IGNACIO DE LA LLAVE  VERACRUZ DE IGNACIO DE LA LLAVE   \n",
       "\n",
       "       MUNICIPIO_RES TIPO_PACIENTE  ...            RESULTADO         MIGRANTE  \\\n",
       "112937      VERACRUZ   AMBULATORIO  ...  Positivo SARS-CoV-2  NO ESPECIFICADO   \n",
       "\n",
       "       PAIS_NACIONALIDAD PAIS_ORIGEN        UCI FechaRegistro MUNICIPIO  \\\n",
       "112937           MÃ©xico          99  NO APLICA    2020-07-06  VERACRUZ   \n",
       "\n",
       "          LastDay   FirstDay Duration  \n",
       "112937 2020-07-06 2020-07-06        0  \n",
       "\n",
       "[1 rows x 40 columns]"
      ]
     },
     "execution_count": 115,
     "metadata": {},
     "output_type": "execute_result"
    }
   ],
   "source": [
    "df1[df1.ID_REGISTRO=='1288df']"
   ]
  },
  {
   "cell_type": "code",
   "execution_count": 138,
   "metadata": {},
   "outputs": [
    {
     "data": {
      "text/plain": [
       "24589"
      ]
     },
     "execution_count": 138,
     "metadata": {},
     "output_type": "execute_result"
    }
   ],
   "source": [
    "df3.shape[0]-df3[df3.Duration==0].shape[0]"
   ]
  },
  {
   "cell_type": "code",
   "execution_count": 152,
   "metadata": {},
   "outputs": [
    {
     "data": {
      "text/html": [
       "<div>\n",
       "<style scoped>\n",
       "    .dataframe tbody tr th:only-of-type {\n",
       "        vertical-align: middle;\n",
       "    }\n",
       "\n",
       "    .dataframe tbody tr th {\n",
       "        vertical-align: top;\n",
       "    }\n",
       "\n",
       "    .dataframe thead th {\n",
       "        text-align: right;\n",
       "    }\n",
       "</style>\n",
       "<table border=\"1\" class=\"dataframe\">\n",
       "  <thead>\n",
       "    <tr style=\"text-align: right;\">\n",
       "      <th></th>\n",
       "      <th>Duration</th>\n",
       "      <th>count</th>\n",
       "    </tr>\n",
       "  </thead>\n",
       "  <tbody>\n",
       "    <tr>\n",
       "      <th>0</th>\n",
       "      <td>0</td>\n",
       "      <td>1636</td>\n",
       "    </tr>\n",
       "    <tr>\n",
       "      <th>1</th>\n",
       "      <td>1</td>\n",
       "      <td>1495</td>\n",
       "    </tr>\n",
       "    <tr>\n",
       "      <th>2</th>\n",
       "      <td>2</td>\n",
       "      <td>1581</td>\n",
       "    </tr>\n",
       "    <tr>\n",
       "      <th>3</th>\n",
       "      <td>3</td>\n",
       "      <td>1651</td>\n",
       "    </tr>\n",
       "    <tr>\n",
       "      <th>4</th>\n",
       "      <td>4</td>\n",
       "      <td>3520</td>\n",
       "    </tr>\n",
       "    <tr>\n",
       "      <th>5</th>\n",
       "      <td>5</td>\n",
       "      <td>1757</td>\n",
       "    </tr>\n",
       "    <tr>\n",
       "      <th>6</th>\n",
       "      <td>6</td>\n",
       "      <td>1594</td>\n",
       "    </tr>\n",
       "    <tr>\n",
       "      <th>7</th>\n",
       "      <td>7</td>\n",
       "      <td>1941</td>\n",
       "    </tr>\n",
       "    <tr>\n",
       "      <th>8</th>\n",
       "      <td>8</td>\n",
       "      <td>2741</td>\n",
       "    </tr>\n",
       "    <tr>\n",
       "      <th>9</th>\n",
       "      <td>9</td>\n",
       "      <td>818</td>\n",
       "    </tr>\n",
       "    <tr>\n",
       "      <th>10</th>\n",
       "      <td>10</td>\n",
       "      <td>781</td>\n",
       "    </tr>\n",
       "    <tr>\n",
       "      <th>11</th>\n",
       "      <td>11</td>\n",
       "      <td>737</td>\n",
       "    </tr>\n",
       "    <tr>\n",
       "      <th>12</th>\n",
       "      <td>12</td>\n",
       "      <td>507</td>\n",
       "    </tr>\n",
       "    <tr>\n",
       "      <th>13</th>\n",
       "      <td>13</td>\n",
       "      <td>384</td>\n",
       "    </tr>\n",
       "    <tr>\n",
       "      <th>14</th>\n",
       "      <td>14</td>\n",
       "      <td>300</td>\n",
       "    </tr>\n",
       "    <tr>\n",
       "      <th>15</th>\n",
       "      <td>15</td>\n",
       "      <td>258</td>\n",
       "    </tr>\n",
       "    <tr>\n",
       "      <th>16</th>\n",
       "      <td>16</td>\n",
       "      <td>238</td>\n",
       "    </tr>\n",
       "    <tr>\n",
       "      <th>17</th>\n",
       "      <td>17</td>\n",
       "      <td>231</td>\n",
       "    </tr>\n",
       "    <tr>\n",
       "      <th>18</th>\n",
       "      <td>18</td>\n",
       "      <td>236</td>\n",
       "    </tr>\n",
       "    <tr>\n",
       "      <th>19</th>\n",
       "      <td>19</td>\n",
       "      <td>252</td>\n",
       "    </tr>\n",
       "    <tr>\n",
       "      <th>20</th>\n",
       "      <td>20</td>\n",
       "      <td>251</td>\n",
       "    </tr>\n",
       "    <tr>\n",
       "      <th>21</th>\n",
       "      <td>21</td>\n",
       "      <td>254</td>\n",
       "    </tr>\n",
       "    <tr>\n",
       "      <th>22</th>\n",
       "      <td>22</td>\n",
       "      <td>177</td>\n",
       "    </tr>\n",
       "    <tr>\n",
       "      <th>23</th>\n",
       "      <td>23</td>\n",
       "      <td>155</td>\n",
       "    </tr>\n",
       "    <tr>\n",
       "      <th>24</th>\n",
       "      <td>24</td>\n",
       "      <td>157</td>\n",
       "    </tr>\n",
       "    <tr>\n",
       "      <th>25</th>\n",
       "      <td>25</td>\n",
       "      <td>182</td>\n",
       "    </tr>\n",
       "    <tr>\n",
       "      <th>26</th>\n",
       "      <td>26</td>\n",
       "      <td>147</td>\n",
       "    </tr>\n",
       "    <tr>\n",
       "      <th>27</th>\n",
       "      <td>27</td>\n",
       "      <td>149</td>\n",
       "    </tr>\n",
       "    <tr>\n",
       "      <th>28</th>\n",
       "      <td>28</td>\n",
       "      <td>137</td>\n",
       "    </tr>\n",
       "    <tr>\n",
       "      <th>29</th>\n",
       "      <td>29</td>\n",
       "      <td>128</td>\n",
       "    </tr>\n",
       "  </tbody>\n",
       "</table>\n",
       "</div>"
      ],
      "text/plain": [
       "    Duration  count\n",
       "0          0   1636\n",
       "1          1   1495\n",
       "2          2   1581\n",
       "3          3   1651\n",
       "4          4   3520\n",
       "5          5   1757\n",
       "6          6   1594\n",
       "7          7   1941\n",
       "8          8   2741\n",
       "9          9    818\n",
       "10        10    781\n",
       "11        11    737\n",
       "12        12    507\n",
       "13        13    384\n",
       "14        14    300\n",
       "15        15    258\n",
       "16        16    238\n",
       "17        17    231\n",
       "18        18    236\n",
       "19        19    252\n",
       "20        20    251\n",
       "21        21    254\n",
       "22        22    177\n",
       "23        23    155\n",
       "24        24    157\n",
       "25        25    182\n",
       "26        26    147\n",
       "27        27    149\n",
       "28        28    137\n",
       "29        29    128"
      ]
     },
     "execution_count": 152,
     "metadata": {},
     "output_type": "execute_result"
    }
   ],
   "source": [
    "df_3.head(30)"
   ]
  },
  {
   "cell_type": "code",
   "execution_count": 148,
   "metadata": {},
   "outputs": [
    {
     "data": {
      "text/plain": [
       "<matplotlib.axes._subplots.AxesSubplot at 0x7f4f8a9b6890>"
      ]
     },
     "execution_count": 148,
     "metadata": {},
     "output_type": "execute_result"
    },
    {
     "data": {
      "image/png": "[encoded data removed]",
      "text/plain": [
       "<Figure size 432x288 with 1 Axes>"
      ]
     },
     "metadata": {
      "needs_background": "light"
     },
     "output_type": "display_data"
    }
   ],
   "source": [
    "df_3 = df3.groupby(['Duration'])['Duration'].count().to_frame(name = 'count').reset_index()\n",
    "sns.lineplot(x='Duration',y='count',  data=df_3[['Duration','count']],)#, palette=sns.color_palette(\"Set1\", 3))"
   ]
  },
  {
   "cell_type": "code",
   "execution_count": 20,
   "metadata": {},
   "outputs": [
    {
     "data": {
      "text/plain": [
       "<matplotlib.axes._subplots.AxesSubplot at 0x7f8e4e6d8710>"
      ]
     },
     "execution_count": 20,
     "metadata": {},
     "output_type": "execute_result"
    },
    {
     "data": {
      "image/png": "[encoded data removed]",
      "text/plain": [
       "<Figure size 432x288 with 1 Axes>"
      ]
     },
     "metadata": {
      "needs_background": "light"
     },
     "output_type": "display_data"
    }
   ],
   "source": [
    "sns.lineplot(x='Duration', y='count', data=df_3, style='RESULTADO')#, palette=sns.color_palette(\"Set1\", 3))"
   ]
  },
  {
   "cell_type": "code",
   "execution_count": 21,
   "metadata": {},
   "outputs": [],
   "source": [
    "df3['EDAD_int'] = df3.EDAD.astype(int)"
   ]
  },
  {
   "cell_type": "code",
   "execution_count": 90,
   "metadata": {},
   "outputs": [
    {
     "data": {
      "text/plain": [
       "RESULTADO               Duration\n",
       "No positivo SARS-CoV-2  0             14\n",
       "                        1             44\n",
       "                        2             74\n",
       "                        3            105\n",
       "                        4           1807\n",
       "                                    ... \n",
       "Resultado pendiente     60             1\n",
       "                        61             1\n",
       "                        63             1\n",
       "                        65             2\n",
       "                        69             1\n",
       "Name: Duration, Length: 219, dtype: int64"
      ]
     },
     "execution_count": 90,
     "metadata": {},
     "output_type": "execute_result"
    }
   ],
   "source": [
    "df3.groupby(['RESULTADO','Duration'])['Duration'].count().sort_values(by='FechaRegistro', ascending=False)#.to_frame(name = 'count').reset_index()"
   ]
  },
  {
   "cell_type": "code",
   "execution_count": null,
   "metadata": {},
   "outputs": [],
   "source": []
  },
  {
   "cell_type": "code",
   "execution_count": 22,
   "metadata": {
    "scrolled": true
   },
   "outputs": [
    {
     "data": {
      "text/plain": [
       "<matplotlib.axes._subplots.AxesSubplot at 0x7f4f8777b990>"
      ]
     },
     "execution_count": 22,
     "metadata": {},
     "output_type": "execute_result"
    },
    {
     "data": {
      "image/png": "[encoded data removed]",
      "text/plain": [
       "<Figure size 432x288 with 1 Axes>"
      ]
     },
     "metadata": {
      "needs_background": "light"
     },
     "output_type": "display_data"
    }
   ],
   "source": [
    "df3.groupby('EDAD_int')['EDAD_int'].count().plot()"
   ]
  },
  {
   "cell_type": "code",
   "execution_count": 23,
   "metadata": {},
   "outputs": [],
   "source": [
    "df1.FechaRegistro = pd.to_datetime(df1['FechaRegistro'], format='%Y-%m-%d')\n",
    "df1 = df1.sort_values(by='FechaRegistro', ascending=False)"
   ]
  },
  {
   "cell_type": "code",
   "execution_count": 37,
   "metadata": {},
   "outputs": [
    {
     "data": {
      "text/plain": [
       "(26225, 40)"
      ]
     },
     "execution_count": 37,
     "metadata": {},
     "output_type": "execute_result"
    }
   ],
   "source": [
    "df3.shape"
   ]
  },
  {
   "cell_type": "code",
   "execution_count": 26,
   "metadata": {},
   "outputs": [
    {
     "name": "stdout",
     "output_type": "stream",
     "text": [
      "278427\n",
      "278427\n"
     ]
    }
   ],
   "source": [
    "print(len(df1))\n",
    "df3 = df1.drop_duplicates(keep='first')\n",
    "# print(len(df3))\n",
    "df3 = df3.drop_duplicates('ID_REGISTRO',keep='first')\n",
    "# print(len(df3))\n",
    "print(len(df1))"
   ]
  },
  {
   "cell_type": "code",
   "execution_count": 27,
   "metadata": {},
   "outputs": [
    {
     "data": {
      "text/plain": [
       "Index(['FECHA_ACTUALIZACION', 'ID_REGISTRO', 'ORIGEN', 'SECTOR', 'ENTIDAD_UM',\n",
       "       'SEXO', 'ENTIDAD_NAC', 'ENTIDAD_RES', 'MUNICIPIO_RES', 'TIPO_PACIENTE',\n",
       "       'FECHA_INGRESO', 'FECHA_SINTOMAS', 'FECHA_DEF', 'INTUBADO', 'NEUMONIA',\n",
       "       'EDAD', 'NACIONALIDAD', 'EMBARAZO', 'HABLA_LENGUA_INDIG', 'DIABETES',\n",
       "       'EPOC', 'ASMA', 'INMUSUPR', 'HIPERTENSION', 'OTRA_COM',\n",
       "       'CARDIOVASCULAR', 'OBESIDAD', 'RENAL_CRONICA', 'TABAQUISMO',\n",
       "       'OTRO_CASO', 'RESULTADO', 'MIGRANTE', 'PAIS_NACIONALIDAD',\n",
       "       'PAIS_ORIGEN', 'UCI', 'FechaRegistro', 'MUNICIPIO', 'LastDay',\n",
       "       'FirstDay', 'Duration'],\n",
       "      dtype='object')"
      ]
     },
     "execution_count": 27,
     "metadata": {},
     "output_type": "execute_result"
    }
   ],
   "source": [
    "df3.columns"
   ]
  },
  {
   "cell_type": "code",
   "execution_count": 28,
   "metadata": {
    "scrolled": true
   },
   "outputs": [
    {
     "data": {
      "text/plain": [
       "ORIGEN\n",
       "FUERA DE USMER    17356\n",
       "USMER              8869\n",
       "Name: ORIGEN, dtype: int64"
      ]
     },
     "execution_count": 28,
     "metadata": {},
     "output_type": "execute_result"
    }
   ],
   "source": [
    "df3.groupby(['ORIGEN'])['ORIGEN'].count().sort_values(ascending=False).head(19)"
   ]
  },
  {
   "cell_type": "code",
   "execution_count": 38,
   "metadata": {},
   "outputs": [
    {
     "data": {
      "text/plain": [
       "SECTOR\n",
       "SSA                13477\n",
       "IMSS                8514\n",
       "PRIVADA             1897\n",
       "ISSSTE               816\n",
       "ESTATAL              657\n",
       "NO ESPECIFICADO      184\n",
       "SEDENA               180\n",
       "SEMAR                169\n",
       "PEMEX                152\n",
       "MUNICIPAL            117\n",
       "UNIVERSITARIO         37\n",
       "IMSS-BIENESTAR        20\n",
       "CRUZ ROJA              4\n",
       "DIF                    1\n",
       "Name: SECTOR, dtype: int64"
      ]
     },
     "execution_count": 38,
     "metadata": {},
     "output_type": "execute_result"
    }
   ],
   "source": [
    "df3.groupby('SECTOR')['SECTOR'].count().sort_values( ascending=False)"
   ]
  },
  {
   "cell_type": "code",
   "execution_count": 34,
   "metadata": {},
   "outputs": [
    {
     "data": {
      "text/plain": [
       "ENTIDAD_UM\n",
       "CIUDAD DE MÉXICO                   5626\n",
       "MÉXICO                             5093\n",
       "JALISCO                            1485\n",
       "NUEVO LEÓN                         1450\n",
       "BAJA CALIFORNIA                    1035\n",
       "SINALOA                            1023\n",
       "VERACRUZ DE IGNACIO DE LA LLAVE     978\n",
       "COAHUILA DE ZARAGOZA                901\n",
       "TABASCO                             854\n",
       "MICHOACÁN DE OCAMPO                 663\n",
       "CHIHUAHUA                           652\n",
       "PUEBLA                              587\n",
       "OAXACA                              584\n",
       "GUANAJUATO                          564\n",
       "SONORA                              490\n",
       "CHIAPAS                             460\n",
       "QUINTANA ROO                        440\n",
       "TAMAULIPAS                          439\n",
       "GUERRERO                            434\n",
       "MORELOS                             363\n",
       "YUCATÁN                             330\n",
       "BAJA CALIFORNIA SUR                 274\n",
       "AGUASCALIENTES                      250\n",
       "QUERÉTARO                           222\n",
       "HIDALGO                             213\n",
       "DURANGO                             196\n",
       "SAN LUIS POTOSÍ                     163\n",
       "NAYARIT                             144\n",
       "TLAXCALA                            117\n",
       "CAMPECHE                             91\n",
       "ZACATECAS                            59\n",
       "COLIMA                               45\n",
       "Name: ENTIDAD_UM, dtype: int64"
      ]
     },
     "execution_count": 34,
     "metadata": {},
     "output_type": "execute_result"
    }
   ],
   "source": [
    "df3.groupby('ENTIDAD_UM')['ENTIDAD_UM'].count().sort_values( ascending=False)"
   ]
  },
  {
   "cell_type": "code",
   "execution_count": 39,
   "metadata": {},
   "outputs": [
    {
     "data": {
      "text/plain": [
       "SEXO\n",
       "HOMBRE    13659\n",
       "MUJER     12566\n",
       "Name: SEXO, dtype: int64"
      ]
     },
     "execution_count": 39,
     "metadata": {},
     "output_type": "execute_result"
    }
   ],
   "source": [
    "df3.groupby('SEXO')['SEXO'].count().sort_values( ascending=False)"
   ]
  },
  {
   "cell_type": "code",
   "execution_count": 41,
   "metadata": {},
   "outputs": [
    {
     "data": {
      "text/plain": [
       "ENTIDAD_NAC\n",
       "MÉXICO                             4760\n",
       "CIUDAD DE MÉXICO                   4454\n",
       "VERACRUZ DE IGNACIO DE LA LLAVE    1320\n",
       "JALISCO                            1303\n",
       "NUEVO LEÓN                         1224\n",
       "NO ESPECIFICADO                    1203\n",
       "SINALOA                            1133\n",
       "COAHUILA DE ZARAGOZA                884\n",
       "TABASCO                             823\n",
       "OAXACA                              806\n",
       "MICHOACÁN DE OCAMPO                 749\n",
       "GUERRERO                            711\n",
       "PUEBLA                              700\n",
       "GUANAJUATO                          623\n",
       "BAJA CALIFORNIA                     582\n",
       "CHIAPAS                             565\n",
       "CHIHUAHUA                           538\n",
       "SONORA                              494\n",
       "TAMAULIPAS                          469\n",
       "YUCATÁN                             366\n",
       "MORELOS                             330\n",
       "HIDALGO                             309\n",
       "DURANGO                             279\n",
       "SAN LUIS POTOSÍ                     223\n",
       "AGUASCALIENTES                      212\n",
       "NAYARIT                             211\n",
       "BAJA CALIFORNIA SUR                 172\n",
       "QUINTANA ROO                        167\n",
       "TLAXCALA                            165\n",
       "QUERÉTARO                           163\n",
       "ZACATECAS                           137\n",
       "CAMPECHE                             89\n",
       "COLIMA                               61\n",
       "Name: ENTIDAD_NAC, dtype: int64"
      ]
     },
     "execution_count": 41,
     "metadata": {},
     "output_type": "execute_result"
    }
   ],
   "source": [
    "df3.groupby('ENTIDAD_NAC')['ENTIDAD_NAC'].count().sort_values( ascending=False)"
   ]
  },
  {
   "cell_type": "code",
   "execution_count": 29,
   "metadata": {},
   "outputs": [
    {
     "data": {
      "text/plain": [
       "SECTOR\n",
       "CRUZ ROJA              4\n",
       "DIF                    1\n",
       "ESTATAL              657\n",
       "IMSS                8514\n",
       "IMSS-BIENESTAR        20\n",
       "ISSSTE               816\n",
       "MUNICIPAL            117\n",
       "NO ESPECIFICADO      184\n",
       "PEMEX                152\n",
       "PRIVADA             1897\n",
       "SEDENA               180\n",
       "SEMAR                169\n",
       "SSA                13477\n",
       "UNIVERSITARIO         37\n",
       "Name: SECTOR, dtype: int64"
      ]
     },
     "execution_count": 29,
     "metadata": {},
     "output_type": "execute_result"
    }
   ],
   "source": [
    "df3.groupby('ENTIDAD_NAC')['ENTIDAD_NAC'].count().sort_values( ascending=False)"
   ]
  },
  {
   "cell_type": "code",
   "execution_count": 42,
   "metadata": {},
   "outputs": [
    {
     "data": {
      "text/plain": [
       "ENTIDAD_RES\n",
       "MÉXICO                             5835\n",
       "CIUDAD DE MÉXICO                   4746\n",
       "JALISCO                            1452\n",
       "NUEVO LEÓN                         1440\n",
       "SINALOA                            1021\n",
       "BAJA CALIFORNIA                    1014\n",
       "VERACRUZ DE IGNACIO DE LA LLAVE     997\n",
       "COAHUILA DE ZARAGOZA                874\n",
       "TABASCO                             852\n",
       "MICHOACÁN DE OCAMPO                 666\n",
       "CHIHUAHUA                           660\n",
       "OAXACA                              590\n",
       "PUEBLA                              589\n",
       "GUANAJUATO                          573\n",
       "SONORA                              516\n",
       "CHIAPAS                             471\n",
       "GUERRERO                            461\n",
       "QUINTANA ROO                        442\n",
       "TAMAULIPAS                          437\n",
       "MORELOS                             383\n",
       "YUCATÁN                             332\n",
       "HIDALGO                             274\n",
       "BAJA CALIFORNIA SUR                 272\n",
       "AGUASCALIENTES                      246\n",
       "DURANGO                             222\n",
       "QUERÉTARO                           214\n",
       "NAYARIT                             164\n",
       "SAN LUIS POTOSÍ                     162\n",
       "TLAXCALA                            123\n",
       "CAMPECHE                             84\n",
       "ZACATECAS                            67\n",
       "COLIMA                               46\n",
       "Name: ENTIDAD_RES, dtype: int64"
      ]
     },
     "execution_count": 42,
     "metadata": {},
     "output_type": "execute_result"
    }
   ],
   "source": [
    "df3.groupby('ENTIDAD_RES')['ENTIDAD_RES'].count().sort_values( ascending=False)"
   ]
  },
  {
   "cell_type": "code",
   "execution_count": 44,
   "metadata": {},
   "outputs": [
    {
     "data": {
      "text/plain": [
       "MUNICIPIO_RES\n",
       "IZTAPALAPA                   1001\n",
       "CULIACÁN                      594\n",
       "NEZAHUALCÓYOTL                587\n",
       "ECATEPEC DE MORELOS           584\n",
       "GUSTAVO A. MADERO             540\n",
       "                             ... \n",
       "DEL NAYAR                       1\n",
       "SAN FRANCISCO TETLANOHCAN       1\n",
       "SAN FRANCISCO SOLA              1\n",
       "DOCTOR COSS                     1\n",
       "ÁNIMAS TRUJANO                  1\n",
       "Name: MUNICIPIO_RES, Length: 1089, dtype: int64"
      ]
     },
     "execution_count": 44,
     "metadata": {},
     "output_type": "execute_result"
    }
   ],
   "source": [
    "df3.groupby('MUNICIPIO_RES')['MUNICIPIO_RES'].count().sort_values( ascending=False)"
   ]
  },
  {
   "cell_type": "code",
   "execution_count": 45,
   "metadata": {},
   "outputs": [
    {
     "data": {
      "text/plain": [
       "TIPO_PACIENTE\n",
       "AMBULATORIO      19171\n",
       "HOSPITALIZADO     7054\n",
       "Name: TIPO_PACIENTE, dtype: int64"
      ]
     },
     "execution_count": 45,
     "metadata": {},
     "output_type": "execute_result"
    }
   ],
   "source": [
    "df3.groupby('TIPO_PACIENTE')['TIPO_PACIENTE'].count()"
   ]
  },
  {
   "cell_type": "code",
   "execution_count": 52,
   "metadata": {},
   "outputs": [
    {
     "data": {
      "text/plain": [
       "INTUBADO\n",
       "NO APLICA          19171\n",
       "NO                  6570\n",
       "SI                   478\n",
       "NO ESPECIFICADO        6\n",
       "Name: INTUBADO, dtype: int64"
      ]
     },
     "execution_count": 52,
     "metadata": {},
     "output_type": "execute_result"
    }
   ],
   "source": [
    "df3.groupby('INTUBADO')['INTUBADO'].count().sort_values( ascending=False)"
   ]
  },
  {
   "cell_type": "code",
   "execution_count": 53,
   "metadata": {},
   "outputs": [
    {
     "data": {
      "text/plain": [
       "NEUMONIA\n",
       "NO     21372\n",
       "SI      4853\n",
       "Name: NEUMONIA, dtype: int64"
      ]
     },
     "execution_count": 53,
     "metadata": {},
     "output_type": "execute_result"
    }
   ],
   "source": [
    "df3.groupby('NEUMONIA')['NEUMONIA'].count().sort_values( ascending=False)"
   ]
  },
  {
   "cell_type": "code",
   "execution_count": 56,
   "metadata": {},
   "outputs": [
    {
     "data": {
      "text/plain": [
       "EDAD\n",
       "35     668\n",
       "31     647\n",
       "46     630\n",
       "28     629\n",
       "40     622\n",
       "      ... \n",
       "98       3\n",
       "99       3\n",
       "101      2\n",
       "100      2\n",
       "120      1\n",
       "Name: EDAD, Length: 103, dtype: int64"
      ]
     },
     "execution_count": 56,
     "metadata": {},
     "output_type": "execute_result"
    }
   ],
   "source": [
    "df3.groupby('EDAD')['EDAD'].count().sort_values( ascending=False)"
   ]
  },
  {
   "cell_type": "code",
   "execution_count": 62,
   "metadata": {},
   "outputs": [
    {
     "data": {
      "text/plain": [
       "<matplotlib.axes._subplots.AxesSubplot at 0x7f4f82f76890>"
      ]
     },
     "execution_count": 62,
     "metadata": {},
     "output_type": "execute_result"
    },
    {
     "data": {
      "image/png": "[encoded data removed]",
      "text/plain": [
       "<Figure size 432x288 with 1 Axes>"
      ]
     },
     "metadata": {
      "needs_background": "light"
     },
     "output_type": "display_data"
    }
   ],
   "source": [
    "df3['EDAD_int'] = df3.EDAD.astype(int)\n",
    "df3.groupby('EDAD_int')['EDAD_int'].count().plot()"
   ]
  },
  {
   "cell_type": "code",
   "execution_count": 64,
   "metadata": {},
   "outputs": [
    {
     "data": {
      "text/plain": [
       "(26225, 41)"
      ]
     },
     "execution_count": 64,
     "metadata": {},
     "output_type": "execute_result"
    }
   ],
   "source": [
    "df3.shape"
   ]
  },
  {
   "cell_type": "code",
   "execution_count": 66,
   "metadata": {
    "scrolled": true
   },
   "outputs": [
    {
     "data": {
      "text/plain": [
       "EMBARAZO\n",
       "NO APLICA    13659\n",
       "NO           12338\n",
       "SI             179\n",
       "SE IGNORA       49\n",
       "Name: EMBARAZO, dtype: int64"
      ]
     },
     "execution_count": 66,
     "metadata": {},
     "output_type": "execute_result"
    }
   ],
   "source": [
    "df3.groupby('EMBARAZO')['EMBARAZO'].count().sort_values( ascending=False)"
   ]
  },
  {
   "cell_type": "code",
   "execution_count": 67,
   "metadata": {},
   "outputs": [
    {
     "data": {
      "text/plain": [
       "HABLA_LENGUA_INDIG\n",
       "NO                 25312\n",
       "NO ESPECIFICADO      648\n",
       "SI                   265\n",
       "Name: HABLA_LENGUA_INDIG, dtype: int64"
      ]
     },
     "execution_count": 67,
     "metadata": {},
     "output_type": "execute_result"
    }
   ],
   "source": [
    "df3.groupby('HABLA_LENGUA_INDIG')['HABLA_LENGUA_INDIG'].count().sort_values( ascending=False)"
   ]
  },
  {
   "cell_type": "code",
   "execution_count": 68,
   "metadata": {
    "scrolled": true
   },
   "outputs": [
    {
     "data": {
      "text/plain": [
       "DIABETES\n",
       "NO           22451\n",
       "SI            3615\n",
       "SE IGNORA      159\n",
       "Name: DIABETES, dtype: int64"
      ]
     },
     "execution_count": 68,
     "metadata": {},
     "output_type": "execute_result"
    }
   ],
   "source": [
    "df3.groupby('DIABETES')['DIABETES'].count().sort_values( ascending=False)"
   ]
  },
  {
   "cell_type": "code",
   "execution_count": 69,
   "metadata": {
    "scrolled": true
   },
   "outputs": [
    {
     "data": {
      "text/plain": [
       "ASMA\n",
       "NO           25172\n",
       "SI             912\n",
       "SE IGNORA      141\n",
       "Name: ASMA, dtype: int64"
      ]
     },
     "execution_count": 69,
     "metadata": {},
     "output_type": "execute_result"
    }
   ],
   "source": [
    "df3.groupby('ASMA')['ASMA'].count().sort_values( ascending=False)"
   ]
  },
  {
   "cell_type": "code",
   "execution_count": 70,
   "metadata": {
    "scrolled": true
   },
   "outputs": [
    {
     "data": {
      "text/plain": [
       "INMUSUPR\n",
       "NO           25586\n",
       "SI             482\n",
       "SE IGNORA      157\n",
       "Name: INMUSUPR, dtype: int64"
      ]
     },
     "execution_count": 70,
     "metadata": {},
     "output_type": "execute_result"
    }
   ],
   "source": [
    "df3.groupby('INMUSUPR')['INMUSUPR'].count().sort_values( ascending=False)"
   ]
  },
  {
   "cell_type": "code",
   "execution_count": 71,
   "metadata": {
    "scrolled": true
   },
   "outputs": [
    {
     "data": {
      "text/plain": [
       "HIPERTENSION\n",
       "NO           21529\n",
       "SI            4548\n",
       "SE IGNORA      148\n",
       "Name: HIPERTENSION, dtype: int64"
      ]
     },
     "execution_count": 71,
     "metadata": {},
     "output_type": "execute_result"
    }
   ],
   "source": [
    "df3.groupby('HIPERTENSION')['HIPERTENSION'].count().sort_values( ascending=False)"
   ]
  },
  {
   "cell_type": "code",
   "execution_count": 73,
   "metadata": {},
   "outputs": [
    {
     "data": {
      "text/plain": [
       "Index(['FECHA_ACTUALIZACION', 'ID_REGISTRO', 'ORIGEN', 'SECTOR', 'ENTIDAD_UM',\n",
       "       'SEXO', 'ENTIDAD_NAC', 'ENTIDAD_RES', 'MUNICIPIO_RES', 'TIPO_PACIENTE',\n",
       "       'FECHA_INGRESO', 'FECHA_SINTOMAS', 'FECHA_DEF', 'INTUBADO', 'NEUMONIA',\n",
       "       'EDAD', 'NACIONALIDAD', 'EMBARAZO', 'HABLA_LENGUA_INDIG', 'DIABETES',\n",
       "       'EPOC', 'ASMA', 'INMUSUPR', 'HIPERTENSION', 'OTRA_COM',\n",
       "       'CARDIOVASCULAR', 'OBESIDAD', 'RENAL_CRONICA', 'TABAQUISMO',\n",
       "       'OTRO_CASO', 'RESULTADO', 'MIGRANTE', 'PAIS_NACIONALIDAD',\n",
       "       'PAIS_ORIGEN', 'UCI', 'FechaRegistro', 'MUNICIPIO', 'LastDay',\n",
       "       'FirstDay', 'Duration', 'EDAD_int'],\n",
       "      dtype='object')"
      ]
     },
     "execution_count": 73,
     "metadata": {},
     "output_type": "execute_result"
    }
   ],
   "source": [
    "df3.columns"
   ]
  },
  {
   "cell_type": "code",
   "execution_count": 74,
   "metadata": {
    "scrolled": false
   },
   "outputs": [
    {
     "data": {
      "text/plain": [
       "OTRA_COM\n",
       "NO           24999\n",
       "SI             992\n",
       "SE IGNORA      234\n",
       "Name: OTRA_COM, dtype: int64"
      ]
     },
     "execution_count": 74,
     "metadata": {},
     "output_type": "execute_result"
    }
   ],
   "source": [
    "df3.groupby('OTRA_COM')['OTRA_COM'].count().sort_values( ascending=False)"
   ]
  },
  {
   "cell_type": "code",
   "execution_count": 75,
   "metadata": {
    "scrolled": false
   },
   "outputs": [
    {
     "data": {
      "text/plain": [
       "CARDIOVASCULAR\n",
       "NO           25389\n",
       "SI             680\n",
       "SE IGNORA      156\n",
       "Name: CARDIOVASCULAR, dtype: int64"
      ]
     },
     "execution_count": 75,
     "metadata": {},
     "output_type": "execute_result"
    }
   ],
   "source": [
    "df3.groupby('CARDIOVASCULAR')['CARDIOVASCULAR'].count().sort_values( ascending=False)"
   ]
  },
  {
   "cell_type": "code",
   "execution_count": 76,
   "metadata": {
    "scrolled": false
   },
   "outputs": [
    {
     "data": {
      "text/plain": [
       "OBESIDAD\n",
       "NO           21912\n",
       "SI            4174\n",
       "SE IGNORA      139\n",
       "Name: OBESIDAD, dtype: int64"
      ]
     },
     "execution_count": 76,
     "metadata": {},
     "output_type": "execute_result"
    }
   ],
   "source": [
    "df3.groupby('OBESIDAD')['OBESIDAD'].count().sort_values( ascending=False)"
   ]
  },
  {
   "cell_type": "code",
   "execution_count": 77,
   "metadata": {
    "scrolled": true
   },
   "outputs": [
    {
     "data": {
      "text/plain": [
       "RENAL_CRONICA\n",
       "NO           25447\n",
       "SI             633\n",
       "SE IGNORA      145\n",
       "Name: RENAL_CRONICA, dtype: int64"
      ]
     },
     "execution_count": 77,
     "metadata": {},
     "output_type": "execute_result"
    }
   ],
   "source": [
    "df3.groupby('RENAL_CRONICA')['RENAL_CRONICA'].count().sort_values( ascending=False)"
   ]
  },
  {
   "cell_type": "code",
   "execution_count": 78,
   "metadata": {
    "scrolled": true
   },
   "outputs": [
    {
     "data": {
      "text/plain": [
       "TABAQUISMO\n",
       "NO           23861\n",
       "SI            2220\n",
       "SE IGNORA      144\n",
       "Name: TABAQUISMO, dtype: int64"
      ]
     },
     "execution_count": 78,
     "metadata": {},
     "output_type": "execute_result"
    }
   ],
   "source": [
    "df3.groupby('TABAQUISMO')['TABAQUISMO'].count().sort_values( ascending=False)"
   ]
  },
  {
   "cell_type": "code",
   "execution_count": 79,
   "metadata": {
    "scrolled": true
   },
   "outputs": [
    {
     "data": {
      "text/plain": [
       "OTRO_CASO\n",
       "NO                 9289\n",
       "NO ESPECIFICADO    8615\n",
       "SI                 8321\n",
       "Name: OTRO_CASO, dtype: int64"
      ]
     },
     "execution_count": 79,
     "metadata": {},
     "output_type": "execute_result"
    }
   ],
   "source": [
    "df3.groupby('OTRO_CASO')['OTRO_CASO'].count().sort_values( ascending=False)"
   ]
  },
  {
   "cell_type": "code",
   "execution_count": 80,
   "metadata": {
    "scrolled": false
   },
   "outputs": [
    {
     "data": {
      "text/plain": [
       "RESULTADO\n",
       "Resultado pendiente       19656\n",
       "No positivo SARS-CoV-2     4331\n",
       "Positivo SARS-CoV-2        2238\n",
       "Name: RESULTADO, dtype: int64"
      ]
     },
     "execution_count": 80,
     "metadata": {},
     "output_type": "execute_result"
    }
   ],
   "source": [
    "df3.groupby('RESULTADO')['RESULTADO'].count().sort_values( ascending=False)"
   ]
  },
  {
   "cell_type": "code",
   "execution_count": 81,
   "metadata": {
    "scrolled": false
   },
   "outputs": [
    {
     "data": {
      "text/plain": [
       "MIGRANTE\n",
       "NO ESPECIFICADO    26132\n",
       "NO                    65\n",
       "SI                    28\n",
       "Name: MIGRANTE, dtype: int64"
      ]
     },
     "execution_count": 81,
     "metadata": {},
     "output_type": "execute_result"
    }
   ],
   "source": [
    "df3.groupby('MIGRANTE')['MIGRANTE'].count().sort_values( ascending=False)"
   ]
  },
  {
   "cell_type": "code",
   "execution_count": 82,
   "metadata": {
    "scrolled": false
   },
   "outputs": [
    {
     "data": {
      "text/plain": [
       "PAIS_NACIONALIDAD\n",
       "MÃ©xico                        24549\n",
       "99                              1335\n",
       "México                           142\n",
       "Estados Unidos de AmÃ©rica        53\n",
       "EspaÃ±a                           17\n",
       "Colombia                          16\n",
       "Brasil                            15\n",
       "Cuba                               9\n",
       "Argentina                          8\n",
       "CanadÃ¡                            8\n",
       "Venezuela                          8\n",
       "Italia                             6\n",
       "Francia                            6\n",
       "El Salvador                        5\n",
       "Bolivia                            5\n",
       "PerÃº                              4\n",
       "Guatemala                          4\n",
       "RepÃºblica de Honduras             4\n",
       "Nicaragua                          4\n",
       "JapÃ³n                             3\n",
       "Macao                              3\n",
       "China                              2\n",
       "Otro                               2\n",
       "Madeira                            1\n",
       "Austria                            1\n",
       "Australia                          1\n",
       "Rusia                              1\n",
       "Arabia Saudita                     1\n",
       "Alemania                           1\n",
       "Bosnia y Herzegovina               1\n",
       "Ecuador                            1\n",
       "RepÃºblica de Corea                1\n",
       "Chile                              1\n",
       "Portugal                           1\n",
       "Trieste                            1\n",
       "HaitÃ­                             1\n",
       "Holanda                            1\n",
       "India                              1\n",
       "LÃ­bano                            1\n",
       "Gran BretaÃ±a (Reino Unido)        1\n",
       "Name: PAIS_NACIONALIDAD, dtype: int64"
      ]
     },
     "execution_count": 82,
     "metadata": {},
     "output_type": "execute_result"
    }
   ],
   "source": [
    "df3.groupby('PAIS_NACIONALIDAD')['PAIS_NACIONALIDAD'].count().sort_values( ascending=False)"
   ]
  },
  {
   "cell_type": "code",
   "execution_count": 83,
   "metadata": {
    "scrolled": false
   },
   "outputs": [
    {
     "data": {
      "text/plain": [
       "PAIS_ORIGEN\n",
       "99                           20921\n",
       "97                            5276\n",
       "Estados Unidos de América        9\n",
       "Italia                           3\n",
       "El Salvador                      3\n",
       "Cuba                             3\n",
       "Venezuela                        1\n",
       "República de Honduras            1\n",
       "Otro                             1\n",
       "Nicaragua                        1\n",
       "Francia                          1\n",
       "Ecuador                          1\n",
       "Colombia                         1\n",
       "China                            1\n",
       "Brasil                           1\n",
       "Argentina                        1\n",
       "Name: PAIS_ORIGEN, dtype: int64"
      ]
     },
     "execution_count": 83,
     "metadata": {},
     "output_type": "execute_result"
    }
   ],
   "source": [
    "df3.groupby('PAIS_ORIGEN')['PAIS_ORIGEN'].count().sort_values( ascending=False)"
   ]
  },
  {
   "cell_type": "code",
   "execution_count": 84,
   "metadata": {
    "scrolled": false
   },
   "outputs": [
    {
     "data": {
      "text/plain": [
       "PAIS_ORIGEN\n",
       "99                           20921\n",
       "97                            5276\n",
       "Estados Unidos de América        9\n",
       "Italia                           3\n",
       "El Salvador                      3\n",
       "Cuba                             3\n",
       "Venezuela                        1\n",
       "República de Honduras            1\n",
       "Otro                             1\n",
       "Nicaragua                        1\n",
       "Francia                          1\n",
       "Ecuador                          1\n",
       "Colombia                         1\n",
       "China                            1\n",
       "Brasil                           1\n",
       "Argentina                        1\n",
       "Name: PAIS_ORIGEN, dtype: int64"
      ]
     },
     "execution_count": 84,
     "metadata": {},
     "output_type": "execute_result"
    }
   ],
   "source": [
    "df3.groupby('PAIS_ORIGEN')['PAIS_ORIGEN'].count().sort_values( ascending=False)"
   ]
  },
  {
   "cell_type": "code",
   "execution_count": 85,
   "metadata": {
    "scrolled": false
   },
   "outputs": [
    {
     "data": {
      "text/plain": [
       "UCI\n",
       "NO APLICA          19171\n",
       "NO                  6477\n",
       "SI                   571\n",
       "NO ESPECIFICADO        6\n",
       "Name: UCI, dtype: int64"
      ]
     },
     "execution_count": 85,
     "metadata": {},
     "output_type": "execute_result"
    }
   ],
   "source": [
    "df3.groupby('UCI')['UCI'].count().sort_values( ascending=False)"
   ]
  },
  {
   "cell_type": "code",
   "execution_count": null,
   "metadata": {},
   "outputs": [],
   "source": []
  },
  {
   "cell_type": "code",
   "execution_count": null,
   "metadata": {},
   "outputs": [],
   "source": [
    "df3.groupby('EDAD')['EDAD'].count().sort_values( ascending=False)"
   ]
  },
  {
   "cell_type": "markdown",
   "metadata": {},
   "source": [
    "# personas que siguen en el sistema"
   ]
  },
  {
   "cell_type": "code",
   "execution_count": 153,
   "metadata": {},
   "outputs": [
    {
     "data": {
      "text/plain": [
       "(23230381, 37)"
      ]
     },
     "execution_count": 153,
     "metadata": {},
     "output_type": "execute_result"
    }
   ],
   "source": [
    "# we extract the records that does not live in the last report\n",
    "dfO1 = df0[df0.ID_REGISTRO.isin(tracket_cases)]\n",
    "dfO1 = dfO1.copy()\n",
    "dfO1.shape\n"
   ]
  },
  {
   "cell_type": "code",
   "execution_count": 155,
   "metadata": {},
   "outputs": [
    {
     "data": {
      "text/plain": [
       "Index(['FECHA_ACTUALIZACION', 'ID_REGISTRO', 'ORIGEN', 'SECTOR', 'ENTIDAD_UM',\n",
       "       'SEXO', 'ENTIDAD_NAC', 'ENTIDAD_RES', 'MUNICIPIO_RES', 'TIPO_PACIENTE',\n",
       "       'FECHA_INGRESO', 'FECHA_SINTOMAS', 'FECHA_DEF', 'INTUBADO', 'NEUMONIA',\n",
       "       'EDAD', 'NACIONALIDAD', 'EMBARAZO', 'HABLA_LENGUA_INDIG', 'DIABETES',\n",
       "       'EPOC', 'ASMA', 'INMUSUPR', 'HIPERTENSION', 'OTRA_COM',\n",
       "       'CARDIOVASCULAR', 'OBESIDAD', 'RENAL_CRONICA', 'TABAQUISMO',\n",
       "       'OTRO_CASO', 'RESULTADO', 'MIGRANTE', 'PAIS_NACIONALIDAD',\n",
       "       'PAIS_ORIGEN', 'UCI', 'FechaRegistro', 'MUNICIPIO'],\n",
       "      dtype='object')"
      ]
     },
     "execution_count": 155,
     "metadata": {},
     "output_type": "execute_result"
    }
   ],
   "source": [
    "dfO1.columns"
   ]
  },
  {
   "cell_type": "code",
   "execution_count": null,
   "metadata": {},
   "outputs": [],
   "source": [
    "dfO1['LastDay']  = dfO1.groupby('ID_REGISTRO')['FechaRegistro'].transform('max')\n",
    "dfO1['FirstDay'] = dfO1.groupby('ID_REGISTRO')['FechaRegistro'].transform('min')\n",
    "dfO1['Duration'] = (dfO1.LastDay - df1.FirstDay).dt.days\n",
    "dfO1['numRecords']  = dfO1.groupby('ID_REGISTRO')['FechaRegistro'].transform('count')\n",
    "# dfO1['numRecords']  = dfO1.groupby('ID_REGISTRO')['FechaRegistro'].transform('min')"
   ]
  },
  {
   "cell_type": "code",
   "execution_count": null,
   "metadata": {},
   "outputs": [],
   "source": [
    "dfO1['DurationRecords'] = dfO1['Duration'] - dfO1['numRecords']"
   ]
  },
  {
   "cell_type": "code",
   "execution_count": null,
   "metadata": {},
   "outputs": [],
   "source": []
  },
  {
   "cell_type": "code",
   "execution_count": null,
   "metadata": {},
   "outputs": [],
   "source": [
    "# df0.FechaRegistro = pd.to_datetime(df0['FechaRegistro'], format='%Y-%m-%d')\n",
    "dfO1.FECHA_SINTOMAS = pd.to_datetime(dfO1['FECHA_SINTOMAS'], format ='%Y-%m-%d')\n",
    "dfO1.FECHA_ACTUALIZACION = pd.to_datetime(dfO1['FECHA_ACTUALIZACION'], format ='%Y-%m-%d')\n",
    "dfO1.FechaRegistro = pd.to_datetime(dfO1['FechaRegistro'], format ='%Y-%m-%d')\n",
    "dfO1['delta_lastRecord'] = (dfO1.FECHA_ACTUALIZACION-dfO1.FechaRegistro ).dt.days\n",
    "dfO1['deltaReporte'] = (dfO1.FechaRegistro-dfO1.FECHA_SINTOMAS).dt.days\n",
    "dfO1[dfO1.FECHA_SINTOMAS<'2020-02-29'].groupby('RESULTADO')['RESULTADO'].count()\n",
    "\n"
   ]
  },
  {
   "cell_type": "code",
   "execution_count": null,
   "metadata": {},
   "outputs": [],
   "source": [
    "# sort_values(by='FechaRegistro', ascending=False).head()\n",
    "\n",
    "dfO13 = dfO1.drop_duplicates(['ID_REGISTRO', \n",
    "       'FECHA_INGRESO', 'FECHA_SINTOMAS', ],keep='first')\n",
    "dfO13 = dfO13.copy()"
   ]
  },
  {
   "cell_type": "code",
   "execution_count": null,
   "metadata": {},
   "outputs": [],
   "source": [
    "dfO13.groupby('ID_REGISTRO')['FECHA_ACTUALIZACION'].count().sort_values( ascending=False)"
   ]
  },
  {
   "cell_type": "code",
   "execution_count": null,
   "metadata": {},
   "outputs": [],
   "source": [
    "dfO131 = dfO13[dfO13.FECHA_SINTOMAS<'2020-02-29']\n",
    "dfO131.groupby('ID_REGISTRO')['FECHA_ACTUALIZACION'].count().sort_values( ascending=False).head(10)"
   ]
  },
  {
   "cell_type": "code",
   "execution_count": null,
   "metadata": {},
   "outputs": [],
   "source": [
    "dfO131[dfO131.ID_REGISTRO.isin(['0304ae','02a0df','0226ad','13fb66','0632c1','1732a3',])][['ID_REGISTRO', \n",
    "        'FECHA_SINTOMAS','FECHA_INGRESO',]].sort_values(['ID_REGISTRO','FECHA_SINTOMAS'], ascending=False)"
   ]
  },
  {
   "cell_type": "code",
   "execution_count": null,
   "metadata": {},
   "outputs": [],
   "source": [
    "dfO131['deltaCorrección'] = (dfO131.FECHA_INGRESO-dfO131.FECHA_SINTOMAS).dt.days"
   ]
  },
  {
   "cell_type": "code",
   "execution_count": null,
   "metadata": {},
   "outputs": [],
   "source": [
    "df0['FECHA_SINTOMAS'].min()"
   ]
  },
  {
   "cell_type": "code",
   "execution_count": null,
   "metadata": {},
   "outputs": [],
   "source": [
    "df0[df0['FECHA_SINTOMAS']=='2020-01-01']"
   ]
  },
  {
   "cell_type": "code",
   "execution_count": null,
   "metadata": {},
   "outputs": [],
   "source": [
    "first= pd.read_csv( '../src/'+'20200412'       +'.csv', encoding = \"ISO-8859-1\",dtype =str)\n"
   ]
  },
  {
   "cell_type": "code",
   "execution_count": null,
   "metadata": {},
   "outputs": [],
   "source": [
    "first.FECHA_SINTOMAS = pd.to_datetime(first['FECHA_SINTOMAS'], format ='%Y-%m-%d')"
   ]
  },
  {
   "cell_type": "code",
   "execution_count": null,
   "metadata": {},
   "outputs": [],
   "source": []
  },
  {
   "cell_type": "code",
   "execution_count": null,
   "metadata": {},
   "outputs": [],
   "source": [
    "first.FECHA_SINTOMAS.min()"
   ]
  },
  {
   "cell_type": "code",
   "execution_count": null,
   "metadata": {},
   "outputs": [],
   "source": []
  },
  {
   "cell_type": "markdown",
   "metadata": {},
   "source": [
    "At the end of 2019, the world saw the born of the Sars-cov-2 virus which genereate a disease called COVID19 (COrona VIrus disease). The high risk that we face with this virus is that the sympthons are related to a typical flu but generate a high damage un the lungs decreasing the oxygen level. The disminution of oxygen generate a high demand of intensive beds.\n",
    "\n",
    "From WHO files\n",
    "\n",
    "According to the WHO the incubation period for COVID-19, is on average 5-6 days, but can be extended to 14 days. However there some evidence that shows that exist different types of transmition, such as symptomatic, pre-symptomatic and a symptomatic.\n",
    "\n",
    "The typical transmition is the symptomatic, this ocurrs when a person shown COVID symptomatic and can spread the virus conciently or inconciently respiratory droplest over thier enviroment. However, some cases has shown that a person can transmit COVID-19 without symptoms, (3 or 2 days) before present the typical symptoms. Finally there are some concern about the asyptomatic transmission according to the WHO: Asymptomatic transmission refers to transmission of the virus from a person, who does not develop symptoms. There are few reports of laboratory-confirmed cases who are truly asymptomatic, and to date, there has been no documente asymptomatic transmission. This does not exclude the possibility that it may occur. Asymptomatic cases have been reported as part of contact tracing efforts in some countries. Source https://www.who.int/docs/default-source/coronaviruse/situation-reports/20200402-sitrep-73-covid-19.pdf?sfvrsn=5ae25bc7_2#:~:text=An%20asymptomatic%20laboratory%2Dconfirmed,more%20information%20becomes%20available.\n",
    "\n",
    "\n",
    "The goal of this notebook is listed below:\n",
    "* Understand the evolution of the covi19 in Mexico, there are a rate of 10% of deads though a visualization analysis\n",
    "\n",
    "\n",
    "Key elements\n",
    "\n",
    "* Incubation period can be expresed a GAMMA.\n",
    "* Is most common the transmision after show symptoms.\n",
    "* How we can modeled (explain pre-symtomatic transmition)\n",
    "* how we can modeled asyntomatic transmition\n"
   ]
  },
  {
   "cell_type": "code",
   "execution_count": null,
   "metadata": {},
   "outputs": [],
   "source": [
    "df.head()"
   ]
  },
  {
   "cell_type": "code",
   "execution_count": null,
   "metadata": {},
   "outputs": [],
   "source": []
  },
  {
   "cell_type": "code",
   "execution_count": null,
   "metadata": {},
   "outputs": [],
   "source": [
    "df"
   ]
  },
  {
   "cell_type": "code",
   "execution_count": null,
   "metadata": {},
   "outputs": [],
   "source": [
    "dic_ORIGEN"
   ]
  },
  {
   "cell_type": "code",
   "execution_count": null,
   "metadata": {},
   "outputs": [],
   "source": [
    "for each in dic_ORIGEN:\n",
    "    dic_ORIGEN[each]= dic_ORIGEN[each][0]\n",
    "\n",
    "dic_ORIGEN\n",
    "dic_NACIONALIDAD\n",
    "dic_SEXO\n",
    "dic_SI_NO\n",
    "dic_TIPO_PACIENTE\n",
    "dic_SECTOR\n",
    "dic_RESULTADO"
   ]
  },
  {
   "cell_type": "code",
   "execution_count": null,
   "metadata": {},
   "outputs": [],
   "source": []
  },
  {
   "cell_type": "code",
   "execution_count": null,
   "metadata": {},
   "outputs": [],
   "source": []
  },
  {
   "cell_type": "code",
   "execution_count": null,
   "metadata": {},
   "outputs": [],
   "source": []
  },
  {
   "cell_type": "code",
   "execution_count": null,
   "metadata": {},
   "outputs": [],
   "source": []
  },
  {
   "cell_type": "code",
   "execution_count": null,
   "metadata": {},
   "outputs": [],
   "source": [
    "\n"
   ]
  },
  {
   "cell_type": "code",
   "execution_count": null,
   "metadata": {},
   "outputs": [],
   "source": []
  },
  {
   "cell_type": "code",
   "execution_count": null,
   "metadata": {},
   "outputs": [],
   "source": [
    "dic_NACIONALIDAD\n",
    "dic_ORIGEN\n",
    "dic_RESULTADO\n",
    "dic_SECTOR\n",
    "dic_SEXO\n",
    "dic_SI_NO\n",
    "dic_TIPO_PACIENTE"
   ]
  },
  {
   "cell_type": "code",
   "execution_count": null,
   "metadata": {},
   "outputs": [],
   "source": [
    "dic_ENTIDADES = d2 = json.load(open(\"../src/diccionario_datos_covid19/ENTIDADES.jsn\"))\n",
    "dic_MUNICIPIOS = d2 = json.load(open(\"../src/diccionario_datos_covid19/MUNICIPIOS.jsn\"))\n",
    "dic_NACIONALIDAD = d2 = json.load(open(\"../src/diccionario_datos_covid19/NACIONALIDAD.jsn\"))\n",
    "dic_ORIGEN = d2 = json.load(open(\"../src/diccionario_datos_covid19/ORIGEN.jsn\"))\n",
    "dic_RESULTADO = d2 = json.load(open(\"../src/diccionario_datos_covid19/RESULTADO.jsn\"))\n",
    "dic_SECTOR = d2 = json.load(open(\"../src/diccionario_datos_covid19/SECTOR.jsn\"))\n",
    "dic_SEXO = d2 = json.load(open(\"../src/diccionario_datos_covid19/SEXO.jsn\"))\n",
    "dic_SI_NO = d2 = json.load(open(\"../src/diccionario_datos_covid19/SI_NO.jsn\"))\n",
    "dic_TIPO_PACIENTE = d2 = json.load(open(\"../src/diccionario_datos_covid19/TIPO_PACIENTE.jsn\"))"
   ]
  },
  {
   "cell_type": "code",
   "execution_count": null,
   "metadata": {},
   "outputs": [],
   "source": []
  }
 ],
 "metadata": {
  "kernelspec": {
   "display_name": "Python 3",
   "language": "python",
   "name": "python3"
  },
  "language_info": {
   "codemirror_mode": {
    "name": "ipython",
    "version": 3
   },
   "file_extension": ".py",
   "mimetype": "text/x-python",
   "name": "python",
   "nbconvert_exporter": "python",
   "pygments_lexer": "ipython3",
   "version": "3.7.4"
  }
 },
 "nbformat": 4,
 "nbformat_minor": 2
}
