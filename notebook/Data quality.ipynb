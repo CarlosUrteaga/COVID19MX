{
 "cells": [
  {
   "cell_type": "markdown",
   "metadata": {},
   "source": [
    "# Data quality\n",
    "In this notebook we analyze the data quality refered to COVID19 in Mexico. This information in obtained thought the Secretariat of Health and published by the mexican *Dirección General de Epidemiología*. https://www.gob.mx/salud/documentos/datos-abiertos-152127. "
   ]
  },
  {
   "cell_type": "code",
   "execution_count": 1,
   "metadata": {},
   "outputs": [
    {
     "name": "stdout",
     "output_type": "stream",
     "text": [
      "Using matplotlib backend: MacOSX\n"
     ]
    }
   ],
   "source": [
    "\n",
    "import glob\n",
    "import os\n",
    "import pandas as pd\n",
    "import numpy as np\n",
    "import random\n",
    "import matplotlib.pyplot as plt\n",
    "%matplotlib \n",
    "import datetime\n",
    "from IPython.display import Markdown as md\n"
   ]
  },
  {
   "cell_type": "markdown",
   "metadata": {},
   "source": [
    "## Load data"
   ]
  },
  {
   "cell_type": "code",
   "execution_count": 2,
   "metadata": {},
   "outputs": [
    {
     "data": {
      "text/plain": [
       "22840271"
      ]
     },
     "execution_count": 2,
     "metadata": {},
     "output_type": "execute_result"
    }
   ],
   "source": [
    "\n",
    "# load the csv from the src folder\n",
    "strpath = '../src/'\n",
    "m = []\n",
    "i =0\n",
    "if not os.path.isfile('fulldb1.csv'):\n",
    "    for filename in glob.glob(strpath+\"*\"):\n",
    "        if filename.find('.csv')>0:\n",
    "            date = '20'+filename[7:9] +'-' + filename[11:13] +'-' +filename[13:15]\n",
    "            #print(date)\n",
    "            df = pd.read_csv(filename, encoding = \"ISO-8859-1\",dtype =str)\n",
    "            df['FechaRegistro'] = date\n",
    "            df.FECHA_INGRESO = pd.to_datetime(df['FECHA_INGRESO'],)\n",
    "            if i== 0:\n",
    "                df0=df.copy()\n",
    "                i=1\n",
    "            else:\n",
    "                frame = [df0,df]\n",
    "                df0 = pd.concat(frame)\n",
    "            del df\n",
    "else:\n",
    "    df0 = pd.read_csv('fulldb.csv')\n",
    "    df0.FechaRegistro = pd.to_datetime(df0['FechaRegistro'], format='%Y-%m-%d')\n",
    "    lastdateRecord = df0.FechaRegistro.max()\n",
    "    deltaT = datetime.datetime.now() - lastdateRecord\n",
    "    for i in range(1,deltaT.days+1) :\n",
    "        filename = (lastdateRecord + datetime.timedelta(days=1)).strftime(\"%Y%m%d\")+'.csv'\n",
    "        df = pd.read_csv(strpath+filename, encoding = \"ISO-8859-1\",dtype =str)\n",
    "        df['FechaRegistro'] = (lastdateRecord + datetime.timedelta(days=1)).strftime(\"%Y-%m-%d\")\n",
    "        df.FECHA_INGRESO = pd.to_datetime(df['FECHA_INGRESO'],)\n",
    "\n",
    "len(df0)"
   ]
  },
  {
   "cell_type": "code",
   "execution_count": 3,
   "metadata": {},
   "outputs": [
    {
     "data": {
      "text/html": [
       "<div>\n",
       "<style scoped>\n",
       "    .dataframe tbody tr th:only-of-type {\n",
       "        vertical-align: middle;\n",
       "    }\n",
       "\n",
       "    .dataframe tbody tr th {\n",
       "        vertical-align: top;\n",
       "    }\n",
       "\n",
       "    .dataframe thead th {\n",
       "        text-align: right;\n",
       "    }\n",
       "</style>\n",
       "<table border=\"1\" class=\"dataframe\">\n",
       "  <thead>\n",
       "    <tr style=\"text-align: right;\">\n",
       "      <th></th>\n",
       "      <th>FECHA_ACTUALIZACION</th>\n",
       "      <th>ID_REGISTRO</th>\n",
       "      <th>ORIGEN</th>\n",
       "      <th>SECTOR</th>\n",
       "      <th>ENTIDAD_UM</th>\n",
       "      <th>SEXO</th>\n",
       "      <th>ENTIDAD_NAC</th>\n",
       "      <th>ENTIDAD_RES</th>\n",
       "      <th>MUNICIPIO_RES</th>\n",
       "      <th>TIPO_PACIENTE</th>\n",
       "      <th>...</th>\n",
       "      <th>OBESIDAD</th>\n",
       "      <th>RENAL_CRONICA</th>\n",
       "      <th>TABAQUISMO</th>\n",
       "      <th>OTRO_CASO</th>\n",
       "      <th>RESULTADO</th>\n",
       "      <th>MIGRANTE</th>\n",
       "      <th>PAIS_NACIONALIDAD</th>\n",
       "      <th>PAIS_ORIGEN</th>\n",
       "      <th>UCI</th>\n",
       "      <th>FechaRegistro</th>\n",
       "    </tr>\n",
       "  </thead>\n",
       "  <tbody>\n",
       "    <tr>\n",
       "      <th>0</th>\n",
       "      <td>2020-06-04</td>\n",
       "      <td>1632b6</td>\n",
       "      <td>2</td>\n",
       "      <td>4</td>\n",
       "      <td>14</td>\n",
       "      <td>2</td>\n",
       "      <td>15</td>\n",
       "      <td>14</td>\n",
       "      <td>120</td>\n",
       "      <td>1</td>\n",
       "      <td>...</td>\n",
       "      <td>2</td>\n",
       "      <td>2</td>\n",
       "      <td>2</td>\n",
       "      <td>99</td>\n",
       "      <td>1</td>\n",
       "      <td>99</td>\n",
       "      <td>MÃ©xico</td>\n",
       "      <td>99</td>\n",
       "      <td>97</td>\n",
       "      <td>2020-06-04</td>\n",
       "    </tr>\n",
       "    <tr>\n",
       "      <th>1</th>\n",
       "      <td>2020-06-04</td>\n",
       "      <td>022691</td>\n",
       "      <td>2</td>\n",
       "      <td>4</td>\n",
       "      <td>09</td>\n",
       "      <td>2</td>\n",
       "      <td>09</td>\n",
       "      <td>09</td>\n",
       "      <td>015</td>\n",
       "      <td>2</td>\n",
       "      <td>...</td>\n",
       "      <td>1</td>\n",
       "      <td>2</td>\n",
       "      <td>2</td>\n",
       "      <td>99</td>\n",
       "      <td>1</td>\n",
       "      <td>99</td>\n",
       "      <td>MÃ©xico</td>\n",
       "      <td>99</td>\n",
       "      <td>2</td>\n",
       "      <td>2020-06-04</td>\n",
       "    </tr>\n",
       "    <tr>\n",
       "      <th>2</th>\n",
       "      <td>2020-06-04</td>\n",
       "      <td>10413d</td>\n",
       "      <td>2</td>\n",
       "      <td>4</td>\n",
       "      <td>15</td>\n",
       "      <td>1</td>\n",
       "      <td>15</td>\n",
       "      <td>15</td>\n",
       "      <td>091</td>\n",
       "      <td>2</td>\n",
       "      <td>...</td>\n",
       "      <td>2</td>\n",
       "      <td>2</td>\n",
       "      <td>2</td>\n",
       "      <td>99</td>\n",
       "      <td>1</td>\n",
       "      <td>99</td>\n",
       "      <td>MÃ©xico</td>\n",
       "      <td>99</td>\n",
       "      <td>2</td>\n",
       "      <td>2020-06-04</td>\n",
       "    </tr>\n",
       "    <tr>\n",
       "      <th>3</th>\n",
       "      <td>2020-06-04</td>\n",
       "      <td>0c15eb</td>\n",
       "      <td>2</td>\n",
       "      <td>4</td>\n",
       "      <td>11</td>\n",
       "      <td>2</td>\n",
       "      <td>15</td>\n",
       "      <td>11</td>\n",
       "      <td>020</td>\n",
       "      <td>1</td>\n",
       "      <td>...</td>\n",
       "      <td>2</td>\n",
       "      <td>2</td>\n",
       "      <td>2</td>\n",
       "      <td>99</td>\n",
       "      <td>1</td>\n",
       "      <td>99</td>\n",
       "      <td>MÃ©xico</td>\n",
       "      <td>99</td>\n",
       "      <td>97</td>\n",
       "      <td>2020-06-04</td>\n",
       "    </tr>\n",
       "    <tr>\n",
       "      <th>4</th>\n",
       "      <td>2020-06-04</td>\n",
       "      <td>12944a</td>\n",
       "      <td>2</td>\n",
       "      <td>4</td>\n",
       "      <td>15</td>\n",
       "      <td>2</td>\n",
       "      <td>15</td>\n",
       "      <td>15</td>\n",
       "      <td>060</td>\n",
       "      <td>1</td>\n",
       "      <td>...</td>\n",
       "      <td>2</td>\n",
       "      <td>1</td>\n",
       "      <td>2</td>\n",
       "      <td>99</td>\n",
       "      <td>1</td>\n",
       "      <td>99</td>\n",
       "      <td>MÃ©xico</td>\n",
       "      <td>99</td>\n",
       "      <td>97</td>\n",
       "      <td>2020-06-04</td>\n",
       "    </tr>\n",
       "  </tbody>\n",
       "</table>\n",
       "<p>5 rows × 36 columns</p>\n",
       "</div>"
      ],
      "text/plain": [
       "  FECHA_ACTUALIZACION ID_REGISTRO ORIGEN SECTOR ENTIDAD_UM SEXO ENTIDAD_NAC  \\\n",
       "0          2020-06-04      1632b6      2      4         14    2          15   \n",
       "1          2020-06-04      022691      2      4         09    2          09   \n",
       "2          2020-06-04      10413d      2      4         15    1          15   \n",
       "3          2020-06-04      0c15eb      2      4         11    2          15   \n",
       "4          2020-06-04      12944a      2      4         15    2          15   \n",
       "\n",
       "  ENTIDAD_RES MUNICIPIO_RES TIPO_PACIENTE  ... OBESIDAD RENAL_CRONICA  \\\n",
       "0          14           120             1  ...        2             2   \n",
       "1          09           015             2  ...        1             2   \n",
       "2          15           091             2  ...        2             2   \n",
       "3          11           020             1  ...        2             2   \n",
       "4          15           060             1  ...        2             1   \n",
       "\n",
       "  TABAQUISMO OTRO_CASO RESULTADO MIGRANTE PAIS_NACIONALIDAD PAIS_ORIGEN UCI  \\\n",
       "0          2        99         1       99           MÃ©xico          99  97   \n",
       "1          2        99         1       99           MÃ©xico          99   2   \n",
       "2          2        99         1       99           MÃ©xico          99   2   \n",
       "3          2        99         1       99           MÃ©xico          99  97   \n",
       "4          2        99         1       99           MÃ©xico          99  97   \n",
       "\n",
       "  FechaRegistro  \n",
       "0    2020-06-04  \n",
       "1    2020-06-04  \n",
       "2    2020-06-04  \n",
       "3    2020-06-04  \n",
       "4    2020-06-04  \n",
       "\n",
       "[5 rows x 36 columns]"
      ]
     },
     "execution_count": 3,
     "metadata": {},
     "output_type": "execute_result"
    }
   ],
   "source": [
    "# we sorted the value by \n",
    "# df0 = df0.sort_values(by='FechaRegistro', ascending=False)\n",
    "df0.head()"
   ]
  },
  {
   "cell_type": "code",
   "execution_count": 4,
   "metadata": {},
   "outputs": [
    {
     "data": {
      "text/markdown": [
       "We have 22840271 records of covid evolution cases in Mexico until today 2020-07-06 22:20:28.608644"
      ],
      "text/plain": [
       "<IPython.core.display.Markdown object>"
      ]
     },
     "execution_count": 4,
     "metadata": {},
     "output_type": "execute_result"
    }
   ],
   "source": [
    "md(\"We have {0} records of covid evolution cases in Mexico until today {1}\".format(df0.shape[0], datetime.datetime.now()) )\n"
   ]
  },
  {
   "cell_type": "code",
   "execution_count": 5,
   "metadata": {},
   "outputs": [],
   "source": [
    "df0.FechaRegistro = pd.to_datetime(df0['FechaRegistro'], format='%Y-%m-%d')"
   ]
  },
  {
   "cell_type": "code",
   "execution_count": 6,
   "metadata": {},
   "outputs": [],
   "source": [
    "#today = (datetime.datetime.now()).strftime(\"%Y%m%d\")\n",
    "today = (datetime.datetime.now() - datetime.timedelta(days=1)).strftime(\"%Y%m%d\")\n",
    "yesterday = (datetime.datetime.now() - datetime.timedelta(days=2)).strftime(\"%Y%m%d\")\n",
    "ereyesterday = (datetime.datetime.now() - datetime.timedelta(days=3)).strftime(\"%Y%m%d\")\n",
    "df= pd.read_csv( '../src/'+today       +'.csv', encoding = \"ISO-8859-1\",dtype =str)\n",
    "dfA= pd.read_csv('../src/'+yesterday   +'.csv', encoding = \"ISO-8859-1\",dtype =str)\n",
    "dfB= pd.read_csv('../src/'+ereyesterday+'.csv', encoding = \"ISO-8859-1\",dtype =str)"
   ]
  },
  {
   "cell_type": "markdown",
   "metadata": {},
   "source": [
    "## 1 How many cases we have in the last report vs all reports?"
   ]
  },
  {
   "cell_type": "code",
   "execution_count": 7,
   "metadata": {},
   "outputs": [],
   "source": [
    "# we get unique cases globaly and from the last csv \n",
    "global_ids = df0.ID_REGISTRO.unique().tolist()\n",
    "last_ids  = df.ID_REGISTRO.unique().tolist()\n",
    "# we get the cases that are present in previous reports but they doesn't show in the last report\n",
    "untracket_cases = set(global_ids)- set(last_ids)\n",
    "tracket_cases = set(global_ids)- set(untracket_cases)"
   ]
  },
  {
   "cell_type": "code",
   "execution_count": 8,
   "metadata": {},
   "outputs": [],
   "source": [
    "df0.FECHA_SINTOMAS = pd.to_datetime(df0['FECHA_SINTOMAS'], format ='%Y-%m-%d')"
   ]
  },
  {
   "cell_type": "code",
   "execution_count": 9,
   "metadata": {},
   "outputs": [
    {
     "data": {
      "text/markdown": [
       "we have 37114 register that are not tracket"
      ],
      "text/plain": [
       "<IPython.core.display.Markdown object>"
      ]
     },
     "execution_count": 9,
     "metadata": {},
     "output_type": "execute_result"
    }
   ],
   "source": [
    "# we extract the records that does not live in the last report\n",
    "df1 = df0[df0.ID_REGISTRO.isin(untracket_cases)]\n",
    "df1 = df1.copy()\n",
    "\n",
    "md(\"we have {0} register that are not tracket\".format(df1.ID_REGISTRO.nunique()) )"
   ]
  },
  {
   "cell_type": "markdown",
   "metadata": {},
   "source": [
    "1. How many days the records exist\n",
    "2. Is there some kind or relation between the records?"
   ]
  },
  {
   "cell_type": "code",
   "execution_count": 10,
   "metadata": {},
   "outputs": [],
   "source": [
    "# df0.FechaRegistro = pd.to_datetime(df0['FechaRegistro'], format='%Y-%m-%d')\n",
    "df1.FECHA_SINTOMAS = pd.to_datetime(df1['FECHA_SINTOMAS'], format ='%Y-%m-%d')\n",
    "df1.FECHA_ACTUALIZACION = pd.to_datetime(df1['FECHA_ACTUALIZACION'], format ='%Y-%m-%d')\n",
    "df1.FechaRegistro = pd.to_datetime(df1['FechaRegistro'], format ='%Y-%m-%d')\n"
   ]
  },
  {
   "cell_type": "code",
   "execution_count": 11,
   "metadata": {},
   "outputs": [],
   "source": [
    "df1['LastDay']  = df1.groupby('ID_REGISTRO')['FechaRegistro'].transform('max')\n",
    "df1['FirstDay'] = df1.groupby('ID_REGISTRO')['FechaRegistro'].transform('min')\n",
    "df1['Duration'] = (df1.LastDay - df1.FirstDay).dt.days"
   ]
  },
  {
   "cell_type": "code",
   "execution_count": 12,
   "metadata": {},
   "outputs": [
    {
     "name": "stdout",
     "output_type": "stream",
     "text": [
      "280457\n"
     ]
    }
   ],
   "source": [
    "df3 = df1.drop_duplicates(keep='first')\n",
    "df3 = df3.drop_duplicates('ID_REGISTRO',keep='first')\n",
    "print(len(df1))\n"
   ]
  },
  {
   "cell_type": "code",
   "execution_count": 13,
   "metadata": {},
   "outputs": [
    {
     "data": {
      "text/plain": [
       "20        48\n",
       "107       53\n",
       "296       44\n",
       "297       60\n",
       "597       36\n",
       "          ..\n",
       "447503     0\n",
       "460197     0\n",
       "464850     0\n",
       "467078     0\n",
       "471111     0\n",
       "Name: Duration, Length: 37114, dtype: int64"
      ]
     },
     "execution_count": 13,
     "metadata": {},
     "output_type": "execute_result"
    }
   ],
   "source": [
    "df3['Duration']"
   ]
  },
  {
   "cell_type": "code",
   "execution_count": 14,
   "metadata": {},
   "outputs": [
    {
     "data": {
      "text/plain": [
       "<matplotlib.axes._subplots.AxesSubplot at 0x7f823e45e290>"
      ]
     },
     "execution_count": 14,
     "metadata": {},
     "output_type": "execute_result"
    },
    {
     "data": {
      "image/png": "[encoded data removed]",
      "text/plain": [
       "<Figure size 432x288 with 1 Axes>"
      ]
     },
     "metadata": {
      "needs_background": "light"
     },
     "output_type": "display_data"
    }
   ],
   "source": [
    "df3.groupby('Duration')['Duration'].count().plot()"
   ]
  },
  {
   "cell_type": "code",
   "execution_count": 15,
   "metadata": {
    "scrolled": true
   },
   "outputs": [
    {
     "data": {
      "text/plain": [
       "<matplotlib.axes._subplots.AxesSubplot at 0x7f7f1dace090>"
      ]
     },
     "execution_count": 15,
     "metadata": {},
     "output_type": "execute_result"
    },
    {
     "data": {
      "image/png": "[encoded data removed]",
      "text/plain": [
       "<Figure size 432x288 with 1 Axes>"
      ]
     },
     "metadata": {
      "needs_background": "light"
     },
     "output_type": "display_data"
    }
   ],
   "source": [
    "df3.groupby('EDAD')['EDAD'].count().plot()"
   ]
  },
  {
   "cell_type": "code",
   "execution_count": 16,
   "metadata": {},
   "outputs": [
    {
     "data": {
      "text/plain": [
       "EDAD\n",
       "31    917\n",
       "30    899\n",
       "35    899\n",
       "46    891\n",
       "36    885\n",
       "40    866\n",
       "28    865\n",
       "34    859\n",
       "38    856\n",
       "32    845\n",
       "Name: EDAD, dtype: int64"
      ]
     },
     "execution_count": 16,
     "metadata": {},
     "output_type": "execute_result"
    }
   ],
   "source": [
    "df3.groupby('EDAD')['EDAD'].count().sort_values(ascending=False).head(10)"
   ]
  },
  {
   "cell_type": "code",
   "execution_count": 17,
   "metadata": {},
   "outputs": [],
   "source": [
    "df1.FechaRegistro = pd.to_datetime(df1['FechaRegistro'], format='%Y-%m-%d')\n",
    "df1 = df1.sort_values(by='FechaRegistro', ascending=False)"
   ]
  },
  {
   "cell_type": "code",
   "execution_count": 18,
   "metadata": {},
   "outputs": [
    {
     "data": {
      "text/plain": [
       "37114"
      ]
     },
     "execution_count": 18,
     "metadata": {},
     "output_type": "execute_result"
    }
   ],
   "source": [
    "df1.ID_REGISTRO.nunique()"
   ]
  },
  {
   "cell_type": "code",
   "execution_count": 19,
   "metadata": {},
   "outputs": [
    {
     "data": {
      "text/plain": [
       "37114"
      ]
     },
     "execution_count": 19,
     "metadata": {},
     "output_type": "execute_result"
    }
   ],
   "source": [
    "df1.ID_REGISTRO.nunique()"
   ]
  },
  {
   "cell_type": "code",
   "execution_count": null,
   "metadata": {},
   "outputs": [],
   "source": []
  },
  {
   "cell_type": "code",
   "execution_count": 20,
   "metadata": {},
   "outputs": [
    {
     "data": {
      "text/html": [
       "<div>\n",
       "<style scoped>\n",
       "    .dataframe tbody tr th:only-of-type {\n",
       "        vertical-align: middle;\n",
       "    }\n",
       "\n",
       "    .dataframe tbody tr th {\n",
       "        vertical-align: top;\n",
       "    }\n",
       "\n",
       "    .dataframe thead th {\n",
       "        text-align: right;\n",
       "    }\n",
       "</style>\n",
       "<table border=\"1\" class=\"dataframe\">\n",
       "  <thead>\n",
       "    <tr style=\"text-align: right;\">\n",
       "      <th></th>\n",
       "      <th>FECHA_ACTUALIZACION</th>\n",
       "      <th>ID_REGISTRO</th>\n",
       "      <th>ORIGEN</th>\n",
       "      <th>SECTOR</th>\n",
       "      <th>ENTIDAD_UM</th>\n",
       "      <th>SEXO</th>\n",
       "      <th>ENTIDAD_NAC</th>\n",
       "      <th>ENTIDAD_RES</th>\n",
       "      <th>MUNICIPIO_RES</th>\n",
       "      <th>TIPO_PACIENTE</th>\n",
       "      <th>...</th>\n",
       "      <th>OTRO_CASO</th>\n",
       "      <th>RESULTADO</th>\n",
       "      <th>MIGRANTE</th>\n",
       "      <th>PAIS_NACIONALIDAD</th>\n",
       "      <th>PAIS_ORIGEN</th>\n",
       "      <th>UCI</th>\n",
       "      <th>FechaRegistro</th>\n",
       "      <th>LastDay</th>\n",
       "      <th>FirstDay</th>\n",
       "      <th>Duration</th>\n",
       "    </tr>\n",
       "  </thead>\n",
       "  <tbody>\n",
       "    <tr>\n",
       "      <th>623343</th>\n",
       "      <td>2020-07-06</td>\n",
       "      <td>00c5ef</td>\n",
       "      <td>1</td>\n",
       "      <td>12</td>\n",
       "      <td>05</td>\n",
       "      <td>1</td>\n",
       "      <td>15</td>\n",
       "      <td>05</td>\n",
       "      <td>002</td>\n",
       "      <td>1</td>\n",
       "      <td>...</td>\n",
       "      <td>2</td>\n",
       "      <td>3</td>\n",
       "      <td>99</td>\n",
       "      <td>MÃ©xico</td>\n",
       "      <td>99</td>\n",
       "      <td>97</td>\n",
       "      <td>2020-07-06</td>\n",
       "      <td>2020-07-06</td>\n",
       "      <td>2020-07-06</td>\n",
       "      <td>0</td>\n",
       "    </tr>\n",
       "    <tr>\n",
       "      <th>627280</th>\n",
       "      <td>2020-07-06</td>\n",
       "      <td>05b2da</td>\n",
       "      <td>2</td>\n",
       "      <td>12</td>\n",
       "      <td>14</td>\n",
       "      <td>1</td>\n",
       "      <td>09</td>\n",
       "      <td>14</td>\n",
       "      <td>098</td>\n",
       "      <td>1</td>\n",
       "      <td>...</td>\n",
       "      <td>1</td>\n",
       "      <td>3</td>\n",
       "      <td>99</td>\n",
       "      <td>MÃ©xico</td>\n",
       "      <td>99</td>\n",
       "      <td>97</td>\n",
       "      <td>2020-07-06</td>\n",
       "      <td>2020-07-06</td>\n",
       "      <td>2020-07-06</td>\n",
       "      <td>0</td>\n",
       "    </tr>\n",
       "    <tr>\n",
       "      <th>626759</th>\n",
       "      <td>2020-07-06</td>\n",
       "      <td>08ee44</td>\n",
       "      <td>2</td>\n",
       "      <td>12</td>\n",
       "      <td>11</td>\n",
       "      <td>1</td>\n",
       "      <td>11</td>\n",
       "      <td>11</td>\n",
       "      <td>031</td>\n",
       "      <td>1</td>\n",
       "      <td>...</td>\n",
       "      <td>1</td>\n",
       "      <td>3</td>\n",
       "      <td>99</td>\n",
       "      <td>MÃ©xico</td>\n",
       "      <td>99</td>\n",
       "      <td>97</td>\n",
       "      <td>2020-07-06</td>\n",
       "      <td>2020-07-06</td>\n",
       "      <td>2020-07-06</td>\n",
       "      <td>0</td>\n",
       "    </tr>\n",
       "    <tr>\n",
       "      <th>626760</th>\n",
       "      <td>2020-07-06</td>\n",
       "      <td>19cd96</td>\n",
       "      <td>2</td>\n",
       "      <td>12</td>\n",
       "      <td>12</td>\n",
       "      <td>1</td>\n",
       "      <td>12</td>\n",
       "      <td>12</td>\n",
       "      <td>029</td>\n",
       "      <td>1</td>\n",
       "      <td>...</td>\n",
       "      <td>2</td>\n",
       "      <td>3</td>\n",
       "      <td>99</td>\n",
       "      <td>MÃ©xico</td>\n",
       "      <td>99</td>\n",
       "      <td>97</td>\n",
       "      <td>2020-07-06</td>\n",
       "      <td>2020-07-06</td>\n",
       "      <td>2020-07-06</td>\n",
       "      <td>0</td>\n",
       "    </tr>\n",
       "    <tr>\n",
       "      <th>626761</th>\n",
       "      <td>2020-07-06</td>\n",
       "      <td>175bbc</td>\n",
       "      <td>2</td>\n",
       "      <td>12</td>\n",
       "      <td>11</td>\n",
       "      <td>2</td>\n",
       "      <td>11</td>\n",
       "      <td>11</td>\n",
       "      <td>026</td>\n",
       "      <td>1</td>\n",
       "      <td>...</td>\n",
       "      <td>1</td>\n",
       "      <td>3</td>\n",
       "      <td>99</td>\n",
       "      <td>MÃ©xico</td>\n",
       "      <td>99</td>\n",
       "      <td>97</td>\n",
       "      <td>2020-07-06</td>\n",
       "      <td>2020-07-06</td>\n",
       "      <td>2020-07-06</td>\n",
       "      <td>0</td>\n",
       "    </tr>\n",
       "  </tbody>\n",
       "</table>\n",
       "<p>5 rows × 39 columns</p>\n",
       "</div>"
      ],
      "text/plain": [
       "       FECHA_ACTUALIZACION ID_REGISTRO ORIGEN SECTOR ENTIDAD_UM SEXO  \\\n",
       "623343          2020-07-06      00c5ef      1     12         05    1   \n",
       "627280          2020-07-06      05b2da      2     12         14    1   \n",
       "626759          2020-07-06      08ee44      2     12         11    1   \n",
       "626760          2020-07-06      19cd96      2     12         12    1   \n",
       "626761          2020-07-06      175bbc      2     12         11    2   \n",
       "\n",
       "       ENTIDAD_NAC ENTIDAD_RES MUNICIPIO_RES TIPO_PACIENTE  ... OTRO_CASO  \\\n",
       "623343          15          05           002             1  ...         2   \n",
       "627280          09          14           098             1  ...         1   \n",
       "626759          11          11           031             1  ...         1   \n",
       "626760          12          12           029             1  ...         2   \n",
       "626761          11          11           026             1  ...         1   \n",
       "\n",
       "       RESULTADO MIGRANTE PAIS_NACIONALIDAD PAIS_ORIGEN UCI FechaRegistro  \\\n",
       "623343         3       99           MÃ©xico          99  97    2020-07-06   \n",
       "627280         3       99           MÃ©xico          99  97    2020-07-06   \n",
       "626759         3       99           MÃ©xico          99  97    2020-07-06   \n",
       "626760         3       99           MÃ©xico          99  97    2020-07-06   \n",
       "626761         3       99           MÃ©xico          99  97    2020-07-06   \n",
       "\n",
       "          LastDay   FirstDay Duration  \n",
       "623343 2020-07-06 2020-07-06        0  \n",
       "627280 2020-07-06 2020-07-06        0  \n",
       "626759 2020-07-06 2020-07-06        0  \n",
       "626760 2020-07-06 2020-07-06        0  \n",
       "626761 2020-07-06 2020-07-06        0  \n",
       "\n",
       "[5 rows x 39 columns]"
      ]
     },
     "execution_count": 20,
     "metadata": {},
     "output_type": "execute_result"
    }
   ],
   "source": [
    "df1.head()"
   ]
  },
  {
   "cell_type": "code",
   "execution_count": 21,
   "metadata": {},
   "outputs": [
    {
     "name": "stdout",
     "output_type": "stream",
     "text": [
      "280457\n",
      "280457\n"
     ]
    }
   ],
   "source": [
    "print(len(df1))\n",
    "df3 = df1.drop_duplicates(keep='first')\n",
    "# print(len(df3))\n",
    "df3 = df3.drop_duplicates('ID_REGISTRO',keep='first')\n",
    "# print(len(df3))\n",
    "print(len(df1))"
   ]
  },
  {
   "cell_type": "markdown",
   "metadata": {},
   "source": [
    "At the end of 2019, the world saw the born of the Sars-cov-2 virus which genereate a disease called COVID19 (COrona VIrus disease). The high risk that we face with this virus is that the sympthons are related to a typical flu but generate a high damage un the lungs decreasing the oxygen level. The disminution of oxygen generate a high demand of intensive beds.\n",
    "\n",
    "From WHO files\n",
    "\n",
    "According to the WHO the incubation period for COVID-19, is on average 5-6 days, but can be extended to 14 days. However there some evidence that shows that exist different types of transmition, such as symptomatic, pre-symptomatic and a symptomatic.\n",
    "\n",
    "The typical transmition is the symptomatic, this ocurrs when a person shown COVID symptomatic and can spread the virus conciently or inconciently respiratory droplest over thier enviroment. However, some cases has shown that a person can transmit COVID-19 without symptoms, (3 or 2 days) before present the typical symptoms. Finally there are some concern about the asyptomatic transmission according to the WHO: Asymptomatic transmission refers to transmission of the virus from a person, who does not develop symptoms. There are few reports of laboratory-confirmed cases who are truly asymptomatic, and to date, there has been no documente asymptomatic transmission. This does not exclude the possibility that it may occur. Asymptomatic cases have been reported as part of contact tracing efforts in some countries. Source https://www.who.int/docs/default-source/coronaviruse/situation-reports/20200402-sitrep-73-covid-19.pdf?sfvrsn=5ae25bc7_2#:~:text=An%20asymptomatic%20laboratory%2Dconfirmed,more%20information%20becomes%20available.\n",
    "\n",
    "\n",
    "The goal of this notebook is listed below:\n",
    "* Understand the evolution of the covi19 in Mexico, there are a rate of 10% of deads though a visualization analysis\n",
    "\n",
    "\n",
    "Key elements\n",
    "\n",
    "* Incubation period can be expresed a GAMMA.\n",
    "* Is most common the transmision after show symptoms.\n",
    "* How we can modeled (explain pre-symtomatic transmition)\n",
    "* how we can modeled asyntomatic transmition\n"
   ]
  },
  {
   "cell_type": "code",
   "execution_count": 22,
   "metadata": {
    "scrolled": true
   },
   "outputs": [
    {
     "data": {
      "text/plain": [
       "FechaRegistro\n",
       "2020-07-06    11323\n",
       "2020-04-16     2370\n",
       "2020-04-20     1395\n",
       "2020-05-19      775\n",
       "2020-07-02      731\n",
       "2020-05-21      594\n",
       "2020-05-12      558\n",
       "2020-05-07      550\n",
       "2020-04-30      481\n",
       "2020-06-10      439\n",
       "2020-05-08      439\n",
       "2020-06-03      437\n",
       "2020-06-26      433\n",
       "2020-06-02      420\n",
       "2020-06-22      408\n",
       "2020-04-17      404\n",
       "2020-05-13      404\n",
       "2020-06-30      400\n",
       "2020-06-16      374\n",
       "Name: FechaRegistro, dtype: int64"
      ]
     },
     "execution_count": 22,
     "metadata": {},
     "output_type": "execute_result"
    }
   ],
   "source": [
    "df3.groupby(['FechaRegistro'])['FechaRegistro'].count().sort_values(ascending=False).head(19)"
   ]
  },
  {
   "cell_type": "code",
   "execution_count": 23,
   "metadata": {},
   "outputs": [
    {
     "data": {
      "text/plain": [
       "RESULTADO\n",
       "1     2541\n",
       "2     4432\n",
       "3    30141\n",
       "Name: RESULTADO, dtype: int64"
      ]
     },
     "execution_count": 23,
     "metadata": {},
     "output_type": "execute_result"
    }
   ],
   "source": [
    "df3.groupby('RESULTADO')['RESULTADO'].count()"
   ]
  },
  {
   "cell_type": "code",
   "execution_count": 24,
   "metadata": {
    "scrolled": true
   },
   "outputs": [
    {
     "data": {
      "text/plain": [
       "<matplotlib.axes._subplots.AxesSubplot at 0x7f7f180e79d0>"
      ]
     },
     "execution_count": 24,
     "metadata": {},
     "output_type": "execute_result"
    },
    {
     "data": {
      "image/png": "[encoded data removed]",
      "text/plain": [
       "<Figure size 432x288 with 1 Axes>"
      ]
     },
     "metadata": {
      "needs_background": "light"
     },
     "output_type": "display_data"
    }
   ],
   "source": [
    "df3.groupby(['FechaRegistro'])['FechaRegistro'].count().plot()"
   ]
  },
  {
   "cell_type": "code",
   "execution_count": 25,
   "metadata": {},
   "outputs": [
    {
     "data": {
      "text/plain": [
       "<matplotlib.axes._subplots.AxesSubplot at 0x7fac917a4150>"
      ]
     },
     "execution_count": 25,
     "metadata": {},
     "output_type": "execute_result"
    },
    {
     "data": {
      "image/png": "[encoded data removed]",
      "text/plain": [
       "<Figure size 432x288 with 1 Axes>"
      ]
     },
     "metadata": {
      "needs_background": "light"
     },
     "output_type": "display_data"
    }
   ],
   "source": [
    "df3.groupby(['FECHA_SINTOMAS'])['FECHA_SINTOMAS'].count().plot()"
   ]
  },
  {
   "cell_type": "code",
   "execution_count": 26,
   "metadata": {},
   "outputs": [
    {
     "data": {
      "text/plain": [
       "<matplotlib.axes._subplots.AxesSubplot at 0x7f7f146be710>"
      ]
     },
     "execution_count": 26,
     "metadata": {},
     "output_type": "execute_result"
    },
    {
     "data": {
      "image/png": "[encoded data removed]",
      "text/plain": [
       "<Figure size 432x288 with 1 Axes>"
      ]
     },
     "metadata": {
      "needs_background": "light"
     },
     "output_type": "display_data"
    }
   ],
   "source": [
    "df3.groupby(['FECHA_ACTUALIZACION'])['FECHA_ACTUALIZACION'].count().plot()"
   ]
  },
  {
   "cell_type": "code",
   "execution_count": 27,
   "metadata": {},
   "outputs": [
    {
     "data": {
      "text/plain": [
       "RESULTADO\n",
       "1     4\n",
       "2    71\n",
       "3    10\n",
       "Name: RESULTADO, dtype: int64"
      ]
     },
     "execution_count": 27,
     "metadata": {},
     "output_type": "execute_result"
    }
   ],
   "source": [
    "df3[df3.FECHA_SINTOMAS<'2020-02-28'].groupby('RESULTADO')['RESULTADO'].count()"
   ]
  },
  {
   "cell_type": "markdown",
   "metadata": {},
   "source": [
    "# personas que siguen en el sistema"
   ]
  },
  {
   "cell_type": "code",
   "execution_count": 28,
   "metadata": {},
   "outputs": [
    {
     "data": {
      "text/plain": [
       "(22559814, 36)"
      ]
     },
     "execution_count": 28,
     "metadata": {},
     "output_type": "execute_result"
    }
   ],
   "source": [
    "# we extract the records that does not live in the last report\n",
    "dfO1 = df0[df0.ID_REGISTRO.isin(tracket_cases)]\n",
    "dfO1 = dfO1.copy()\n",
    "dfO1.shape\n"
   ]
  },
  {
   "cell_type": "code",
   "execution_count": 29,
   "metadata": {},
   "outputs": [
    {
     "data": {
      "text/plain": [
       "RESULTADO\n",
       "1      1545\n",
       "2    155506\n",
       "3       336\n",
       "Name: RESULTADO, dtype: int64"
      ]
     },
     "execution_count": 29,
     "metadata": {},
     "output_type": "execute_result"
    }
   ],
   "source": [
    "# df0.FechaRegistro = pd.to_datetime(df0['FechaRegistro'], format='%Y-%m-%d')\n",
    "dfO1.FECHA_SINTOMAS = pd.to_datetime(dfO1['FECHA_SINTOMAS'], format ='%Y-%m-%d')\n",
    "dfO1.FECHA_ACTUALIZACION = pd.to_datetime(dfO1['FECHA_ACTUALIZACION'], format ='%Y-%m-%d')\n",
    "dfO1.FechaRegistro = pd.to_datetime(dfO1['FechaRegistro'], format ='%Y-%m-%d')\n",
    "dfO1['delta_lastRecord'] = (dfO1.FECHA_ACTUALIZACION-dfO1.FechaRegistro ).dt.days\n",
    "dfO1['deltaReporte'] = (dfO1.FechaRegistro-dfO1.FECHA_SINTOMAS).dt.days\n",
    "dfO1[dfO1.FECHA_SINTOMAS<'2020-02-29'].groupby('RESULTADO')['RESULTADO'].count()\n",
    "\n"
   ]
  },
  {
   "cell_type": "code",
   "execution_count": 30,
   "metadata": {},
   "outputs": [],
   "source": [
    "# sort_values(by='FechaRegistro', ascending=False).head()\n",
    "\n",
    "dfO13 = dfO1.drop_duplicates(['ID_REGISTRO', \n",
    "       'FECHA_INGRESO', 'FECHA_SINTOMAS', ],keep='first')\n",
    "dfO13 = dfO13.copy()"
   ]
  },
  {
   "cell_type": "code",
   "execution_count": 31,
   "metadata": {},
   "outputs": [
    {
     "data": {
      "text/plain": [
       "ID_REGISTRO\n",
       "0a2098    4\n",
       "113be4    4\n",
       "168506    3\n",
       "0aa887    3\n",
       "139532    3\n",
       "         ..\n",
       "1452d1    1\n",
       "1452cc    1\n",
       "1452c3    1\n",
       "1452c2    1\n",
       "000002    1\n",
       "Name: FECHA_ACTUALIZACION, Length: 641142, dtype: int64"
      ]
     },
     "execution_count": 31,
     "metadata": {},
     "output_type": "execute_result"
    }
   ],
   "source": [
    "dfO13.groupby('ID_REGISTRO')['FECHA_ACTUALIZACION'].count().sort_values( ascending=False)"
   ]
  },
  {
   "cell_type": "code",
   "execution_count": 32,
   "metadata": {},
   "outputs": [
    {
     "data": {
      "text/plain": [
       "ID_REGISTRO\n",
       "0304ae    2\n",
       "02a0df    2\n",
       "0226ad    2\n",
       "13fb66    2\n",
       "0632c1    2\n",
       "1732a3    2\n",
       "09ab34    1\n",
       "09a8f7    1\n",
       "09a8af    1\n",
       "09a72f    1\n",
       "Name: FECHA_ACTUALIZACION, dtype: int64"
      ]
     },
     "execution_count": 32,
     "metadata": {},
     "output_type": "execute_result"
    }
   ],
   "source": [
    "dfO131 = dfO13[dfO13.FECHA_SINTOMAS<'2020-02-29']\n",
    "dfO131.groupby('ID_REGISTRO')['FECHA_ACTUALIZACION'].count().sort_values( ascending=False).head(10)"
   ]
  },
  {
   "cell_type": "code",
   "execution_count": 33,
   "metadata": {},
   "outputs": [
    {
     "data": {
      "text/html": [
       "<div>\n",
       "<style scoped>\n",
       "    .dataframe tbody tr th:only-of-type {\n",
       "        vertical-align: middle;\n",
       "    }\n",
       "\n",
       "    .dataframe tbody tr th {\n",
       "        vertical-align: top;\n",
       "    }\n",
       "\n",
       "    .dataframe thead th {\n",
       "        text-align: right;\n",
       "    }\n",
       "</style>\n",
       "<table border=\"1\" class=\"dataframe\">\n",
       "  <thead>\n",
       "    <tr style=\"text-align: right;\">\n",
       "      <th></th>\n",
       "      <th>ID_REGISTRO</th>\n",
       "      <th>FECHA_SINTOMAS</th>\n",
       "      <th>FECHA_INGRESO</th>\n",
       "    </tr>\n",
       "  </thead>\n",
       "  <tbody>\n",
       "    <tr>\n",
       "      <th>45837</th>\n",
       "      <td>1732a3</td>\n",
       "      <td>2020-02-06</td>\n",
       "      <td>2020-04-14</td>\n",
       "    </tr>\n",
       "    <tr>\n",
       "      <th>55559</th>\n",
       "      <td>1732a3</td>\n",
       "      <td>2020-02-06</td>\n",
       "      <td>2020-04-07</td>\n",
       "    </tr>\n",
       "    <tr>\n",
       "      <th>224695</th>\n",
       "      <td>13fb66</td>\n",
       "      <td>2020-01-09</td>\n",
       "      <td>2020-01-09</td>\n",
       "    </tr>\n",
       "    <tr>\n",
       "      <th>34894</th>\n",
       "      <td>13fb66</td>\n",
       "      <td>2020-01-02</td>\n",
       "      <td>2020-01-04</td>\n",
       "    </tr>\n",
       "    <tr>\n",
       "      <th>118033</th>\n",
       "      <td>0632c1</td>\n",
       "      <td>2020-02-12</td>\n",
       "      <td>2020-02-15</td>\n",
       "    </tr>\n",
       "    <tr>\n",
       "      <th>6076</th>\n",
       "      <td>0632c1</td>\n",
       "      <td>2020-02-12</td>\n",
       "      <td>2020-03-15</td>\n",
       "    </tr>\n",
       "    <tr>\n",
       "      <th>245193</th>\n",
       "      <td>0304ae</td>\n",
       "      <td>2020-01-28</td>\n",
       "      <td>2020-01-28</td>\n",
       "    </tr>\n",
       "    <tr>\n",
       "      <th>27433</th>\n",
       "      <td>0304ae</td>\n",
       "      <td>2020-01-27</td>\n",
       "      <td>2020-01-28</td>\n",
       "    </tr>\n",
       "    <tr>\n",
       "      <th>265357</th>\n",
       "      <td>02a0df</td>\n",
       "      <td>2020-02-20</td>\n",
       "      <td>2020-02-21</td>\n",
       "    </tr>\n",
       "    <tr>\n",
       "      <th>2333</th>\n",
       "      <td>02a0df</td>\n",
       "      <td>2020-02-20</td>\n",
       "      <td>2020-03-31</td>\n",
       "    </tr>\n",
       "    <tr>\n",
       "      <th>200448</th>\n",
       "      <td>0226ad</td>\n",
       "      <td>2020-01-30</td>\n",
       "      <td>2020-01-30</td>\n",
       "    </tr>\n",
       "    <tr>\n",
       "      <th>298</th>\n",
       "      <td>0226ad</td>\n",
       "      <td>2020-01-27</td>\n",
       "      <td>2020-01-30</td>\n",
       "    </tr>\n",
       "  </tbody>\n",
       "</table>\n",
       "</div>"
      ],
      "text/plain": [
       "       ID_REGISTRO FECHA_SINTOMAS FECHA_INGRESO\n",
       "45837       1732a3     2020-02-06    2020-04-14\n",
       "55559       1732a3     2020-02-06    2020-04-07\n",
       "224695      13fb66     2020-01-09    2020-01-09\n",
       "34894       13fb66     2020-01-02    2020-01-04\n",
       "118033      0632c1     2020-02-12    2020-02-15\n",
       "6076        0632c1     2020-02-12    2020-03-15\n",
       "245193      0304ae     2020-01-28    2020-01-28\n",
       "27433       0304ae     2020-01-27    2020-01-28\n",
       "265357      02a0df     2020-02-20    2020-02-21\n",
       "2333        02a0df     2020-02-20    2020-03-31\n",
       "200448      0226ad     2020-01-30    2020-01-30\n",
       "298         0226ad     2020-01-27    2020-01-30"
      ]
     },
     "execution_count": 33,
     "metadata": {},
     "output_type": "execute_result"
    }
   ],
   "source": [
    "dfO131[dfO131.ID_REGISTRO.isin(['0304ae','02a0df','0226ad','13fb66','0632c1','1732a3',])][['ID_REGISTRO', \n",
    "        'FECHA_SINTOMAS','FECHA_INGRESO',]].sort_values(['ID_REGISTRO','FECHA_SINTOMAS'], ascending=False)"
   ]
  },
  {
   "cell_type": "code",
   "execution_count": 34,
   "metadata": {},
   "outputs": [
    {
     "name": "stderr",
     "output_type": "stream",
     "text": [
      "/Users/jorge.urteaga/opt/anaconda3/lib/python3.7/site-packages/ipykernel_launcher.py:1: SettingWithCopyWarning: \n",
      "A value is trying to be set on a copy of a slice from a DataFrame.\n",
      "Try using .loc[row_indexer,col_indexer] = value instead\n",
      "\n",
      "See the caveats in the documentation: http://pandas.pydata.org/pandas-docs/stable/user_guide/indexing.html#returning-a-view-versus-a-copy\n",
      "  \"\"\"Entry point for launching an IPython kernel.\n"
     ]
    }
   ],
   "source": [
    "dfO131['deltaCorrección'] = (dfO131.FECHA_INGRESO-dfO131.FECHA_SINTOMAS).dt.days"
   ]
  },
  {
   "cell_type": "code",
   "execution_count": 35,
   "metadata": {},
   "outputs": [
    {
     "data": {
      "text/plain": [
       "ID_REGISTRO\n",
       "0304ae    2\n",
       "02a0df    2\n",
       "0226ad    2\n",
       "13fb66    2\n",
       "0632c1    2\n",
       "1732a3    2\n",
       "09ab34    1\n",
       "09a8f7    1\n",
       "09a8af    1\n",
       "09a72f    1\n",
       "1e844c    1\n",
       "099bfc    1\n",
       "09ab8c    1\n",
       "098ca1    1\n",
       "0989cb    1\n",
       "09870e    1\n",
       "098532    1\n",
       "0992c5    1\n",
       "09b305    1\n",
       "09ad90    1\n",
       "097ee0    1\n",
       "09b30e    1\n",
       "09bc06    1\n",
       "09c726    1\n",
       "09cd5a    1\n",
       "09e264    1\n",
       "09e545    1\n",
       "09eabf    1\n",
       "09f464    1\n",
       "09f651    1\n",
       "09fa2d    1\n",
       "09fd9f    1\n",
       "09ffe7    1\n",
       "098054    1\n",
       "097a8f    1\n",
       "0a0f7f    1\n",
       "093d6c    1\n",
       "091b0e    1\n",
       "091e6b    1\n",
       "092a9c    1\n",
       "092f75    1\n",
       "093097    1\n",
       "093164    1\n",
       "093400    1\n",
       "093599    1\n",
       "09364d    1\n",
       "093896    1\n",
       "093931    1\n",
       "093c64    1\n",
       "093d26    1\n",
       "Name: deltaCorrección, dtype: int64"
      ]
     },
     "execution_count": 35,
     "metadata": {},
     "output_type": "execute_result"
    }
   ],
   "source": [
    "dfO131.groupby('ID_REGISTRO')['deltaCorrección'].count().sort_values( ascending=False).head(50)"
   ]
  },
  {
   "cell_type": "code",
   "execution_count": 36,
   "metadata": {},
   "outputs": [
    {
     "data": {
      "text/plain": [
       "Timestamp('2020-01-01 00:00:00')"
      ]
     },
     "execution_count": 36,
     "metadata": {},
     "output_type": "execute_result"
    }
   ],
   "source": [
    "df0['FECHA_SINTOMAS'].min()"
   ]
  },
  {
   "cell_type": "code",
   "execution_count": 37,
   "metadata": {},
   "outputs": [
    {
     "data": {
      "text/html": [
       "<div>\n",
       "<style scoped>\n",
       "    .dataframe tbody tr th:only-of-type {\n",
       "        vertical-align: middle;\n",
       "    }\n",
       "\n",
       "    .dataframe tbody tr th {\n",
       "        vertical-align: top;\n",
       "    }\n",
       "\n",
       "    .dataframe thead th {\n",
       "        text-align: right;\n",
       "    }\n",
       "</style>\n",
       "<table border=\"1\" class=\"dataframe\">\n",
       "  <thead>\n",
       "    <tr style=\"text-align: right;\">\n",
       "      <th></th>\n",
       "      <th>FECHA_ACTUALIZACION</th>\n",
       "      <th>ID_REGISTRO</th>\n",
       "      <th>ORIGEN</th>\n",
       "      <th>SECTOR</th>\n",
       "      <th>ENTIDAD_UM</th>\n",
       "      <th>SEXO</th>\n",
       "      <th>ENTIDAD_NAC</th>\n",
       "      <th>ENTIDAD_RES</th>\n",
       "      <th>MUNICIPIO_RES</th>\n",
       "      <th>TIPO_PACIENTE</th>\n",
       "      <th>...</th>\n",
       "      <th>OBESIDAD</th>\n",
       "      <th>RENAL_CRONICA</th>\n",
       "      <th>TABAQUISMO</th>\n",
       "      <th>OTRO_CASO</th>\n",
       "      <th>RESULTADO</th>\n",
       "      <th>MIGRANTE</th>\n",
       "      <th>PAIS_NACIONALIDAD</th>\n",
       "      <th>PAIS_ORIGEN</th>\n",
       "      <th>UCI</th>\n",
       "      <th>FechaRegistro</th>\n",
       "    </tr>\n",
       "  </thead>\n",
       "  <tbody>\n",
       "    <tr>\n",
       "      <th>106885</th>\n",
       "      <td>2020-06-04</td>\n",
       "      <td>0c745e</td>\n",
       "      <td>2</td>\n",
       "      <td>4</td>\n",
       "      <td>09</td>\n",
       "      <td>1</td>\n",
       "      <td>09</td>\n",
       "      <td>09</td>\n",
       "      <td>008</td>\n",
       "      <td>1</td>\n",
       "      <td>...</td>\n",
       "      <td>2</td>\n",
       "      <td>2</td>\n",
       "      <td>2</td>\n",
       "      <td>99</td>\n",
       "      <td>2</td>\n",
       "      <td>99</td>\n",
       "      <td>MÃ©xico</td>\n",
       "      <td>99</td>\n",
       "      <td>97</td>\n",
       "      <td>2020-06-04</td>\n",
       "    </tr>\n",
       "    <tr>\n",
       "      <th>109525</th>\n",
       "      <td>2020-06-04</td>\n",
       "      <td>0bc511</td>\n",
       "      <td>2</td>\n",
       "      <td>4</td>\n",
       "      <td>09</td>\n",
       "      <td>2</td>\n",
       "      <td>09</td>\n",
       "      <td>09</td>\n",
       "      <td>002</td>\n",
       "      <td>1</td>\n",
       "      <td>...</td>\n",
       "      <td>2</td>\n",
       "      <td>2</td>\n",
       "      <td>2</td>\n",
       "      <td>99</td>\n",
       "      <td>2</td>\n",
       "      <td>99</td>\n",
       "      <td>MÃ©xico</td>\n",
       "      <td>99</td>\n",
       "      <td>97</td>\n",
       "      <td>2020-06-04</td>\n",
       "    </tr>\n",
       "    <tr>\n",
       "      <th>109548</th>\n",
       "      <td>2020-06-04</td>\n",
       "      <td>082032</td>\n",
       "      <td>2</td>\n",
       "      <td>4</td>\n",
       "      <td>14</td>\n",
       "      <td>2</td>\n",
       "      <td>14</td>\n",
       "      <td>14</td>\n",
       "      <td>039</td>\n",
       "      <td>1</td>\n",
       "      <td>...</td>\n",
       "      <td>2</td>\n",
       "      <td>2</td>\n",
       "      <td>2</td>\n",
       "      <td>99</td>\n",
       "      <td>2</td>\n",
       "      <td>99</td>\n",
       "      <td>MÃ©xico</td>\n",
       "      <td>99</td>\n",
       "      <td>97</td>\n",
       "      <td>2020-06-04</td>\n",
       "    </tr>\n",
       "    <tr>\n",
       "      <th>110590</th>\n",
       "      <td>2020-06-04</td>\n",
       "      <td>031621</td>\n",
       "      <td>2</td>\n",
       "      <td>4</td>\n",
       "      <td>09</td>\n",
       "      <td>2</td>\n",
       "      <td>09</td>\n",
       "      <td>09</td>\n",
       "      <td>002</td>\n",
       "      <td>2</td>\n",
       "      <td>...</td>\n",
       "      <td>2</td>\n",
       "      <td>2</td>\n",
       "      <td>2</td>\n",
       "      <td>99</td>\n",
       "      <td>2</td>\n",
       "      <td>99</td>\n",
       "      <td>MÃ©xico</td>\n",
       "      <td>99</td>\n",
       "      <td>2</td>\n",
       "      <td>2020-06-04</td>\n",
       "    </tr>\n",
       "    <tr>\n",
       "      <th>111805</th>\n",
       "      <td>2020-06-04</td>\n",
       "      <td>073494</td>\n",
       "      <td>2</td>\n",
       "      <td>4</td>\n",
       "      <td>23</td>\n",
       "      <td>2</td>\n",
       "      <td>07</td>\n",
       "      <td>23</td>\n",
       "      <td>005</td>\n",
       "      <td>1</td>\n",
       "      <td>...</td>\n",
       "      <td>2</td>\n",
       "      <td>2</td>\n",
       "      <td>2</td>\n",
       "      <td>99</td>\n",
       "      <td>2</td>\n",
       "      <td>99</td>\n",
       "      <td>MÃ©xico</td>\n",
       "      <td>99</td>\n",
       "      <td>97</td>\n",
       "      <td>2020-06-04</td>\n",
       "    </tr>\n",
       "    <tr>\n",
       "      <th>...</th>\n",
       "      <td>...</td>\n",
       "      <td>...</td>\n",
       "      <td>...</td>\n",
       "      <td>...</td>\n",
       "      <td>...</td>\n",
       "      <td>...</td>\n",
       "      <td>...</td>\n",
       "      <td>...</td>\n",
       "      <td>...</td>\n",
       "      <td>...</td>\n",
       "      <td>...</td>\n",
       "      <td>...</td>\n",
       "      <td>...</td>\n",
       "      <td>...</td>\n",
       "      <td>...</td>\n",
       "      <td>...</td>\n",
       "      <td>...</td>\n",
       "      <td>...</td>\n",
       "      <td>...</td>\n",
       "      <td>...</td>\n",
       "      <td>...</td>\n",
       "    </tr>\n",
       "    <tr>\n",
       "      <th>377920</th>\n",
       "      <td>2020-06-21</td>\n",
       "      <td>044d0d</td>\n",
       "      <td>2</td>\n",
       "      <td>4</td>\n",
       "      <td>09</td>\n",
       "      <td>1</td>\n",
       "      <td>09</td>\n",
       "      <td>09</td>\n",
       "      <td>015</td>\n",
       "      <td>1</td>\n",
       "      <td>...</td>\n",
       "      <td>2</td>\n",
       "      <td>2</td>\n",
       "      <td>2</td>\n",
       "      <td>99</td>\n",
       "      <td>2</td>\n",
       "      <td>99</td>\n",
       "      <td>MÃ©xico</td>\n",
       "      <td>99</td>\n",
       "      <td>97</td>\n",
       "      <td>2020-06-21</td>\n",
       "    </tr>\n",
       "    <tr>\n",
       "      <th>381950</th>\n",
       "      <td>2020-06-21</td>\n",
       "      <td>1dc68d</td>\n",
       "      <td>2</td>\n",
       "      <td>4</td>\n",
       "      <td>14</td>\n",
       "      <td>1</td>\n",
       "      <td>14</td>\n",
       "      <td>14</td>\n",
       "      <td>101</td>\n",
       "      <td>2</td>\n",
       "      <td>...</td>\n",
       "      <td>2</td>\n",
       "      <td>2</td>\n",
       "      <td>2</td>\n",
       "      <td>99</td>\n",
       "      <td>2</td>\n",
       "      <td>99</td>\n",
       "      <td>MÃ©xico</td>\n",
       "      <td>99</td>\n",
       "      <td>2</td>\n",
       "      <td>2020-06-21</td>\n",
       "    </tr>\n",
       "    <tr>\n",
       "      <th>397140</th>\n",
       "      <td>2020-06-21</td>\n",
       "      <td>033221</td>\n",
       "      <td>2</td>\n",
       "      <td>12</td>\n",
       "      <td>05</td>\n",
       "      <td>1</td>\n",
       "      <td>28</td>\n",
       "      <td>05</td>\n",
       "      <td>030</td>\n",
       "      <td>1</td>\n",
       "      <td>...</td>\n",
       "      <td>2</td>\n",
       "      <td>2</td>\n",
       "      <td>2</td>\n",
       "      <td>1</td>\n",
       "      <td>2</td>\n",
       "      <td>99</td>\n",
       "      <td>MÃ©xico</td>\n",
       "      <td>99</td>\n",
       "      <td>97</td>\n",
       "      <td>2020-06-21</td>\n",
       "    </tr>\n",
       "    <tr>\n",
       "      <th>405742</th>\n",
       "      <td>2020-06-21</td>\n",
       "      <td>0bdf57</td>\n",
       "      <td>2</td>\n",
       "      <td>4</td>\n",
       "      <td>09</td>\n",
       "      <td>1</td>\n",
       "      <td>09</td>\n",
       "      <td>15</td>\n",
       "      <td>104</td>\n",
       "      <td>1</td>\n",
       "      <td>...</td>\n",
       "      <td>2</td>\n",
       "      <td>2</td>\n",
       "      <td>2</td>\n",
       "      <td>99</td>\n",
       "      <td>2</td>\n",
       "      <td>99</td>\n",
       "      <td>MÃ©xico</td>\n",
       "      <td>99</td>\n",
       "      <td>97</td>\n",
       "      <td>2020-06-21</td>\n",
       "    </tr>\n",
       "    <tr>\n",
       "      <th>414498</th>\n",
       "      <td>2020-06-21</td>\n",
       "      <td>0580be</td>\n",
       "      <td>2</td>\n",
       "      <td>4</td>\n",
       "      <td>09</td>\n",
       "      <td>2</td>\n",
       "      <td>09</td>\n",
       "      <td>09</td>\n",
       "      <td>005</td>\n",
       "      <td>1</td>\n",
       "      <td>...</td>\n",
       "      <td>2</td>\n",
       "      <td>2</td>\n",
       "      <td>2</td>\n",
       "      <td>99</td>\n",
       "      <td>2</td>\n",
       "      <td>99</td>\n",
       "      <td>MÃ©xico</td>\n",
       "      <td>99</td>\n",
       "      <td>97</td>\n",
       "      <td>2020-06-21</td>\n",
       "    </tr>\n",
       "  </tbody>\n",
       "</table>\n",
       "<p>1653 rows × 36 columns</p>\n",
       "</div>"
      ],
      "text/plain": [
       "       FECHA_ACTUALIZACION ID_REGISTRO ORIGEN SECTOR ENTIDAD_UM SEXO  \\\n",
       "106885          2020-06-04      0c745e      2      4         09    1   \n",
       "109525          2020-06-04      0bc511      2      4         09    2   \n",
       "109548          2020-06-04      082032      2      4         14    2   \n",
       "110590          2020-06-04      031621      2      4         09    2   \n",
       "111805          2020-06-04      073494      2      4         23    2   \n",
       "...                    ...         ...    ...    ...        ...  ...   \n",
       "377920          2020-06-21      044d0d      2      4         09    1   \n",
       "381950          2020-06-21      1dc68d      2      4         14    1   \n",
       "397140          2020-06-21      033221      2     12         05    1   \n",
       "405742          2020-06-21      0bdf57      2      4         09    1   \n",
       "414498          2020-06-21      0580be      2      4         09    2   \n",
       "\n",
       "       ENTIDAD_NAC ENTIDAD_RES MUNICIPIO_RES TIPO_PACIENTE  ... OBESIDAD  \\\n",
       "106885          09          09           008             1  ...        2   \n",
       "109525          09          09           002             1  ...        2   \n",
       "109548          14          14           039             1  ...        2   \n",
       "110590          09          09           002             2  ...        2   \n",
       "111805          07          23           005             1  ...        2   \n",
       "...            ...         ...           ...           ...  ...      ...   \n",
       "377920          09          09           015             1  ...        2   \n",
       "381950          14          14           101             2  ...        2   \n",
       "397140          28          05           030             1  ...        2   \n",
       "405742          09          15           104             1  ...        2   \n",
       "414498          09          09           005             1  ...        2   \n",
       "\n",
       "       RENAL_CRONICA TABAQUISMO OTRO_CASO RESULTADO MIGRANTE  \\\n",
       "106885             2          2        99         2       99   \n",
       "109525             2          2        99         2       99   \n",
       "109548             2          2        99         2       99   \n",
       "110590             2          2        99         2       99   \n",
       "111805             2          2        99         2       99   \n",
       "...              ...        ...       ...       ...      ...   \n",
       "377920             2          2        99         2       99   \n",
       "381950             2          2        99         2       99   \n",
       "397140             2          2         1         2       99   \n",
       "405742             2          2        99         2       99   \n",
       "414498             2          2        99         2       99   \n",
       "\n",
       "       PAIS_NACIONALIDAD PAIS_ORIGEN UCI FechaRegistro  \n",
       "106885           MÃ©xico          99  97    2020-06-04  \n",
       "109525           MÃ©xico          99  97    2020-06-04  \n",
       "109548           MÃ©xico          99  97    2020-06-04  \n",
       "110590           MÃ©xico          99   2    2020-06-04  \n",
       "111805           MÃ©xico          99  97    2020-06-04  \n",
       "...                  ...         ...  ..           ...  \n",
       "377920           MÃ©xico          99  97    2020-06-21  \n",
       "381950           MÃ©xico          99   2    2020-06-21  \n",
       "397140           MÃ©xico          99  97    2020-06-21  \n",
       "405742           MÃ©xico          99  97    2020-06-21  \n",
       "414498           MÃ©xico          99  97    2020-06-21  \n",
       "\n",
       "[1653 rows x 36 columns]"
      ]
     },
     "execution_count": 37,
     "metadata": {},
     "output_type": "execute_result"
    }
   ],
   "source": [
    "df0[df0['FECHA_SINTOMAS']=='2020-01-01']"
   ]
  },
  {
   "cell_type": "code",
   "execution_count": 38,
   "metadata": {},
   "outputs": [],
   "source": [
    "first= pd.read_csv( '../src/'+'20200412'       +'.csv', encoding = \"ISO-8859-1\",dtype =str)\n"
   ]
  },
  {
   "cell_type": "code",
   "execution_count": 39,
   "metadata": {},
   "outputs": [],
   "source": [
    "first.FECHA_SINTOMAS = pd.to_datetime(first['FECHA_SINTOMAS'], format ='%Y-%m-%d')"
   ]
  },
  {
   "cell_type": "code",
   "execution_count": null,
   "metadata": {},
   "outputs": [],
   "source": []
  },
  {
   "cell_type": "code",
   "execution_count": 40,
   "metadata": {},
   "outputs": [
    {
     "data": {
      "text/plain": [
       "Timestamp('2020-01-01 00:00:00')"
      ]
     },
     "execution_count": 40,
     "metadata": {},
     "output_type": "execute_result"
    }
   ],
   "source": [
    "first.FECHA_SINTOMAS.min()"
   ]
  },
  {
   "cell_type": "code",
   "execution_count": null,
   "metadata": {},
   "outputs": [],
   "source": []
  }
 ],
 "metadata": {
  "kernelspec": {
   "display_name": "Python 3",
   "language": "python",
   "name": "python3"
  },
  "language_info": {
   "codemirror_mode": {
    "name": "ipython",
    "version": 3
   },
   "file_extension": ".py",
   "mimetype": "text/x-python",
   "name": "python",
   "nbconvert_exporter": "python",
   "pygments_lexer": "ipython3",
   "version": "3.7.4"
  }
 },
 "nbformat": 4,
 "nbformat_minor": 2
}
