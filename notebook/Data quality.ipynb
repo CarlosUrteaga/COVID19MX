{
 "cells": [
  {
   "cell_type": "markdown",
   "metadata": {},
   "source": [
    "# Data quality\n",
    "In this notebook we analyze the data quality refered to COVID19 in Mexico. This information in obtained thought the Secretariat of Health and published by *Dirección General de Epidemiología* the mexican CDC. https://www.gob.mx/salud/documentos/datos-abiertos-152127. "
   ]
  },
  {
   "cell_type": "code",
   "execution_count": 1,
   "metadata": {},
   "outputs": [
    {
     "name": "stdout",
     "output_type": "stream",
     "text": [
      "Using matplotlib backend: MacOSX\n"
     ]
    },
    {
     "name": "stderr",
     "output_type": "stream",
     "text": [
      "/Users/carlos/opt/anaconda3/lib/python3.7/site-packages/statsmodels/tools/_testing.py:19: FutureWarning: pandas.util.testing is deprecated. Use the functions in the public API at pandas.testing instead.\n",
      "  import pandas.util.testing as tm\n"
     ]
    }
   ],
   "source": [
    "\n",
    "import glob\n",
    "import os\n",
    "import pandas as pd\n",
    "import numpy as np\n",
    "import random\n",
    "import datetime\n",
    "from IPython.display import Markdown as md\n",
    "from scipy import stats\n",
    "from tools import replace_all_fields\n",
    "import seaborn as sns\n",
    "import matplotlib.pyplot as plt\n",
    "\n",
    "%matplotlib "
   ]
  },
  {
   "cell_type": "markdown",
   "metadata": {},
   "source": [
    "## Load data"
   ]
  },
  {
   "cell_type": "code",
   "execution_count": 2,
   "metadata": {},
   "outputs": [
    {
     "name": "stdout",
     "output_type": "stream",
     "text": [
      "2020-06-04\n",
      "2020-06-10\n",
      "2020-04-12\n",
      "2020-04-13\n",
      "2020-06-11\n",
      "2020-06-05\n",
      "2020-06-13\n",
      "2020-06-07\n",
      "2020-06-06\n",
      "2020-06-12\n",
      "2020-06-16\n",
      "2020-06-02\n",
      "2020-04-14\n",
      "2020-04-28\n",
      "2020-04-29\n",
      "2020-04-15\n",
      "2020-06-03\n",
      "2020-06-17\n",
      "2020-06-01\n",
      "2020-06-15\n",
      "2020-06-29\n",
      "2020-04-17\n",
      "2020-04-16\n",
      "2020-06-28\n",
      "2020-06-14\n",
      "2020-05-11\n",
      "2020-05-05\n",
      "2020-07-13\n",
      "2020-07-07\n",
      "2020-07-06\n",
      "2020-07-12\n",
      "2020-05-04\n",
      "2020-05-10\n",
      "2020-05-06\n",
      "2020-05-12\n",
      "2020-07-04\n",
      "2020-07-10\n",
      "2020-07-11\n",
      "2020-07-05\n",
      "2020-05-13\n",
      "2020-05-07\n",
      "2020-05-03\n",
      "2020-05-17\n",
      "2020-07-01\n",
      "2020-07-15\n",
      "2020-07-29\n",
      "2020-07-28\n",
      "2020-07-14\n",
      "2020-05-16\n",
      "2020-05-02\n",
      "2020-05-14\n",
      "2020-05-28\n",
      "2020-07-16\n",
      "2020-07-02\n",
      "2020-07-03\n",
      "2020-07-17\n",
      "2020-05-29\n",
      "2020-05-01\n",
      "2020-05-15\n",
      "2020-05-18\n",
      "2020-05-30\n",
      "2020-05-24\n",
      "2020-07-26\n",
      "2020-07-27\n",
      "2020-05-25\n",
      "2020-05-31\n",
      "2020-05-19\n",
      "2020-05-27\n",
      "2020-07-19\n",
      "2020-07-25\n",
      "2020-07-31\n",
      "2020-07-30\n",
      "2020-07-24\n",
      "2020-07-18\n",
      "2020-05-26\n",
      "2020-05-22\n",
      "2020-07-20\n",
      "2020-07-08\n",
      "2020-07-09\n",
      "2020-07-21\n",
      "2020-05-23\n",
      "2020-05-21\n",
      "2020-05-09\n",
      "2020-07-23\n",
      "2020-07-22\n",
      "2020-05-08\n",
      "2020-05-20\n",
      "2020-08-02\n",
      "2020-06-19\n",
      "2020-06-25\n",
      "2020-04-27\n",
      "2020-04-26\n",
      "2020-06-30\n",
      "2020-06-24\n",
      "2020-06-18\n",
      "2020-08-03\n",
      "2020-08-01\n",
      "2020-06-26\n",
      "2020-04-18\n",
      "2020-04-30\n",
      "2020-04-24\n",
      "2020-04-25\n",
      "2020-04-19\n",
      "2020-06-27\n",
      "2020-08-04\n",
      "2020-06-23\n",
      "2020-04-21\n",
      "2020-04-20\n",
      "2020-06-22\n",
      "2020-08-05\n",
      "2020-06-20\n",
      "2020-06-08\n",
      "2020-04-22\n",
      "2020-04-23\n",
      "2020-06-09\n",
      "2020-06-21\n"
     ]
    }
   ],
   "source": [
    "\n",
    "# load the csv from the src folder\n",
    "strpath = '../src/'\n",
    "m = []\n",
    "i =0\n",
    "\n",
    "for filename in glob.glob(strpath+\"*\"):\n",
    "    if filename.find('.csv')>0:\n",
    "        date = '20'+filename[7:9] +'-' + filename[11:13] +'-' +filename[13:15]\n",
    "        print(date)\n",
    "        df = pd.read_csv(filename, encoding = \"ISO-8859-1\",dtype =str)\n",
    "        df['FechaRegistro'] = date\n",
    "        replace_all_fields(df)\n",
    "        if i== 0:\n",
    "            df0=df.copy()\n",
    "            i=1\n",
    "        else:\n",
    "            frame = [df0,df]\n",
    "            df0 = pd.concat(frame)\n",
    "        del df"
   ]
  },
  {
   "cell_type": "code",
   "execution_count": 4,
   "metadata": {},
   "outputs": [
    {
     "data": {
      "text/plain": [
       "(48733150, 36)"
      ]
     },
     "execution_count": 4,
     "metadata": {},
     "output_type": "execute_result"
    }
   ],
   "source": [
    "df0.shape"
   ]
  },
  {
   "cell_type": "code",
   "execution_count": 9,
   "metadata": {},
   "outputs": [
    {
     "data": {
      "text/html": [
       "<div>\n",
       "<style scoped>\n",
       "    .dataframe tbody tr th:only-of-type {\n",
       "        vertical-align: middle;\n",
       "    }\n",
       "\n",
       "    .dataframe tbody tr th {\n",
       "        vertical-align: top;\n",
       "    }\n",
       "\n",
       "    .dataframe thead th {\n",
       "        text-align: right;\n",
       "    }\n",
       "</style>\n",
       "<table border=\"1\" class=\"dataframe\">\n",
       "  <thead>\n",
       "    <tr style=\"text-align: right;\">\n",
       "      <th></th>\n",
       "      <th>FECHA_ACTUALIZACION</th>\n",
       "      <th>ID_REGISTRO</th>\n",
       "      <th>ORIGEN</th>\n",
       "      <th>SECTOR</th>\n",
       "      <th>ENTIDAD_UM</th>\n",
       "      <th>SEXO</th>\n",
       "      <th>ENTIDAD_NAC</th>\n",
       "      <th>ENTIDAD_RES</th>\n",
       "      <th>MUNICIPIO_RES</th>\n",
       "      <th>TIPO_PACIENTE</th>\n",
       "      <th>...</th>\n",
       "      <th>MIGRANTE</th>\n",
       "      <th>PAIS_NACIONALIDAD</th>\n",
       "      <th>PAIS_ORIGEN</th>\n",
       "      <th>UCI</th>\n",
       "      <th>FechaRegistro</th>\n",
       "      <th>LastDay</th>\n",
       "      <th>FirstDay</th>\n",
       "      <th>Duration</th>\n",
       "      <th>numRecords</th>\n",
       "      <th>DurationRecords</th>\n",
       "    </tr>\n",
       "  </thead>\n",
       "  <tbody>\n",
       "    <tr>\n",
       "      <th>318659</th>\n",
       "      <td>2020-08-05</td>\n",
       "      <td>0347b3</td>\n",
       "      <td>FUERA DE USMER</td>\n",
       "      <td>SSA</td>\n",
       "      <td>TLAXCALA</td>\n",
       "      <td>MUJER</td>\n",
       "      <td>MÉXICO</td>\n",
       "      <td>TLAXCALA</td>\n",
       "      <td>TLAXCALA025</td>\n",
       "      <td>AMBULATORIO</td>\n",
       "      <td>...</td>\n",
       "      <td>NO ESPECIFICADO</td>\n",
       "      <td>MÃ©xico</td>\n",
       "      <td>99</td>\n",
       "      <td>NO APLICA</td>\n",
       "      <td>2020-08-05</td>\n",
       "      <td>2020-08-05</td>\n",
       "      <td>2020-05-14</td>\n",
       "      <td>83</td>\n",
       "      <td>84</td>\n",
       "      <td>-1</td>\n",
       "    </tr>\n",
       "    <tr>\n",
       "      <th>347281</th>\n",
       "      <td>2020-08-05</td>\n",
       "      <td>15d482</td>\n",
       "      <td>FUERA DE USMER</td>\n",
       "      <td>SSA</td>\n",
       "      <td>CIUDAD DE MÉXICO</td>\n",
       "      <td>HOMBRE</td>\n",
       "      <td>CIUDAD DE MÉXICO</td>\n",
       "      <td>CIUDAD DE MÉXICO</td>\n",
       "      <td>CIUDAD DE MEXICO005</td>\n",
       "      <td>AMBULATORIO</td>\n",
       "      <td>...</td>\n",
       "      <td>NO ESPECIFICADO</td>\n",
       "      <td>MÃ©xico</td>\n",
       "      <td>99</td>\n",
       "      <td>NO APLICA</td>\n",
       "      <td>2020-08-05</td>\n",
       "      <td>2020-08-05</td>\n",
       "      <td>2020-05-29</td>\n",
       "      <td>68</td>\n",
       "      <td>69</td>\n",
       "      <td>-1</td>\n",
       "    </tr>\n",
       "    <tr>\n",
       "      <th>347294</th>\n",
       "      <td>2020-08-05</td>\n",
       "      <td>0c5b3a</td>\n",
       "      <td>USMER</td>\n",
       "      <td>SSA</td>\n",
       "      <td>CIUDAD DE MÉXICO</td>\n",
       "      <td>MUJER</td>\n",
       "      <td>VERACRUZ DE IGNACIO DE LA LLAVE</td>\n",
       "      <td>MÉXICO</td>\n",
       "      <td>MEXICO109</td>\n",
       "      <td>AMBULATORIO</td>\n",
       "      <td>...</td>\n",
       "      <td>NO ESPECIFICADO</td>\n",
       "      <td>MÃ©xico</td>\n",
       "      <td>99</td>\n",
       "      <td>NO APLICA</td>\n",
       "      <td>2020-08-05</td>\n",
       "      <td>2020-08-05</td>\n",
       "      <td>2020-06-30</td>\n",
       "      <td>36</td>\n",
       "      <td>37</td>\n",
       "      <td>-1</td>\n",
       "    </tr>\n",
       "    <tr>\n",
       "      <th>347293</th>\n",
       "      <td>2020-08-05</td>\n",
       "      <td>16b7e9</td>\n",
       "      <td>USMER</td>\n",
       "      <td>SSA</td>\n",
       "      <td>GUANAJUATO</td>\n",
       "      <td>HOMBRE</td>\n",
       "      <td>GUANAJUATO</td>\n",
       "      <td>GUANAJUATO</td>\n",
       "      <td>GUANAJUATO020</td>\n",
       "      <td>AMBULATORIO</td>\n",
       "      <td>...</td>\n",
       "      <td>NO ESPECIFICADO</td>\n",
       "      <td>MÃ©xico</td>\n",
       "      <td>99</td>\n",
       "      <td>NO APLICA</td>\n",
       "      <td>2020-08-05</td>\n",
       "      <td>2020-08-05</td>\n",
       "      <td>2020-06-29</td>\n",
       "      <td>37</td>\n",
       "      <td>38</td>\n",
       "      <td>-1</td>\n",
       "    </tr>\n",
       "    <tr>\n",
       "      <th>347292</th>\n",
       "      <td>2020-08-05</td>\n",
       "      <td>0a8cac</td>\n",
       "      <td>USMER</td>\n",
       "      <td>SSA</td>\n",
       "      <td>NUEVO LEÓN</td>\n",
       "      <td>MUJER</td>\n",
       "      <td>NUEVO LEÓN</td>\n",
       "      <td>NUEVO LEÓN</td>\n",
       "      <td>NUEVO LEON039</td>\n",
       "      <td>AMBULATORIO</td>\n",
       "      <td>...</td>\n",
       "      <td>NO ESPECIFICADO</td>\n",
       "      <td>MÃ©xico</td>\n",
       "      <td>99</td>\n",
       "      <td>NO APLICA</td>\n",
       "      <td>2020-08-05</td>\n",
       "      <td>2020-08-05</td>\n",
       "      <td>2020-05-26</td>\n",
       "      <td>71</td>\n",
       "      <td>72</td>\n",
       "      <td>-1</td>\n",
       "    </tr>\n",
       "  </tbody>\n",
       "</table>\n",
       "<p>5 rows × 41 columns</p>\n",
       "</div>"
      ],
      "text/plain": [
       "       FECHA_ACTUALIZACION ID_REGISTRO          ORIGEN SECTOR  \\\n",
       "318659          2020-08-05      0347b3  FUERA DE USMER    SSA   \n",
       "347281          2020-08-05      15d482  FUERA DE USMER    SSA   \n",
       "347294          2020-08-05      0c5b3a           USMER    SSA   \n",
       "347293          2020-08-05      16b7e9           USMER    SSA   \n",
       "347292          2020-08-05      0a8cac           USMER    SSA   \n",
       "\n",
       "              ENTIDAD_UM    SEXO                      ENTIDAD_NAC  \\\n",
       "318659          TLAXCALA   MUJER                           MÉXICO   \n",
       "347281  CIUDAD DE MÉXICO  HOMBRE                 CIUDAD DE MÉXICO   \n",
       "347294  CIUDAD DE MÉXICO   MUJER  VERACRUZ DE IGNACIO DE LA LLAVE   \n",
       "347293        GUANAJUATO  HOMBRE                       GUANAJUATO   \n",
       "347292        NUEVO LEÓN   MUJER                       NUEVO LEÓN   \n",
       "\n",
       "             ENTIDAD_RES        MUNICIPIO_RES TIPO_PACIENTE  ...  \\\n",
       "318659          TLAXCALA          TLAXCALA025   AMBULATORIO  ...   \n",
       "347281  CIUDAD DE MÉXICO  CIUDAD DE MEXICO005   AMBULATORIO  ...   \n",
       "347294            MÉXICO            MEXICO109   AMBULATORIO  ...   \n",
       "347293        GUANAJUATO        GUANAJUATO020   AMBULATORIO  ...   \n",
       "347292        NUEVO LEÓN        NUEVO LEON039   AMBULATORIO  ...   \n",
       "\n",
       "               MIGRANTE PAIS_NACIONALIDAD PAIS_ORIGEN        UCI  \\\n",
       "318659  NO ESPECIFICADO           MÃ©xico          99  NO APLICA   \n",
       "347281  NO ESPECIFICADO           MÃ©xico          99  NO APLICA   \n",
       "347294  NO ESPECIFICADO           MÃ©xico          99  NO APLICA   \n",
       "347293  NO ESPECIFICADO           MÃ©xico          99  NO APLICA   \n",
       "347292  NO ESPECIFICADO           MÃ©xico          99  NO APLICA   \n",
       "\n",
       "       FechaRegistro    LastDay   FirstDay Duration numRecords DurationRecords  \n",
       "318659    2020-08-05 2020-08-05 2020-05-14       83         84              -1  \n",
       "347281    2020-08-05 2020-08-05 2020-05-29       68         69              -1  \n",
       "347294    2020-08-05 2020-08-05 2020-06-30       36         37              -1  \n",
       "347293    2020-08-05 2020-08-05 2020-06-29       37         38              -1  \n",
       "347292    2020-08-05 2020-08-05 2020-05-26       71         72              -1  \n",
       "\n",
       "[5 rows x 41 columns]"
      ]
     },
     "execution_count": 9,
     "metadata": {},
     "output_type": "execute_result"
    }
   ],
   "source": [
    "df0['LastDay']  = df0.groupby('ID_REGISTRO')['FechaRegistro'].transform('max')\n",
    "df0['FirstDay'] = df0.groupby('ID_REGISTRO')['FechaRegistro'].transform('min')\n",
    "df0.FechaRegistro = pd.to_datetime(df0['FechaRegistro'], format='%Y-%m-%d')\n",
    "df0.LastDay = pd.to_datetime(df0['LastDay'], format='%Y-%m-%d')\n",
    "df0.FirstDay = pd.to_datetime(df0['FirstDay'], format='%Y-%m-%d')\n",
    "df0['Duration'] = (df0.LastDay - df0.FirstDay).dt.days\n",
    "df0['numRecords']  = df0.groupby('ID_REGISTRO')['FechaRegistro'].transform('count')\n",
    "df0['DurationRecords'] = df0['Duration'] - df0['numRecords']\n",
    "df0 = df0.sort_values(by='FechaRegistro', ascending=False)\n",
    "df0.head()"
   ]
  },
  {
   "cell_type": "code",
   "execution_count": 10,
   "metadata": {},
   "outputs": [
    {
     "data": {
      "text/markdown": [
       "We have 48733150 records of covid evolution cases in Mexico until today 2020-08-05 23:26:31.686951"
      ],
      "text/plain": [
       "<IPython.core.display.Markdown object>"
      ]
     },
     "execution_count": 10,
     "metadata": {},
     "output_type": "execute_result"
    }
   ],
   "source": [
    "md(\"We have {0} records of covid evolution cases in Mexico until today {1}\".format(df0.shape[0], datetime.datetime.now()) )\n"
   ]
  },
  {
   "cell_type": "code",
   "execution_count": 12,
   "metadata": {},
   "outputs": [],
   "source": [
    "today = (datetime.datetime.now()).strftime(\"%Y%m%d\")\n",
    "# today = (datetime.datetime.now() - datetime.timedelta(days=1)).strftime(\"%Y%m%d\")\n",
    "yesterday = (datetime.datetime.now() - datetime.timedelta(days=1)).strftime(\"%Y%m%d\")\n",
    "ereyesterday = (datetime.datetime.now() - datetime.timedelta(days=2)).strftime(\"%Y%m%d\")\n",
    "df= pd.read_csv( '../src/'+today       +'.csv', encoding = \"ISO-8859-1\",dtype =str)\n",
    "dfA= pd.read_csv('../src/'+yesterday   +'.csv', encoding = \"ISO-8859-1\",dtype =str)\n",
    "dfB= pd.read_csv('../src/'+ereyesterday+'.csv', encoding = \"ISO-8859-1\",dtype =str)"
   ]
  },
  {
   "cell_type": "markdown",
   "metadata": {},
   "source": [
    "## 1 How many cases we have in the last report vs db?"
   ]
  },
  {
   "cell_type": "code",
   "execution_count": 13,
   "metadata": {},
   "outputs": [],
   "source": [
    "# we get unique cases globaly and from the last csv \n",
    "global_ids = df0.ID_REGISTRO.unique().tolist()\n",
    "last_ids  = df.ID_REGISTRO.unique().tolist()\n",
    "# we get the cases that are present in previous reports but they doesn't show in the last report\n",
    "untracket_cases = set(global_ids)- set(last_ids)\n",
    "tracket_cases = set(last_ids)"
   ]
  },
  {
   "cell_type": "code",
   "execution_count": 14,
   "metadata": {},
   "outputs": [],
   "source": [
    "df0.FECHA_SINTOMAS = pd.to_datetime(df0['FECHA_SINTOMAS'], format ='%Y-%m-%d')"
   ]
  },
  {
   "cell_type": "code",
   "execution_count": 15,
   "metadata": {},
   "outputs": [
    {
     "data": {
      "text/markdown": [
       "we have 37251 register that are not tracket"
      ],
      "text/plain": [
       "<IPython.core.display.Markdown object>"
      ]
     },
     "execution_count": 15,
     "metadata": {},
     "output_type": "execute_result"
    }
   ],
   "source": [
    "# we extract the records that does not exist in the last report\n",
    "df1 = df0[df0.ID_REGISTRO.isin(untracket_cases)]\n",
    "df1 = df1.copy()\n",
    "\n",
    "md(\"we have {0} register that are not tracket\".format(df1.ID_REGISTRO.nunique()) )"
   ]
  },
  {
   "cell_type": "markdown",
   "metadata": {},
   "source": [
    "1. How many days the records exist\n",
    "2. Is there some kind or relation between the records?"
   ]
  },
  {
   "cell_type": "code",
   "execution_count": 16,
   "metadata": {},
   "outputs": [],
   "source": [
    "df1.FECHA_SINTOMAS = pd.to_datetime(df1['FECHA_SINTOMAS'], format ='%Y-%m-%d')\n",
    "df1.FECHA_ACTUALIZACION = pd.to_datetime(df1['FECHA_ACTUALIZACION'], format ='%Y-%m-%d')\n",
    "df1.FechaRegistro = pd.to_datetime(df1['FechaRegistro'], format ='%Y-%m-%d')\n"
   ]
  },
  {
   "cell_type": "code",
   "execution_count": 17,
   "metadata": {},
   "outputs": [],
   "source": [
    "# we get the duration of cases between records\n",
    "df1['LastDay']  = df1.groupby('ID_REGISTRO')['FechaRegistro'].transform('max')\n",
    "df1['FirstDay'] = df1.groupby('ID_REGISTRO')['FechaRegistro'].transform('min')\n",
    "df1['Duration'] = (df1.LastDay - df1.FirstDay).dt.days"
   ]
  },
  {
   "cell_type": "code",
   "execution_count": 18,
   "metadata": {},
   "outputs": [],
   "source": [
    "# We keep only one case to get plot correctly the cases\n",
    "df3 = df1.drop_duplicates(keep='first')\n",
    "df3 = df3.drop_duplicates('ID_REGISTRO',keep='first')\n",
    "df_3 = df3.groupby(['RESULTADO','Duration'])['Duration'].count().to_frame(name = 'count').reset_index()\n",
    "# sns.lineplot(x='Duration', y='count', data=df_3, hue='RESULTADO');"
   ]
  },
  {
   "cell_type": "code",
   "execution_count": 19,
   "metadata": {},
   "outputs": [
    {
     "data": {
      "text/plain": [
       "48419"
      ]
     },
     "execution_count": 19,
     "metadata": {},
     "output_type": "execute_result"
    }
   ],
   "source": [
    "len(df1[df1.Duration!=0].drop_duplicates(['ID_REGISTRO', 'ORIGEN', 'SECTOR', 'ENTIDAD_UM',\n",
    "       'SEXO', 'ENTIDAD_NAC', 'ENTIDAD_RES', 'MUNICIPIO_RES', 'TIPO_PACIENTE',\n",
    "       'FECHA_INGRESO', 'FECHA_SINTOMAS', 'FECHA_DEF', 'INTUBADO', 'NEUMONIA',\n",
    "       'EDAD', 'NACIONALIDAD', 'EMBARAZO', 'HABLA_LENGUA_INDIG', 'DIABETES',\n",
    "       'EPOC', 'ASMA', 'INMUSUPR', 'HIPERTENSION', 'OTRA_COM',\n",
    "       'CARDIOVASCULAR', 'OBESIDAD', 'RENAL_CRONICA', 'TABAQUISMO',\n",
    "       'OTRO_CASO', 'RESULTADO', 'MIGRANTE', 'PAIS_NACIONALIDAD',\n",
    "       'PAIS_ORIGEN', 'UCI']))"
   ]
  },
  {
   "cell_type": "code",
   "execution_count": null,
   "metadata": {},
   "outputs": [],
   "source": [
    "len(df3)"
   ]
  },
  {
   "cell_type": "code",
   "execution_count": null,
   "metadata": {},
   "outputs": [],
   "source": [
    "# records with more than one day\n",
    "len(df3[df3.Duration!=0])"
   ]
  },
  {
   "cell_type": "code",
   "execution_count": null,
   "metadata": {},
   "outputs": [],
   "source": [
    "# records that only survive one day\n",
    "len(df3[df3.Duration==0])"
   ]
  },
  {
   "cell_type": "code",
   "execution_count": 26,
   "metadata": {},
   "outputs": [
    {
     "data": {
      "text/plain": [
       "37251"
      ]
     },
     "execution_count": 26,
     "metadata": {},
     "output_type": "execute_result"
    }
   ],
   "source": [
    "df1.ID_REGISTRO.nunique()"
   ]
  },
  {
   "cell_type": "code",
   "execution_count": 27,
   "metadata": {},
   "outputs": [],
   "source": [
    "df1R = df1[df1.Duration!=0].drop_duplicates(['ID_REGISTRO', 'ORIGEN', 'SECTOR', 'ENTIDAD_UM',\n",
    "       'SEXO', 'ENTIDAD_NAC', 'ENTIDAD_RES', 'MUNICIPIO_RES', 'TIPO_PACIENTE',\n",
    "       'FECHA_INGRESO', 'FECHA_SINTOMAS', 'FECHA_DEF', 'INTUBADO', 'NEUMONIA',\n",
    "       'EDAD', 'NACIONALIDAD', 'EMBARAZO', 'HABLA_LENGUA_INDIG', 'DIABETES',\n",
    "       'EPOC', 'ASMA', 'INMUSUPR', 'HIPERTENSION', 'OTRA_COM',\n",
    "       'CARDIOVASCULAR', 'OBESIDAD', 'RENAL_CRONICA', 'TABAQUISMO',\n",
    "       'OTRO_CASO', 'RESULTADO', 'MIGRANTE', 'PAIS_NACIONALIDAD',\n",
    "       'PAIS_ORIGEN', 'UCI'])"
   ]
  },
  {
   "cell_type": "code",
   "execution_count": 28,
   "metadata": {},
   "outputs": [
    {
     "data": {
      "text/html": [
       "<div>\n",
       "<style scoped>\n",
       "    .dataframe tbody tr th:only-of-type {\n",
       "        vertical-align: middle;\n",
       "    }\n",
       "\n",
       "    .dataframe tbody tr th {\n",
       "        vertical-align: top;\n",
       "    }\n",
       "\n",
       "    .dataframe thead th {\n",
       "        text-align: right;\n",
       "    }\n",
       "</style>\n",
       "<table border=\"1\" class=\"dataframe\">\n",
       "  <thead>\n",
       "    <tr style=\"text-align: right;\">\n",
       "      <th></th>\n",
       "      <th>FECHA_ACTUALIZACION</th>\n",
       "      <th>ID_REGISTRO</th>\n",
       "      <th>ORIGEN</th>\n",
       "      <th>SECTOR</th>\n",
       "      <th>ENTIDAD_UM</th>\n",
       "      <th>SEXO</th>\n",
       "      <th>ENTIDAD_NAC</th>\n",
       "      <th>ENTIDAD_RES</th>\n",
       "      <th>MUNICIPIO_RES</th>\n",
       "      <th>TIPO_PACIENTE</th>\n",
       "      <th>...</th>\n",
       "      <th>MIGRANTE</th>\n",
       "      <th>PAIS_NACIONALIDAD</th>\n",
       "      <th>PAIS_ORIGEN</th>\n",
       "      <th>UCI</th>\n",
       "      <th>FechaRegistro</th>\n",
       "      <th>LastDay</th>\n",
       "      <th>FirstDay</th>\n",
       "      <th>Duration</th>\n",
       "      <th>numRecords</th>\n",
       "      <th>DurationRecords</th>\n",
       "    </tr>\n",
       "  </thead>\n",
       "  <tbody>\n",
       "    <tr>\n",
       "      <th>768458</th>\n",
       "      <td>2020-08-04</td>\n",
       "      <td>10280b</td>\n",
       "      <td>FUERA DE USMER</td>\n",
       "      <td>IMSS</td>\n",
       "      <td>JALISCO</td>\n",
       "      <td>MUJER</td>\n",
       "      <td>NAYARIT</td>\n",
       "      <td>JALISCO</td>\n",
       "      <td>JALISCO067</td>\n",
       "      <td>AMBULATORIO</td>\n",
       "      <td>...</td>\n",
       "      <td>NO ESPECIFICADO</td>\n",
       "      <td>MÃ©xico</td>\n",
       "      <td>99</td>\n",
       "      <td>NO APLICA</td>\n",
       "      <td>2020-08-04</td>\n",
       "      <td>2020-08-04</td>\n",
       "      <td>2020-07-28</td>\n",
       "      <td>7</td>\n",
       "      <td>8</td>\n",
       "      <td>-1</td>\n",
       "    </tr>\n",
       "    <tr>\n",
       "      <th>779482</th>\n",
       "      <td>2020-08-04</td>\n",
       "      <td>14288d</td>\n",
       "      <td>USMER</td>\n",
       "      <td>IMSS</td>\n",
       "      <td>CAMPECHE</td>\n",
       "      <td>HOMBRE</td>\n",
       "      <td>CAMPECHE</td>\n",
       "      <td>CAMPECHE</td>\n",
       "      <td>CAMPECHE002</td>\n",
       "      <td>HOSPITALIZADO</td>\n",
       "      <td>...</td>\n",
       "      <td>NO ESPECIFICADO</td>\n",
       "      <td>MÃ©xico</td>\n",
       "      <td>99</td>\n",
       "      <td>NO</td>\n",
       "      <td>2020-08-04</td>\n",
       "      <td>2020-08-04</td>\n",
       "      <td>2020-07-06</td>\n",
       "      <td>29</td>\n",
       "      <td>30</td>\n",
       "      <td>-1</td>\n",
       "    </tr>\n",
       "    <tr>\n",
       "      <th>838560</th>\n",
       "      <td>2020-08-04</td>\n",
       "      <td>0d213f</td>\n",
       "      <td>FUERA DE USMER</td>\n",
       "      <td>IMSS</td>\n",
       "      <td>CIUDAD DE MÉXICO</td>\n",
       "      <td>HOMBRE</td>\n",
       "      <td>CIUDAD DE MÉXICO</td>\n",
       "      <td>CIUDAD DE MÉXICO</td>\n",
       "      <td>CIUDAD DE MEXICO007</td>\n",
       "      <td>AMBULATORIO</td>\n",
       "      <td>...</td>\n",
       "      <td>NO ESPECIFICADO</td>\n",
       "      <td>MÃ©xico</td>\n",
       "      <td>99</td>\n",
       "      <td>NO APLICA</td>\n",
       "      <td>2020-08-04</td>\n",
       "      <td>2020-08-04</td>\n",
       "      <td>2020-07-03</td>\n",
       "      <td>32</td>\n",
       "      <td>33</td>\n",
       "      <td>-1</td>\n",
       "    </tr>\n",
       "    <tr>\n",
       "      <th>796938</th>\n",
       "      <td>2020-08-04</td>\n",
       "      <td>1272b2</td>\n",
       "      <td>FUERA DE USMER</td>\n",
       "      <td>IMSS</td>\n",
       "      <td>VERACRUZ DE IGNACIO DE LA LLAVE</td>\n",
       "      <td>MUJER</td>\n",
       "      <td>VERACRUZ DE IGNACIO DE LA LLAVE</td>\n",
       "      <td>VERACRUZ DE IGNACIO DE LA LLAVE</td>\n",
       "      <td>VERACRUZ DE IGNACIO DE LA LLAVE065</td>\n",
       "      <td>HOSPITALIZADO</td>\n",
       "      <td>...</td>\n",
       "      <td>NO ESPECIFICADO</td>\n",
       "      <td>MÃ©xico</td>\n",
       "      <td>99</td>\n",
       "      <td>NO</td>\n",
       "      <td>2020-08-04</td>\n",
       "      <td>2020-08-04</td>\n",
       "      <td>2020-08-01</td>\n",
       "      <td>3</td>\n",
       "      <td>4</td>\n",
       "      <td>-1</td>\n",
       "    </tr>\n",
       "    <tr>\n",
       "      <th>633755</th>\n",
       "      <td>2020-08-04</td>\n",
       "      <td>0474c1</td>\n",
       "      <td>FUERA DE USMER</td>\n",
       "      <td>SSA</td>\n",
       "      <td>CIUDAD DE MÉXICO</td>\n",
       "      <td>HOMBRE</td>\n",
       "      <td>CIUDAD DE MÉXICO</td>\n",
       "      <td>CIUDAD DE MÉXICO</td>\n",
       "      <td>CIUDAD DE MEXICO011</td>\n",
       "      <td>HOSPITALIZADO</td>\n",
       "      <td>...</td>\n",
       "      <td>NO ESPECIFICADO</td>\n",
       "      <td>MÃ©xico</td>\n",
       "      <td>99</td>\n",
       "      <td>NO</td>\n",
       "      <td>2020-08-04</td>\n",
       "      <td>2020-08-04</td>\n",
       "      <td>2020-05-07</td>\n",
       "      <td>89</td>\n",
       "      <td>90</td>\n",
       "      <td>-1</td>\n",
       "    </tr>\n",
       "  </tbody>\n",
       "</table>\n",
       "<p>5 rows × 41 columns</p>\n",
       "</div>"
      ],
      "text/plain": [
       "       FECHA_ACTUALIZACION ID_REGISTRO          ORIGEN SECTOR  \\\n",
       "768458          2020-08-04      10280b  FUERA DE USMER   IMSS   \n",
       "779482          2020-08-04      14288d           USMER   IMSS   \n",
       "838560          2020-08-04      0d213f  FUERA DE USMER   IMSS   \n",
       "796938          2020-08-04      1272b2  FUERA DE USMER   IMSS   \n",
       "633755          2020-08-04      0474c1  FUERA DE USMER    SSA   \n",
       "\n",
       "                             ENTIDAD_UM    SEXO  \\\n",
       "768458                          JALISCO   MUJER   \n",
       "779482                         CAMPECHE  HOMBRE   \n",
       "838560                 CIUDAD DE MÉXICO  HOMBRE   \n",
       "796938  VERACRUZ DE IGNACIO DE LA LLAVE   MUJER   \n",
       "633755                 CIUDAD DE MÉXICO  HOMBRE   \n",
       "\n",
       "                            ENTIDAD_NAC                      ENTIDAD_RES  \\\n",
       "768458                          NAYARIT                          JALISCO   \n",
       "779482                         CAMPECHE                         CAMPECHE   \n",
       "838560                 CIUDAD DE MÉXICO                 CIUDAD DE MÉXICO   \n",
       "796938  VERACRUZ DE IGNACIO DE LA LLAVE  VERACRUZ DE IGNACIO DE LA LLAVE   \n",
       "633755                 CIUDAD DE MÉXICO                 CIUDAD DE MÉXICO   \n",
       "\n",
       "                             MUNICIPIO_RES  TIPO_PACIENTE  ...  \\\n",
       "768458                          JALISCO067    AMBULATORIO  ...   \n",
       "779482                         CAMPECHE002  HOSPITALIZADO  ...   \n",
       "838560                 CIUDAD DE MEXICO007    AMBULATORIO  ...   \n",
       "796938  VERACRUZ DE IGNACIO DE LA LLAVE065  HOSPITALIZADO  ...   \n",
       "633755                 CIUDAD DE MEXICO011  HOSPITALIZADO  ...   \n",
       "\n",
       "               MIGRANTE PAIS_NACIONALIDAD PAIS_ORIGEN        UCI  \\\n",
       "768458  NO ESPECIFICADO           MÃ©xico          99  NO APLICA   \n",
       "779482  NO ESPECIFICADO           MÃ©xico          99        NO    \n",
       "838560  NO ESPECIFICADO           MÃ©xico          99  NO APLICA   \n",
       "796938  NO ESPECIFICADO           MÃ©xico          99        NO    \n",
       "633755  NO ESPECIFICADO           MÃ©xico          99        NO    \n",
       "\n",
       "       FechaRegistro    LastDay   FirstDay Duration numRecords DurationRecords  \n",
       "768458    2020-08-04 2020-08-04 2020-07-28        7          8              -1  \n",
       "779482    2020-08-04 2020-08-04 2020-07-06       29         30              -1  \n",
       "838560    2020-08-04 2020-08-04 2020-07-03       32         33              -1  \n",
       "796938    2020-08-04 2020-08-04 2020-08-01        3          4              -1  \n",
       "633755    2020-08-04 2020-08-04 2020-05-07       89         90              -1  \n",
       "\n",
       "[5 rows x 41 columns]"
      ]
     },
     "execution_count": 28,
     "metadata": {},
     "output_type": "execute_result"
    }
   ],
   "source": [
    "df1R.head()"
   ]
  },
  {
   "cell_type": "code",
   "execution_count": 29,
   "metadata": {},
   "outputs": [
    {
     "data": {
      "text/html": [
       "<div>\n",
       "<style scoped>\n",
       "    .dataframe tbody tr th:only-of-type {\n",
       "        vertical-align: middle;\n",
       "    }\n",
       "\n",
       "    .dataframe tbody tr th {\n",
       "        vertical-align: top;\n",
       "    }\n",
       "\n",
       "    .dataframe thead th {\n",
       "        text-align: right;\n",
       "    }\n",
       "</style>\n",
       "<table border=\"1\" class=\"dataframe\">\n",
       "  <thead>\n",
       "    <tr style=\"text-align: right;\">\n",
       "      <th></th>\n",
       "      <th>FECHA_ACTUALIZACION</th>\n",
       "      <th>ID_REGISTRO</th>\n",
       "      <th>ORIGEN</th>\n",
       "      <th>SECTOR</th>\n",
       "      <th>ENTIDAD_UM</th>\n",
       "      <th>SEXO</th>\n",
       "      <th>ENTIDAD_NAC</th>\n",
       "      <th>ENTIDAD_RES</th>\n",
       "      <th>MUNICIPIO_RES</th>\n",
       "      <th>TIPO_PACIENTE</th>\n",
       "      <th>...</th>\n",
       "      <th>MIGRANTE</th>\n",
       "      <th>PAIS_NACIONALIDAD</th>\n",
       "      <th>PAIS_ORIGEN</th>\n",
       "      <th>UCI</th>\n",
       "      <th>FechaRegistro</th>\n",
       "      <th>LastDay</th>\n",
       "      <th>FirstDay</th>\n",
       "      <th>Duration</th>\n",
       "      <th>numRecords</th>\n",
       "      <th>DurationRecords</th>\n",
       "    </tr>\n",
       "  </thead>\n",
       "  <tbody>\n",
       "    <tr>\n",
       "      <th>753957</th>\n",
       "      <td>2020-08-04</td>\n",
       "      <td>125e73</td>\n",
       "      <td>FUERA DE USMER</td>\n",
       "      <td>IMSS</td>\n",
       "      <td>SONORA</td>\n",
       "      <td>MUJER</td>\n",
       "      <td>SONORA</td>\n",
       "      <td>SONORA</td>\n",
       "      <td>SONORA002</td>\n",
       "      <td>HOSPITALIZADO</td>\n",
       "      <td>...</td>\n",
       "      <td>NO ESPECIFICADO</td>\n",
       "      <td>MÃ©xico</td>\n",
       "      <td>99</td>\n",
       "      <td>NO</td>\n",
       "      <td>2020-08-04</td>\n",
       "      <td>2020-08-04</td>\n",
       "      <td>2020-08-04</td>\n",
       "      <td>0</td>\n",
       "      <td>1</td>\n",
       "      <td>-1</td>\n",
       "    </tr>\n",
       "    <tr>\n",
       "      <th>1023923</th>\n",
       "      <td>2020-08-04</td>\n",
       "      <td>18858d</td>\n",
       "      <td>FUERA DE USMER</td>\n",
       "      <td>SSA</td>\n",
       "      <td>BAJA CALIFORNIA SUR</td>\n",
       "      <td>MUJER</td>\n",
       "      <td>GUERRERO</td>\n",
       "      <td>BAJA CALIFORNIA SUR</td>\n",
       "      <td>BAJA CALIFORNIA SUR008</td>\n",
       "      <td>AMBULATORIO</td>\n",
       "      <td>...</td>\n",
       "      <td>NO ESPECIFICADO</td>\n",
       "      <td>MÃ©xico</td>\n",
       "      <td>99</td>\n",
       "      <td>NO APLICA</td>\n",
       "      <td>2020-08-04</td>\n",
       "      <td>2020-08-04</td>\n",
       "      <td>2020-08-04</td>\n",
       "      <td>0</td>\n",
       "      <td>1</td>\n",
       "      <td>-1</td>\n",
       "    </tr>\n",
       "    <tr>\n",
       "      <th>1018381</th>\n",
       "      <td>2020-08-04</td>\n",
       "      <td>0e42ae</td>\n",
       "      <td>FUERA DE USMER</td>\n",
       "      <td>SSA</td>\n",
       "      <td>COAHUILA DE ZARAGOZA</td>\n",
       "      <td>HOMBRE</td>\n",
       "      <td>COAHUILA DE ZARAGOZA</td>\n",
       "      <td>COAHUILA DE ZARAGOZA</td>\n",
       "      <td>COAHUILA DE ZARAGOZA028</td>\n",
       "      <td>AMBULATORIO</td>\n",
       "      <td>...</td>\n",
       "      <td>NO ESPECIFICADO</td>\n",
       "      <td>MÃ©xico</td>\n",
       "      <td>99</td>\n",
       "      <td>NO APLICA</td>\n",
       "      <td>2020-08-04</td>\n",
       "      <td>2020-08-04</td>\n",
       "      <td>2020-08-04</td>\n",
       "      <td>0</td>\n",
       "      <td>1</td>\n",
       "      <td>-1</td>\n",
       "    </tr>\n",
       "    <tr>\n",
       "      <th>1022437</th>\n",
       "      <td>2020-08-04</td>\n",
       "      <td>1e0610</td>\n",
       "      <td>USMER</td>\n",
       "      <td>IMSS</td>\n",
       "      <td>MICHOACÁN DE OCAMPO</td>\n",
       "      <td>HOMBRE</td>\n",
       "      <td>MICHOACÁN DE OCAMPO</td>\n",
       "      <td>MICHOACÁN DE OCAMPO</td>\n",
       "      <td>MICHOACAN DE OCAMPO053</td>\n",
       "      <td>HOSPITALIZADO</td>\n",
       "      <td>...</td>\n",
       "      <td>NO ESPECIFICADO</td>\n",
       "      <td>MÃ©xico</td>\n",
       "      <td>99</td>\n",
       "      <td>NO</td>\n",
       "      <td>2020-08-04</td>\n",
       "      <td>2020-08-04</td>\n",
       "      <td>2020-08-04</td>\n",
       "      <td>0</td>\n",
       "      <td>1</td>\n",
       "      <td>-1</td>\n",
       "    </tr>\n",
       "    <tr>\n",
       "      <th>1023085</th>\n",
       "      <td>2020-08-04</td>\n",
       "      <td>0872e1</td>\n",
       "      <td>FUERA DE USMER</td>\n",
       "      <td>SSA</td>\n",
       "      <td>CIUDAD DE MÉXICO</td>\n",
       "      <td>HOMBRE</td>\n",
       "      <td>MÉXICO</td>\n",
       "      <td>MÉXICO</td>\n",
       "      <td>MEXICO013</td>\n",
       "      <td>AMBULATORIO</td>\n",
       "      <td>...</td>\n",
       "      <td>NO ESPECIFICADO</td>\n",
       "      <td>MÃ©xico</td>\n",
       "      <td>99</td>\n",
       "      <td>NO APLICA</td>\n",
       "      <td>2020-08-04</td>\n",
       "      <td>2020-08-04</td>\n",
       "      <td>2020-08-04</td>\n",
       "      <td>0</td>\n",
       "      <td>1</td>\n",
       "      <td>-1</td>\n",
       "    </tr>\n",
       "  </tbody>\n",
       "</table>\n",
       "<p>5 rows × 41 columns</p>\n",
       "</div>"
      ],
      "text/plain": [
       "        FECHA_ACTUALIZACION ID_REGISTRO          ORIGEN SECTOR  \\\n",
       "753957           2020-08-04      125e73  FUERA DE USMER   IMSS   \n",
       "1023923          2020-08-04      18858d  FUERA DE USMER    SSA   \n",
       "1018381          2020-08-04      0e42ae  FUERA DE USMER    SSA   \n",
       "1022437          2020-08-04      1e0610           USMER   IMSS   \n",
       "1023085          2020-08-04      0872e1  FUERA DE USMER    SSA   \n",
       "\n",
       "                   ENTIDAD_UM    SEXO           ENTIDAD_NAC  \\\n",
       "753957                 SONORA   MUJER                SONORA   \n",
       "1023923   BAJA CALIFORNIA SUR   MUJER              GUERRERO   \n",
       "1018381  COAHUILA DE ZARAGOZA  HOMBRE  COAHUILA DE ZARAGOZA   \n",
       "1022437   MICHOACÁN DE OCAMPO  HOMBRE   MICHOACÁN DE OCAMPO   \n",
       "1023085      CIUDAD DE MÉXICO  HOMBRE                MÉXICO   \n",
       "\n",
       "                  ENTIDAD_RES            MUNICIPIO_RES  TIPO_PACIENTE  ...  \\\n",
       "753957                 SONORA                SONORA002  HOSPITALIZADO  ...   \n",
       "1023923   BAJA CALIFORNIA SUR   BAJA CALIFORNIA SUR008    AMBULATORIO  ...   \n",
       "1018381  COAHUILA DE ZARAGOZA  COAHUILA DE ZARAGOZA028    AMBULATORIO  ...   \n",
       "1022437   MICHOACÁN DE OCAMPO   MICHOACAN DE OCAMPO053  HOSPITALIZADO  ...   \n",
       "1023085                MÉXICO                MEXICO013    AMBULATORIO  ...   \n",
       "\n",
       "                MIGRANTE PAIS_NACIONALIDAD PAIS_ORIGEN        UCI  \\\n",
       "753957   NO ESPECIFICADO           MÃ©xico          99        NO    \n",
       "1023923  NO ESPECIFICADO           MÃ©xico          99  NO APLICA   \n",
       "1018381  NO ESPECIFICADO           MÃ©xico          99  NO APLICA   \n",
       "1022437  NO ESPECIFICADO           MÃ©xico          99        NO    \n",
       "1023085  NO ESPECIFICADO           MÃ©xico          99  NO APLICA   \n",
       "\n",
       "        FechaRegistro    LastDay   FirstDay Duration numRecords  \\\n",
       "753957     2020-08-04 2020-08-04 2020-08-04        0          1   \n",
       "1023923    2020-08-04 2020-08-04 2020-08-04        0          1   \n",
       "1018381    2020-08-04 2020-08-04 2020-08-04        0          1   \n",
       "1022437    2020-08-04 2020-08-04 2020-08-04        0          1   \n",
       "1023085    2020-08-04 2020-08-04 2020-08-04        0          1   \n",
       "\n",
       "        DurationRecords  \n",
       "753957               -1  \n",
       "1023923              -1  \n",
       "1018381              -1  \n",
       "1022437              -1  \n",
       "1023085              -1  \n",
       "\n",
       "[5 rows x 41 columns]"
      ]
     },
     "execution_count": 29,
     "metadata": {},
     "output_type": "execute_result"
    }
   ],
   "source": [
    "df1[df1.Duration==0].drop_duplicates(['ID_REGISTRO', 'ORIGEN', 'SECTOR', 'ENTIDAD_UM',\n",
    "       'SEXO', 'ENTIDAD_NAC', 'ENTIDAD_RES', 'MUNICIPIO_RES', 'TIPO_PACIENTE',\n",
    "       'FECHA_INGRESO', 'FECHA_SINTOMAS', 'FECHA_DEF', 'INTUBADO', 'NEUMONIA',\n",
    "       'EDAD', 'NACIONALIDAD', 'EMBARAZO', 'HABLA_LENGUA_INDIG', 'DIABETES',\n",
    "       'EPOC', 'ASMA', 'INMUSUPR', 'HIPERTENSION', 'OTRA_COM',\n",
    "       'CARDIOVASCULAR', 'OBESIDAD', 'RENAL_CRONICA', 'TABAQUISMO',\n",
    "       'OTRO_CASO', 'RESULTADO', 'MIGRANTE', 'PAIS_NACIONALIDAD',\n",
    "       'PAIS_ORIGEN', 'UCI']).head()"
   ]
  },
  {
   "cell_type": "code",
   "execution_count": 30,
   "metadata": {},
   "outputs": [
    {
     "data": {
      "text/html": [
       "<div>\n",
       "<style scoped>\n",
       "    .dataframe tbody tr th:only-of-type {\n",
       "        vertical-align: middle;\n",
       "    }\n",
       "\n",
       "    .dataframe tbody tr th {\n",
       "        vertical-align: top;\n",
       "    }\n",
       "\n",
       "    .dataframe thead th {\n",
       "        text-align: right;\n",
       "    }\n",
       "</style>\n",
       "<table border=\"1\" class=\"dataframe\">\n",
       "  <thead>\n",
       "    <tr style=\"text-align: right;\">\n",
       "      <th></th>\n",
       "      <th>FECHA_ACTUALIZACION</th>\n",
       "      <th>ID_REGISTRO</th>\n",
       "      <th>ORIGEN</th>\n",
       "      <th>SECTOR</th>\n",
       "      <th>ENTIDAD_UM</th>\n",
       "      <th>SEXO</th>\n",
       "      <th>ENTIDAD_NAC</th>\n",
       "      <th>ENTIDAD_RES</th>\n",
       "      <th>MUNICIPIO_RES</th>\n",
       "      <th>TIPO_PACIENTE</th>\n",
       "      <th>...</th>\n",
       "      <th>MIGRANTE</th>\n",
       "      <th>PAIS_NACIONALIDAD</th>\n",
       "      <th>PAIS_ORIGEN</th>\n",
       "      <th>UCI</th>\n",
       "      <th>FechaRegistro</th>\n",
       "      <th>LastDay</th>\n",
       "      <th>FirstDay</th>\n",
       "      <th>Duration</th>\n",
       "      <th>numRecords</th>\n",
       "      <th>DurationRecords</th>\n",
       "    </tr>\n",
       "  </thead>\n",
       "  <tbody>\n",
       "    <tr>\n",
       "      <th>112937</th>\n",
       "      <td>2020-07-06</td>\n",
       "      <td>1288df</td>\n",
       "      <td>FUERA DE USMER</td>\n",
       "      <td>IMSS</td>\n",
       "      <td>VERACRUZ DE IGNACIO DE LA LLAVE</td>\n",
       "      <td>HOMBRE</td>\n",
       "      <td>VERACRUZ DE IGNACIO DE LA LLAVE</td>\n",
       "      <td>VERACRUZ DE IGNACIO DE LA LLAVE</td>\n",
       "      <td>VERACRUZ DE IGNACIO DE LA LLAVE193</td>\n",
       "      <td>AMBULATORIO</td>\n",
       "      <td>...</td>\n",
       "      <td>NO ESPECIFICADO</td>\n",
       "      <td>MÃ©xico</td>\n",
       "      <td>99</td>\n",
       "      <td>NO APLICA</td>\n",
       "      <td>2020-07-06</td>\n",
       "      <td>2020-07-06</td>\n",
       "      <td>2020-07-06</td>\n",
       "      <td>0</td>\n",
       "      <td>1</td>\n",
       "      <td>-1</td>\n",
       "    </tr>\n",
       "  </tbody>\n",
       "</table>\n",
       "<p>1 rows × 41 columns</p>\n",
       "</div>"
      ],
      "text/plain": [
       "       FECHA_ACTUALIZACION ID_REGISTRO          ORIGEN SECTOR  \\\n",
       "112937          2020-07-06      1288df  FUERA DE USMER   IMSS   \n",
       "\n",
       "                             ENTIDAD_UM    SEXO  \\\n",
       "112937  VERACRUZ DE IGNACIO DE LA LLAVE  HOMBRE   \n",
       "\n",
       "                            ENTIDAD_NAC                      ENTIDAD_RES  \\\n",
       "112937  VERACRUZ DE IGNACIO DE LA LLAVE  VERACRUZ DE IGNACIO DE LA LLAVE   \n",
       "\n",
       "                             MUNICIPIO_RES TIPO_PACIENTE  ...  \\\n",
       "112937  VERACRUZ DE IGNACIO DE LA LLAVE193   AMBULATORIO  ...   \n",
       "\n",
       "               MIGRANTE PAIS_NACIONALIDAD PAIS_ORIGEN        UCI  \\\n",
       "112937  NO ESPECIFICADO           MÃ©xico          99  NO APLICA   \n",
       "\n",
       "       FechaRegistro    LastDay   FirstDay Duration numRecords DurationRecords  \n",
       "112937    2020-07-06 2020-07-06 2020-07-06        0          1              -1  \n",
       "\n",
       "[1 rows x 41 columns]"
      ]
     },
     "execution_count": 30,
     "metadata": {},
     "output_type": "execute_result"
    }
   ],
   "source": [
    "df1[df1.ID_REGISTRO=='1288df']"
   ]
  },
  {
   "cell_type": "code",
   "execution_count": 31,
   "metadata": {},
   "outputs": [
    {
     "data": {
      "text/plain": [
       "35125"
      ]
     },
     "execution_count": 31,
     "metadata": {},
     "output_type": "execute_result"
    }
   ],
   "source": [
    "df3.shape[0]-df3[df3.Duration==0].shape[0]"
   ]
  },
  {
   "cell_type": "code",
   "execution_count": 32,
   "metadata": {},
   "outputs": [
    {
     "data": {
      "text/html": [
       "<div>\n",
       "<style scoped>\n",
       "    .dataframe tbody tr th:only-of-type {\n",
       "        vertical-align: middle;\n",
       "    }\n",
       "\n",
       "    .dataframe tbody tr th {\n",
       "        vertical-align: top;\n",
       "    }\n",
       "\n",
       "    .dataframe thead th {\n",
       "        text-align: right;\n",
       "    }\n",
       "</style>\n",
       "<table border=\"1\" class=\"dataframe\">\n",
       "  <thead>\n",
       "    <tr style=\"text-align: right;\">\n",
       "      <th></th>\n",
       "      <th>RESULTADO</th>\n",
       "      <th>Duration</th>\n",
       "      <th>count</th>\n",
       "    </tr>\n",
       "  </thead>\n",
       "  <tbody>\n",
       "    <tr>\n",
       "      <th>0</th>\n",
       "      <td>No positivo SARS-CoV-2</td>\n",
       "      <td>0</td>\n",
       "      <td>16</td>\n",
       "    </tr>\n",
       "    <tr>\n",
       "      <th>1</th>\n",
       "      <td>No positivo SARS-CoV-2</td>\n",
       "      <td>1</td>\n",
       "      <td>49</td>\n",
       "    </tr>\n",
       "    <tr>\n",
       "      <th>2</th>\n",
       "      <td>No positivo SARS-CoV-2</td>\n",
       "      <td>2</td>\n",
       "      <td>79</td>\n",
       "    </tr>\n",
       "    <tr>\n",
       "      <th>3</th>\n",
       "      <td>No positivo SARS-CoV-2</td>\n",
       "      <td>3</td>\n",
       "      <td>121</td>\n",
       "    </tr>\n",
       "    <tr>\n",
       "      <th>4</th>\n",
       "      <td>No positivo SARS-CoV-2</td>\n",
       "      <td>4</td>\n",
       "      <td>1817</td>\n",
       "    </tr>\n",
       "    <tr>\n",
       "      <th>5</th>\n",
       "      <td>No positivo SARS-CoV-2</td>\n",
       "      <td>5</td>\n",
       "      <td>97</td>\n",
       "    </tr>\n",
       "    <tr>\n",
       "      <th>6</th>\n",
       "      <td>No positivo SARS-CoV-2</td>\n",
       "      <td>6</td>\n",
       "      <td>104</td>\n",
       "    </tr>\n",
       "    <tr>\n",
       "      <th>7</th>\n",
       "      <td>No positivo SARS-CoV-2</td>\n",
       "      <td>7</td>\n",
       "      <td>127</td>\n",
       "    </tr>\n",
       "    <tr>\n",
       "      <th>8</th>\n",
       "      <td>No positivo SARS-CoV-2</td>\n",
       "      <td>8</td>\n",
       "      <td>106</td>\n",
       "    </tr>\n",
       "    <tr>\n",
       "      <th>9</th>\n",
       "      <td>No positivo SARS-CoV-2</td>\n",
       "      <td>9</td>\n",
       "      <td>90</td>\n",
       "    </tr>\n",
       "    <tr>\n",
       "      <th>10</th>\n",
       "      <td>No positivo SARS-CoV-2</td>\n",
       "      <td>10</td>\n",
       "      <td>108</td>\n",
       "    </tr>\n",
       "    <tr>\n",
       "      <th>11</th>\n",
       "      <td>No positivo SARS-CoV-2</td>\n",
       "      <td>11</td>\n",
       "      <td>84</td>\n",
       "    </tr>\n",
       "    <tr>\n",
       "      <th>12</th>\n",
       "      <td>No positivo SARS-CoV-2</td>\n",
       "      <td>12</td>\n",
       "      <td>89</td>\n",
       "    </tr>\n",
       "    <tr>\n",
       "      <th>13</th>\n",
       "      <td>No positivo SARS-CoV-2</td>\n",
       "      <td>13</td>\n",
       "      <td>86</td>\n",
       "    </tr>\n",
       "    <tr>\n",
       "      <th>14</th>\n",
       "      <td>No positivo SARS-CoV-2</td>\n",
       "      <td>14</td>\n",
       "      <td>115</td>\n",
       "    </tr>\n",
       "    <tr>\n",
       "      <th>15</th>\n",
       "      <td>No positivo SARS-CoV-2</td>\n",
       "      <td>15</td>\n",
       "      <td>99</td>\n",
       "    </tr>\n",
       "    <tr>\n",
       "      <th>16</th>\n",
       "      <td>No positivo SARS-CoV-2</td>\n",
       "      <td>16</td>\n",
       "      <td>97</td>\n",
       "    </tr>\n",
       "    <tr>\n",
       "      <th>17</th>\n",
       "      <td>No positivo SARS-CoV-2</td>\n",
       "      <td>17</td>\n",
       "      <td>85</td>\n",
       "    </tr>\n",
       "    <tr>\n",
       "      <th>18</th>\n",
       "      <td>No positivo SARS-CoV-2</td>\n",
       "      <td>18</td>\n",
       "      <td>82</td>\n",
       "    </tr>\n",
       "    <tr>\n",
       "      <th>19</th>\n",
       "      <td>No positivo SARS-CoV-2</td>\n",
       "      <td>19</td>\n",
       "      <td>88</td>\n",
       "    </tr>\n",
       "    <tr>\n",
       "      <th>20</th>\n",
       "      <td>No positivo SARS-CoV-2</td>\n",
       "      <td>20</td>\n",
       "      <td>99</td>\n",
       "    </tr>\n",
       "    <tr>\n",
       "      <th>21</th>\n",
       "      <td>No positivo SARS-CoV-2</td>\n",
       "      <td>21</td>\n",
       "      <td>124</td>\n",
       "    </tr>\n",
       "    <tr>\n",
       "      <th>22</th>\n",
       "      <td>No positivo SARS-CoV-2</td>\n",
       "      <td>22</td>\n",
       "      <td>97</td>\n",
       "    </tr>\n",
       "    <tr>\n",
       "      <th>23</th>\n",
       "      <td>No positivo SARS-CoV-2</td>\n",
       "      <td>23</td>\n",
       "      <td>87</td>\n",
       "    </tr>\n",
       "    <tr>\n",
       "      <th>24</th>\n",
       "      <td>No positivo SARS-CoV-2</td>\n",
       "      <td>24</td>\n",
       "      <td>74</td>\n",
       "    </tr>\n",
       "    <tr>\n",
       "      <th>25</th>\n",
       "      <td>No positivo SARS-CoV-2</td>\n",
       "      <td>25</td>\n",
       "      <td>73</td>\n",
       "    </tr>\n",
       "    <tr>\n",
       "      <th>26</th>\n",
       "      <td>No positivo SARS-CoV-2</td>\n",
       "      <td>26</td>\n",
       "      <td>62</td>\n",
       "    </tr>\n",
       "    <tr>\n",
       "      <th>27</th>\n",
       "      <td>No positivo SARS-CoV-2</td>\n",
       "      <td>27</td>\n",
       "      <td>59</td>\n",
       "    </tr>\n",
       "    <tr>\n",
       "      <th>28</th>\n",
       "      <td>No positivo SARS-CoV-2</td>\n",
       "      <td>28</td>\n",
       "      <td>74</td>\n",
       "    </tr>\n",
       "    <tr>\n",
       "      <th>29</th>\n",
       "      <td>No positivo SARS-CoV-2</td>\n",
       "      <td>29</td>\n",
       "      <td>104</td>\n",
       "    </tr>\n",
       "  </tbody>\n",
       "</table>\n",
       "</div>"
      ],
      "text/plain": [
       "                 RESULTADO  Duration  count\n",
       "0   No positivo SARS-CoV-2         0     16\n",
       "1   No positivo SARS-CoV-2         1     49\n",
       "2   No positivo SARS-CoV-2         2     79\n",
       "3   No positivo SARS-CoV-2         3    121\n",
       "4   No positivo SARS-CoV-2         4   1817\n",
       "5   No positivo SARS-CoV-2         5     97\n",
       "6   No positivo SARS-CoV-2         6    104\n",
       "7   No positivo SARS-CoV-2         7    127\n",
       "8   No positivo SARS-CoV-2         8    106\n",
       "9   No positivo SARS-CoV-2         9     90\n",
       "10  No positivo SARS-CoV-2        10    108\n",
       "11  No positivo SARS-CoV-2        11     84\n",
       "12  No positivo SARS-CoV-2        12     89\n",
       "13  No positivo SARS-CoV-2        13     86\n",
       "14  No positivo SARS-CoV-2        14    115\n",
       "15  No positivo SARS-CoV-2        15     99\n",
       "16  No positivo SARS-CoV-2        16     97\n",
       "17  No positivo SARS-CoV-2        17     85\n",
       "18  No positivo SARS-CoV-2        18     82\n",
       "19  No positivo SARS-CoV-2        19     88\n",
       "20  No positivo SARS-CoV-2        20     99\n",
       "21  No positivo SARS-CoV-2        21    124\n",
       "22  No positivo SARS-CoV-2        22     97\n",
       "23  No positivo SARS-CoV-2        23     87\n",
       "24  No positivo SARS-CoV-2        24     74\n",
       "25  No positivo SARS-CoV-2        25     73\n",
       "26  No positivo SARS-CoV-2        26     62\n",
       "27  No positivo SARS-CoV-2        27     59\n",
       "28  No positivo SARS-CoV-2        28     74\n",
       "29  No positivo SARS-CoV-2        29    104"
      ]
     },
     "execution_count": 32,
     "metadata": {},
     "output_type": "execute_result"
    }
   ],
   "source": [
    "df_3.head(30)"
   ]
  },
  {
   "cell_type": "code",
   "execution_count": 33,
   "metadata": {},
   "outputs": [
    {
     "data": {
      "text/plain": [
       "<matplotlib.axes._subplots.AxesSubplot at 0x7fa6497dc710>"
      ]
     },
     "execution_count": 33,
     "metadata": {},
     "output_type": "execute_result"
    },
    {
     "data": {
      "image/png": "[encoded data removed]",
      "text/plain": [
       "<Figure size 432x288 with 1 Axes>"
      ]
     },
     "metadata": {
      "needs_background": "light"
     },
     "output_type": "display_data"
    }
   ],
   "source": [
    "df_3 = df3.groupby(['Duration'])['Duration'].count().to_frame(name = 'count').reset_index()\n",
    "sns.lineplot(x='Duration',y='count',  data=df_3[['Duration','count']],)#, palette=sns.color_palette(\"Set1\", 3))"
   ]
  },
  {
   "cell_type": "code",
   "execution_count": 36,
   "metadata": {},
   "outputs": [],
   "source": [
    "df3['EDAD_int'] = df3.EDAD.astype(int)"
   ]
  },
  {
   "cell_type": "code",
   "execution_count": 40,
   "metadata": {
    "scrolled": true
   },
   "outputs": [
    {
     "data": {
      "text/plain": [
       "<matplotlib.axes._subplots.AxesSubplot at 0x7f935d5a2f50>"
      ]
     },
     "execution_count": 40,
     "metadata": {},
     "output_type": "execute_result"
    },
    {
     "data": {
      "image/png": "[encoded data removed]",
      "text/plain": [
       "<Figure size 432x288 with 1 Axes>"
      ]
     },
     "metadata": {
      "needs_background": "light"
     },
     "output_type": "display_data"
    }
   ],
   "source": [
    "df3.groupby('EDAD_int')['EDAD_int'].count().plot()"
   ]
  },
  {
   "cell_type": "code",
   "execution_count": 41,
   "metadata": {},
   "outputs": [],
   "source": [
    "df1.FechaRegistro = pd.to_datetime(df1['FechaRegistro'], format='%Y-%m-%d')\n",
    "df1 = df1.sort_values(by='FechaRegistro', ascending=False)"
   ]
  },
  {
   "cell_type": "code",
   "execution_count": 42,
   "metadata": {},
   "outputs": [
    {
     "data": {
      "text/plain": [
       "(37251, 42)"
      ]
     },
     "execution_count": 42,
     "metadata": {},
     "output_type": "execute_result"
    }
   ],
   "source": [
    "df3.shape"
   ]
  },
  {
   "cell_type": "code",
   "execution_count": 43,
   "metadata": {},
   "outputs": [
    {
     "name": "stdout",
     "output_type": "stream",
     "text": [
      "551033\n",
      "551033\n"
     ]
    }
   ],
   "source": [
    "print(len(df1))\n",
    "df3 = df1.drop_duplicates(keep='first')\n",
    "# print(len(df3))\n",
    "df3 = df3.drop_duplicates('ID_REGISTRO',keep='first')\n",
    "# print(len(df3))\n",
    "print(len(df1))"
   ]
  },
  {
   "cell_type": "code",
   "execution_count": 44,
   "metadata": {},
   "outputs": [
    {
     "data": {
      "text/plain": [
       "Index(['FECHA_ACTUALIZACION', 'ID_REGISTRO', 'ORIGEN', 'SECTOR', 'ENTIDAD_UM',\n",
       "       'SEXO', 'ENTIDAD_NAC', 'ENTIDAD_RES', 'MUNICIPIO_RES', 'TIPO_PACIENTE',\n",
       "       'FECHA_INGRESO', 'FECHA_SINTOMAS', 'FECHA_DEF', 'INTUBADO', 'NEUMONIA',\n",
       "       'EDAD', 'NACIONALIDAD', 'EMBARAZO', 'HABLA_LENGUA_INDIG', 'DIABETES',\n",
       "       'EPOC', 'ASMA', 'INMUSUPR', 'HIPERTENSION', 'OTRA_COM',\n",
       "       'CARDIOVASCULAR', 'OBESIDAD', 'RENAL_CRONICA', 'TABAQUISMO',\n",
       "       'OTRO_CASO', 'RESULTADO', 'MIGRANTE', 'PAIS_NACIONALIDAD',\n",
       "       'PAIS_ORIGEN', 'UCI', 'FechaRegistro', 'LastDay', 'FirstDay',\n",
       "       'Duration', 'numRecords', 'DurationRecords'],\n",
       "      dtype='object')"
      ]
     },
     "execution_count": 44,
     "metadata": {},
     "output_type": "execute_result"
    }
   ],
   "source": [
    "df3.columns"
   ]
  },
  {
   "cell_type": "code",
   "execution_count": 45,
   "metadata": {
    "scrolled": true
   },
   "outputs": [
    {
     "data": {
      "text/plain": [
       "ORIGEN\n",
       "FUERA DE USMER    24998\n",
       "USMER             12253\n",
       "Name: ORIGEN, dtype: int64"
      ]
     },
     "execution_count": 45,
     "metadata": {},
     "output_type": "execute_result"
    }
   ],
   "source": [
    "df3.groupby(['ORIGEN'])['ORIGEN'].count().sort_values(ascending=False).head(19)"
   ]
  },
  {
   "cell_type": "code",
   "execution_count": 46,
   "metadata": {},
   "outputs": [
    {
     "data": {
      "text/plain": [
       "SECTOR\n",
       "SSA                20091\n",
       "IMSS               11200\n",
       "PRIVADA             2437\n",
       "ISSSTE              1272\n",
       "ESTATAL              981\n",
       "NO ESPECIFICADO      334\n",
       "PEMEX                268\n",
       "SEDENA               250\n",
       "SEMAR                210\n",
       "MUNICIPAL            132\n",
       "UNIVERSITARIO         45\n",
       "IMSS-BIENESTAR        20\n",
       "CRUZ ROJA              6\n",
       "DIF                    5\n",
       "Name: SECTOR, dtype: int64"
      ]
     },
     "execution_count": 46,
     "metadata": {},
     "output_type": "execute_result"
    }
   ],
   "source": [
    "df3.groupby('SECTOR')['SECTOR'].count().sort_values( ascending=False)"
   ]
  },
  {
   "cell_type": "code",
   "execution_count": 47,
   "metadata": {},
   "outputs": [
    {
     "data": {
      "text/plain": [
       "ENTIDAD_UM\n",
       "CIUDAD DE MÉXICO                   6783\n",
       "MÉXICO                             5993\n",
       "COAHUILA DE ZARAGOZA               2163\n",
       "NUEVO LEÓN                         2153\n",
       "TABASCO                            2113\n",
       "JALISCO                            1734\n",
       "MICHOACÁN DE OCAMPO                1350\n",
       "VERACRUZ DE IGNACIO DE LA LLAVE    1265\n",
       "BAJA CALIFORNIA                    1265\n",
       "PUEBLA                             1257\n",
       "OAXACA                             1176\n",
       "SINALOA                            1117\n",
       "CHIHUAHUA                          1088\n",
       "GUANAJUATO                          877\n",
       "CHIAPAS                             804\n",
       "SONORA                              654\n",
       "TAMAULIPAS                          532\n",
       "QUINTANA ROO                        522\n",
       "GUERRERO                            503\n",
       "YUCATÁN                             474\n",
       "MORELOS                             451\n",
       "BAJA CALIFORNIA SUR                 422\n",
       "QUERÉTARO                           405\n",
       "AGUASCALIENTES                      371\n",
       "DURANGO                             368\n",
       "TLAXCALA                            327\n",
       "NAYARIT                             279\n",
       "HIDALGO                             261\n",
       "SAN LUIS POTOSÍ                     237\n",
       "CAMPECHE                            159\n",
       "ZACATECAS                            93\n",
       "COLIMA                               55\n",
       "Name: ENTIDAD_UM, dtype: int64"
      ]
     },
     "execution_count": 47,
     "metadata": {},
     "output_type": "execute_result"
    }
   ],
   "source": [
    "df3.groupby('ENTIDAD_UM')['ENTIDAD_UM'].count().sort_values( ascending=False)"
   ]
  },
  {
   "cell_type": "code",
   "execution_count": 48,
   "metadata": {},
   "outputs": [
    {
     "data": {
      "text/plain": [
       "SEXO\n",
       "HOMBRE    19221\n",
       "MUJER     18030\n",
       "Name: SEXO, dtype: int64"
      ]
     },
     "execution_count": 48,
     "metadata": {},
     "output_type": "execute_result"
    }
   ],
   "source": [
    "df3.groupby('SEXO')['SEXO'].count().sort_values( ascending=False)"
   ]
  },
  {
   "cell_type": "code",
   "execution_count": 49,
   "metadata": {},
   "outputs": [
    {
     "data": {
      "text/plain": [
       "ENTIDAD_NAC\n",
       "MÉXICO                             5859\n",
       "CIUDAD DE MÉXICO                   5614\n",
       "COAHUILA DE ZARAGOZA               2038\n",
       "TABASCO                            1982\n",
       "NUEVO LEÓN                         1792\n",
       "VERACRUZ DE IGNACIO DE LA LLAVE    1787\n",
       "JALISCO                            1570\n",
       "OAXACA                             1453\n",
       "MICHOACÁN DE OCAMPO                1364\n",
       "PUEBLA                             1325\n",
       "SINALOA                            1286\n",
       "NO ESPECIFICADO                    1234\n",
       "GUANAJUATO                          950\n",
       "CHIAPAS                             944\n",
       "CHIHUAHUA                           896\n",
       "GUERRERO                            865\n",
       "BAJA CALIFORNIA                     738\n",
       "SONORA                              646\n",
       "TAMAULIPAS                          590\n",
       "YUCATÁN                             520\n",
       "DURANGO                             471\n",
       "MORELOS                             405\n",
       "HIDALGO                             401\n",
       "TLAXCALA                            366\n",
       "NAYARIT                             342\n",
       "SAN LUIS POTOSÍ                     341\n",
       "AGUASCALIENTES                      304\n",
       "QUERÉTARO                           275\n",
       "BAJA CALIFORNIA SUR                 241\n",
       "QUINTANA ROO                        217\n",
       "ZACATECAS                           198\n",
       "CAMPECHE                            159\n",
       "COLIMA                               78\n",
       "Name: ENTIDAD_NAC, dtype: int64"
      ]
     },
     "execution_count": 49,
     "metadata": {},
     "output_type": "execute_result"
    }
   ],
   "source": [
    "df3.groupby('ENTIDAD_NAC')['ENTIDAD_NAC'].count().sort_values( ascending=False)"
   ]
  },
  {
   "cell_type": "code",
   "execution_count": 50,
   "metadata": {},
   "outputs": [
    {
     "data": {
      "text/plain": [
       "ENTIDAD_NAC\n",
       "MÉXICO                             5859\n",
       "CIUDAD DE MÉXICO                   5614\n",
       "COAHUILA DE ZARAGOZA               2038\n",
       "TABASCO                            1982\n",
       "NUEVO LEÓN                         1792\n",
       "VERACRUZ DE IGNACIO DE LA LLAVE    1787\n",
       "JALISCO                            1570\n",
       "OAXACA                             1453\n",
       "MICHOACÁN DE OCAMPO                1364\n",
       "PUEBLA                             1325\n",
       "SINALOA                            1286\n",
       "NO ESPECIFICADO                    1234\n",
       "GUANAJUATO                          950\n",
       "CHIAPAS                             944\n",
       "CHIHUAHUA                           896\n",
       "GUERRERO                            865\n",
       "BAJA CALIFORNIA                     738\n",
       "SONORA                              646\n",
       "TAMAULIPAS                          590\n",
       "YUCATÁN                             520\n",
       "DURANGO                             471\n",
       "MORELOS                             405\n",
       "HIDALGO                             401\n",
       "TLAXCALA                            366\n",
       "NAYARIT                             342\n",
       "SAN LUIS POTOSÍ                     341\n",
       "AGUASCALIENTES                      304\n",
       "QUERÉTARO                           275\n",
       "BAJA CALIFORNIA SUR                 241\n",
       "QUINTANA ROO                        217\n",
       "ZACATECAS                           198\n",
       "CAMPECHE                            159\n",
       "COLIMA                               78\n",
       "Name: ENTIDAD_NAC, dtype: int64"
      ]
     },
     "execution_count": 50,
     "metadata": {},
     "output_type": "execute_result"
    }
   ],
   "source": [
    "df3.groupby('ENTIDAD_NAC')['ENTIDAD_NAC'].count().sort_values( ascending=False)"
   ]
  },
  {
   "cell_type": "code",
   "execution_count": 51,
   "metadata": {},
   "outputs": [
    {
     "data": {
      "text/plain": [
       "ENTIDAD_RES\n",
       "MÉXICO                             6881\n",
       "CIUDAD DE MÉXICO                   5734\n",
       "NUEVO LEÓN                         2137\n",
       "COAHUILA DE ZARAGOZA               2129\n",
       "TABASCO                            2105\n",
       "JALISCO                            1699\n",
       "MICHOACÁN DE OCAMPO                1341\n",
       "VERACRUZ DE IGNACIO DE LA LLAVE    1294\n",
       "PUEBLA                             1242\n",
       "BAJA CALIFORNIA                    1242\n",
       "OAXACA                             1197\n",
       "SINALOA                            1119\n",
       "CHIHUAHUA                          1094\n",
       "GUANAJUATO                          896\n",
       "CHIAPAS                             822\n",
       "SONORA                              678\n",
       "GUERRERO                            542\n",
       "TAMAULIPAS                          538\n",
       "QUINTANA ROO                        527\n",
       "MORELOS                             469\n",
       "YUCATÁN                             468\n",
       "BAJA CALIFORNIA SUR                 413\n",
       "DURANGO                             393\n",
       "QUERÉTARO                           390\n",
       "AGUASCALIENTES                      365\n",
       "TLAXCALA                            346\n",
       "HIDALGO                             332\n",
       "NAYARIT                             302\n",
       "SAN LUIS POTOSÍ                     237\n",
       "CAMPECHE                            158\n",
       "ZACATECAS                           104\n",
       "COLIMA                               57\n",
       "Name: ENTIDAD_RES, dtype: int64"
      ]
     },
     "execution_count": 51,
     "metadata": {},
     "output_type": "execute_result"
    }
   ],
   "source": [
    "df3.groupby('ENTIDAD_RES')['ENTIDAD_RES'].count().sort_values( ascending=False)"
   ]
  },
  {
   "cell_type": "code",
   "execution_count": null,
   "metadata": {},
   "outputs": [],
   "source": [
    "df3.groupby('MUNICIPIO_RES')['MUNICIPIO_RES'].count().sort_values( ascending=False)"
   ]
  },
  {
   "cell_type": "code",
   "execution_count": 53,
   "metadata": {},
   "outputs": [
    {
     "data": {
      "text/plain": [
       "TIPO_PACIENTE\n",
       "AMBULATORIO      28013\n",
       "HOSPITALIZADO     9238\n",
       "Name: TIPO_PACIENTE, dtype: int64"
      ]
     },
     "execution_count": 53,
     "metadata": {},
     "output_type": "execute_result"
    }
   ],
   "source": [
    "df3.groupby('TIPO_PACIENTE')['TIPO_PACIENTE'].count()"
   ]
  },
  {
   "cell_type": "code",
   "execution_count": 54,
   "metadata": {},
   "outputs": [
    {
     "data": {
      "text/plain": [
       "INTUBADO\n",
       "NO APLICA          28013\n",
       "NO                  8595\n",
       "SI                   636\n",
       "NO ESPECIFICADO        7\n",
       "Name: INTUBADO, dtype: int64"
      ]
     },
     "execution_count": 54,
     "metadata": {},
     "output_type": "execute_result"
    }
   ],
   "source": [
    "df3.groupby('INTUBADO')['INTUBADO'].count().sort_values( ascending=False)"
   ]
  },
  {
   "cell_type": "code",
   "execution_count": 55,
   "metadata": {},
   "outputs": [
    {
     "data": {
      "text/plain": [
       "NEUMONIA\n",
       "NO     30867\n",
       "SI      6384\n",
       "Name: NEUMONIA, dtype: int64"
      ]
     },
     "execution_count": 55,
     "metadata": {},
     "output_type": "execute_result"
    }
   ],
   "source": [
    "df3.groupby('NEUMONIA')['NEUMONIA'].count().sort_values( ascending=False)"
   ]
  },
  {
   "cell_type": "code",
   "execution_count": 56,
   "metadata": {},
   "outputs": [
    {
     "data": {
      "text/plain": [
       "EDAD\n",
       "35     902\n",
       "40     900\n",
       "28     894\n",
       "31     892\n",
       "38     890\n",
       "      ... \n",
       "98       3\n",
       "99       3\n",
       "100      2\n",
       "101      2\n",
       "120      1\n",
       "Name: EDAD, Length: 103, dtype: int64"
      ]
     },
     "execution_count": 56,
     "metadata": {},
     "output_type": "execute_result"
    }
   ],
   "source": [
    "df3.groupby('EDAD')['EDAD'].count().sort_values( ascending=False)"
   ]
  },
  {
   "cell_type": "code",
   "execution_count": 57,
   "metadata": {},
   "outputs": [
    {
     "data": {
      "text/plain": [
       "<matplotlib.axes._subplots.AxesSubplot at 0x7f935d037dd0>"
      ]
     },
     "execution_count": 57,
     "metadata": {},
     "output_type": "execute_result"
    },
    {
     "data": {
      "image/png": "[encoded data removed]",
      "text/plain": [
       "<Figure size 432x288 with 1 Axes>"
      ]
     },
     "metadata": {
      "needs_background": "light"
     },
     "output_type": "display_data"
    }
   ],
   "source": [
    "df3['EDAD_int'] = df3.EDAD.astype(int)\n",
    "df3.groupby('EDAD_int')['EDAD_int'].count().plot()"
   ]
  },
  {
   "cell_type": "code",
   "execution_count": 58,
   "metadata": {},
   "outputs": [
    {
     "data": {
      "text/plain": [
       "(37251, 42)"
      ]
     },
     "execution_count": 58,
     "metadata": {},
     "output_type": "execute_result"
    }
   ],
   "source": [
    "df3.shape"
   ]
  },
  {
   "cell_type": "code",
   "execution_count": 59,
   "metadata": {
    "scrolled": true
   },
   "outputs": [
    {
     "data": {
      "text/plain": [
       "EMBARAZO\n",
       "NO APLICA    19221\n",
       "NO           17691\n",
       "SI             264\n",
       "SE IGNORA       75\n",
       "Name: EMBARAZO, dtype: int64"
      ]
     },
     "execution_count": 59,
     "metadata": {},
     "output_type": "execute_result"
    }
   ],
   "source": [
    "df3.groupby('EMBARAZO')['EMBARAZO'].count().sort_values( ascending=False)"
   ]
  },
  {
   "cell_type": "code",
   "execution_count": 60,
   "metadata": {},
   "outputs": [
    {
     "data": {
      "text/plain": [
       "HABLA_LENGUA_INDIG\n",
       "NO                 35769\n",
       "NO ESPECIFICADO     1081\n",
       "SI                   401\n",
       "Name: HABLA_LENGUA_INDIG, dtype: int64"
      ]
     },
     "execution_count": 60,
     "metadata": {},
     "output_type": "execute_result"
    }
   ],
   "source": [
    "df3.groupby('HABLA_LENGUA_INDIG')['HABLA_LENGUA_INDIG'].count().sort_values( ascending=False)"
   ]
  },
  {
   "cell_type": "code",
   "execution_count": 61,
   "metadata": {
    "scrolled": true
   },
   "outputs": [
    {
     "data": {
      "text/plain": [
       "DIABETES\n",
       "NO           31961\n",
       "SI            5079\n",
       "SE IGNORA      211\n",
       "Name: DIABETES, dtype: int64"
      ]
     },
     "execution_count": 61,
     "metadata": {},
     "output_type": "execute_result"
    }
   ],
   "source": [
    "df3.groupby('DIABETES')['DIABETES'].count().sort_values( ascending=False)"
   ]
  },
  {
   "cell_type": "code",
   "execution_count": 62,
   "metadata": {
    "scrolled": true
   },
   "outputs": [
    {
     "data": {
      "text/plain": [
       "ASMA\n",
       "NO           35841\n",
       "SI            1229\n",
       "SE IGNORA      181\n",
       "Name: ASMA, dtype: int64"
      ]
     },
     "execution_count": 62,
     "metadata": {},
     "output_type": "execute_result"
    }
   ],
   "source": [
    "df3.groupby('ASMA')['ASMA'].count().sort_values( ascending=False)"
   ]
  },
  {
   "cell_type": "code",
   "execution_count": 63,
   "metadata": {
    "scrolled": true
   },
   "outputs": [
    {
     "data": {
      "text/plain": [
       "INMUSUPR\n",
       "NO           36422\n",
       "SI             628\n",
       "SE IGNORA      201\n",
       "Name: INMUSUPR, dtype: int64"
      ]
     },
     "execution_count": 63,
     "metadata": {},
     "output_type": "execute_result"
    }
   ],
   "source": [
    "df3.groupby('INMUSUPR')['INMUSUPR'].count().sort_values( ascending=False)"
   ]
  },
  {
   "cell_type": "code",
   "execution_count": 64,
   "metadata": {
    "scrolled": true
   },
   "outputs": [
    {
     "data": {
      "text/plain": [
       "HIPERTENSION\n",
       "NO           30646\n",
       "SI            6414\n",
       "SE IGNORA      191\n",
       "Name: HIPERTENSION, dtype: int64"
      ]
     },
     "execution_count": 64,
     "metadata": {},
     "output_type": "execute_result"
    }
   ],
   "source": [
    "df3.groupby('HIPERTENSION')['HIPERTENSION'].count().sort_values( ascending=False)"
   ]
  },
  {
   "cell_type": "code",
   "execution_count": 65,
   "metadata": {},
   "outputs": [
    {
     "data": {
      "text/plain": [
       "Index(['FECHA_ACTUALIZACION', 'ID_REGISTRO', 'ORIGEN', 'SECTOR', 'ENTIDAD_UM',\n",
       "       'SEXO', 'ENTIDAD_NAC', 'ENTIDAD_RES', 'MUNICIPIO_RES', 'TIPO_PACIENTE',\n",
       "       'FECHA_INGRESO', 'FECHA_SINTOMAS', 'FECHA_DEF', 'INTUBADO', 'NEUMONIA',\n",
       "       'EDAD', 'NACIONALIDAD', 'EMBARAZO', 'HABLA_LENGUA_INDIG', 'DIABETES',\n",
       "       'EPOC', 'ASMA', 'INMUSUPR', 'HIPERTENSION', 'OTRA_COM',\n",
       "       'CARDIOVASCULAR', 'OBESIDAD', 'RENAL_CRONICA', 'TABAQUISMO',\n",
       "       'OTRO_CASO', 'RESULTADO', 'MIGRANTE', 'PAIS_NACIONALIDAD',\n",
       "       'PAIS_ORIGEN', 'UCI', 'FechaRegistro', 'LastDay', 'FirstDay',\n",
       "       'Duration', 'numRecords', 'DurationRecords', 'EDAD_int'],\n",
       "      dtype='object')"
      ]
     },
     "execution_count": 65,
     "metadata": {},
     "output_type": "execute_result"
    }
   ],
   "source": [
    "df3.columns"
   ]
  },
  {
   "cell_type": "code",
   "execution_count": 66,
   "metadata": {
    "scrolled": false
   },
   "outputs": [
    {
     "data": {
      "text/plain": [
       "OTRA_COM\n",
       "NO           35698\n",
       "SI            1257\n",
       "SE IGNORA      296\n",
       "Name: OTRA_COM, dtype: int64"
      ]
     },
     "execution_count": 66,
     "metadata": {},
     "output_type": "execute_result"
    }
   ],
   "source": [
    "df3.groupby('OTRA_COM')['OTRA_COM'].count().sort_values( ascending=False)"
   ]
  },
  {
   "cell_type": "code",
   "execution_count": 67,
   "metadata": {
    "scrolled": false
   },
   "outputs": [
    {
     "data": {
      "text/plain": [
       "CARDIOVASCULAR\n",
       "NO           36149\n",
       "SI             902\n",
       "SE IGNORA      200\n",
       "Name: CARDIOVASCULAR, dtype: int64"
      ]
     },
     "execution_count": 67,
     "metadata": {},
     "output_type": "execute_result"
    }
   ],
   "source": [
    "df3.groupby('CARDIOVASCULAR')['CARDIOVASCULAR'].count().sort_values( ascending=False)"
   ]
  },
  {
   "cell_type": "code",
   "execution_count": 68,
   "metadata": {
    "scrolled": false
   },
   "outputs": [
    {
     "data": {
      "text/plain": [
       "OBESIDAD\n",
       "NO           31037\n",
       "SI            6037\n",
       "SE IGNORA      177\n",
       "Name: OBESIDAD, dtype: int64"
      ]
     },
     "execution_count": 68,
     "metadata": {},
     "output_type": "execute_result"
    }
   ],
   "source": [
    "df3.groupby('OBESIDAD')['OBESIDAD'].count().sort_values( ascending=False)"
   ]
  },
  {
   "cell_type": "code",
   "execution_count": 69,
   "metadata": {
    "scrolled": true
   },
   "outputs": [
    {
     "data": {
      "text/plain": [
       "RENAL_CRONICA\n",
       "NO           36216\n",
       "SI             851\n",
       "SE IGNORA      184\n",
       "Name: RENAL_CRONICA, dtype: int64"
      ]
     },
     "execution_count": 69,
     "metadata": {},
     "output_type": "execute_result"
    }
   ],
   "source": [
    "df3.groupby('RENAL_CRONICA')['RENAL_CRONICA'].count().sort_values( ascending=False)"
   ]
  },
  {
   "cell_type": "code",
   "execution_count": 70,
   "metadata": {
    "scrolled": true
   },
   "outputs": [
    {
     "data": {
      "text/plain": [
       "TABAQUISMO\n",
       "NO           34115\n",
       "SI            2952\n",
       "SE IGNORA      184\n",
       "Name: TABAQUISMO, dtype: int64"
      ]
     },
     "execution_count": 70,
     "metadata": {},
     "output_type": "execute_result"
    }
   ],
   "source": [
    "df3.groupby('TABAQUISMO')['TABAQUISMO'].count().sort_values( ascending=False)"
   ]
  },
  {
   "cell_type": "code",
   "execution_count": 71,
   "metadata": {
    "scrolled": true
   },
   "outputs": [
    {
     "data": {
      "text/plain": [
       "OTRO_CASO\n",
       "SI                 12798\n",
       "NO                 12726\n",
       "NO ESPECIFICADO    11727\n",
       "Name: OTRO_CASO, dtype: int64"
      ]
     },
     "execution_count": 71,
     "metadata": {},
     "output_type": "execute_result"
    }
   ],
   "source": [
    "df3.groupby('OTRO_CASO')['OTRO_CASO'].count().sort_values( ascending=False)"
   ]
  },
  {
   "cell_type": "code",
   "execution_count": 72,
   "metadata": {
    "scrolled": false
   },
   "outputs": [
    {
     "data": {
      "text/plain": [
       "RESULTADO\n",
       "Resultado pendiente       26767\n",
       "No positivo SARS-CoV-2     6517\n",
       "Positivo SARS-CoV-2        3967\n",
       "Name: RESULTADO, dtype: int64"
      ]
     },
     "execution_count": 72,
     "metadata": {},
     "output_type": "execute_result"
    }
   ],
   "source": [
    "df3.groupby('RESULTADO')['RESULTADO'].count().sort_values( ascending=False)"
   ]
  },
  {
   "cell_type": "code",
   "execution_count": 73,
   "metadata": {
    "scrolled": false
   },
   "outputs": [
    {
     "data": {
      "text/plain": [
       "MIGRANTE\n",
       "NO ESPECIFICADO    37124\n",
       "NO                    91\n",
       "SI                    36\n",
       "Name: MIGRANTE, dtype: int64"
      ]
     },
     "execution_count": 73,
     "metadata": {},
     "output_type": "execute_result"
    }
   ],
   "source": [
    "df3.groupby('MIGRANTE')['MIGRANTE'].count().sort_values( ascending=False)"
   ]
  },
  {
   "cell_type": "code",
   "execution_count": 74,
   "metadata": {
    "scrolled": false
   },
   "outputs": [
    {
     "data": {
      "text/plain": [
       "PAIS_NACIONALIDAD\n",
       "MÃ©xico                        35540\n",
       "99                              1333\n",
       "México                           142\n",
       "Estados Unidos de AmÃ©rica        67\n",
       "Colombia                          21\n",
       "EspaÃ±a                           19\n",
       "Brasil                            15\n",
       "Cuba                              11\n",
       "Argentina                          9\n",
       "CanadÃ¡                            9\n",
       "Venezuela                          8\n",
       "Italia                             7\n",
       "Guatemala                          6\n",
       "Bolivia                            6\n",
       "Francia                            6\n",
       "PerÃº                              5\n",
       "El Salvador                        5\n",
       "Nicaragua                          4\n",
       "JapÃ³n                             4\n",
       "RepÃºblica de Honduras             4\n",
       "Ecuador                            3\n",
       "Macao                              3\n",
       "HaitÃ­                             2\n",
       "India                              2\n",
       "Otro                               2\n",
       "China                              2\n",
       "RepÃºblica de Corea                2\n",
       "Arabia Saudita                     1\n",
       "Rusia                              1\n",
       "Bosnia y Herzegovina               1\n",
       "Australia                          1\n",
       "Austria                            1\n",
       "Alemania                           1\n",
       "Madeira                            1\n",
       "Chile                              1\n",
       "Portugal                           1\n",
       "Congo                              1\n",
       "Trieste                            1\n",
       "Holanda                            1\n",
       "LÃ­bano                            1\n",
       "Gran BretaÃ±a (Reino Unido)        1\n",
       "Name: PAIS_NACIONALIDAD, dtype: int64"
      ]
     },
     "execution_count": 74,
     "metadata": {},
     "output_type": "execute_result"
    }
   ],
   "source": [
    "df3.groupby('PAIS_NACIONALIDAD')['PAIS_NACIONALIDAD'].count().sort_values( ascending=False)"
   ]
  },
  {
   "cell_type": "code",
   "execution_count": 75,
   "metadata": {
    "scrolled": false
   },
   "outputs": [
    {
     "data": {
      "text/plain": [
       "PAIS_ORIGEN\n",
       "99                           31958\n",
       "97                            5257\n",
       "Estados Unidos de América       11\n",
       "Cuba                             3\n",
       "El Salvador                      3\n",
       "Italia                           3\n",
       "Guatemala                        2\n",
       "Ecuador                          2\n",
       "Colombia                         2\n",
       "Venezuela                        2\n",
       "Francia                          1\n",
       "España                           1\n",
       "República de Honduras            1\n",
       "Nicaragua                        1\n",
       "China                            1\n",
       "Brasil                           1\n",
       "Argentina                        1\n",
       "Otro                             1\n",
       "Name: PAIS_ORIGEN, dtype: int64"
      ]
     },
     "execution_count": 75,
     "metadata": {},
     "output_type": "execute_result"
    }
   ],
   "source": [
    "df3.groupby('PAIS_ORIGEN')['PAIS_ORIGEN'].count().sort_values( ascending=False)"
   ]
  },
  {
   "cell_type": "code",
   "execution_count": 76,
   "metadata": {
    "scrolled": false
   },
   "outputs": [
    {
     "data": {
      "text/plain": [
       "PAIS_ORIGEN\n",
       "99                           31958\n",
       "97                            5257\n",
       "Estados Unidos de América       11\n",
       "Cuba                             3\n",
       "El Salvador                      3\n",
       "Italia                           3\n",
       "Guatemala                        2\n",
       "Ecuador                          2\n",
       "Colombia                         2\n",
       "Venezuela                        2\n",
       "Francia                          1\n",
       "España                           1\n",
       "República de Honduras            1\n",
       "Nicaragua                        1\n",
       "China                            1\n",
       "Brasil                           1\n",
       "Argentina                        1\n",
       "Otro                             1\n",
       "Name: PAIS_ORIGEN, dtype: int64"
      ]
     },
     "execution_count": 76,
     "metadata": {},
     "output_type": "execute_result"
    }
   ],
   "source": [
    "df3.groupby('PAIS_ORIGEN')['PAIS_ORIGEN'].count().sort_values( ascending=False)"
   ]
  },
  {
   "cell_type": "code",
   "execution_count": 77,
   "metadata": {
    "scrolled": false
   },
   "outputs": [
    {
     "data": {
      "text/plain": [
       "UCI\n",
       "NO APLICA          28013\n",
       "NO                  8449\n",
       "SI                   782\n",
       "NO ESPECIFICADO        7\n",
       "Name: UCI, dtype: int64"
      ]
     },
     "execution_count": 77,
     "metadata": {},
     "output_type": "execute_result"
    }
   ],
   "source": [
    "df3.groupby('UCI')['UCI'].count().sort_values( ascending=False)"
   ]
  },
  {
   "cell_type": "code",
   "execution_count": null,
   "metadata": {},
   "outputs": [],
   "source": []
  },
  {
   "cell_type": "code",
   "execution_count": 78,
   "metadata": {},
   "outputs": [
    {
     "data": {
      "text/plain": [
       "EDAD\n",
       "35     902\n",
       "40     900\n",
       "28     894\n",
       "31     892\n",
       "38     890\n",
       "      ... \n",
       "98       3\n",
       "99       3\n",
       "100      2\n",
       "101      2\n",
       "120      1\n",
       "Name: EDAD, Length: 103, dtype: int64"
      ]
     },
     "execution_count": 78,
     "metadata": {},
     "output_type": "execute_result"
    }
   ],
   "source": [
    "df3.groupby('EDAD')['EDAD'].count().sort_values( ascending=False)"
   ]
  },
  {
   "cell_type": "markdown",
   "metadata": {},
   "source": [
    "# personas que siguen en el sistema"
   ]
  },
  {
   "cell_type": "code",
   "execution_count": null,
   "metadata": {},
   "outputs": [],
   "source": [
    "# we extract the records that does not live in the last report\n",
    "dfO1 = df0[df0.ID_REGISTRO.isin(tracket_cases)]\n",
    "dfO1 = dfO1.copy()\n",
    "dfO1.shape\n"
   ]
  },
  {
   "cell_type": "code",
   "execution_count": null,
   "metadata": {},
   "outputs": [],
   "source": [
    "dfO1.columns"
   ]
  },
  {
   "cell_type": "code",
   "execution_count": null,
   "metadata": {},
   "outputs": [],
   "source": []
  },
  {
   "cell_type": "code",
   "execution_count": null,
   "metadata": {},
   "outputs": [],
   "source": []
  },
  {
   "cell_type": "code",
   "execution_count": null,
   "metadata": {},
   "outputs": [],
   "source": [
    "# df0.FechaRegistro = pd.to_datetime(df0['FechaRegistro'], format='%Y-%m-%d')\n",
    "dfO1.FECHA_SINTOMAS = pd.to_datetime(dfO1['FECHA_SINTOMAS'], format ='%Y-%m-%d')\n",
    "dfO1.FECHA_ACTUALIZACION = pd.to_datetime(dfO1['FECHA_ACTUALIZACION'], format ='%Y-%m-%d')\n",
    "dfO1.FechaRegistro = pd.to_datetime(dfO1['FechaRegistro'], format ='%Y-%m-%d')\n",
    "dfO1['delta_lastRecord'] = (dfO1.FECHA_ACTUALIZACION-dfO1.FechaRegistro ).dt.days\n",
    "dfO1['deltaReporte'] = (dfO1.FechaRegistro-dfO1.FECHA_SINTOMAS).dt.days\n",
    "dfO1[dfO1.FECHA_SINTOMAS<'2020-02-29'].groupby('RESULTADO')['RESULTADO'].count()\n",
    "\n"
   ]
  },
  {
   "cell_type": "code",
   "execution_count": null,
   "metadata": {},
   "outputs": [],
   "source": [
    "# sort_values(by='FechaRegistro', ascending=False).head()\n",
    "\n",
    "dfO13 = dfO1.drop_duplicates(['ID_REGISTRO', \n",
    "       'FECHA_INGRESO', 'FECHA_SINTOMAS', ],keep='first')\n",
    "dfO13 = dfO13.copy()"
   ]
  },
  {
   "cell_type": "code",
   "execution_count": null,
   "metadata": {},
   "outputs": [],
   "source": [
    "dfO13.groupby('ID_REGISTRO')['FECHA_ACTUALIZACION'].count().sort_values( ascending=False)"
   ]
  },
  {
   "cell_type": "code",
   "execution_count": null,
   "metadata": {},
   "outputs": [],
   "source": [
    "dfO131 = dfO13[dfO13.FECHA_SINTOMAS<'2020-02-29']\n",
    "dfO131.groupby('ID_REGISTRO')['FECHA_ACTUALIZACION'].count().sort_values( ascending=False).head(10)"
   ]
  },
  {
   "cell_type": "code",
   "execution_count": null,
   "metadata": {},
   "outputs": [],
   "source": [
    "dfO131[dfO131.ID_REGISTRO.isin(['0304ae','02a0df','0226ad','13fb66','0632c1','1732a3',])][['ID_REGISTRO', \n",
    "        'FECHA_SINTOMAS','FECHA_INGRESO',]].sort_values(['ID_REGISTRO','FECHA_SINTOMAS'], ascending=False)"
   ]
  },
  {
   "cell_type": "code",
   "execution_count": null,
   "metadata": {},
   "outputs": [],
   "source": [
    "dfO131['deltaCorrección'] = (dfO131.FECHA_INGRESO-dfO131.FECHA_SINTOMAS).dt.days"
   ]
  },
  {
   "cell_type": "code",
   "execution_count": null,
   "metadata": {},
   "outputs": [],
   "source": [
    "df0['FECHA_SINTOMAS'].min()"
   ]
  },
  {
   "cell_type": "code",
   "execution_count": null,
   "metadata": {},
   "outputs": [],
   "source": [
    "df0[df0['FECHA_SINTOMAS']=='2020-01-01']"
   ]
  },
  {
   "cell_type": "code",
   "execution_count": null,
   "metadata": {},
   "outputs": [],
   "source": [
    "first= pd.read_csv( '../src/'+'20200412'       +'.csv', encoding = \"ISO-8859-1\",dtype =str)\n"
   ]
  },
  {
   "cell_type": "code",
   "execution_count": null,
   "metadata": {},
   "outputs": [],
   "source": [
    "first.FECHA_SINTOMAS = pd.to_datetime(first['FECHA_SINTOMAS'], format ='%Y-%m-%d')"
   ]
  },
  {
   "cell_type": "code",
   "execution_count": null,
   "metadata": {},
   "outputs": [],
   "source": []
  },
  {
   "cell_type": "code",
   "execution_count": null,
   "metadata": {},
   "outputs": [],
   "source": [
    "first.FECHA_SINTOMAS.min()"
   ]
  },
  {
   "cell_type": "code",
   "execution_count": null,
   "metadata": {},
   "outputs": [],
   "source": []
  },
  {
   "cell_type": "markdown",
   "metadata": {},
   "source": [
    "At the end of 2019, the world saw the born of the Sars-cov-2 virus which genereate a disease called COVID19 (COrona VIrus disease). The high risk that we face with this virus is that the sympthons are related to a typical flu but generate a high damage un the lungs decreasing the oxygen level. The disminution of oxygen generate a high demand of intensive beds.\n",
    "\n",
    "From WHO files\n",
    "\n",
    "According to the WHO the incubation period for COVID-19, is on average 5-6 days, but can be extended to 14 days. However there some evidence that shows that exist different types of transmition, such as symptomatic, pre-symptomatic and a symptomatic.\n",
    "\n",
    "The typical transmition is the symptomatic, this ocurrs when a person shown COVID symptomatic and can spread the virus conciently or inconciently respiratory droplest over thier enviroment. However, some cases has shown that a person can transmit COVID-19 without symptoms, (3 or 2 days) before present the typical symptoms. Finally there are some concern about the asyptomatic transmission according to the WHO: Asymptomatic transmission refers to transmission of the virus from a person, who does not develop symptoms. There are few reports of laboratory-confirmed cases who are truly asymptomatic, and to date, there has been no documente asymptomatic transmission. This does not exclude the possibility that it may occur. Asymptomatic cases have been reported as part of contact tracing efforts in some countries. Source https://www.who.int/docs/default-source/coronaviruse/situation-reports/20200402-sitrep-73-covid-19.pdf?sfvrsn=5ae25bc7_2#:~:text=An%20asymptomatic%20laboratory%2Dconfirmed,more%20information%20becomes%20available.\n",
    "\n",
    "\n",
    "The goal of this notebook is listed below:\n",
    "* Understand the evolution of the covi19 in Mexico, there are a rate of 10% of deads though a visualization analysis\n",
    "\n",
    "\n",
    "Key elements\n",
    "\n",
    "* Incubation period can be expresed a GAMMA.\n",
    "* Is most common the transmision after show symptoms.\n",
    "* How we can modeled (explain pre-symtomatic transmition)\n",
    "* how we can modeled asyntomatic transmition\n"
   ]
  },
  {
   "cell_type": "code",
   "execution_count": null,
   "metadata": {},
   "outputs": [],
   "source": [
    "df.head()"
   ]
  },
  {
   "cell_type": "code",
   "execution_count": null,
   "metadata": {},
   "outputs": [],
   "source": []
  },
  {
   "cell_type": "code",
   "execution_count": null,
   "metadata": {},
   "outputs": [],
   "source": [
    "df"
   ]
  },
  {
   "cell_type": "code",
   "execution_count": null,
   "metadata": {},
   "outputs": [],
   "source": [
    "dic_ORIGEN"
   ]
  },
  {
   "cell_type": "code",
   "execution_count": null,
   "metadata": {},
   "outputs": [],
   "source": [
    "for each in dic_ORIGEN:\n",
    "    dic_ORIGEN[each]= dic_ORIGEN[each][0]\n",
    "\n",
    "dic_ORIGEN\n",
    "dic_NACIONALIDAD\n",
    "dic_SEXO\n",
    "dic_SI_NO\n",
    "dic_TIPO_PACIENTE\n",
    "dic_SECTOR\n",
    "dic_RESULTADO"
   ]
  },
  {
   "cell_type": "code",
   "execution_count": null,
   "metadata": {},
   "outputs": [],
   "source": []
  },
  {
   "cell_type": "code",
   "execution_count": null,
   "metadata": {},
   "outputs": [],
   "source": []
  },
  {
   "cell_type": "code",
   "execution_count": null,
   "metadata": {},
   "outputs": [],
   "source": []
  },
  {
   "cell_type": "code",
   "execution_count": null,
   "metadata": {},
   "outputs": [],
   "source": []
  },
  {
   "cell_type": "code",
   "execution_count": null,
   "metadata": {},
   "outputs": [],
   "source": [
    "\n"
   ]
  },
  {
   "cell_type": "code",
   "execution_count": null,
   "metadata": {},
   "outputs": [],
   "source": []
  },
  {
   "cell_type": "code",
   "execution_count": null,
   "metadata": {},
   "outputs": [],
   "source": [
    "dic_NACIONALIDAD\n",
    "dic_ORIGEN\n",
    "dic_RESULTADO\n",
    "dic_SECTOR\n",
    "dic_SEXO\n",
    "dic_SI_NO\n",
    "dic_TIPO_PACIENTE"
   ]
  },
  {
   "cell_type": "code",
   "execution_count": null,
   "metadata": {},
   "outputs": [],
   "source": [
    "dic_ENTIDADES = d2 = json.load(open(\"../src/diccionario_datos_covid19/ENTIDADES.jsn\"))\n",
    "dic_MUNICIPIOS = d2 = json.load(open(\"../src/diccionario_datos_covid19/MUNICIPIOS.jsn\"))\n",
    "dic_NACIONALIDAD = d2 = json.load(open(\"../src/diccionario_datos_covid19/NACIONALIDAD.jsn\"))\n",
    "dic_ORIGEN = d2 = json.load(open(\"../src/diccionario_datos_covid19/ORIGEN.jsn\"))\n",
    "dic_RESULTADO = d2 = json.load(open(\"../src/diccionario_datos_covid19/RESULTADO.jsn\"))\n",
    "dic_SECTOR = d2 = json.load(open(\"../src/diccionario_datos_covid19/SECTOR.jsn\"))\n",
    "dic_SEXO = d2 = json.load(open(\"../src/diccionario_datos_covid19/SEXO.jsn\"))\n",
    "dic_SI_NO = d2 = json.load(open(\"../src/diccionario_datos_covid19/SI_NO.jsn\"))\n",
    "dic_TIPO_PACIENTE = d2 = json.load(open(\"../src/diccionario_datos_covid19/TIPO_PACIENTE.jsn\"))"
   ]
  },
  {
   "cell_type": "code",
   "execution_count": null,
   "metadata": {},
   "outputs": [],
   "source": []
  }
 ],
 "metadata": {
  "kernelspec": {
   "display_name": "Python 3",
   "language": "python",
   "name": "python3"
  },
  "language_info": {
   "codemirror_mode": {
    "name": "ipython",
    "version": 3
   },
   "file_extension": ".py",
   "mimetype": "text/x-python",
   "name": "python",
   "nbconvert_exporter": "python",
   "pygments_lexer": "ipython3",
   "version": "3.7.4"
  }
 },
 "nbformat": 4,
 "nbformat_minor": 2
}
