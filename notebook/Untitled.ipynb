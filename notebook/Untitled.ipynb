{
 "cells": [
  {
   "cell_type": "markdown",
   "metadata": {},
   "source": [
    "# Mexican Covid"
   ]
  },
  {
   "cell_type": "markdown",
   "metadata": {},
   "source": [
    "At the end of 2019, the world saw the born of the Sars-cov-2 virus which genereate a disease called COVID19 (COrona VIrus disease). The high risk that we face with this virus is that the sympthons are related to a typical flu but generate a high damage un the lungs decreasing the oxygen level. The disminution of oxygen generate a high demand of intensive beds.\n",
    "\n",
    "From WHO files\n",
    "\n",
    "According to the WHO the incubation period for COVID-19, is on average 5-6 days, but can be extended to 14 days. However there some evidence that shows that exist different types of transmition, such as symptomatic, pre-symptomatic and a symptomatic.\n",
    "\n",
    "The typical transmition is the symptomatic, this ocurrs when a person shown COVID symptomatic and can spread the virus conciently or inconciently respiratory droplest over thier enviroment. However, some cases has shown that a person can transmit COVID-19 without symptoms, (3 or 2 days) before present the typical symptoms. Finally there are some concern about the asyptomatic transmission according to the WHO: Asymptomatic transmission refers to transmission of the virus from a person, who does not develop symptoms. There are few reports of laboratory-confirmed cases who are truly asymptomatic, and to date, there has been no documente asymptomatic transmission. This does not exclude the possibility that it may occur. Asymptomatic cases have been reported as part of contact tracing efforts in some countries. Source https://www.who.int/docs/default-source/coronaviruse/situation-reports/20200402-sitrep-73-covid-19.pdf?sfvrsn=5ae25bc7_2#:~:text=An%20asymptomatic%20laboratory%2Dconfirmed,more%20information%20becomes%20available.\n",
    "\n",
    "\n",
    "The goal of this notebook is listed below:\n",
    "* Understand the evolution of the covi19 in Mexico, there are a rate of 10% of deads though a visualization analysis\n",
    "\n",
    "\n",
    "Key elements\n",
    "\n",
    "* Incubation period can be expresed a GAMMA.\n",
    "* Is most common the transmision after show symptoms.\n",
    "* How we can modeled (explain pre-symtomatic transmition)\n",
    "* how we can modeled asyntomatic transmition\n"
   ]
  },
  {
   "cell_type": "code",
   "execution_count": 1,
   "metadata": {},
   "outputs": [
    {
     "name": "stdout",
     "output_type": "stream",
     "text": [
      "Using matplotlib backend: MacOSX\n"
     ]
    }
   ],
   "source": [
    "import pandas as pd\n",
    "import numpy as np\n",
    "import random\n",
    "import matplotlib.pyplot as plt\n",
    "%matplotlib \n",
    "import glob"
   ]
  },
  {
   "cell_type": "code",
   "execution_count": 2,
   "metadata": {
    "scrolled": true
   },
   "outputs": [
    {
     "name": "stdout",
     "output_type": "stream",
     "text": [
      "../src/200610COVID19MEXICO.csv\n",
      "../src/200413COVID19MEXICO.csv\n",
      "../src/200514COVID19MEXICO.csv\n",
      "../src/200426COVID19MEXICO.csv\n",
      "../src/200418COVID19MEXICO.csv\n",
      "../src/200521COVID19MEXICO.csv\n",
      "../src/200604COVID19MEXICO.csv\n",
      "../src/200504COVID19MEXICO.csv\n",
      "../src/200525COVID19MEXICO.csv\n",
      "../src/200621COVID19MEXICO.csv\n",
      "../src/200422COVID19MEXICO.csv\n",
      "../src/200531COVID19MEXICO.csv\n",
      "../src/200510COVID19MEXICO.csv\n",
      "../src/200417COVID19MEXICO.csv\n",
      "../src/200429COVID19MEXICO.csv\n",
      "../src/200614COVID19MEXICO.csv\n",
      "../src/200611COVID19MEXICO.csv\n",
      "../src/200412COVID19MEXICO.csv\n",
      "../src/200515COVID19MEXICO.csv\n",
      "../src/200501COVID19MEXICO.csv\n",
      "../src/200605COVID19MEXICO.csv\n",
      "../src/200427COVID19MEXICO.csv\n",
      "../src/200419COVID19MEXICO.csv\n",
      "../src/200520COVID19MEXICO.csv\n",
      "../src/200524COVID19MEXICO.csv\n",
      "../src/200620COVID19MEXICO.csv\n",
      "../src/200423COVID19MEXICO.csv\n",
      "../src/200601COVID19MEXICO.csv\n",
      "../src/200505COVID19MEXICO.csv\n",
      "../src/200511COVID19MEXICO.csv\n",
      "../src/200416COVID19MEXICO.csv\n",
      "../src/200428COVID19MEXICO.csv\n",
      "../src/200615COVID19MEXICO.csv\n",
      "../src/200530COVID19MEXICO.csv\n",
      "../src/200606COVID19MEXICO.csv\n",
      "../src/200502COVID19MEXICO.csv\n",
      "../src/200523COVID19MEXICO.csv\n",
      "../src/200424COVID19MEXICO.csv\n",
      "../src/200619COVID19MEXICO.csv\n",
      "../src/200430COVID19MEXICO.csv\n",
      "../src/200509COVID19MEXICO.csv\n",
      "../src/200528COVID19MEXICO.csv\n",
      "../src/200516COVID19MEXICO.csv\n",
      "../src/200612COVID19MEXICO.csv\n",
      "../src/200415COVID19MEXICO.csv\n",
      "../src/200616COVID19MEXICO.csv\n",
      "../src/200512COVID19MEXICO.csv\n",
      "../src/200609COVID19MEXICO.csv\n",
      "../src/200420COVID19MEXICO.csv\n",
      "../src/200519COVID19MEXICO.csv\n",
      "../src/200527COVID19MEXICO.csv\n",
      "../src/200506COVID19MEXICO.csv\n",
      "../src/200602COVID19MEXICO.csv\n",
      "../src/200522COVID19MEXICO.csv\n",
      "../src/200425COVID19MEXICO.csv\n",
      "../src/200618COVID19MEXICO.csv\n",
      "../src/200607COVID19MEXICO.csv\n",
      "../src/200503COVID19MEXICO.csv\n",
      "../src/200529COVID19MEXICO.csv\n",
      "../src/200517COVID19MEXICO.csv\n",
      "../src/200613COVID19MEXICO.csv\n",
      "../src/200508COVID19MEXICO.csv\n",
      "../src/200608COVID19MEXICO.csv\n",
      "../src/200414COVID19MEXICO.csv\n",
      "../src/200617COVID19MEXICO.csv\n",
      "../src/200513COVID19MEXICO.csv\n",
      "../src/200507COVID19MEXICO.csv\n",
      "../src/200603COVID19MEXICO.csv\n",
      "../src/200421COVID19MEXICO.csv\n",
      "../src/200518COVID19MEXICO.csv\n",
      "../src/200526COVID19MEXICO.csv\n"
     ]
    }
   ],
   "source": [
    "import glob\n",
    "strpath = '../src/'\n",
    "m = []\n",
    "for filename in glob.glob(strpath+\"*\"):\n",
    "    print(filename)\n",
    "    date = filename[7:9] +'-' + filename[9:11] +'-' +filename[11:13]\n",
    "    df = pd.read_csv(filename, encoding = \"ISO-8859-1\",dtype =str)\n",
    "    df.FECHA_ACTUALIZACION = pd.to_datetime(df['FECHA_ACTUALIZACION'],)\n",
    "    df.FECHA_INGRESO = pd.to_datetime(df['FECHA_INGRESO'],)\n",
    "    df.FECHA_SINTOMAS = pd.to_datetime(df['FECHA_SINTOMAS'],)\n",
    "    df['deltaSintomas']=df.FECHA_ACTUALIZACION-df.FECHA_SINTOMAS \n",
    "    df['deltaSintomas'] = df.deltaSintomas.dt.days\n",
    "    df.loc[df.FECHA_DEF=='9999-99-99', 'FECHA_DEF'] = '2050-12-31'\n",
    "    df.FECHA_DEF = pd.to_datetime(df['FECHA_DEF'],)\n",
    "    m.append([date,df[(df.deltaSintomas<14)& (df.RESULTADO=='1')]['ID_REGISTRO'].count()\n",
    "          ,df[df.RESULTADO=='1']['ID_REGISTRO'].count()\n",
    "          ,df[df.FECHA_DEF!='2050-12-31']['ID_REGISTRO'].count()\n",
    "          ,df[df.RESULTADO=='3']['ID_REGISTRO'].count()\n",
    "          ,df.ID_REGISTRO.nunique()]\n",
    "    )\n",
    "df = pd.DataFrame(m)\n",
    "df.columns = ['date', 'activos', 'positivos', 'muertes', 'sospechosos', 'muestra']\n"
   ]
  },
  {
   "cell_type": "code",
   "execution_count": 3,
   "metadata": {},
   "outputs": [
    {
     "data": {
      "text/html": [
       "<div>\n",
       "<style scoped>\n",
       "    .dataframe tbody tr th:only-of-type {\n",
       "        vertical-align: middle;\n",
       "    }\n",
       "\n",
       "    .dataframe tbody tr th {\n",
       "        vertical-align: top;\n",
       "    }\n",
       "\n",
       "    .dataframe thead th {\n",
       "        text-align: right;\n",
       "    }\n",
       "</style>\n",
       "<table border=\"1\" class=\"dataframe\">\n",
       "  <thead>\n",
       "    <tr style=\"text-align: right;\">\n",
       "      <th></th>\n",
       "      <th>date</th>\n",
       "      <th>activos</th>\n",
       "      <th>positivos</th>\n",
       "      <th>muertes</th>\n",
       "      <th>sospechosos</th>\n",
       "      <th>muestra</th>\n",
       "    </tr>\n",
       "  </thead>\n",
       "  <tbody>\n",
       "    <tr>\n",
       "      <th>0</th>\n",
       "      <td>20-04-12</td>\n",
       "      <td>255</td>\n",
       "      <td>4661</td>\n",
       "      <td>616</td>\n",
       "      <td>8697</td>\n",
       "      <td>36594</td>\n",
       "    </tr>\n",
       "    <tr>\n",
       "      <th>1</th>\n",
       "      <td>20-04-13</td>\n",
       "      <td>413</td>\n",
       "      <td>5014</td>\n",
       "      <td>704</td>\n",
       "      <td>9341</td>\n",
       "      <td>38670</td>\n",
       "    </tr>\n",
       "    <tr>\n",
       "      <th>2</th>\n",
       "      <td>20-04-14</td>\n",
       "      <td>627</td>\n",
       "      <td>5399</td>\n",
       "      <td>855</td>\n",
       "      <td>10792</td>\n",
       "      <td>41593</td>\n",
       "    </tr>\n",
       "    <tr>\n",
       "      <th>3</th>\n",
       "      <td>20-04-15</td>\n",
       "      <td>918</td>\n",
       "      <td>5847</td>\n",
       "      <td>937</td>\n",
       "      <td>11717</td>\n",
       "      <td>44436</td>\n",
       "    </tr>\n",
       "    <tr>\n",
       "      <th>4</th>\n",
       "      <td>20-04-16</td>\n",
       "      <td>1283</td>\n",
       "      <td>6297</td>\n",
       "      <td>1012</td>\n",
       "      <td>12340</td>\n",
       "      <td>47235</td>\n",
       "    </tr>\n",
       "    <tr>\n",
       "      <th>...</th>\n",
       "      <td>...</td>\n",
       "      <td>...</td>\n",
       "      <td>...</td>\n",
       "      <td>...</td>\n",
       "      <td>...</td>\n",
       "      <td>...</td>\n",
       "    </tr>\n",
       "    <tr>\n",
       "      <th>66</th>\n",
       "      <td>20-06-17</td>\n",
       "      <td>22209</td>\n",
       "      <td>159793</td>\n",
       "      <td>26561</td>\n",
       "      <td>59076</td>\n",
       "      <td>441670</td>\n",
       "    </tr>\n",
       "    <tr>\n",
       "      <th>67</th>\n",
       "      <td>20-06-18</td>\n",
       "      <td>23528</td>\n",
       "      <td>165455</td>\n",
       "      <td>27369</td>\n",
       "      <td>59778</td>\n",
       "      <td>453481</td>\n",
       "    </tr>\n",
       "    <tr>\n",
       "      <th>68</th>\n",
       "      <td>20-06-19</td>\n",
       "      <td>23653</td>\n",
       "      <td>170485</td>\n",
       "      <td>28206</td>\n",
       "      <td>62245</td>\n",
       "      <td>465867</td>\n",
       "    </tr>\n",
       "    <tr>\n",
       "      <th>69</th>\n",
       "      <td>20-06-20</td>\n",
       "      <td>23567</td>\n",
       "      <td>175202</td>\n",
       "      <td>28666</td>\n",
       "      <td>60621</td>\n",
       "      <td>473952</td>\n",
       "    </tr>\n",
       "    <tr>\n",
       "      <th>70</th>\n",
       "      <td>20-06-21</td>\n",
       "      <td>24225</td>\n",
       "      <td>180545</td>\n",
       "      <td>29752</td>\n",
       "      <td>56590</td>\n",
       "      <td>479528</td>\n",
       "    </tr>\n",
       "  </tbody>\n",
       "</table>\n",
       "<p>71 rows × 6 columns</p>\n",
       "</div>"
      ],
      "text/plain": [
       "        date  activos  positivos  muertes  sospechosos  muestra\n",
       "0   20-04-12      255       4661      616         8697    36594\n",
       "1   20-04-13      413       5014      704         9341    38670\n",
       "2   20-04-14      627       5399      855        10792    41593\n",
       "3   20-04-15      918       5847      937        11717    44436\n",
       "4   20-04-16     1283       6297     1012        12340    47235\n",
       "..       ...      ...        ...      ...          ...      ...\n",
       "66  20-06-17    22209     159793    26561        59076   441670\n",
       "67  20-06-18    23528     165455    27369        59778   453481\n",
       "68  20-06-19    23653     170485    28206        62245   465867\n",
       "69  20-06-20    23567     175202    28666        60621   473952\n",
       "70  20-06-21    24225     180545    29752        56590   479528\n",
       "\n",
       "[71 rows x 6 columns]"
      ]
     },
     "execution_count": 3,
     "metadata": {},
     "output_type": "execute_result"
    }
   ],
   "source": [
    "df = df.sort_values(by='date')\n",
    "df = df.reset_index(drop=True)\n",
    "df"
   ]
  },
  {
   "cell_type": "code",
   "execution_count": 4,
   "metadata": {},
   "outputs": [],
   "source": [
    "df = pd.read_csv('../src/200621COVID19MEXICO.csv', encoding = \"ISO-8859-1\",dtype =str)"
   ]
  },
  {
   "cell_type": "code",
   "execution_count": 5,
   "metadata": {},
   "outputs": [],
   "source": [
    "df.FECHA_ACTUALIZACION = pd.to_datetime(df['FECHA_ACTUALIZACION'],)\n",
    "df.FECHA_INGRESO = pd.to_datetime(df['FECHA_INGRESO'],)\n",
    "df.FECHA_SINTOMAS = pd.to_datetime(df['FECHA_SINTOMAS'],)\n",
    "df['deltaSintomas']=df.FECHA_ACTUALIZACION-df.FECHA_SINTOMAS\n",
    "df['deltaSintomas'] = df.deltaSintomas.dt.days\n",
    "df.loc[df.FECHA_DEF=='9999-99-99', 'FECHA_DEF'] = '2050-12-31'\n",
    "df.FECHA_DEF = pd.to_datetime(df['FECHA_DEF'],)\n",
    "m=[]\n",
    "m.append([df[(df.deltaSintomas<14)& (df.RESULTADO=='1')]['ID_REGISTRO'].count(),\n",
    "          df[df.RESULTADO=='1']['ID_REGISTRO'].count()\n",
    "          ,df[df.FECHA_DEF>'2050-12-31']['ID_REGISTRO'].count()\n",
    "          ,df[df.RESULTADO=='3']['ID_REGISTRO'].count()\n",
    "          ,df.ID_REGISTRO.nunique()])"
   ]
  },
  {
   "cell_type": "code",
   "execution_count": 6,
   "metadata": {},
   "outputs": [],
   "source": [
    "m.append([date,df[(df.deltaSintomas<14)& (df.RESULTADO==1)]['ID_REGISTRO'].count(),\n",
    "          df[df.RESULTADO==1]['ID_REGISTRO'].count()\n",
    "          ,df[df.FECHA_DEF!='2050-12-31']['ID_REGISTRO'].count()\n",
    "          ,df[df.RESULTADO==3]['ID_REGISTRO'].count()\n",
    "          ,df.ID_REGISTRO.nunique()])"
   ]
  },
  {
   "cell_type": "code",
   "execution_count": 7,
   "metadata": {},
   "outputs": [
    {
     "data": {
      "text/plain": [
       "0         1aa78e\n",
       "1         195210\n",
       "11        020346\n",
       "116       0e3e2f\n",
       "171       01b888\n",
       "           ...  \n",
       "180476    04ef87\n",
       "180510    10184b\n",
       "180523    0f90a8\n",
       "180524    1c7833\n",
       "180525    0952a8\n",
       "Name: ID_REGISTRO, Length: 24225, dtype: object"
      ]
     },
     "execution_count": 7,
     "metadata": {},
     "output_type": "execute_result"
    }
   ],
   "source": [
    "df[(df.deltaSintomas<14)& (df.RESULTADO=='1')]['ID_REGISTRO']"
   ]
  },
  {
   "cell_type": "code",
   "execution_count": 8,
   "metadata": {},
   "outputs": [
    {
     "data": {
      "text/plain": [
       "1892"
      ]
     },
     "execution_count": 8,
     "metadata": {},
     "output_type": "execute_result"
    }
   ],
   "source": [
    "len(df[(df.FECHA_DEF<'2020-06-22')])-len(df[(df.FECHA_DEF<'2020-06-22')&(df.RESULTADO!='3')])"
   ]
  },
  {
   "cell_type": "code",
   "execution_count": 14,
   "metadata": {},
   "outputs": [
    {
     "data": {
      "text/plain": [
       "24225"
      ]
     },
     "execution_count": 14,
     "metadata": {},
     "output_type": "execute_result"
    }
   ],
   "source": [
    "len(df[(df.deltaSintomas<14)& (df.RESULTADO=='1')])"
   ]
  },
  {
   "cell_type": "code",
   "execution_count": 21,
   "metadata": {},
   "outputs": [
    {
     "data": {
      "text/plain": [
       "35875"
      ]
     },
     "execution_count": 21,
     "metadata": {},
     "output_type": "execute_result"
    }
   ],
   "source": [
    "len(df[(df.deltaSintomas<14)& (df.RESULTADO=='3')])"
   ]
  },
  {
   "cell_type": "code",
   "execution_count": 22,
   "metadata": {},
   "outputs": [
    {
     "data": {
      "text/plain": [
       "1892"
      ]
     },
     "execution_count": 22,
     "metadata": {},
     "output_type": "execute_result"
    }
   ],
   "source": [
    "len(df[(df.FECHA_DEF<'2020-12-31')&(df.RESULTADO=='3')])"
   ]
  },
  {
   "cell_type": "code",
   "execution_count": 23,
   "metadata": {},
   "outputs": [
    {
     "data": {
      "text/plain": [
       "6035"
      ]
     },
     "execution_count": 23,
     "metadata": {},
     "output_type": "execute_result"
    }
   ],
   "source": [
    "len(df[(df.FECHA_DEF<'2020-12-31')&(df.RESULTADO=='2')])"
   ]
  }
 ],
 "metadata": {
  "kernelspec": {
   "display_name": "Python 3",
   "language": "python",
   "name": "python3"
  },
  "language_info": {
   "codemirror_mode": {
    "name": "ipython",
    "version": 3
   },
   "file_extension": ".py",
   "mimetype": "text/x-python",
   "name": "python",
   "nbconvert_exporter": "python",
   "pygments_lexer": "ipython3",
   "version": "3.7.4"
  }
 },
 "nbformat": 4,
 "nbformat_minor": 2
}
