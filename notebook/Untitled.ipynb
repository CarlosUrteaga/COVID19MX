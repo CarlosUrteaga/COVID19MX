{
 "cells": [
  {
   "cell_type": "markdown",
   "metadata": {},
   "source": [
    "# Mexican Covid"
   ]
  },
  {
   "cell_type": "markdown",
   "metadata": {},
   "source": [
    "At the end of 2019, the world saw the born of the Sars-cov-2 virus which genereate a disease called COVID19 (COrona VIrus disease). The high risk that we face with this virus is that the sympthons are related to a typical flu but generate a high damage un the lungs decreasing the oxygen level. The disminution of oxygen generate a high demand of intensive beds.\n",
    "\n",
    "From WHO files\n",
    "\n",
    "According to the WHO the incubation period for COVID-19, is on average 5-6 days, but can be extended to 14 days. However there some evidence that shows that exist different types of transmition, such as symptomatic, pre-symptomatic and a symptomatic.\n",
    "\n",
    "The typical transmition is the symptomatic, this ocurrs when a person shown COVID symptomatic and can spread the virus conciently or inconciently respiratory droplest over thier enviroment. However, some cases has shown that a person can transmit COVID-19 without symptoms, (3 or 2 days) before present the typical symptoms. Finally there are some concern about the asyptomatic transmission according to the WHO: Asymptomatic transmission refers to transmission of the virus from a person, who does not develop symptoms. There are few reports of laboratory-confirmed cases who are truly asymptomatic, and to date, there has been no documente asymptomatic transmission. This does not exclude the possibility that it may occur. Asymptomatic cases have been reported as part of contact tracing efforts in some countries. Source https://www.who.int/docs/default-source/coronaviruse/situation-reports/20200402-sitrep-73-covid-19.pdf?sfvrsn=5ae25bc7_2#:~:text=An%20asymptomatic%20laboratory%2Dconfirmed,more%20information%20becomes%20available.\n",
    "\n",
    "\n",
    "The goal of this notebook is listed below:\n",
    "* Understand the evolution of the covi19 in Mexico, there are a rate of 10% of deads though a visualization analysis\n",
    "\n",
    "\n",
    "Key elements\n",
    "\n",
    "* Incubation period can be expresed a GAMMA.\n",
    "* Is most common the transmision after show symptoms.\n",
    "* How we can modeled (explain pre-symtomatic transmition)\n",
    "* how we can modeled asyntomatic transmition\n"
   ]
  },
  {
   "cell_type": "code",
   "execution_count": 1,
   "metadata": {},
   "outputs": [
    {
     "name": "stdout",
     "output_type": "stream",
     "text": [
      "Using matplotlib backend: MacOSX\n"
     ]
    }
   ],
   "source": [
    "import pandas as pd\n",
    "import numpy as np\n",
    "import random\n",
    "import matplotlib.pyplot as plt\n",
    "%matplotlib \n",
    "import glob"
   ]
  },
  {
   "cell_type": "code",
   "execution_count": 2,
   "metadata": {
    "scrolled": true
   },
   "outputs": [
    {
     "name": "stdout",
     "output_type": "stream",
     "text": [
      "../src/20200604.csv\n",
      "../src/20200610.csv\n",
      "../src/20200412.csv\n",
      "../src/20200413.csv\n",
      "../src/20200611.csv\n",
      "../src/20200605.csv\n",
      "../src/20200613.csv\n",
      "../src/20200607.csv\n",
      "../src/20200606.csv\n",
      "../src/20200612.csv\n",
      "../src/20200616.csv\n",
      "../src/20200602.csv\n",
      "../src/20200414.csv\n",
      "../src/20200428.csv\n",
      "../src/20200429.csv\n",
      "../src/20200415.csv\n",
      "../src/20200603.csv\n",
      "../src/20200617.csv\n",
      "../src/20200601.csv\n",
      "../src/20200615.csv\n",
      "../src/20200417.csv\n",
      "../src/20200416.csv\n",
      "../src/20200614.csv\n",
      "../src/20200511.csv\n",
      "../src/20200505.csv\n",
      "../src/20200504.csv\n",
      "../src/20200510.csv\n",
      "../src/20200506.csv\n",
      "../src/20200512.csv\n",
      "../src/20200513.csv\n",
      "../src/20200507.csv\n",
      "../src/20200503.csv\n",
      "../src/20200517.csv\n",
      "../src/20200516.csv\n",
      "../src/20200502.csv\n",
      "../src/20200514.csv\n",
      "../src/20200528.csv\n",
      "../src/20200529.csv\n",
      "../src/20200501.csv\n",
      "../src/20200515.csv\n",
      "../src/20200518.csv\n",
      "../src/20200530.csv\n",
      "../src/20200524.csv\n",
      "../src/20200525.csv\n",
      "../src/20200531.csv\n",
      "../src/20200519.csv\n",
      "../src/20200527.csv\n",
      "../src/20200526.csv\n",
      "../src/20200522.csv\n",
      "../src/20200523.csv\n",
      "../src/20200521.csv\n",
      "../src/20200509.csv\n",
      "../src/20200508.csv\n",
      "../src/20200619.csv\n",
      "../src/20200427.csv\n",
      "../src/20200426.csv\n",
      "../src/20200624.csv\n",
      "../src/20200618.csv\n",
      "../src/20200418.csv\n",
      "../src/20200430.csv\n",
      "../src/20200424.csv\n",
      "../src/20200425.csv\n",
      "../src/20200419.csv\n",
      "../src/20200623.csv\n",
      "../src/20200421.csv\n",
      "../src/20200420.csv\n",
      "../src/20200622.csv\n",
      "../src/20200620.csv\n",
      "../src/20200608.csv\n",
      "../src/20200422.csv\n",
      "../src/20200423.csv\n",
      "../src/20200609.csv\n",
      "../src/20200621.csv\n"
     ]
    }
   ],
   "source": [
    "import glob\n",
    "strpath = '../src/'\n",
    "m = []\n",
    "for filename in glob.glob(strpath+\"*\"):\n",
    "    print(filename)\n",
    "    date = filename[7:9] +'-' + filename[9:11] +'-' +filename[11:13]\n",
    "    df = pd.read_csv(filename, encoding = \"ISO-8859-1\",dtype =str)\n",
    "    df['FECHA_ACTUALIZACION1'] = pd.to_datetime(df['FECHA_ACTUALIZACION'],)\n",
    "    df.FECHA_INGRESO = pd.to_datetime(df['FECHA_INGRESO'],)\n",
    "    df.FECHA_SINTOMAS = pd.to_datetime(df['FECHA_SINTOMAS'],)\n",
    "    df['deltaSintomas']=df.FECHA_ACTUALIZACION1-df.FECHA_SINTOMAS \n",
    "    df['deltaSintomas'] = df.deltaSintomas.dt.days\n",
    "    df.loc[df.FECHA_DEF=='9999-99-99', 'FECHA_DEF'] = '2050-12-31'\n",
    "    df.FECHA_DEF = pd.to_datetime(df['FECHA_DEF'],)\n",
    "    m.append([df.FECHA_ACTUALIZACION.unique()[0]\n",
    "              ,df[(df.deltaSintomas<14)& (df.RESULTADO=='1')]['ID_REGISTRO'].count()\n",
    "          ,df[df.RESULTADO=='1']['ID_REGISTRO'].count()\n",
    "          ,df[(df.FECHA_DEF!='2050-12-31')&(df.RESULTADO=='1')]['ID_REGISTRO'].count()\n",
    "          ,df[df.RESULTADO=='3']['ID_REGISTRO'].count()\n",
    "          ,df.ID_REGISTRO.nunique()\n",
    "          ,len(df[(df.deltaSintomas<14)& (df.RESULTADO=='3')])\n",
    "          ,len(df[(df.FECHA_DEF<'2020-12-31')&(df.RESULTADO=='3')])\n",
    "          ,len(df[(df.FECHA_DEF<'2020-12-31')&(df.RESULTADO=='2')])\n",
    "             ]\n",
    "    )\n",
    "df = pd.DataFrame(m)\n",
    "df.columns = ['date', 'activos', 'positivos', 'muertes', 'sospechosos', 'muestra', 'activos sospechosos', 'defunciones sospechosos', 'muertos negativos']\n"
   ]
  },
  {
   "cell_type": "code",
   "execution_count": 3,
   "metadata": {},
   "outputs": [
    {
     "data": {
      "text/html": [
       "<div>\n",
       "<style scoped>\n",
       "    .dataframe tbody tr th:only-of-type {\n",
       "        vertical-align: middle;\n",
       "    }\n",
       "\n",
       "    .dataframe tbody tr th {\n",
       "        vertical-align: top;\n",
       "    }\n",
       "\n",
       "    .dataframe thead th {\n",
       "        text-align: right;\n",
       "    }\n",
       "</style>\n",
       "<table border=\"1\" class=\"dataframe\">\n",
       "  <thead>\n",
       "    <tr style=\"text-align: right;\">\n",
       "      <th></th>\n",
       "      <th>date</th>\n",
       "      <th>activos</th>\n",
       "      <th>positivos</th>\n",
       "      <th>muertes</th>\n",
       "      <th>sospechosos</th>\n",
       "      <th>muestra</th>\n",
       "      <th>activos sospechosos</th>\n",
       "      <th>defunciones sospechosos</th>\n",
       "      <th>muertos negativos</th>\n",
       "    </tr>\n",
       "  </thead>\n",
       "  <tbody>\n",
       "    <tr>\n",
       "      <th>0</th>\n",
       "      <td>2020-06-24</td>\n",
       "      <td>24036</td>\n",
       "      <td>196847</td>\n",
       "      <td>24324</td>\n",
       "      <td>62475</td>\n",
       "      <td>515658</td>\n",
       "      <td>40219</td>\n",
       "      <td>1894</td>\n",
       "      <td>6412</td>\n",
       "    </tr>\n",
       "    <tr>\n",
       "      <th>1</th>\n",
       "      <td>2020-06-23</td>\n",
       "      <td>24387</td>\n",
       "      <td>191410</td>\n",
       "      <td>23377</td>\n",
       "      <td>59106</td>\n",
       "      <td>501871</td>\n",
       "      <td>37894</td>\n",
       "      <td>1848</td>\n",
       "      <td>6260</td>\n",
       "    </tr>\n",
       "    <tr>\n",
       "      <th>2</th>\n",
       "      <td>2020-06-22</td>\n",
       "      <td>23155</td>\n",
       "      <td>185122</td>\n",
       "      <td>22584</td>\n",
       "      <td>57281</td>\n",
       "      <td>488550</td>\n",
       "      <td>35710</td>\n",
       "      <td>1874</td>\n",
       "      <td>6111</td>\n",
       "    </tr>\n",
       "    <tr>\n",
       "      <th>3</th>\n",
       "      <td>2020-06-21</td>\n",
       "      <td>24225</td>\n",
       "      <td>180545</td>\n",
       "      <td>21825</td>\n",
       "      <td>56590</td>\n",
       "      <td>479528</td>\n",
       "      <td>35875</td>\n",
       "      <td>1892</td>\n",
       "      <td>6035</td>\n",
       "    </tr>\n",
       "    <tr>\n",
       "      <th>4</th>\n",
       "      <td>2020-06-20</td>\n",
       "      <td>23567</td>\n",
       "      <td>175202</td>\n",
       "      <td>20781</td>\n",
       "      <td>60621</td>\n",
       "      <td>473952</td>\n",
       "      <td>40333</td>\n",
       "      <td>1895</td>\n",
       "      <td>5990</td>\n",
       "    </tr>\n",
       "    <tr>\n",
       "      <th>...</th>\n",
       "      <td>...</td>\n",
       "      <td>...</td>\n",
       "      <td>...</td>\n",
       "      <td>...</td>\n",
       "      <td>...</td>\n",
       "      <td>...</td>\n",
       "      <td>...</td>\n",
       "      <td>...</td>\n",
       "      <td>...</td>\n",
       "    </tr>\n",
       "    <tr>\n",
       "      <th>68</th>\n",
       "      <td>2020-04-19</td>\n",
       "      <td>627</td>\n",
       "      <td>5399</td>\n",
       "      <td>406</td>\n",
       "      <td>10792</td>\n",
       "      <td>41593</td>\n",
       "      <td>5664</td>\n",
       "      <td>90</td>\n",
       "      <td>359</td>\n",
       "    </tr>\n",
       "    <tr>\n",
       "      <th>69</th>\n",
       "      <td>2020-04-19</td>\n",
       "      <td>2955</td>\n",
       "      <td>8261</td>\n",
       "      <td>686</td>\n",
       "      <td>10139</td>\n",
       "      <td>49570</td>\n",
       "      <td>7291</td>\n",
       "      <td>112</td>\n",
       "      <td>490</td>\n",
       "    </tr>\n",
       "    <tr>\n",
       "      <th>70</th>\n",
       "      <td>2020-04-19</td>\n",
       "      <td>2273</td>\n",
       "      <td>7497</td>\n",
       "      <td>650</td>\n",
       "      <td>12369</td>\n",
       "      <td>49167</td>\n",
       "      <td>9077</td>\n",
       "      <td>123</td>\n",
       "      <td>478</td>\n",
       "    </tr>\n",
       "    <tr>\n",
       "      <th>71</th>\n",
       "      <td>2020-04-19</td>\n",
       "      <td>918</td>\n",
       "      <td>5847</td>\n",
       "      <td>449</td>\n",
       "      <td>11717</td>\n",
       "      <td>44436</td>\n",
       "      <td>6899</td>\n",
       "      <td>92</td>\n",
       "      <td>396</td>\n",
       "    </tr>\n",
       "    <tr>\n",
       "      <th>72</th>\n",
       "      <td>2020-04-19</td>\n",
       "      <td>1283</td>\n",
       "      <td>6297</td>\n",
       "      <td>486</td>\n",
       "      <td>12340</td>\n",
       "      <td>47235</td>\n",
       "      <td>7959</td>\n",
       "      <td>101</td>\n",
       "      <td>425</td>\n",
       "    </tr>\n",
       "  </tbody>\n",
       "</table>\n",
       "<p>73 rows × 9 columns</p>\n",
       "</div>"
      ],
      "text/plain": [
       "          date  activos  positivos  muertes  sospechosos  muestra  \\\n",
       "0   2020-06-24    24036     196847    24324        62475   515658   \n",
       "1   2020-06-23    24387     191410    23377        59106   501871   \n",
       "2   2020-06-22    23155     185122    22584        57281   488550   \n",
       "3   2020-06-21    24225     180545    21825        56590   479528   \n",
       "4   2020-06-20    23567     175202    20781        60621   473952   \n",
       "..         ...      ...        ...      ...          ...      ...   \n",
       "68  2020-04-19      627       5399      406        10792    41593   \n",
       "69  2020-04-19     2955       8261      686        10139    49570   \n",
       "70  2020-04-19     2273       7497      650        12369    49167   \n",
       "71  2020-04-19      918       5847      449        11717    44436   \n",
       "72  2020-04-19     1283       6297      486        12340    47235   \n",
       "\n",
       "    activos sospechosos  defunciones sospechosos  muertos negativos  \n",
       "0                 40219                     1894               6412  \n",
       "1                 37894                     1848               6260  \n",
       "2                 35710                     1874               6111  \n",
       "3                 35875                     1892               6035  \n",
       "4                 40333                     1895               5990  \n",
       "..                  ...                      ...                ...  \n",
       "68                 5664                       90                359  \n",
       "69                 7291                      112                490  \n",
       "70                 9077                      123                478  \n",
       "71                 6899                       92                396  \n",
       "72                 7959                      101                425  \n",
       "\n",
       "[73 rows x 9 columns]"
      ]
     },
     "execution_count": 3,
     "metadata": {},
     "output_type": "execute_result"
    }
   ],
   "source": [
    "df = df.sort_values(by='date', ascending=False)\n",
    "df = df.reset_index(drop=True)\n",
    "df"
   ]
  },
  {
   "cell_type": "code",
   "execution_count": 4,
   "metadata": {},
   "outputs": [],
   "source": [
    "df.transpose().to_csv('newfile.csv',)"
   ]
  },
  {
   "cell_type": "code",
   "execution_count": 34,
   "metadata": {},
   "outputs": [],
   "source": [
    "frames = [df1, df2]\n",
    "df = pd.concat(frames)"
   ]
  },
  {
   "cell_type": "code",
   "execution_count": 35,
   "metadata": {},
   "outputs": [],
   "source": [
    "df.FECHA_ACTUALIZACION = pd.to_datetime(df['FECHA_ACTUALIZACION'],)\n",
    "df.FECHA_INGRESO = pd.to_datetime(df['FECHA_INGRESO'],)\n",
    "df.FECHA_SINTOMAS = pd.to_datetime(df['FECHA_SINTOMAS'],)\n",
    "df['deltaSintomas']=df.FECHA_ACTUALIZACION-df.FECHA_SINTOMAS\n",
    "df['deltaSintomas'] = df.deltaSintomas.dt.days\n",
    "df.loc[df.FECHA_DEF=='9999-99-99', 'FECHA_DEF'] = '2050-12-31'\n",
    "df.FECHA_DEF = pd.to_datetime(df['FECHA_DEF'],)\n",
    "m=[]\n",
    "m.append([df[(df.deltaSintomas<14)& (df.RESULTADO=='1')]['ID_REGISTRO'].count(),\n",
    "          df[df.RESULTADO=='1']['ID_REGISTRO'].count()\n",
    "          ,df[df.FECHA_DEF>'2050-12-31']['ID_REGISTRO'].count()\n",
    "          ,df[df.RESULTADO=='3']['ID_REGISTRO'].count()\n",
    "          ,df.ID_REGISTRO.nunique()])"
   ]
  },
  {
   "cell_type": "code",
   "execution_count": 36,
   "metadata": {},
   "outputs": [
    {
     "data": {
      "text/plain": [
       "array(['2020-06-21T00:00:00.000000000', '2020-06-20T00:00:00.000000000'],\n",
       "      dtype='datetime64[ns]')"
      ]
     },
     "execution_count": 36,
     "metadata": {},
     "output_type": "execute_result"
    }
   ],
   "source": [
    "df.FECHA_ACTUALIZACION.unique()"
   ]
  },
  {
   "cell_type": "code",
   "execution_count": 6,
   "metadata": {},
   "outputs": [],
   "source": [
    "m.append([date,df[(df.deltaSintomas<14)& (df.RESULTADO==1)]['ID_REGISTRO'].count(),\n",
    "          df[df.RESULTADO==1]['ID_REGISTRO'].count()\n",
    "          ,df[df.FECHA_DEF!='2050-12-31']['ID_REGISTRO'].count()\n",
    "          ,df[df.RESULTADO==3]['ID_REGISTRO'].count()\n",
    "          ,df.ID_REGISTRO.nunique()])"
   ]
  },
  {
   "cell_type": "code",
   "execution_count": 8,
   "metadata": {},
   "outputs": [
    {
     "data": {
      "text/plain": [
       "1892"
      ]
     },
     "execution_count": 8,
     "metadata": {},
     "output_type": "execute_result"
    }
   ],
   "source": [
    "len(df[(df.FECHA_DEF<'2020-06-22')])-len(df[(df.FECHA_DEF<'2020-06-22')&(df.RESULTADO!='3')])"
   ]
  },
  {
   "cell_type": "code",
   "execution_count": 28,
   "metadata": {},
   "outputs": [
    {
     "name": "stdout",
     "output_type": "stream",
     "text": [
      "Activos 1, ∆ 1\n"
     ]
    }
   ],
   "source": [
    "print('Activos Sospechosos %d, ∆ %d' % (len(df[(df.deltaSintomas<14)& (df.RESULTADO=='3')]),1))"
   ]
  },
  {
   "cell_type": "code",
   "execution_count": 21,
   "metadata": {},
   "outputs": [
    {
     "data": {
      "text/plain": [
       "35875"
      ]
     },
     "execution_count": 21,
     "metadata": {},
     "output_type": "execute_result"
    }
   ],
   "source": []
  },
  {
   "cell_type": "code",
   "execution_count": 22,
   "metadata": {},
   "outputs": [
    {
     "data": {
      "text/plain": [
       "1892"
      ]
     },
     "execution_count": 22,
     "metadata": {},
     "output_type": "execute_result"
    }
   ],
   "source": []
  },
  {
   "cell_type": "code",
   "execution_count": 24,
   "metadata": {},
   "outputs": [
    {
     "data": {
      "text/plain": [
       "6035"
      ]
     },
     "execution_count": 24,
     "metadata": {},
     "output_type": "execute_result"
    }
   ],
   "source": []
  },
  {
   "cell_type": "code",
   "execution_count": null,
   "metadata": {},
   "outputs": [],
   "source": []
  }
 ],
 "metadata": {
  "kernelspec": {
   "display_name": "Python 3",
   "language": "python",
   "name": "python3"
  },
  "language_info": {
   "codemirror_mode": {
    "name": "ipython",
    "version": 3
   },
   "file_extension": ".py",
   "mimetype": "text/x-python",
   "name": "python",
   "nbconvert_exporter": "python",
   "pygments_lexer": "ipython3",
   "version": "3.7.4"
  }
 },
 "nbformat": 4,
 "nbformat_minor": 2
}
