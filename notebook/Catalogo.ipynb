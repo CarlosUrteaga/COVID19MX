{
 "cells": [
  {
   "cell_type": "markdown",
   "metadata": {},
   "source": [
    "# Creating Catalog\n",
    "The idea of this notebook is to export the catlogo (data dictionary) to a usable form. we transform the excel into mulitples json. We export the key(CLAVE) and value (DESCRIPCIÓN). however, we use other clave for Municipios, beacase the clave is not unique"
   ]
  },
  {
   "cell_type": "code",
   "execution_count": 1,
   "metadata": {},
   "outputs": [],
   "source": [
    "import pandas as pd\n",
    "import json"
   ]
  },
  {
   "cell_type": "code",
   "execution_count": 2,
   "metadata": {},
   "outputs": [],
   "source": [
    "str_path = 'src/diccionario_datos_covid19/'\n",
    "xls = pd.ExcelFile(str_path+'Catalogos_0412.xlsx')"
   ]
  },
  {
   "cell_type": "code",
   "execution_count": 3,
   "metadata": {},
   "outputs": [
    {
     "name": "stdout",
     "output_type": "stream",
     "text": [
      "Catálogo ORIGEN\n",
      "Catálogo SECTOR\n",
      "Catálogo SEXO\n",
      "Catálogo TIPO_PACIENTE\n",
      "Catálogo SI_NO\n",
      "Catálogo NACIONALIDAD\n",
      "Catálogo RESULTADO\n",
      "Catálogo de ENTIDADES\n",
      "Catálogo MUNICIPIOS\n"
     ]
    }
   ],
   "source": [
    "for each in xls.sheet_names:\n",
    "    print(each)\n",
    "    if each == 'Catálogo RESULTADO':\n",
    "        df = pd.read_excel(str_path+'Catalogos_0412.xlsx', sheet_name=each,dtype=str,header=1)\n",
    "    else:\n",
    "        df = pd.read_excel(str_path+'Catalogos_0412.xlsx', sheet_name=each,dtype=str)\n",
    "    df.drop_duplicates(inplace=True)\n",
    "    str_sheet = each.split(' ')[-1]\n",
    "    jsn_key = df.columns.tolist()[0]\n",
    "    if str_sheet == 'MUNICIPIOS':\n",
    "        df['CLAVE']= df['CLAVE_ENTIDAD'] + df['CLAVE_MUNICIPIO'] \n",
    "        jsn_key= 'CLAVE'\n",
    "        df = df[['CLAVE', 'MUNICIPIO']]\n",
    "    # jsn de abreviaturas\n",
    "    if str_sheet in('ENTIDADES'):\n",
    "        df1 = df[['CLAVE_ENTIDAD','ABREVIATURA']]\n",
    "        catalog = df1.set_index(jsn_key).T.to_dict('list')\n",
    "        for each in catalog:\n",
    "            catalog[each]= catalog[each][0]\n",
    "        json.dump(catalog, open(str_path+str_sheet+\"_ABREVIATURA.jsn\",'w'))\n",
    "    \n",
    "    catalog = df.set_index(jsn_key).T.to_dict('list')\n",
    "    for each in catalog:\n",
    "            catalog[each]= catalog[each][0]\n",
    "    json.dump(catalog, open(str_path+str_sheet+\".jsn\",'w'))"
   ]
  }
 ],
 "metadata": {
  "kernelspec": {
   "display_name": "Python 3",
   "language": "python",
   "name": "python3"
  },
  "language_info": {
   "codemirror_mode": {
    "name": "ipython",
    "version": 3
   },
   "file_extension": ".py",
   "mimetype": "text/x-python",
   "name": "python",
   "nbconvert_exporter": "python",
   "pygments_lexer": "ipython3",
   "version": "3.7.4"
  }
 },
 "nbformat": 4,
 "nbformat_minor": 2
}
